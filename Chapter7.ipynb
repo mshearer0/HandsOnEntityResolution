{
 "cells": [
  {
   "cell_type": "code",
   "execution_count": null,
   "id": "4b485050-3163-4468-b7ca-cedbfad18a9f",
   "metadata": {},
   "outputs": [],
   "source": [
    "#!pip install splink"
   ]
  },
  {
   "cell_type": "code",
   "execution_count": null,
   "id": "4db7990d-f8b8-4071-bada-1ed7cf31eb5f",
   "metadata": {},
   "outputs": [],
   "source": [
    "import pandas as pd\n",
    "import numpy as np\n",
    "import json"
   ]
  },
  {
   "cell_type": "code",
   "execution_count": null,
   "id": "153b3f27-e75f-4eab-9437-153e9c6d0567",
   "metadata": {},
   "outputs": [],
   "source": [
    "df_m = pd.read_csv('gs://<your_bucket>/handsonentityresolution/mari_clean.csv')\n",
    "df_c = pd.read_csv('gs://<your_bucket>/handsonentityresolution/basic_clean.csv')"
   ]
  },
  {
   "cell_type": "code",
   "execution_count": null,
   "id": "d7d0e6cc-4081-4e6b-9b67-8d44e4468f24",
   "metadata": {},
   "outputs": [],
   "source": [
    "from pyspark import SparkContext, SparkConf\n",
    "from pyspark.sql import SparkSession\n",
    "from pyspark.sql import types\n",
    "\n",
    "conf = SparkConf()\n",
    "\n",
    "# This parallelism setting for cluster of 4 n2-standard-4\n",
    "conf.set(\"spark.sql.shuffle.partitions\", \"240\")\n",
    "conf.set(\"spark.default.parallelism\", \"240\")\n",
    "\n",
    "sc = SparkContext.getOrCreate(conf=conf)\n",
    "spark = SparkSession(sc)\n",
    "spark.sparkContext.setCheckpointDir(\"gs://<your_bucket>/handsonentityresolution/\")\n",
    "\n",
    "# Register the jaro winkler custom udf\n",
    "spark.udf.registerJavaFunction(\n",
    "    \"jaro_winkler_similarity\", \"uk.gov.moj.dash.linkage.JaroWinklerSimilarity\", types.DoubleType()\n",
    ")"
   ]
  },
  {
   "cell_type": "code",
   "execution_count": null,
   "id": "36785aea-bfda-4191-8227-907dd3f5d679",
   "metadata": {},
   "outputs": [],
   "source": [
    "from pyspark.sql.types import StructType, StructField, StringType, IntegerType\n",
    "\n",
    "schema = StructType([StructField(\"Postcode\", StringType()), StructField(\"CompanyName\", StringType()),StructField(\"unique_id\", IntegerType())])"
   ]
  },
  {
   "cell_type": "code",
   "execution_count": null,
   "id": "29d9db2a-8e61-496d-b5d9-67da39b4478c",
   "metadata": {},
   "outputs": [],
   "source": [
    "df_c = df_c[['Postcode','CompanyName','unique_id']]"
   ]
  },
  {
   "cell_type": "code",
   "execution_count": null,
   "id": "c7f38424-7d52-4b87-bc84-1b871d700e55",
   "metadata": {},
   "outputs": [],
   "source": [
    "dfs_m = spark.createDataFrame(df_m, schema)\n",
    "dfs_c = spark.createDataFrame(df_c, schema)"
   ]
  },
  {
   "cell_type": "code",
   "execution_count": null,
   "id": "c8b87afb-2b5d-491f-8641-c91366408cbe",
   "metadata": {},
   "outputs": [],
   "source": [
    "import splink.spark.spark_comparison_library as cl\n",
    "\n",
    "settings = {\n",
    "    \"link_type\": \"link_only\",\n",
    "    \"blocking_rules_to_generate_predictions\": [\n",
    "        \"l.Postcode = r.Postcode\",\n",
    "        \"l.CompanyName = r.CompanyName\",\n",
    "    ],\n",
    "    \"comparisons\": [\n",
    "        cl.jaro_winkler_at_thresholds(\"CompanyName\",[0.9,0.8]),\n",
    "    ],\n",
    "    \"retain_intermediate_calculation_columns\" : True,\n",
    "    \"retain_matching_columns\" : True\n",
    "}"
   ]
  },
  {
   "cell_type": "code",
   "execution_count": null,
   "id": "fd310707-0ecb-4d03-b4e8-77824ef29ab9",
   "metadata": {},
   "outputs": [],
   "source": [
    "from splink.spark.spark_linker import SparkLinker\n",
    "linker = SparkLinker([dfs_m, dfs_c], settings, input_table_aliases=[\"dfs_m\", \"dfs_c\"])"
   ]
  },
  {
   "cell_type": "code",
   "execution_count": null,
   "id": "5891c0e6-95c8-49de-b407-2618ccf553cd",
   "metadata": {},
   "outputs": [],
   "source": [
    "linker.estimate_u_using_random_sampling(target_rows=1e4)"
   ]
  },
  {
   "cell_type": "code",
   "execution_count": null,
   "id": "a8dad02d",
   "metadata": {},
   "outputs": [],
   "source": [
    "linker.save_settings_to_json(\"Ch7_Splink_Settings.json\", overwrite=True)\n",
    "linker.load_settings_from_json(\"./<your_path>/Ch7_Splink_Settings.json\")"
   ]
  },
  {
   "cell_type": "code",
   "execution_count": null,
   "id": "2f0edcd3",
   "metadata": {},
   "outputs": [],
   "source": [
    "linker.match_weights_chart()"
   ]
  },
  {
   "cell_type": "code",
   "execution_count": null,
   "id": "a4beb452",
   "metadata": {},
   "outputs": [],
   "source": [
    "linker.m_u_parameters_chart()"
   ]
  },
  {
   "cell_type": "code",
   "execution_count": null,
   "id": "bc057d6c",
   "metadata": {},
   "outputs": [],
   "source": [
    "# Calculate predictions\n",
    "\n",
    "df_pred = linker.predict(threshold_match_probability=0.5).as_pandas_dataframe()\n",
    "len(df_pred)"
   ]
  },
  {
   "cell_type": "code",
   "execution_count": null,
   "id": "c92a3843",
   "metadata": {},
   "outputs": [],
   "source": []
  }
 ],
 "metadata": {
  "kernelspec": {
   "display_name": "Python 3 (ipykernel)",
   "language": "python",
   "name": "python3"
  },
  "language_info": {
   "codemirror_mode": {
    "name": "ipython",
    "version": 3
   },
   "file_extension": ".py",
   "mimetype": "text/x-python",
   "name": "python",
   "nbconvert_exporter": "python",
   "pygments_lexer": "ipython3",
   "version": "3.9.12"
  }
 },
 "nbformat": 4,
 "nbformat_minor": 5
}
