{
 "cells": [
  {
   "cell_type": "code",
   "execution_count": 1,
   "id": "e7b1093c",
   "metadata": {},
   "outputs": [],
   "source": [
    "import pandas as pd\n",
    "\n",
    "df_w = pd.read_csv('mps_wiki_clean.csv')\n",
    "df_t = pd.read_csv('mps_they_clean.csv')"
   ]
  },
  {
   "cell_type": "markdown",
   "id": "bef8b9d6",
   "metadata": {},
   "source": [
    "# Extract Match and NotMatch Population"
   ]
  },
  {
   "cell_type": "code",
   "execution_count": 2,
   "id": "2a90f1c0",
   "metadata": {},
   "outputs": [
    {
     "data": {
      "text/plain": [
       "422500"
      ]
     },
     "execution_count": 2,
     "metadata": {},
     "output_type": "execute_result"
    }
   ],
   "source": [
    "# Total match population computed by cross product: 650 x 649 = 421850\n",
    "\n",
    "cross = df_w.merge(df_t, how='cross',suffixes=('_w', '_t'))\n",
    "len(cross)"
   ]
  },
  {
   "cell_type": "code",
   "execution_count": 3,
   "id": "958fe6f0",
   "metadata": {},
   "outputs": [],
   "source": [
    "# Generate exact matches as feature columns\n",
    "\n",
    "cross['Fmatch'] = cross.apply(lambda x: x.Firstname_w == x.Firstname_t, axis=1)\n",
    "cross['Lmatch'] = cross.apply(lambda x: x.Lastname_w == x.Lastname_t, axis=1)\n",
    "cross['Cmatch'] = cross.apply(lambda x: x.Constituency_w == x.Constituency_t, axis=1)\n",
    "cross['Tmatch'] = sum([cross['Fmatch'],cross['Lmatch'],cross['Cmatch']])"
   ]
  },
  {
   "cell_type": "code",
   "execution_count": 4,
   "id": "1ca531af",
   "metadata": {},
   "outputs": [
    {
     "data": {
      "text/plain": [
       "637"
      ]
     },
     "execution_count": 4,
     "metadata": {},
     "output_type": "execute_result"
    }
   ],
   "source": [
    "# Extract the match population as Constituency and either Firstname or Lastname matches\n",
    "\n",
    "match = cross[cross['Cmatch'] & (cross['Fmatch'] | cross['Lmatch'])]\n",
    "len(match)"
   ]
  },
  {
   "cell_type": "code",
   "execution_count": 5,
   "id": "26dd514b",
   "metadata": {},
   "outputs": [
    {
     "data": {
      "text/plain": [
       "421863"
      ]
     },
     "execution_count": 5,
     "metadata": {},
     "output_type": "execute_result"
    }
   ],
   "source": [
    "# Extract notmatch population as either Consitutency doesn't match or Firstname and Lastname don't match (by-election)\n",
    "\n",
    "notmatch=cross[(~cross['Cmatch']) | (~cross['Fmatch'] & ~cross['Lmatch'])]\n",
    "len(notmatch)"
   ]
  },
  {
   "cell_type": "markdown",
   "id": "98c9ed2e",
   "metadata": {},
   "source": [
    " # Firstname Counts"
   ]
  },
  {
   "cell_type": "code",
   "execution_count": 6,
   "id": "64e4722d",
   "metadata": {},
   "outputs": [
    {
     "data": {
      "text/plain": [
       "632"
      ]
     },
     "execution_count": 6,
     "metadata": {},
     "output_type": "execute_result"
    }
   ],
   "source": [
    "# Within match population how many Firstnames don't match?\n",
    "\n",
    "first_match = match[match['Fmatch']]\n",
    "len(first_match)"
   ]
  },
  {
   "cell_type": "code",
   "execution_count": 7,
   "id": "f5f23837",
   "metadata": {},
   "outputs": [
    {
     "data": {
      "text/plain": [
       "5"
      ]
     },
     "execution_count": 7,
     "metadata": {},
     "output_type": "execute_result"
    }
   ],
   "source": [
    "# Within match population how many Firstnames don't match?\n",
    "\n",
    "notfirst_match = match[~match['Fmatch']]\n",
    "len(notfirst_match)"
   ]
  },
  {
   "cell_type": "code",
   "execution_count": 8,
   "id": "2a70cc46",
   "metadata": {},
   "outputs": [
    {
     "data": {
      "text/plain": [
       "2052"
      ]
     },
     "execution_count": 8,
     "metadata": {},
     "output_type": "execute_result"
    }
   ],
   "source": [
    "# Within the non match population how many Firstnames match?\n",
    "\n",
    "first_notmatch = notmatch[notmatch['Fmatch']]\n",
    "len(first_notmatch)"
   ]
  },
  {
   "cell_type": "code",
   "execution_count": 9,
   "id": "fd578a95",
   "metadata": {},
   "outputs": [
    {
     "data": {
      "text/plain": [
       "419811"
      ]
     },
     "execution_count": 9,
     "metadata": {},
     "output_type": "execute_result"
    }
   ],
   "source": [
    "# Within the non match population how many Firstnames don't match?\n",
    "\n",
    "notfirst_notmatch = notmatch[~notmatch['Fmatch']]\n",
    "len(notfirst_notmatch)"
   ]
  },
  {
   "cell_type": "markdown",
   "id": "c9ebabb2",
   "metadata": {},
   "source": [
    "## Firstname Match Probabilities"
   ]
  },
  {
   "cell_type": "code",
   "execution_count": 10,
   "id": "f76a387c",
   "metadata": {},
   "outputs": [
    {
     "data": {
      "text/plain": [
       "0.23546944858420268"
      ]
     },
     "execution_count": 10,
     "metadata": {},
     "output_type": "execute_result"
    }
   ],
   "source": [
    "# If Firstname matches how likely is it we have a match?\n",
    "# Calculate as number of Firstname matches within match population divided by total number of Firstname matches\n",
    "\n",
    "prob_match_first = len(first_match) / (len(first_match) + len(first_notmatch))\n",
    "prob_match_first"
   ]
  },
  {
   "cell_type": "code",
   "execution_count": 11,
   "id": "211bfa1d",
   "metadata": {},
   "outputs": [
    {
     "data": {
      "text/plain": [
       "0.0015076923076923078"
      ]
     },
     "execution_count": 11,
     "metadata": {},
     "output_type": "execute_result"
    }
   ],
   "source": [
    "# Probability of a match in full population\n",
    "\n",
    "prob_match = len(match) / len(cross)\n",
    "prob_match"
   ]
  },
  {
   "cell_type": "code",
   "execution_count": 12,
   "id": "2e94c5ca",
   "metadata": {},
   "outputs": [
    {
     "data": {
      "text/plain": [
       "0.9921507064364207"
      ]
     },
     "execution_count": 12,
     "metadata": {},
     "output_type": "execute_result"
    }
   ],
   "source": [
    "# Probability of Firstname match within match population\n",
    "\n",
    "prob_first_match = len(first_match) / len(match)\n",
    "prob_first_match"
   ]
  },
  {
   "cell_type": "code",
   "execution_count": 13,
   "id": "b45a72d6",
   "metadata": {},
   "outputs": [
    {
     "data": {
      "text/plain": [
       "0.006352662721893491"
      ]
     },
     "execution_count": 13,
     "metadata": {},
     "output_type": "execute_result"
    }
   ],
   "source": [
    "# Probability of Firstname match within full population\n",
    "\n",
    "prob_first = len(cross[cross['Fmatch']]) / len(cross)\n",
    "prob_first"
   ]
  },
  {
   "cell_type": "code",
   "execution_count": 14,
   "id": "e6b99c75",
   "metadata": {},
   "outputs": [
    {
     "data": {
      "text/plain": [
       "0.23546944858420268"
      ]
     },
     "execution_count": 14,
     "metadata": {},
     "output_type": "execute_result"
    }
   ],
   "source": [
    "# Probability of match within population of Firstname matches\n",
    "\n",
    "prob_match_first = prob_first_match * prob_match / prob_first\n",
    "prob_match_first"
   ]
  },
  {
   "cell_type": "code",
   "execution_count": 15,
   "id": "a06c7606",
   "metadata": {},
   "outputs": [
    {
     "data": {
      "text/plain": [
       "0.004864138357713286"
      ]
     },
     "execution_count": 15,
     "metadata": {},
     "output_type": "execute_result"
    }
   ],
   "source": [
    "# Probability that Firstname doesn't match within not match population\n",
    "\n",
    "prob_first_notmatch = len(first_notmatch) / len(notmatch)\n",
    "prob_first_notmatch"
   ]
  },
  {
   "cell_type": "code",
   "execution_count": 16,
   "id": "fc1f6ad5",
   "metadata": {},
   "outputs": [
    {
     "data": {
      "text/plain": [
       "0.23546944858420268"
      ]
     },
     "execution_count": 16,
     "metadata": {},
     "output_type": "execute_result"
    }
   ],
   "source": [
    "mf = prob_first_match\n",
    "uf = prob_first_notmatch\n",
    "lmbda = prob_match\n",
    "(lmbda * mf) / (lmbda * mf + (1-lmbda) * uf)"
   ]
  },
  {
   "cell_type": "markdown",
   "id": "b61c2fa3",
   "metadata": {},
   "source": [
    "# Lastname Counts"
   ]
  },
  {
   "cell_type": "code",
   "execution_count": 17,
   "id": "645caa1b",
   "metadata": {},
   "outputs": [
    {
     "data": {
      "text/plain": [
       "633"
      ]
     },
     "execution_count": 17,
     "metadata": {},
     "output_type": "execute_result"
    }
   ],
   "source": [
    "# Within match population how many Lastnames match?\n",
    "\n",
    "last_match = match[match['Lmatch']]\n",
    "len(last_match)"
   ]
  },
  {
   "cell_type": "code",
   "execution_count": 18,
   "id": "f84f187d",
   "metadata": {},
   "outputs": [
    {
     "data": {
      "text/plain": [
       "4"
      ]
     },
     "execution_count": 18,
     "metadata": {},
     "output_type": "execute_result"
    }
   ],
   "source": [
    "# Within match population how many Lastnames don't match?\n",
    "\n",
    "notlast_match = match[~match['Lmatch']]\n",
    "len(notlast_match)"
   ]
  },
  {
   "cell_type": "code",
   "execution_count": 19,
   "id": "7d30c9ac",
   "metadata": {},
   "outputs": [
    {
     "data": {
      "text/plain": [
       "349"
      ]
     },
     "execution_count": 19,
     "metadata": {},
     "output_type": "execute_result"
    }
   ],
   "source": [
    "# Within the non match population how many Lastnames match?\n",
    "\n",
    "last_notmatch = notmatch[notmatch['Lmatch']]\n",
    "len(last_notmatch)"
   ]
  },
  {
   "cell_type": "code",
   "execution_count": 20,
   "id": "8b16573c",
   "metadata": {},
   "outputs": [
    {
     "data": {
      "text/plain": [
       "421514"
      ]
     },
     "execution_count": 20,
     "metadata": {},
     "output_type": "execute_result"
    }
   ],
   "source": [
    "# Within the non match population how many Lastnames don't match?\n",
    "\n",
    "notlast_notmatch = notmatch[~notmatch['Lmatch']]\n",
    "len(notlast_notmatch)"
   ]
  },
  {
   "cell_type": "markdown",
   "id": "b5072055",
   "metadata": {},
   "source": [
    "## Lastname Match Probabilities"
   ]
  },
  {
   "cell_type": "code",
   "execution_count": 21,
   "id": "d09dfb34",
   "metadata": {},
   "outputs": [
    {
     "data": {
      "text/plain": [
       "982"
      ]
     },
     "execution_count": 21,
     "metadata": {},
     "output_type": "execute_result"
    }
   ],
   "source": [
    "last = cross[cross['Lmatch']]\n",
    "len(last)"
   ]
  },
  {
   "cell_type": "code",
   "execution_count": 22,
   "id": "d67c22b1",
   "metadata": {},
   "outputs": [
    {
     "data": {
      "text/plain": [
       "0.6446028513238289"
      ]
     },
     "execution_count": 22,
     "metadata": {},
     "output_type": "execute_result"
    }
   ],
   "source": [
    "# If Lastname matches how likely is it we have a match?\n",
    "# Calculate as number of Lastname matches within match population divided by total number of Lastname matches\n",
    "\n",
    "prob_match_last = len(last_match) / (len(last_match) + len(last_notmatch))\n",
    "prob_match_last"
   ]
  },
  {
   "cell_type": "code",
   "execution_count": 23,
   "id": "3b9154f8",
   "metadata": {},
   "outputs": [
    {
     "data": {
      "text/plain": [
       "0.002324260355029586"
      ]
     },
     "execution_count": 23,
     "metadata": {},
     "output_type": "execute_result"
    }
   ],
   "source": [
    "# Probability of Lastname match within full population\n",
    "\n",
    "prob_last = len(last)/len(cross)\n",
    "prob_last"
   ]
  },
  {
   "cell_type": "code",
   "execution_count": 24,
   "id": "62e5f7bf",
   "metadata": {},
   "outputs": [
    {
     "data": {
      "text/plain": [
       "0.9937205651491365"
      ]
     },
     "execution_count": 24,
     "metadata": {},
     "output_type": "execute_result"
    }
   ],
   "source": [
    "# Probability of Lastname match within match population\n",
    "\n",
    "prob_last_match = len(last_match) / len (match)\n",
    "prob_last_match"
   ]
  },
  {
   "cell_type": "code",
   "execution_count": 25,
   "id": "cca1eaa6",
   "metadata": {},
   "outputs": [
    {
     "data": {
      "text/plain": [
       "0.0008272827908586437"
      ]
     },
     "execution_count": 25,
     "metadata": {},
     "output_type": "execute_result"
    }
   ],
   "source": [
    "# Probability that Firstname doesn't match within not match population\n",
    "\n",
    "prob_last_notmatch = len (last_notmatch) / len(notmatch)\n",
    "prob_last_notmatch"
   ]
  },
  {
   "cell_type": "code",
   "execution_count": 26,
   "id": "7485b902",
   "metadata": {},
   "outputs": [
    {
     "data": {
      "text/plain": [
       "0.6446028513238289"
      ]
     },
     "execution_count": 26,
     "metadata": {},
     "output_type": "execute_result"
    }
   ],
   "source": [
    "ml = prob_last_match\n",
    "ul = prob_last_notmatch\n",
    "lmbda = prob_match\n",
    "(lmbda * ml) / (lmbda * ml + (1-lmbda) * ul)"
   ]
  },
  {
   "cell_type": "markdown",
   "id": "2487a0d7",
   "metadata": {},
   "source": [
    "# Firstname and Lastname Counts"
   ]
  },
  {
   "cell_type": "code",
   "execution_count": 27,
   "id": "55bc79ff",
   "metadata": {},
   "outputs": [
    {
     "data": {
      "text/plain": [
       "628"
      ]
     },
     "execution_count": 27,
     "metadata": {},
     "output_type": "execute_result"
    }
   ],
   "source": [
    "last_first_match = first_match[first_match['Lmatch']]\n",
    "len(last_first_match)"
   ]
  },
  {
   "cell_type": "code",
   "execution_count": 28,
   "id": "97daed4d",
   "metadata": {},
   "outputs": [
    {
     "data": {
      "text/plain": [
       "0.6446028513238289"
      ]
     },
     "execution_count": 28,
     "metadata": {},
     "output_type": "execute_result"
    }
   ],
   "source": [
    "ml1 = prob_last_match\n",
    "ul1 = prob_last_notmatch\n",
    "(lmbda * ml1) / (lmbda * ml1 + (1-lmbda) * ul1)"
   ]
  },
  {
   "cell_type": "code",
   "execution_count": 29,
   "id": "7d30789c",
   "metadata": {},
   "outputs": [
    {
     "data": {
      "text/plain": [
       "4"
      ]
     },
     "execution_count": 29,
     "metadata": {},
     "output_type": "execute_result"
    }
   ],
   "source": [
    "notlast_first_match = first_match[~first_match['Lmatch']]\n",
    "len(notlast_first_match)"
   ]
  },
  {
   "cell_type": "code",
   "execution_count": 30,
   "id": "7ea57f27",
   "metadata": {},
   "outputs": [
    {
     "data": {
      "text/plain": [
       "0"
      ]
     },
     "execution_count": 30,
     "metadata": {},
     "output_type": "execute_result"
    }
   ],
   "source": [
    "last_first_notmatch = first_notmatch[first_notmatch['Lmatch']]\n",
    "len(last_first_notmatch)"
   ]
  },
  {
   "cell_type": "code",
   "execution_count": 31,
   "id": "f68a1dd6",
   "metadata": {},
   "outputs": [
    {
     "data": {
      "text/plain": [
       "2052"
      ]
     },
     "execution_count": 31,
     "metadata": {},
     "output_type": "execute_result"
    }
   ],
   "source": [
    "notlast_first_notmatch = first_notmatch[~first_notmatch['Lmatch']]\n",
    "len(notlast_first_notmatch)"
   ]
  },
  {
   "cell_type": "code",
   "execution_count": 32,
   "id": "e373c430",
   "metadata": {},
   "outputs": [
    {
     "data": {
      "text/plain": [
       "5"
      ]
     },
     "execution_count": 32,
     "metadata": {},
     "output_type": "execute_result"
    }
   ],
   "source": [
    "last_notfirst_match = notfirst_match[notfirst_match['Lmatch']]\n",
    "len(last_notfirst_match)"
   ]
  },
  {
   "cell_type": "code",
   "execution_count": 33,
   "id": "a457ac39",
   "metadata": {},
   "outputs": [
    {
     "data": {
      "text/plain": [
       "0"
      ]
     },
     "execution_count": 33,
     "metadata": {},
     "output_type": "execute_result"
    }
   ],
   "source": [
    "notlast_notfirst_match = notfirst_match[~notfirst_match['Lmatch']]\n",
    "len(notlast_notfirst_match)"
   ]
  },
  {
   "cell_type": "code",
   "execution_count": 34,
   "id": "217d13e5",
   "metadata": {},
   "outputs": [
    {
     "data": {
      "text/plain": [
       "349"
      ]
     },
     "execution_count": 34,
     "metadata": {},
     "output_type": "execute_result"
    }
   ],
   "source": [
    "last_notfirst_notmatch = notfirst_notmatch[notfirst_notmatch['Lmatch']]\n",
    "len(last_notfirst_notmatch)"
   ]
  },
  {
   "cell_type": "code",
   "execution_count": 35,
   "id": "4b736c49",
   "metadata": {},
   "outputs": [
    {
     "data": {
      "text/plain": [
       "419462"
      ]
     },
     "execution_count": 35,
     "metadata": {},
     "output_type": "execute_result"
    }
   ],
   "source": [
    "notlast_notfirst_notmatch = notfirst_notmatch[~notfirst_notmatch['Lmatch']]\n",
    "len(notlast_notfirst_notmatch)"
   ]
  },
  {
   "cell_type": "markdown",
   "id": "8ca57656",
   "metadata": {},
   "source": [
    "# Firstname and Lastname Match Probabilities"
   ]
  },
  {
   "cell_type": "code",
   "execution_count": 36,
   "id": "cbd4cfbd",
   "metadata": {},
   "outputs": [
    {
     "data": {
      "text/plain": [
       "0.0019455252918287938"
      ]
     },
     "execution_count": 36,
     "metadata": {},
     "output_type": "execute_result"
    }
   ],
   "source": [
    "# If Firstname matches but Lastname doesn't what is the probability that it's a match?\n",
    "\n",
    "prob_match_first_notlast = len(notlast_first_match) / (len(notlast_first_match) + len(notlast_first_notmatch))\n",
    "# 4 / (4 + 2052 )\n",
    "prob_match_first_notlast"
   ]
  },
  {
   "cell_type": "code",
   "execution_count": 37,
   "id": "af0b455b",
   "metadata": {},
   "outputs": [
    {
     "data": {
      "text/plain": [
       "0.014124293785310734"
      ]
     },
     "execution_count": 37,
     "metadata": {},
     "output_type": "execute_result"
    }
   ],
   "source": [
    "# If Lastname matches but Firstname doesn't what is the probability that it's a match?\n",
    "\n",
    "prob_match_notfirst_last = len(last_notfirst_match) / (len(last_notfirst_match) + len(last_notfirst_notmatch))\n",
    "# 5 / (5 + 349) \n",
    "prob_match_notfirst_last"
   ]
  },
  {
   "cell_type": "markdown",
   "id": "f2f09fa1",
   "metadata": {},
   "source": [
    "# Firstname and Lastname probabilities with m and u values"
   ]
  },
  {
   "cell_type": "code",
   "execution_count": 38,
   "id": "e89f98b7",
   "metadata": {},
   "outputs": [
    {
     "data": {
      "text/plain": [
       "0.9973042620923954"
      ]
     },
     "execution_count": 38,
     "metadata": {},
     "output_type": "execute_result"
    }
   ],
   "source": [
    "# Probability of match if Firstname and Lastname matches\n",
    "\n",
    "(mf * ml * lmbda) / (mf * ml * lmbda + uf * ul * (1-lmbda))"
   ]
  },
  {
   "cell_type": "code",
   "execution_count": 39,
   "id": "d81a9789",
   "metadata": {},
   "outputs": [
    {
     "data": {
      "text/plain": [
       "0.0019318788952045723"
      ]
     },
     "execution_count": 39,
     "metadata": {},
     "output_type": "execute_result"
    }
   ],
   "source": [
    "# Probability of match if Firstname matches but Lastname doesn't\n",
    "\n",
    "(mf * (1-ml) * lmbda) / ((mf * (1-ml) * lmbda) + (uf * (1-ul) * (1-lmbda)))"
   ]
  },
  {
   "cell_type": "code",
   "execution_count": 40,
   "id": "42f6595d",
   "metadata": {},
   "outputs": [
    {
     "data": {
      "text/plain": [
       "0.0141044893399228"
      ]
     },
     "execution_count": 40,
     "metadata": {},
     "output_type": "execute_result"
    }
   ],
   "source": [
    "# Probability of match if Firstname doesn't match but Lastname does\n",
    "\n",
    "((1-mf) * ml * lmbda) / (((1-mf) * ml * lmbda) + ((1-uf) * ul * (1-lmbda)))"
   ]
  },
  {
   "cell_type": "code",
   "execution_count": 41,
   "id": "7287aae5",
   "metadata": {},
   "outputs": [
    {
     "data": {
      "text/plain": [
       "7.485074890874575e-08"
      ]
     },
     "execution_count": 41,
     "metadata": {},
     "output_type": "execute_result"
    }
   ],
   "source": [
    "# Probability of match if neither Firstname nor Lastname matches\n",
    "\n",
    "((1-mf) * (1-ml) * lmbda) / (((1-mf) * (1-ml) * lmbda) + ((1-uf) * (1-ul) * (1-lmbda)))"
   ]
  },
  {
   "cell_type": "markdown",
   "id": "f51ae185",
   "metadata": {},
   "source": [
    "# Expectation Maximisation"
   ]
  },
  {
   "cell_type": "code",
   "execution_count": 42,
   "id": "20dc7de1",
   "metadata": {},
   "outputs": [],
   "source": [
    "# Helper function to calculate probability based on match features\n",
    "\n",
    "def match_prb(Fmatch,Lmatch,Cmatch,mf1,ml1,mc1,uf1,ul1,uc1, lmbda):\n",
    "    if (Fmatch==1):\n",
    "        mf = mf1\n",
    "        uf = uf1\n",
    "    else:\n",
    "        mf = (1-mf1)\n",
    "        uf = (1-uf1)\n",
    "    if (Lmatch==1):\n",
    "        ml = ml1\n",
    "        ul = ul1\n",
    "    else:\n",
    "        ml = (1-ml1)\n",
    "        ul = (1-ul1)\n",
    "    if (Cmatch==1):\n",
    "        mc = mc1\n",
    "        uc = uc1\n",
    "    else:\n",
    "        mc = (1-mc1)\n",
    "        uc = (1-uc1)\n",
    "    prob = (lmbda * ml * mf * mc) / (lmbda * ml * mf * mc + (1-lmbda) * ul * uf * uc)\n",
    "    return(prob)"
   ]
  },
  {
   "cell_type": "markdown",
   "id": "07f1b6f5",
   "metadata": {},
   "source": [
    "# EM Iteration 1"
   ]
  },
  {
   "cell_type": "code",
   "execution_count": 43,
   "id": "2c63085b",
   "metadata": {},
   "outputs": [
    {
     "data": {
      "text/plain": [
       "637"
      ]
     },
     "execution_count": 43,
     "metadata": {},
     "output_type": "execute_result"
    }
   ],
   "source": [
    "# Select population where majority of columns match\n",
    "\n",
    "it1_match = cross[cross['Tmatch']>=2]\n",
    "it1_notmatch = cross[cross['Tmatch']<2]\n",
    "\n",
    "len(it1_match)"
   ]
  },
  {
   "cell_type": "code",
   "execution_count": 44,
   "id": "3421faa9",
   "metadata": {},
   "outputs": [
    {
     "data": {
      "text/html": [
       "<div>\n",
       "<style scoped>\n",
       "    .dataframe tbody tr th:only-of-type {\n",
       "        vertical-align: middle;\n",
       "    }\n",
       "\n",
       "    .dataframe tbody tr th {\n",
       "        vertical-align: top;\n",
       "    }\n",
       "\n",
       "    .dataframe thead th {\n",
       "        text-align: right;\n",
       "    }\n",
       "</style>\n",
       "<table border=\"1\" class=\"dataframe\">\n",
       "  <thead>\n",
       "    <tr style=\"text-align: right;\">\n",
       "      <th></th>\n",
       "      <th>Unnamed: 0_w</th>\n",
       "      <th>Constituency_w</th>\n",
       "      <th>Fullname</th>\n",
       "      <th>Notes</th>\n",
       "      <th>Firstname_w</th>\n",
       "      <th>Lastname_w</th>\n",
       "      <th>Unnamed: 0_t</th>\n",
       "      <th>Constituency_t</th>\n",
       "      <th>Firstname_t</th>\n",
       "      <th>Lastname_t</th>\n",
       "      <th>Flink</th>\n",
       "      <th>Fmatch</th>\n",
       "      <th>Lmatch</th>\n",
       "      <th>Cmatch</th>\n",
       "      <th>Tmatch</th>\n",
       "    </tr>\n",
       "  </thead>\n",
       "  <tbody>\n",
       "    <tr>\n",
       "      <th>64699</th>\n",
       "      <td>100</td>\n",
       "      <td>Burton</td>\n",
       "      <td>Kate Griffiths</td>\n",
       "      <td>Previous incumbent, Andrew Griffiths, did not ...</td>\n",
       "      <td>Kate</td>\n",
       "      <td>Griffiths</td>\n",
       "      <td>349</td>\n",
       "      <td>Burton</td>\n",
       "      <td>Kate</td>\n",
       "      <td>Kniveton</td>\n",
       "      <td>NaN</td>\n",
       "      <td>True</td>\n",
       "      <td>False</td>\n",
       "      <td>True</td>\n",
       "      <td>2</td>\n",
       "    </tr>\n",
       "    <tr>\n",
       "      <th>79794</th>\n",
       "      <td>123</td>\n",
       "      <td>Central Suffolk and North Ipswich</td>\n",
       "      <td>Dan Poulter</td>\n",
       "      <td>Seat held\\n</td>\n",
       "      <td>Dan</td>\n",
       "      <td>Poulter</td>\n",
       "      <td>494</td>\n",
       "      <td>Central Suffolk and North Ipswich</td>\n",
       "      <td>Daniel</td>\n",
       "      <td>Poulter</td>\n",
       "      <td>NaN</td>\n",
       "      <td>False</td>\n",
       "      <td>True</td>\n",
       "      <td>True</td>\n",
       "      <td>2</td>\n",
       "    </tr>\n",
       "    <tr>\n",
       "      <th>255245</th>\n",
       "      <td>393</td>\n",
       "      <td>Newton Abbot</td>\n",
       "      <td>Anne Marie Morris</td>\n",
       "      <td>Seat held\\n</td>\n",
       "      <td>Anne</td>\n",
       "      <td>Marie Morris</td>\n",
       "      <td>445</td>\n",
       "      <td>Newton Abbot</td>\n",
       "      <td>Anne</td>\n",
       "      <td>Morris</td>\n",
       "      <td>https://facebook.com/annemarie.morris.NA</td>\n",
       "      <td>True</td>\n",
       "      <td>False</td>\n",
       "      <td>True</td>\n",
       "      <td>2</td>\n",
       "    </tr>\n",
       "    <tr>\n",
       "      <th>256580</th>\n",
       "      <td>395</td>\n",
       "      <td>North Antrim</td>\n",
       "      <td>Ian Paisley</td>\n",
       "      <td>Seat held\\n</td>\n",
       "      <td>Ian</td>\n",
       "      <td>Paisley</td>\n",
       "      <td>480</td>\n",
       "      <td>North Antrim</td>\n",
       "      <td>Ian</td>\n",
       "      <td>Paisley Jnr</td>\n",
       "      <td>NaN</td>\n",
       "      <td>True</td>\n",
       "      <td>False</td>\n",
       "      <td>True</td>\n",
       "      <td>2</td>\n",
       "    </tr>\n",
       "    <tr>\n",
       "      <th>326453</th>\n",
       "      <td>503</td>\n",
       "      <td>Slough</td>\n",
       "      <td>Tanmanjeet Dhesi</td>\n",
       "      <td>Seat held\\n</td>\n",
       "      <td>Tanmanjeet</td>\n",
       "      <td>Dhesi</td>\n",
       "      <td>153</td>\n",
       "      <td>Slough</td>\n",
       "      <td>Tan</td>\n",
       "      <td>Dhesi</td>\n",
       "      <td>https://facebook.com/tandhesi</td>\n",
       "      <td>False</td>\n",
       "      <td>True</td>\n",
       "      <td>True</td>\n",
       "      <td>2</td>\n",
       "    </tr>\n",
       "    <tr>\n",
       "      <th>331778</th>\n",
       "      <td>511</td>\n",
       "      <td>South Down</td>\n",
       "      <td>Chris Hazzard</td>\n",
       "      <td>Seat held\\n</td>\n",
       "      <td>Chris</td>\n",
       "      <td>Hazzard</td>\n",
       "      <td>278</td>\n",
       "      <td>South Down</td>\n",
       "      <td>Christopher</td>\n",
       "      <td>Hazzard</td>\n",
       "      <td>https://facebook.com/chris.hazzard.77</td>\n",
       "      <td>False</td>\n",
       "      <td>True</td>\n",
       "      <td>True</td>\n",
       "      <td>2</td>\n",
       "    </tr>\n",
       "    <tr>\n",
       "      <th>342502</th>\n",
       "      <td>527</td>\n",
       "      <td>South West Norfolk</td>\n",
       "      <td>Liz Truss</td>\n",
       "      <td>Seat held\\n</td>\n",
       "      <td>Liz</td>\n",
       "      <td>Truss</td>\n",
       "      <td>602</td>\n",
       "      <td>South West Norfolk</td>\n",
       "      <td>Elizabeth</td>\n",
       "      <td>Truss</td>\n",
       "      <td>https://facebook.com/ElizabethTrussSWNorfolk</td>\n",
       "      <td>False</td>\n",
       "      <td>True</td>\n",
       "      <td>True</td>\n",
       "      <td>2</td>\n",
       "    </tr>\n",
       "    <tr>\n",
       "      <th>393480</th>\n",
       "      <td>606</td>\n",
       "      <td>Wealden</td>\n",
       "      <td>Nus Ghani</td>\n",
       "      <td>Seat held\\n</td>\n",
       "      <td>Nus</td>\n",
       "      <td>Ghani</td>\n",
       "      <td>230</td>\n",
       "      <td>Wealden</td>\n",
       "      <td>Nusrat</td>\n",
       "      <td>Ghani</td>\n",
       "      <td>https://facebook.com/NusGhaniofficial</td>\n",
       "      <td>False</td>\n",
       "      <td>True</td>\n",
       "      <td>True</td>\n",
       "      <td>2</td>\n",
       "    </tr>\n",
       "    <tr>\n",
       "      <th>399909</th>\n",
       "      <td>616</td>\n",
       "      <td>West Dunbartonshire</td>\n",
       "      <td>Martin Docherty-Hughes</td>\n",
       "      <td>Seat held\\n</td>\n",
       "      <td>Martin</td>\n",
       "      <td>Docherty-Hughes</td>\n",
       "      <td>159</td>\n",
       "      <td>West Dunbartonshire</td>\n",
       "      <td>Martin</td>\n",
       "      <td>Docherty</td>\n",
       "      <td>https://facebook.com/MartinDochertySNP</td>\n",
       "      <td>True</td>\n",
       "      <td>False</td>\n",
       "      <td>True</td>\n",
       "      <td>2</td>\n",
       "    </tr>\n",
       "  </tbody>\n",
       "</table>\n",
       "</div>"
      ],
      "text/plain": [
       "        Unnamed: 0_w                     Constituency_w  \\\n",
       "64699            100                             Burton   \n",
       "79794            123  Central Suffolk and North Ipswich   \n",
       "255245           393                       Newton Abbot   \n",
       "256580           395                       North Antrim   \n",
       "326453           503                             Slough   \n",
       "331778           511                         South Down   \n",
       "342502           527                 South West Norfolk   \n",
       "393480           606                            Wealden   \n",
       "399909           616                West Dunbartonshire   \n",
       "\n",
       "                      Fullname  \\\n",
       "64699           Kate Griffiths   \n",
       "79794              Dan Poulter   \n",
       "255245       Anne Marie Morris   \n",
       "256580             Ian Paisley   \n",
       "326453        Tanmanjeet Dhesi   \n",
       "331778           Chris Hazzard   \n",
       "342502               Liz Truss   \n",
       "393480               Nus Ghani   \n",
       "399909  Martin Docherty-Hughes   \n",
       "\n",
       "                                                    Notes Firstname_w  \\\n",
       "64699   Previous incumbent, Andrew Griffiths, did not ...        Kate   \n",
       "79794                                         Seat held\\n         Dan   \n",
       "255245                                        Seat held\\n        Anne   \n",
       "256580                                        Seat held\\n         Ian   \n",
       "326453                                        Seat held\\n  Tanmanjeet   \n",
       "331778                                        Seat held\\n       Chris   \n",
       "342502                                        Seat held\\n         Liz   \n",
       "393480                                        Seat held\\n         Nus   \n",
       "399909                                        Seat held\\n      Martin   \n",
       "\n",
       "             Lastname_w  Unnamed: 0_t                     Constituency_t  \\\n",
       "64699         Griffiths           349                             Burton   \n",
       "79794           Poulter           494  Central Suffolk and North Ipswich   \n",
       "255245     Marie Morris           445                       Newton Abbot   \n",
       "256580          Paisley           480                       North Antrim   \n",
       "326453            Dhesi           153                             Slough   \n",
       "331778          Hazzard           278                         South Down   \n",
       "342502            Truss           602                 South West Norfolk   \n",
       "393480            Ghani           230                            Wealden   \n",
       "399909  Docherty-Hughes           159                West Dunbartonshire   \n",
       "\n",
       "        Firstname_t   Lastname_t  \\\n",
       "64699          Kate     Kniveton   \n",
       "79794        Daniel      Poulter   \n",
       "255245         Anne       Morris   \n",
       "256580          Ian  Paisley Jnr   \n",
       "326453          Tan        Dhesi   \n",
       "331778  Christopher      Hazzard   \n",
       "342502    Elizabeth        Truss   \n",
       "393480       Nusrat        Ghani   \n",
       "399909       Martin     Docherty   \n",
       "\n",
       "                                               Flink  Fmatch  Lmatch  Cmatch  \\\n",
       "64699                                            NaN    True   False    True   \n",
       "79794                                            NaN   False    True    True   \n",
       "255245      https://facebook.com/annemarie.morris.NA    True   False    True   \n",
       "256580                                           NaN    True   False    True   \n",
       "326453                 https://facebook.com/tandhesi   False    True    True   \n",
       "331778         https://facebook.com/chris.hazzard.77   False    True    True   \n",
       "342502  https://facebook.com/ElizabethTrussSWNorfolk   False    True    True   \n",
       "393480         https://facebook.com/NusGhaniofficial   False    True    True   \n",
       "399909        https://facebook.com/MartinDochertySNP    True   False    True   \n",
       "\n",
       "        Tmatch  \n",
       "64699        2  \n",
       "79794        2  \n",
       "255245       2  \n",
       "256580       2  \n",
       "326453       2  \n",
       "331778       2  \n",
       "342502       2  \n",
       "393480       2  \n",
       "399909       2  "
      ]
     },
     "execution_count": 44,
     "metadata": {},
     "output_type": "execute_result"
    }
   ],
   "source": [
    "it1_match[~it1_match['Fmatch'] | ~it1_match['Lmatch']]"
   ]
  },
  {
   "cell_type": "code",
   "execution_count": 45,
   "id": "67b2f904",
   "metadata": {},
   "outputs": [],
   "source": [
    "# Calculate m values\n",
    "\n",
    "mfi1 = it1_match['Fmatch'].sum()/len(it1_match)\n",
    "mli1 = it1_match['Lmatch'].sum()/len(it1_match)\n",
    "mci1 = it1_match['Cmatch'].sum()/len(it1_match)"
   ]
  },
  {
   "cell_type": "code",
   "execution_count": 46,
   "id": "64db8919",
   "metadata": {},
   "outputs": [
    {
     "data": {
      "text/plain": [
       "0.9921507064364207"
      ]
     },
     "execution_count": 46,
     "metadata": {},
     "output_type": "execute_result"
    }
   ],
   "source": [
    "mfi1"
   ]
  },
  {
   "cell_type": "code",
   "execution_count": 47,
   "id": "b36c544f",
   "metadata": {},
   "outputs": [
    {
     "data": {
      "text/plain": [
       "0.9937205651491365"
      ]
     },
     "execution_count": 47,
     "metadata": {},
     "output_type": "execute_result"
    }
   ],
   "source": [
    "mli1"
   ]
  },
  {
   "cell_type": "code",
   "execution_count": 48,
   "id": "e91023c1",
   "metadata": {},
   "outputs": [
    {
     "data": {
      "text/plain": [
       "1.0"
      ]
     },
     "execution_count": 48,
     "metadata": {},
     "output_type": "execute_result"
    }
   ],
   "source": [
    "mci1"
   ]
  },
  {
   "cell_type": "code",
   "execution_count": 49,
   "id": "3ad6f683",
   "metadata": {},
   "outputs": [],
   "source": [
    "# Calculate u values\n",
    "\n",
    "ufi1 = it1_notmatch['Fmatch'].sum() / len(it1_notmatch)\n",
    "uli1 = it1_notmatch['Lmatch'].sum() / len(it1_notmatch)\n",
    "uci1 = it1_notmatch['Cmatch'].sum() / len(it1_notmatch)"
   ]
  },
  {
   "cell_type": "code",
   "execution_count": 50,
   "id": "6ea2edba",
   "metadata": {},
   "outputs": [
    {
     "data": {
      "text/plain": [
       "0.004864138357713286"
      ]
     },
     "execution_count": 50,
     "metadata": {},
     "output_type": "execute_result"
    }
   ],
   "source": [
    "ufi1"
   ]
  },
  {
   "cell_type": "code",
   "execution_count": 51,
   "id": "53269471",
   "metadata": {},
   "outputs": [
    {
     "data": {
      "text/plain": [
       "0.0008272827908586437"
      ]
     },
     "execution_count": 51,
     "metadata": {},
     "output_type": "execute_result"
    }
   ],
   "source": [
    "uli1"
   ]
  },
  {
   "cell_type": "code",
   "execution_count": 52,
   "id": "576c4993",
   "metadata": {},
   "outputs": [
    {
     "data": {
      "text/plain": [
       "3.0815691350035436e-05"
      ]
     },
     "execution_count": 52,
     "metadata": {},
     "output_type": "execute_result"
    }
   ],
   "source": [
    "uci1"
   ]
  },
  {
   "cell_type": "code",
   "execution_count": 53,
   "id": "9fe69479",
   "metadata": {},
   "outputs": [
    {
     "data": {
      "text/plain": [
       "0.0015076923076923078"
      ]
     },
     "execution_count": 53,
     "metadata": {},
     "output_type": "execute_result"
    }
   ],
   "source": [
    "lmbda = len(it1_match)/len(cross)\n",
    "lmbda"
   ]
  },
  {
   "cell_type": "markdown",
   "id": "2bd5a344",
   "metadata": {},
   "source": [
    "# EM Iteration 2"
   ]
  },
  {
   "cell_type": "code",
   "execution_count": 54,
   "id": "e7d47eef",
   "metadata": {},
   "outputs": [
    {
     "data": {
      "text/plain": [
       "633"
      ]
     },
     "execution_count": 54,
     "metadata": {},
     "output_type": "execute_result"
    }
   ],
   "source": [
    "# Calculate the match probability for each combination\n",
    "\n",
    "cross['prob'] = cross.apply(lambda x: match_prb(x.Fmatch,x.Lmatch,x.Cmatch,\n",
    "                                       mfi1,mli1,mci1,  \n",
    "                                        ufi1,uli1,uci1,\n",
    "                                        lmbda), axis=1)\n",
    "\n",
    "# Set match threshold as > 0.99 probability\n",
    "\n",
    "it2_match = cross[cross['prob']>0.99]\n",
    "it2_notmatch = cross[cross['prob']<=0.99]\n",
    "len(it2_match)"
   ]
  },
  {
   "cell_type": "code",
   "execution_count": 55,
   "id": "2e3acee4",
   "metadata": {},
   "outputs": [
    {
     "data": {
      "text/html": [
       "<div>\n",
       "<style scoped>\n",
       "    .dataframe tbody tr th:only-of-type {\n",
       "        vertical-align: middle;\n",
       "    }\n",
       "\n",
       "    .dataframe tbody tr th {\n",
       "        vertical-align: top;\n",
       "    }\n",
       "\n",
       "    .dataframe thead th {\n",
       "        text-align: right;\n",
       "    }\n",
       "</style>\n",
       "<table border=\"1\" class=\"dataframe\">\n",
       "  <thead>\n",
       "    <tr style=\"text-align: right;\">\n",
       "      <th></th>\n",
       "      <th>Unnamed: 0_w</th>\n",
       "      <th>Constituency_w</th>\n",
       "      <th>Fullname</th>\n",
       "      <th>Notes</th>\n",
       "      <th>Firstname_w</th>\n",
       "      <th>Lastname_w</th>\n",
       "      <th>Unnamed: 0_t</th>\n",
       "      <th>Constituency_t</th>\n",
       "      <th>Firstname_t</th>\n",
       "      <th>Lastname_t</th>\n",
       "      <th>Flink</th>\n",
       "      <th>Fmatch</th>\n",
       "      <th>Lmatch</th>\n",
       "      <th>Cmatch</th>\n",
       "      <th>Tmatch</th>\n",
       "      <th>prob</th>\n",
       "    </tr>\n",
       "  </thead>\n",
       "  <tbody>\n",
       "    <tr>\n",
       "      <th>64699</th>\n",
       "      <td>100</td>\n",
       "      <td>Burton</td>\n",
       "      <td>Kate Griffiths</td>\n",
       "      <td>Previous incumbent, Andrew Griffiths, did not ...</td>\n",
       "      <td>Kate</td>\n",
       "      <td>Griffiths</td>\n",
       "      <td>349</td>\n",
       "      <td>Burton</td>\n",
       "      <td>Kate</td>\n",
       "      <td>Kniveton</td>\n",
       "      <td>NaN</td>\n",
       "      <td>True</td>\n",
       "      <td>False</td>\n",
       "      <td>True</td>\n",
       "      <td>2</td>\n",
       "      <td>0.984329</td>\n",
       "    </tr>\n",
       "    <tr>\n",
       "      <th>255245</th>\n",
       "      <td>393</td>\n",
       "      <td>Newton Abbot</td>\n",
       "      <td>Anne Marie Morris</td>\n",
       "      <td>Seat held\\n</td>\n",
       "      <td>Anne</td>\n",
       "      <td>Marie Morris</td>\n",
       "      <td>445</td>\n",
       "      <td>Newton Abbot</td>\n",
       "      <td>Anne</td>\n",
       "      <td>Morris</td>\n",
       "      <td>https://facebook.com/annemarie.morris.NA</td>\n",
       "      <td>True</td>\n",
       "      <td>False</td>\n",
       "      <td>True</td>\n",
       "      <td>2</td>\n",
       "      <td>0.984329</td>\n",
       "    </tr>\n",
       "    <tr>\n",
       "      <th>256580</th>\n",
       "      <td>395</td>\n",
       "      <td>North Antrim</td>\n",
       "      <td>Ian Paisley</td>\n",
       "      <td>Seat held\\n</td>\n",
       "      <td>Ian</td>\n",
       "      <td>Paisley</td>\n",
       "      <td>480</td>\n",
       "      <td>North Antrim</td>\n",
       "      <td>Ian</td>\n",
       "      <td>Paisley Jnr</td>\n",
       "      <td>NaN</td>\n",
       "      <td>True</td>\n",
       "      <td>False</td>\n",
       "      <td>True</td>\n",
       "      <td>2</td>\n",
       "      <td>0.984329</td>\n",
       "    </tr>\n",
       "    <tr>\n",
       "      <th>399909</th>\n",
       "      <td>616</td>\n",
       "      <td>West Dunbartonshire</td>\n",
       "      <td>Martin Docherty-Hughes</td>\n",
       "      <td>Seat held\\n</td>\n",
       "      <td>Martin</td>\n",
       "      <td>Docherty-Hughes</td>\n",
       "      <td>159</td>\n",
       "      <td>West Dunbartonshire</td>\n",
       "      <td>Martin</td>\n",
       "      <td>Docherty</td>\n",
       "      <td>https://facebook.com/MartinDochertySNP</td>\n",
       "      <td>True</td>\n",
       "      <td>False</td>\n",
       "      <td>True</td>\n",
       "      <td>2</td>\n",
       "      <td>0.984329</td>\n",
       "    </tr>\n",
       "  </tbody>\n",
       "</table>\n",
       "</div>"
      ],
      "text/plain": [
       "        Unnamed: 0_w       Constituency_w                Fullname  \\\n",
       "64699            100               Burton          Kate Griffiths   \n",
       "255245           393         Newton Abbot       Anne Marie Morris   \n",
       "256580           395         North Antrim             Ian Paisley   \n",
       "399909           616  West Dunbartonshire  Martin Docherty-Hughes   \n",
       "\n",
       "                                                    Notes Firstname_w  \\\n",
       "64699   Previous incumbent, Andrew Griffiths, did not ...        Kate   \n",
       "255245                                        Seat held\\n        Anne   \n",
       "256580                                        Seat held\\n         Ian   \n",
       "399909                                        Seat held\\n      Martin   \n",
       "\n",
       "             Lastname_w  Unnamed: 0_t       Constituency_t Firstname_t  \\\n",
       "64699         Griffiths           349               Burton        Kate   \n",
       "255245     Marie Morris           445         Newton Abbot        Anne   \n",
       "256580          Paisley           480         North Antrim         Ian   \n",
       "399909  Docherty-Hughes           159  West Dunbartonshire      Martin   \n",
       "\n",
       "         Lastname_t                                     Flink  Fmatch  Lmatch  \\\n",
       "64699      Kniveton                                       NaN    True   False   \n",
       "255245       Morris  https://facebook.com/annemarie.morris.NA    True   False   \n",
       "256580  Paisley Jnr                                       NaN    True   False   \n",
       "399909     Docherty    https://facebook.com/MartinDochertySNP    True   False   \n",
       "\n",
       "        Cmatch  Tmatch      prob  \n",
       "64699     True       2  0.984329  \n",
       "255245    True       2  0.984329  \n",
       "256580    True       2  0.984329  \n",
       "399909    True       2  0.984329  "
      ]
     },
     "execution_count": 55,
     "metadata": {},
     "output_type": "execute_result"
    }
   ],
   "source": [
    "# Select records just below the match threshold\n",
    "\n",
    "it2_notmatch[it2_notmatch['prob']>0.8]"
   ]
  },
  {
   "cell_type": "code",
   "execution_count": 56,
   "id": "7e4e9cff",
   "metadata": {},
   "outputs": [],
   "source": [
    "# Recalculate m values\n",
    "\n",
    "mfi2 = it2_match['Fmatch'].sum()/len(it2_match)\n",
    "mli2 = it2_match['Lmatch'].sum()/len(it2_match)\n",
    "mci2 = it2_match['Cmatch'].sum()/len(it2_match)"
   ]
  },
  {
   "cell_type": "code",
   "execution_count": 57,
   "id": "f2916e51",
   "metadata": {},
   "outputs": [
    {
     "data": {
      "text/plain": [
       "0.9921011058451816"
      ]
     },
     "execution_count": 57,
     "metadata": {},
     "output_type": "execute_result"
    }
   ],
   "source": [
    "mfi2"
   ]
  },
  {
   "cell_type": "code",
   "execution_count": 58,
   "id": "37321da5",
   "metadata": {},
   "outputs": [
    {
     "data": {
      "text/plain": [
       "1.0"
      ]
     },
     "execution_count": 58,
     "metadata": {},
     "output_type": "execute_result"
    }
   ],
   "source": [
    "mli2"
   ]
  },
  {
   "cell_type": "code",
   "execution_count": 59,
   "id": "accf7d24",
   "metadata": {},
   "outputs": [
    {
     "data": {
      "text/plain": [
       "1.0"
      ]
     },
     "execution_count": 59,
     "metadata": {},
     "output_type": "execute_result"
    }
   ],
   "source": [
    "mci2"
   ]
  },
  {
   "cell_type": "code",
   "execution_count": 60,
   "id": "18d0e72d",
   "metadata": {},
   "outputs": [],
   "source": [
    "# Recalculate u values\n",
    "\n",
    "ufi2 = it2_notmatch['Fmatch'].sum() / len(it2_notmatch)\n",
    "uli2 = it2_notmatch['Lmatch'].sum() / len(it2_notmatch)\n",
    "uci2 = it2_notmatch['Cmatch'].sum() / len(it2_notmatch)"
   ]
  },
  {
   "cell_type": "code",
   "execution_count": 61,
   "id": "84150885",
   "metadata": {},
   "outputs": [
    {
     "data": {
      "text/plain": [
       "0.004873573898882823"
      ]
     },
     "execution_count": 61,
     "metadata": {},
     "output_type": "execute_result"
    }
   ],
   "source": [
    "ufi2"
   ]
  },
  {
   "cell_type": "code",
   "execution_count": 62,
   "id": "6f7d92b2",
   "metadata": {},
   "outputs": [
    {
     "data": {
      "text/plain": [
       "0.0008272749468434365"
      ]
     },
     "execution_count": 62,
     "metadata": {},
     "output_type": "execute_result"
    }
   ],
   "source": [
    "uli2"
   ]
  },
  {
   "cell_type": "code",
   "execution_count": 63,
   "id": "976c9ae6",
   "metadata": {},
   "outputs": [
    {
     "data": {
      "text/plain": [
       "4.029706044796109e-05"
      ]
     },
     "execution_count": 63,
     "metadata": {},
     "output_type": "execute_result"
    }
   ],
   "source": [
    "uci2"
   ]
  },
  {
   "cell_type": "code",
   "execution_count": 64,
   "id": "55b5405b",
   "metadata": {},
   "outputs": [
    {
     "data": {
      "text/plain": [
       "0.001498224852071006"
      ]
     },
     "execution_count": 64,
     "metadata": {},
     "output_type": "execute_result"
    }
   ],
   "source": [
    "lmbda = len(it2_match)/len(cross)\n",
    "lmbda"
   ]
  },
  {
   "cell_type": "markdown",
   "id": "6c4a12a0",
   "metadata": {},
   "source": [
    "# EM Iteration 3"
   ]
  },
  {
   "cell_type": "code",
   "execution_count": 65,
   "id": "bbe6ab4c",
   "metadata": {},
   "outputs": [
    {
     "data": {
      "text/plain": [
       "633"
      ]
     },
     "execution_count": 65,
     "metadata": {},
     "output_type": "execute_result"
    }
   ],
   "source": [
    "# Calculate the match probability for each combination\n",
    "\n",
    "cross['prob'] = cross.apply(lambda x: match_prb(x.Fmatch,x.Lmatch,x.Cmatch,\n",
    "                                        mfi2,mli2,mci2,  \n",
    "                                        ufi2,uli2,uci2,\n",
    "                                        lmbda), axis=1)\n",
    "\n",
    "# Set match threshold as > 0.99 probability\n",
    "\n",
    "it3_match = cross[cross['prob']>0.99]\n",
    "len(it3_match)"
   ]
  },
  {
   "cell_type": "code",
   "execution_count": 66,
   "id": "cbc07280",
   "metadata": {},
   "outputs": [
    {
     "data": {
      "text/html": [
       "<div>\n",
       "<style scoped>\n",
       "    .dataframe tbody tr th:only-of-type {\n",
       "        vertical-align: middle;\n",
       "    }\n",
       "\n",
       "    .dataframe tbody tr th {\n",
       "        vertical-align: top;\n",
       "    }\n",
       "\n",
       "    .dataframe thead th {\n",
       "        text-align: right;\n",
       "    }\n",
       "</style>\n",
       "<table border=\"1\" class=\"dataframe\">\n",
       "  <thead>\n",
       "    <tr style=\"text-align: right;\">\n",
       "      <th></th>\n",
       "      <th>Unnamed: 0_w</th>\n",
       "      <th>Constituency_w</th>\n",
       "      <th>Fullname</th>\n",
       "      <th>Notes</th>\n",
       "      <th>Firstname_w</th>\n",
       "      <th>Lastname_w</th>\n",
       "      <th>Unnamed: 0_t</th>\n",
       "      <th>Constituency_t</th>\n",
       "      <th>Firstname_t</th>\n",
       "      <th>Lastname_t</th>\n",
       "      <th>Flink</th>\n",
       "      <th>Fmatch</th>\n",
       "      <th>Lmatch</th>\n",
       "      <th>Cmatch</th>\n",
       "      <th>Tmatch</th>\n",
       "      <th>prob</th>\n",
       "    </tr>\n",
       "  </thead>\n",
       "  <tbody>\n",
       "    <tr>\n",
       "      <th>79794</th>\n",
       "      <td>123</td>\n",
       "      <td>Central Suffolk and North Ipswich</td>\n",
       "      <td>Dan Poulter</td>\n",
       "      <td>Seat held\\n</td>\n",
       "      <td>Dan</td>\n",
       "      <td>Poulter</td>\n",
       "      <td>494</td>\n",
       "      <td>Central Suffolk and North Ipswich</td>\n",
       "      <td>Daniel</td>\n",
       "      <td>Poulter</td>\n",
       "      <td>NaN</td>\n",
       "      <td>False</td>\n",
       "      <td>True</td>\n",
       "      <td>True</td>\n",
       "      <td>2</td>\n",
       "      <td>0.997209</td>\n",
       "    </tr>\n",
       "    <tr>\n",
       "      <th>326453</th>\n",
       "      <td>503</td>\n",
       "      <td>Slough</td>\n",
       "      <td>Tanmanjeet Dhesi</td>\n",
       "      <td>Seat held\\n</td>\n",
       "      <td>Tanmanjeet</td>\n",
       "      <td>Dhesi</td>\n",
       "      <td>153</td>\n",
       "      <td>Slough</td>\n",
       "      <td>Tan</td>\n",
       "      <td>Dhesi</td>\n",
       "      <td>https://facebook.com/tandhesi</td>\n",
       "      <td>False</td>\n",
       "      <td>True</td>\n",
       "      <td>True</td>\n",
       "      <td>2</td>\n",
       "      <td>0.997209</td>\n",
       "    </tr>\n",
       "    <tr>\n",
       "      <th>331778</th>\n",
       "      <td>511</td>\n",
       "      <td>South Down</td>\n",
       "      <td>Chris Hazzard</td>\n",
       "      <td>Seat held\\n</td>\n",
       "      <td>Chris</td>\n",
       "      <td>Hazzard</td>\n",
       "      <td>278</td>\n",
       "      <td>South Down</td>\n",
       "      <td>Christopher</td>\n",
       "      <td>Hazzard</td>\n",
       "      <td>https://facebook.com/chris.hazzard.77</td>\n",
       "      <td>False</td>\n",
       "      <td>True</td>\n",
       "      <td>True</td>\n",
       "      <td>2</td>\n",
       "      <td>0.997209</td>\n",
       "    </tr>\n",
       "    <tr>\n",
       "      <th>342502</th>\n",
       "      <td>527</td>\n",
       "      <td>South West Norfolk</td>\n",
       "      <td>Liz Truss</td>\n",
       "      <td>Seat held\\n</td>\n",
       "      <td>Liz</td>\n",
       "      <td>Truss</td>\n",
       "      <td>602</td>\n",
       "      <td>South West Norfolk</td>\n",
       "      <td>Elizabeth</td>\n",
       "      <td>Truss</td>\n",
       "      <td>https://facebook.com/ElizabethTrussSWNorfolk</td>\n",
       "      <td>False</td>\n",
       "      <td>True</td>\n",
       "      <td>True</td>\n",
       "      <td>2</td>\n",
       "      <td>0.997209</td>\n",
       "    </tr>\n",
       "    <tr>\n",
       "      <th>393480</th>\n",
       "      <td>606</td>\n",
       "      <td>Wealden</td>\n",
       "      <td>Nus Ghani</td>\n",
       "      <td>Seat held\\n</td>\n",
       "      <td>Nus</td>\n",
       "      <td>Ghani</td>\n",
       "      <td>230</td>\n",
       "      <td>Wealden</td>\n",
       "      <td>Nusrat</td>\n",
       "      <td>Ghani</td>\n",
       "      <td>https://facebook.com/NusGhaniofficial</td>\n",
       "      <td>False</td>\n",
       "      <td>True</td>\n",
       "      <td>True</td>\n",
       "      <td>2</td>\n",
       "      <td>0.997209</td>\n",
       "    </tr>\n",
       "  </tbody>\n",
       "</table>\n",
       "</div>"
      ],
      "text/plain": [
       "        Unnamed: 0_w                     Constituency_w          Fullname  \\\n",
       "79794            123  Central Suffolk and North Ipswich       Dan Poulter   \n",
       "326453           503                             Slough  Tanmanjeet Dhesi   \n",
       "331778           511                         South Down     Chris Hazzard   \n",
       "342502           527                 South West Norfolk         Liz Truss   \n",
       "393480           606                            Wealden         Nus Ghani   \n",
       "\n",
       "              Notes Firstname_w Lastname_w  Unnamed: 0_t  \\\n",
       "79794   Seat held\\n         Dan    Poulter           494   \n",
       "326453  Seat held\\n  Tanmanjeet      Dhesi           153   \n",
       "331778  Seat held\\n       Chris    Hazzard           278   \n",
       "342502  Seat held\\n         Liz      Truss           602   \n",
       "393480  Seat held\\n         Nus      Ghani           230   \n",
       "\n",
       "                           Constituency_t  Firstname_t Lastname_t  \\\n",
       "79794   Central Suffolk and North Ipswich       Daniel    Poulter   \n",
       "326453                             Slough          Tan      Dhesi   \n",
       "331778                         South Down  Christopher    Hazzard   \n",
       "342502                 South West Norfolk    Elizabeth      Truss   \n",
       "393480                            Wealden       Nusrat      Ghani   \n",
       "\n",
       "                                               Flink  Fmatch  Lmatch  Cmatch  \\\n",
       "79794                                            NaN   False    True    True   \n",
       "326453                 https://facebook.com/tandhesi   False    True    True   \n",
       "331778         https://facebook.com/chris.hazzard.77   False    True    True   \n",
       "342502  https://facebook.com/ElizabethTrussSWNorfolk   False    True    True   \n",
       "393480         https://facebook.com/NusGhaniofficial   False    True    True   \n",
       "\n",
       "        Tmatch      prob  \n",
       "79794        2  0.997209  \n",
       "326453       2  0.997209  \n",
       "331778       2  0.997209  \n",
       "342502       2  0.997209  \n",
       "393480       2  0.997209  "
      ]
     },
     "execution_count": 66,
     "metadata": {},
     "output_type": "execute_result"
    }
   ],
   "source": [
    "# How many records are above match threshold when either Firstname or Lastname don't match\n",
    "\n",
    "it3_match[~it3_match['Fmatch'] | ~it3_match['Lmatch']]"
   ]
  },
  {
   "cell_type": "markdown",
   "id": "9d5b9150",
   "metadata": {},
   "source": [
    "# Splink"
   ]
  },
  {
   "cell_type": "code",
   "execution_count": 67,
   "id": "128f3a60",
   "metadata": {},
   "outputs": [],
   "source": [
    "#%pip install splink\n",
    "# After install you may need to restart the kernel and reload datasets in cell 1.\n",
    "\n",
    "import splink\n",
    "import numpy as np"
   ]
  },
  {
   "cell_type": "code",
   "execution_count": 68,
   "id": "82620bb5",
   "metadata": {},
   "outputs": [],
   "source": [
    "# Add a unique_id column needed by Splink to both datasets\n",
    "\n",
    "df_w['unique_id'] = df_w.index\n",
    "df_t['unique_id'] = df_t.index"
   ]
  },
  {
   "cell_type": "code",
   "execution_count": 69,
   "id": "db53661a",
   "metadata": {},
   "outputs": [],
   "source": [
    "df_w['Flink'] = np.nan\n",
    "df_t['Notes'] = np.nan"
   ]
  },
  {
   "cell_type": "code",
   "execution_count": 70,
   "id": "93df80f5",
   "metadata": {},
   "outputs": [],
   "source": [
    "df_w = df_w[['Firstname','Lastname','Constituency','Flink','Notes','unique_id']]\n",
    "df_t = df_t[['Firstname','Lastname','Constituency','Flink','Notes','unique_id']]"
   ]
  },
  {
   "cell_type": "code",
   "execution_count": 71,
   "id": "d2bd4424",
   "metadata": {},
   "outputs": [],
   "source": [
    "# Splink settings to match on Firstname and Lastname\n",
    "\n",
    "from splink.duckdb.duckdb_linker import DuckDBLinker\n",
    "from splink.duckdb import duckdb_comparison_library as cl\n",
    "\n",
    "settings = {\n",
    "    \"link_type\": \"link_only\",\n",
    "    \"comparisons\": [\n",
    "        cl.exact_match(\"Firstname\"),\n",
    "        cl.exact_match(\"Lastname\"),\n",
    "        cl.exact_match(\"Constituency\"),\n",
    "    ],\n",
    "}\n",
    "linker = DuckDBLinker([df_w, df_t], settings)"
   ]
  },
  {
   "cell_type": "code",
   "execution_count": 72,
   "id": "0ac2df06",
   "metadata": {},
   "outputs": [
    {
     "data": {
      "text/html": [
       "\n",
       "<div id=\"altair-viz-cd81cbd82a8248659aea0779e9903aae\"></div>\n",
       "<script type=\"text/javascript\">\n",
       "  var VEGA_DEBUG = (typeof VEGA_DEBUG == \"undefined\") ? {} : VEGA_DEBUG;\n",
       "  (function(spec, embedOpt){\n",
       "    let outputDiv = document.currentScript.previousElementSibling;\n",
       "    if (outputDiv.id !== \"altair-viz-cd81cbd82a8248659aea0779e9903aae\") {\n",
       "      outputDiv = document.getElementById(\"altair-viz-cd81cbd82a8248659aea0779e9903aae\");\n",
       "    }\n",
       "    const paths = {\n",
       "      \"vega\": \"https://cdn.jsdelivr.net/npm//vega@5?noext\",\n",
       "      \"vega-lib\": \"https://cdn.jsdelivr.net/npm//vega-lib?noext\",\n",
       "      \"vega-lite\": \"https://cdn.jsdelivr.net/npm//vega-lite@4.17.0?noext\",\n",
       "      \"vega-embed\": \"https://cdn.jsdelivr.net/npm//vega-embed@6?noext\",\n",
       "    };\n",
       "\n",
       "    function maybeLoadScript(lib, version) {\n",
       "      var key = `${lib.replace(\"-\", \"\")}_version`;\n",
       "      return (VEGA_DEBUG[key] == version) ?\n",
       "        Promise.resolve(paths[lib]) :\n",
       "        new Promise(function(resolve, reject) {\n",
       "          var s = document.createElement('script');\n",
       "          document.getElementsByTagName(\"head\")[0].appendChild(s);\n",
       "          s.async = true;\n",
       "          s.onload = () => {\n",
       "            VEGA_DEBUG[key] = version;\n",
       "            return resolve(paths[lib]);\n",
       "          };\n",
       "          s.onerror = () => reject(`Error loading script: ${paths[lib]}`);\n",
       "          s.src = paths[lib];\n",
       "        });\n",
       "    }\n",
       "\n",
       "    function showError(err) {\n",
       "      outputDiv.innerHTML = `<div class=\"error\" style=\"color:red;\">${err}</div>`;\n",
       "      throw err;\n",
       "    }\n",
       "\n",
       "    function displayChart(vegaEmbed) {\n",
       "      vegaEmbed(outputDiv, spec, embedOpt)\n",
       "        .catch(err => showError(`Javascript Error: ${err.message}<br>This usually means there's a typo in your chart specification. See the javascript console for the full traceback.`));\n",
       "    }\n",
       "\n",
       "    if(typeof define === \"function\" && define.amd) {\n",
       "      requirejs.config({paths});\n",
       "      require([\"vega-embed\"], displayChart, err => showError(`Error loading script: ${err.message}`));\n",
       "    } else {\n",
       "      maybeLoadScript(\"vega\", \"5\")\n",
       "        .then(() => maybeLoadScript(\"vega-lite\", \"4.17.0\"))\n",
       "        .then(() => maybeLoadScript(\"vega-embed\", \"6\"))\n",
       "        .catch(showError)\n",
       "        .then(() => displayChart(vegaEmbed));\n",
       "    }\n",
       "  })({\"config\": {\"view\": {\"continuousWidth\": 400, \"continuousHeight\": 300}}, \"vconcat\": [{\"hconcat\": [{\"data\": {\"values\": [{\"percentile_ex_nulls\": 0.9753845930099487, \"percentile_inc_nulls\": 0.9753845930099487, \"value_count\": 32, \"group_name\": \"Firstname\", \"total_non_null_rows\": 1300, \"total_rows_inc_nulls\": 1300, \"sum_tokens_in_value_count_group\": 32.0, \"distinct_value_count\": 352}, {\"percentile_ex_nulls\": 0.9338461756706238, \"percentile_inc_nulls\": 0.9338461756706238, \"value_count\": 27, \"group_name\": \"Firstname\", \"total_non_null_rows\": 1300, \"total_rows_inc_nulls\": 1300, \"sum_tokens_in_value_count_group\": 54.0, \"distinct_value_count\": 352}, {\"percentile_ex_nulls\": 0.8938461542129517, \"percentile_inc_nulls\": 0.8938461542129517, \"value_count\": 26, \"group_name\": \"Firstname\", \"total_non_null_rows\": 1300, \"total_rows_inc_nulls\": 1300, \"sum_tokens_in_value_count_group\": 52.0, \"distinct_value_count\": 352}, {\"percentile_ex_nulls\": 0.8746153712272644, \"percentile_inc_nulls\": 0.8746153712272644, \"value_count\": 25, \"group_name\": \"Firstname\", \"total_non_null_rows\": 1300, \"total_rows_inc_nulls\": 1300, \"sum_tokens_in_value_count_group\": 25.0, \"distinct_value_count\": 352}, {\"percentile_ex_nulls\": 0.8592307567596436, \"percentile_inc_nulls\": 0.8592307567596436, \"value_count\": 20, \"group_name\": \"Firstname\", \"total_non_null_rows\": 1300, \"total_rows_inc_nulls\": 1300, \"sum_tokens_in_value_count_group\": 20.0, \"distinct_value_count\": 352}, {\"percentile_ex_nulls\": 0.8453845977783203, \"percentile_inc_nulls\": 0.8453845977783203, \"value_count\": 18, \"group_name\": \"Firstname\", \"total_non_null_rows\": 1300, \"total_rows_inc_nulls\": 1300, \"sum_tokens_in_value_count_group\": 18.0, \"distinct_value_count\": 352}, {\"percentile_ex_nulls\": 0.8330769538879395, \"percentile_inc_nulls\": 0.8330769538879395, \"value_count\": 16, \"group_name\": \"Firstname\", \"total_non_null_rows\": 1300, \"total_rows_inc_nulls\": 1300, \"sum_tokens_in_value_count_group\": 16.0, \"distinct_value_count\": 352}, {\"percentile_ex_nulls\": 0.8215384483337402, \"percentile_inc_nulls\": 0.8215384483337402, \"value_count\": 15, \"group_name\": \"Firstname\", \"total_non_null_rows\": 1300, \"total_rows_inc_nulls\": 1300, \"sum_tokens_in_value_count_group\": 15.0, \"distinct_value_count\": 352}, {\"percentile_ex_nulls\": 0.800000011920929, \"percentile_inc_nulls\": 0.800000011920929, \"value_count\": 14, \"group_name\": \"Firstname\", \"total_non_null_rows\": 1300, \"total_rows_inc_nulls\": 1300, \"sum_tokens_in_value_count_group\": 28.0, \"distinct_value_count\": 352}, {\"percentile_ex_nulls\": 0.7799999713897705, \"percentile_inc_nulls\": 0.7799999713897705, \"value_count\": 13, \"group_name\": \"Firstname\", \"total_non_null_rows\": 1300, \"total_rows_inc_nulls\": 1300, \"sum_tokens_in_value_count_group\": 26.0, \"distinct_value_count\": 352}, {\"percentile_ex_nulls\": 0.7615384459495544, \"percentile_inc_nulls\": 0.7615384459495544, \"value_count\": 12, \"group_name\": \"Firstname\", \"total_non_null_rows\": 1300, \"total_rows_inc_nulls\": 1300, \"sum_tokens_in_value_count_group\": 24.0, \"distinct_value_count\": 352}, {\"percentile_ex_nulls\": 0.7530769109725952, \"percentile_inc_nulls\": 0.7530769109725952, \"value_count\": 11, \"group_name\": \"Firstname\", \"total_non_null_rows\": 1300, \"total_rows_inc_nulls\": 1300, \"sum_tokens_in_value_count_group\": 11.0, \"distinct_value_count\": 352}, {\"percentile_ex_nulls\": 0.7300000190734863, \"percentile_inc_nulls\": 0.7300000190734863, \"value_count\": 10, \"group_name\": \"Firstname\", \"total_non_null_rows\": 1300, \"total_rows_inc_nulls\": 1300, \"sum_tokens_in_value_count_group\": 30.0, \"distinct_value_count\": 352}, {\"percentile_ex_nulls\": 0.7230769395828247, \"percentile_inc_nulls\": 0.7230769395828247, \"value_count\": 9, \"group_name\": \"Firstname\", \"total_non_null_rows\": 1300, \"total_rows_inc_nulls\": 1300, \"sum_tokens_in_value_count_group\": 9.0, \"distinct_value_count\": 352}, {\"percentile_ex_nulls\": 0.6307692527770996, \"percentile_inc_nulls\": 0.6307692527770996, \"value_count\": 8, \"group_name\": \"Firstname\", \"total_non_null_rows\": 1300, \"total_rows_inc_nulls\": 1300, \"sum_tokens_in_value_count_group\": 120.0, \"distinct_value_count\": 352}, {\"percentile_ex_nulls\": 0.6200000047683716, \"percentile_inc_nulls\": 0.6200000047683716, \"value_count\": 7, \"group_name\": \"Firstname\", \"total_non_null_rows\": 1300, \"total_rows_inc_nulls\": 1300, \"sum_tokens_in_value_count_group\": 14.0, \"distinct_value_count\": 352}, {\"percentile_ex_nulls\": 0.5276923179626465, \"percentile_inc_nulls\": 0.5276923179626465, \"value_count\": 6, \"group_name\": \"Firstname\", \"total_non_null_rows\": 1300, \"total_rows_inc_nulls\": 1300, \"sum_tokens_in_value_count_group\": 120.0, \"distinct_value_count\": 352}, {\"percentile_ex_nulls\": 0.5084615349769592, \"percentile_inc_nulls\": 0.5084615349769592, \"value_count\": 5, \"group_name\": \"Firstname\", \"total_non_null_rows\": 1300, \"total_rows_inc_nulls\": 1300, \"sum_tokens_in_value_count_group\": 25.0, \"distinct_value_count\": 352}, {\"percentile_ex_nulls\": 0.36692309379577637, \"percentile_inc_nulls\": 0.36692309379577637, \"value_count\": 4, \"group_name\": \"Firstname\", \"total_non_null_rows\": 1300, \"total_rows_inc_nulls\": 1300, \"sum_tokens_in_value_count_group\": 184.0, \"distinct_value_count\": 352}, {\"percentile_ex_nulls\": 0.35769230127334595, \"percentile_inc_nulls\": 0.35769230127334595, \"value_count\": 3, \"group_name\": \"Firstname\", \"total_non_null_rows\": 1300, \"total_rows_inc_nulls\": 1300, \"sum_tokens_in_value_count_group\": 12.0, \"distinct_value_count\": 352}, {\"percentile_ex_nulls\": 0.009999990463256836, \"percentile_inc_nulls\": 0.009999990463256836, \"value_count\": 2, \"group_name\": \"Firstname\", \"total_non_null_rows\": 1300, \"total_rows_inc_nulls\": 1300, \"sum_tokens_in_value_count_group\": 452.0, \"distinct_value_count\": 352}, {\"percentile_ex_nulls\": 0.0, \"percentile_inc_nulls\": 0.0, \"value_count\": 1, \"group_name\": \"Firstname\", \"total_non_null_rows\": 1300, \"total_rows_inc_nulls\": 1300, \"sum_tokens_in_value_count_group\": 13.0, \"distinct_value_count\": 352}, {\"percentile_ex_nulls\": 1.0, \"percentile_inc_nulls\": 1.0, \"value_count\": 32, \"group_name\": \"Firstname\", \"total_non_null_rows\": 1300, \"total_rows_inc_nulls\": 1300, \"sum_tokens_in_value_count_group\": 32.0, \"distinct_value_count\": 352}]}, \"mark\": {\"type\": \"line\", \"interpolate\": \"step-after\"}, \"encoding\": {\"x\": {\"type\": \"quantitative\", \"field\": \"percentile_ex_nulls\", \"sort\": \"descending\", \"title\": \"Percentile\"}, \"y\": {\"type\": \"quantitative\", \"field\": \"value_count\", \"title\": \"Count of values\"}, \"tooltip\": [{\"field\": \"value_count\", \"type\": \"quantitative\"}, {\"field\": \"percentile_ex_nulls\", \"type\": \"quantitative\"}, {\"field\": \"percentile_inc_nulls\", \"type\": \"quantitative\"}, {\"field\": \"total_non_null_rows\", \"type\": \"quantitative\"}, {\"field\": \"total_rows_inc_nulls\", \"type\": \"quantitative\"}]}, \"title\": {\"text\": \"Distribution of counts of values in column Firstname\", \"subtitle\": \"In this col, 0 values (0.0%) are null and there are 352 distinct values\"}}, {\"data\": {\"values\": [{\"value_count\": 32, \"group_name\": \"Firstname\", \"value\": \"John\", \"total_non_null_rows\": 1300, \"total_rows_inc_nulls\": 1300, \"distinct_value_count\": 352}, {\"value_count\": 27, \"group_name\": \"Firstname\", \"value\": \"Andrew\", \"total_non_null_rows\": 1300, \"total_rows_inc_nulls\": 1300, \"distinct_value_count\": 352}, {\"value_count\": 27, \"group_name\": \"Firstname\", \"value\": \"David\", \"total_non_null_rows\": 1300, \"total_rows_inc_nulls\": 1300, \"distinct_value_count\": 352}, {\"value_count\": 26, \"group_name\": \"Firstname\", \"value\": \"Mark\", \"total_non_null_rows\": 1300, \"total_rows_inc_nulls\": 1300, \"distinct_value_count\": 352}, {\"value_count\": 26, \"group_name\": \"Firstname\", \"value\": \"Chris\", \"total_non_null_rows\": 1300, \"total_rows_inc_nulls\": 1300, \"distinct_value_count\": 352}, {\"value_count\": 25, \"group_name\": \"Firstname\", \"value\": \"James\", \"total_non_null_rows\": 1300, \"total_rows_inc_nulls\": 1300, \"distinct_value_count\": 352}, {\"value_count\": 20, \"group_name\": \"Firstname\", \"value\": \"Stephen\", \"total_non_null_rows\": 1300, \"total_rows_inc_nulls\": 1300, \"distinct_value_count\": 352}, {\"value_count\": 18, \"group_name\": \"Firstname\", \"value\": \"Paul\", \"total_non_null_rows\": 1300, \"total_rows_inc_nulls\": 1300, \"distinct_value_count\": 352}, {\"value_count\": 16, \"group_name\": \"Firstname\", \"value\": \"Ian\", \"total_non_null_rows\": 1300, \"total_rows_inc_nulls\": 1300, \"distinct_value_count\": 352}, {\"value_count\": 15, \"group_name\": \"Firstname\", \"value\": \"Richard\", \"total_non_null_rows\": 1300, \"total_rows_inc_nulls\": 1300, \"distinct_value_count\": 352}]}, \"mark\": \"bar\", \"encoding\": {\"x\": {\"type\": \"nominal\", \"field\": \"value\", \"sort\": \"-y\", \"title\": null}, \"y\": {\"type\": \"quantitative\", \"field\": \"value_count\", \"title\": \"Value count\"}, \"tooltip\": [{\"field\": \"value\", \"type\": \"nominal\"}, {\"field\": \"value_count\", \"type\": \"quantitative\"}, {\"field\": \"total_non_null_rows\", \"type\": \"quantitative\"}, {\"field\": \"total_rows_inc_nulls\", \"type\": \"quantitative\"}]}, \"title\": \"Top 10 values by value count\"}, {\"data\": {\"values\": [{\"value_count\": 1, \"group_name\": \"Firstname\", \"value\": \"Tracy\", \"total_non_null_rows\": 1300, \"total_rows_inc_nulls\": 1300, \"distinct_value_count\": 352}, {\"value_count\": 1, \"group_name\": \"Firstname\", \"value\": \"Cheryl\", \"total_non_null_rows\": 1300, \"total_rows_inc_nulls\": 1300, \"distinct_value_count\": 352}, {\"value_count\": 1, \"group_name\": \"Firstname\", \"value\": \"Tanmanjeet\", \"total_non_null_rows\": 1300, \"total_rows_inc_nulls\": 1300, \"distinct_value_count\": 352}, {\"value_count\": 1, \"group_name\": \"Firstname\", \"value\": \"Nus\", \"total_non_null_rows\": 1300, \"total_rows_inc_nulls\": 1300, \"distinct_value_count\": 352}, {\"value_count\": 1, \"group_name\": \"Firstname\", \"value\": \"Ashley\", \"total_non_null_rows\": 1300, \"total_rows_inc_nulls\": 1300, \"distinct_value_count\": 352}, {\"value_count\": 1, \"group_name\": \"Firstname\", \"value\": \"Tan\", \"total_non_null_rows\": 1300, \"total_rows_inc_nulls\": 1300, \"distinct_value_count\": 352}, {\"value_count\": 1, \"group_name\": \"Firstname\", \"value\": \"Samantha\", \"total_non_null_rows\": 1300, \"total_rows_inc_nulls\": 1300, \"distinct_value_count\": 352}, {\"value_count\": 1, \"group_name\": \"Firstname\", \"value\": \"Louie\", \"total_non_null_rows\": 1300, \"total_rows_inc_nulls\": 1300, \"distinct_value_count\": 352}, {\"value_count\": 1, \"group_name\": \"Firstname\", \"value\": \"Nusrat\", \"total_non_null_rows\": 1300, \"total_rows_inc_nulls\": 1300, \"distinct_value_count\": 352}, {\"value_count\": 1, \"group_name\": \"Firstname\", \"value\": \"Paulette\", \"total_non_null_rows\": 1300, \"total_rows_inc_nulls\": 1300, \"distinct_value_count\": 352}]}, \"mark\": \"bar\", \"encoding\": {\"x\": {\"type\": \"nominal\", \"field\": \"value\", \"sort\": \"-y\", \"title\": null}, \"y\": {\"type\": \"quantitative\", \"field\": \"value_count\", \"title\": \"Value count\", \"scale\": {\"domain\": [0, 32]}}, \"tooltip\": [{\"field\": \"value\", \"type\": \"nominal\"}, {\"field\": \"value_count\", \"type\": \"quantitative\"}, {\"field\": \"total_non_null_rows\", \"type\": \"quantitative\"}, {\"field\": \"total_rows_inc_nulls\", \"type\": \"quantitative\"}]}, \"title\": \"Bottom 10 values by value count\"}]}, {\"hconcat\": [{\"data\": {\"values\": [{\"percentile_ex_nulls\": 0.9723076820373535, \"percentile_inc_nulls\": 0.9723076820373535, \"value_count\": 18, \"group_name\": \"Lastname\", \"total_non_null_rows\": 1300, \"total_rows_inc_nulls\": 1300, \"sum_tokens_in_value_count_group\": 36.0, \"distinct_value_count\": 574}, {\"percentile_ex_nulls\": 0.9630769491195679, \"percentile_inc_nulls\": 0.9630769491195679, \"value_count\": 12, \"group_name\": \"Lastname\", \"total_non_null_rows\": 1300, \"total_rows_inc_nulls\": 1300, \"sum_tokens_in_value_count_group\": 12.0, \"distinct_value_count\": 574}, {\"percentile_ex_nulls\": 0.9553846120834351, \"percentile_inc_nulls\": 0.9553846120834351, \"value_count\": 10, \"group_name\": \"Lastname\", \"total_non_null_rows\": 1300, \"total_rows_inc_nulls\": 1300, \"sum_tokens_in_value_count_group\": 10.0, \"distinct_value_count\": 574}, {\"percentile_ex_nulls\": 0.9492307901382446, \"percentile_inc_nulls\": 0.9492307901382446, \"value_count\": 8, \"group_name\": \"Lastname\", \"total_non_null_rows\": 1300, \"total_rows_inc_nulls\": 1300, \"sum_tokens_in_value_count_group\": 8.0, \"distinct_value_count\": 574}, {\"percentile_ex_nulls\": 0.9438461661338806, \"percentile_inc_nulls\": 0.9438461661338806, \"value_count\": 7, \"group_name\": \"Lastname\", \"total_non_null_rows\": 1300, \"total_rows_inc_nulls\": 1300, \"sum_tokens_in_value_count_group\": 7.0, \"distinct_value_count\": 574}, {\"percentile_ex_nulls\": 0.9069230556488037, \"percentile_inc_nulls\": 0.9069230556488037, \"value_count\": 6, \"group_name\": \"Lastname\", \"total_non_null_rows\": 1300, \"total_rows_inc_nulls\": 1300, \"sum_tokens_in_value_count_group\": 48.0, \"distinct_value_count\": 574}, {\"percentile_ex_nulls\": 0.9030769467353821, \"percentile_inc_nulls\": 0.9030769467353821, \"value_count\": 5, \"group_name\": \"Lastname\", \"total_non_null_rows\": 1300, \"total_rows_inc_nulls\": 1300, \"sum_tokens_in_value_count_group\": 5.0, \"distinct_value_count\": 574}, {\"percentile_ex_nulls\": 0.7861538529396057, \"percentile_inc_nulls\": 0.7861538529396057, \"value_count\": 4, \"group_name\": \"Lastname\", \"total_non_null_rows\": 1300, \"total_rows_inc_nulls\": 1300, \"sum_tokens_in_value_count_group\": 152.0, \"distinct_value_count\": 574}, {\"percentile_ex_nulls\": 0.7746154069900513, \"percentile_inc_nulls\": 0.7746154069900513, \"value_count\": 3, \"group_name\": \"Lastname\", \"total_non_null_rows\": 1300, \"total_rows_inc_nulls\": 1300, \"sum_tokens_in_value_count_group\": 15.0, \"distinct_value_count\": 574}, {\"percentile_ex_nulls\": 0.019230782985687256, \"percentile_inc_nulls\": 0.019230782985687256, \"value_count\": 2, \"group_name\": \"Lastname\", \"total_non_null_rows\": 1300, \"total_rows_inc_nulls\": 1300, \"sum_tokens_in_value_count_group\": 982.0, \"distinct_value_count\": 574}, {\"percentile_ex_nulls\": 0.0, \"percentile_inc_nulls\": 0.0, \"value_count\": 1, \"group_name\": \"Lastname\", \"total_non_null_rows\": 1300, \"total_rows_inc_nulls\": 1300, \"sum_tokens_in_value_count_group\": 25.0, \"distinct_value_count\": 574}, {\"percentile_ex_nulls\": 1.0, \"percentile_inc_nulls\": 1.0, \"value_count\": 18, \"group_name\": \"Lastname\", \"total_non_null_rows\": 1300, \"total_rows_inc_nulls\": 1300, \"sum_tokens_in_value_count_group\": 36.0, \"distinct_value_count\": 574}]}, \"mark\": {\"type\": \"line\", \"interpolate\": \"step-after\"}, \"encoding\": {\"x\": {\"type\": \"quantitative\", \"field\": \"percentile_ex_nulls\", \"sort\": \"descending\", \"title\": \"Percentile\"}, \"y\": {\"type\": \"quantitative\", \"field\": \"value_count\", \"title\": \"Count of values\"}, \"tooltip\": [{\"field\": \"value_count\", \"type\": \"quantitative\"}, {\"field\": \"percentile_ex_nulls\", \"type\": \"quantitative\"}, {\"field\": \"percentile_inc_nulls\", \"type\": \"quantitative\"}, {\"field\": \"total_non_null_rows\", \"type\": \"quantitative\"}, {\"field\": \"total_rows_inc_nulls\", \"type\": \"quantitative\"}]}, \"title\": {\"text\": \"Distribution of counts of values in column Lastname\", \"subtitle\": \"In this col, 0 values (0.0%) are null and there are 574 distinct values\"}}, {\"data\": {\"values\": [{\"value_count\": 18, \"group_name\": \"Lastname\", \"value\": \"Smith\", \"total_non_null_rows\": 1300, \"total_rows_inc_nulls\": 1300, \"distinct_value_count\": 574}, {\"value_count\": 18, \"group_name\": \"Lastname\", \"value\": \"Jones\", \"total_non_null_rows\": 1300, \"total_rows_inc_nulls\": 1300, \"distinct_value_count\": 574}, {\"value_count\": 12, \"group_name\": \"Lastname\", \"value\": \"Davies\", \"total_non_null_rows\": 1300, \"total_rows_inc_nulls\": 1300, \"distinct_value_count\": 574}, {\"value_count\": 10, \"group_name\": \"Lastname\", \"value\": \"Johnson\", \"total_non_null_rows\": 1300, \"total_rows_inc_nulls\": 1300, \"distinct_value_count\": 574}, {\"value_count\": 8, \"group_name\": \"Lastname\", \"value\": \"Fletcher\", \"total_non_null_rows\": 1300, \"total_rows_inc_nulls\": 1300, \"distinct_value_count\": 574}, {\"value_count\": 7, \"group_name\": \"Lastname\", \"value\": \"Morris\", \"total_non_null_rows\": 1300, \"total_rows_inc_nulls\": 1300, \"distinct_value_count\": 574}, {\"value_count\": 6, \"group_name\": \"Lastname\", \"value\": \"Anderson\", \"total_non_null_rows\": 1300, \"total_rows_inc_nulls\": 1300, \"distinct_value_count\": 574}, {\"value_count\": 6, \"group_name\": \"Lastname\", \"value\": \"Green\", \"total_non_null_rows\": 1300, \"total_rows_inc_nulls\": 1300, \"distinct_value_count\": 574}, {\"value_count\": 6, \"group_name\": \"Lastname\", \"value\": \"Evans\", \"total_non_null_rows\": 1300, \"total_rows_inc_nulls\": 1300, \"distinct_value_count\": 574}, {\"value_count\": 6, \"group_name\": \"Lastname\", \"value\": \"McDonald\", \"total_non_null_rows\": 1300, \"total_rows_inc_nulls\": 1300, \"distinct_value_count\": 574}]}, \"mark\": \"bar\", \"encoding\": {\"x\": {\"type\": \"nominal\", \"field\": \"value\", \"sort\": \"-y\", \"title\": null}, \"y\": {\"type\": \"quantitative\", \"field\": \"value_count\", \"title\": \"Value count\"}, \"tooltip\": [{\"field\": \"value\", \"type\": \"nominal\"}, {\"field\": \"value_count\", \"type\": \"quantitative\"}, {\"field\": \"total_non_null_rows\", \"type\": \"quantitative\"}, {\"field\": \"total_rows_inc_nulls\", \"type\": \"quantitative\"}]}, \"title\": \"Top 10 values by value count\"}, {\"data\": {\"values\": [{\"value_count\": 1, \"group_name\": \"Lastname\", \"value\": \"Brabin\", \"total_non_null_rows\": 1300, \"total_rows_inc_nulls\": 1300, \"distinct_value_count\": 574}, {\"value_count\": 1, \"group_name\": \"Lastname\", \"value\": \"Dromey\", \"total_non_null_rows\": 1300, \"total_rows_inc_nulls\": 1300, \"distinct_value_count\": 574}, {\"value_count\": 1, \"group_name\": \"Lastname\", \"value\": \"Griffiths\", \"total_non_null_rows\": 1300, \"total_rows_inc_nulls\": 1300, \"distinct_value_count\": 574}, {\"value_count\": 1, \"group_name\": \"Lastname\", \"value\": \"Gillan\", \"total_non_null_rows\": 1300, \"total_rows_inc_nulls\": 1300, \"distinct_value_count\": 574}, {\"value_count\": 1, \"group_name\": \"Lastname\", \"value\": \"Matheson\", \"total_non_null_rows\": 1300, \"total_rows_inc_nulls\": 1300, \"distinct_value_count\": 574}, {\"value_count\": 1, \"group_name\": \"Lastname\", \"value\": \"Hill\", \"total_non_null_rows\": 1300, \"total_rows_inc_nulls\": 1300, \"distinct_value_count\": 574}, {\"value_count\": 1, \"group_name\": \"Lastname\", \"value\": \"Marie Morris\", \"total_non_null_rows\": 1300, \"total_rows_inc_nulls\": 1300, \"distinct_value_count\": 574}, {\"value_count\": 1, \"group_name\": \"Lastname\", \"value\": \"Brokenshire\", \"total_non_null_rows\": 1300, \"total_rows_inc_nulls\": 1300, \"distinct_value_count\": 574}, {\"value_count\": 1, \"group_name\": \"Lastname\", \"value\": \"Amess\", \"total_non_null_rows\": 1300, \"total_rows_inc_nulls\": 1300, \"distinct_value_count\": 574}, {\"value_count\": 1, \"group_name\": \"Lastname\", \"value\": \"Parish\", \"total_non_null_rows\": 1300, \"total_rows_inc_nulls\": 1300, \"distinct_value_count\": 574}]}, \"mark\": \"bar\", \"encoding\": {\"x\": {\"type\": \"nominal\", \"field\": \"value\", \"sort\": \"-y\", \"title\": null}, \"y\": {\"type\": \"quantitative\", \"field\": \"value_count\", \"title\": \"Value count\", \"scale\": {\"domain\": [0, 18]}}, \"tooltip\": [{\"field\": \"value\", \"type\": \"nominal\"}, {\"field\": \"value_count\", \"type\": \"quantitative\"}, {\"field\": \"total_non_null_rows\", \"type\": \"quantitative\"}, {\"field\": \"total_rows_inc_nulls\", \"type\": \"quantitative\"}]}, \"title\": \"Bottom 10 values by value count\"}]}, {\"hconcat\": [{\"data\": {\"values\": [{\"percentile_ex_nulls\": 0.0, \"percentile_inc_nulls\": 0.0, \"value_count\": 2, \"group_name\": \"Constituency\", \"total_non_null_rows\": 1300, \"total_rows_inc_nulls\": 1300, \"sum_tokens_in_value_count_group\": 1300.0, \"distinct_value_count\": 650}, {\"percentile_ex_nulls\": 1.0, \"percentile_inc_nulls\": 1.0, \"value_count\": 2, \"group_name\": \"Constituency\", \"total_non_null_rows\": 1300, \"total_rows_inc_nulls\": 1300, \"sum_tokens_in_value_count_group\": 1300.0, \"distinct_value_count\": 650}]}, \"mark\": {\"type\": \"line\", \"interpolate\": \"step-after\"}, \"encoding\": {\"x\": {\"type\": \"quantitative\", \"field\": \"percentile_ex_nulls\", \"sort\": \"descending\", \"title\": \"Percentile\"}, \"y\": {\"type\": \"quantitative\", \"field\": \"value_count\", \"title\": \"Count of values\"}, \"tooltip\": [{\"field\": \"value_count\", \"type\": \"quantitative\"}, {\"field\": \"percentile_ex_nulls\", \"type\": \"quantitative\"}, {\"field\": \"percentile_inc_nulls\", \"type\": \"quantitative\"}, {\"field\": \"total_non_null_rows\", \"type\": \"quantitative\"}, {\"field\": \"total_rows_inc_nulls\", \"type\": \"quantitative\"}]}, \"title\": {\"text\": \"Distribution of counts of values in column Constituency\", \"subtitle\": \"In this col, 0 values (0.0%) are null and there are 650 distinct values\"}}, {\"data\": {\"values\": [{\"value_count\": 2, \"group_name\": \"Constituency\", \"value\": \"Aberavon\", \"total_non_null_rows\": 1300, \"total_rows_inc_nulls\": 1300, \"distinct_value_count\": 650}, {\"value_count\": 2, \"group_name\": \"Constituency\", \"value\": \"Aberconwy\", \"total_non_null_rows\": 1300, \"total_rows_inc_nulls\": 1300, \"distinct_value_count\": 650}, {\"value_count\": 2, \"group_name\": \"Constituency\", \"value\": \"Aberdeen North\", \"total_non_null_rows\": 1300, \"total_rows_inc_nulls\": 1300, \"distinct_value_count\": 650}, {\"value_count\": 2, \"group_name\": \"Constituency\", \"value\": \"Aberdeen South\", \"total_non_null_rows\": 1300, \"total_rows_inc_nulls\": 1300, \"distinct_value_count\": 650}, {\"value_count\": 2, \"group_name\": \"Constituency\", \"value\": \"Airdrie and Shotts\", \"total_non_null_rows\": 1300, \"total_rows_inc_nulls\": 1300, \"distinct_value_count\": 650}, {\"value_count\": 2, \"group_name\": \"Constituency\", \"value\": \"Aldershot\", \"total_non_null_rows\": 1300, \"total_rows_inc_nulls\": 1300, \"distinct_value_count\": 650}, {\"value_count\": 2, \"group_name\": \"Constituency\", \"value\": \"Aldridge-Brownhills\", \"total_non_null_rows\": 1300, \"total_rows_inc_nulls\": 1300, \"distinct_value_count\": 650}, {\"value_count\": 2, \"group_name\": \"Constituency\", \"value\": \"Altrincham and Sale West\", \"total_non_null_rows\": 1300, \"total_rows_inc_nulls\": 1300, \"distinct_value_count\": 650}, {\"value_count\": 2, \"group_name\": \"Constituency\", \"value\": \"Alyn and Deeside\", \"total_non_null_rows\": 1300, \"total_rows_inc_nulls\": 1300, \"distinct_value_count\": 650}, {\"value_count\": 2, \"group_name\": \"Constituency\", \"value\": \"Amber Valley\", \"total_non_null_rows\": 1300, \"total_rows_inc_nulls\": 1300, \"distinct_value_count\": 650}]}, \"mark\": \"bar\", \"encoding\": {\"x\": {\"type\": \"nominal\", \"field\": \"value\", \"sort\": \"-y\", \"title\": null}, \"y\": {\"type\": \"quantitative\", \"field\": \"value_count\", \"title\": \"Value count\"}, \"tooltip\": [{\"field\": \"value\", \"type\": \"nominal\"}, {\"field\": \"value_count\", \"type\": \"quantitative\"}, {\"field\": \"total_non_null_rows\", \"type\": \"quantitative\"}, {\"field\": \"total_rows_inc_nulls\", \"type\": \"quantitative\"}]}, \"title\": \"Top 10 values by value count\"}, {\"data\": {\"values\": [{\"value_count\": 2, \"group_name\": \"Constituency\", \"value\": \"Aberavon\", \"total_non_null_rows\": 1300, \"total_rows_inc_nulls\": 1300, \"distinct_value_count\": 650}, {\"value_count\": 2, \"group_name\": \"Constituency\", \"value\": \"Aberconwy\", \"total_non_null_rows\": 1300, \"total_rows_inc_nulls\": 1300, \"distinct_value_count\": 650}, {\"value_count\": 2, \"group_name\": \"Constituency\", \"value\": \"Aberdeen North\", \"total_non_null_rows\": 1300, \"total_rows_inc_nulls\": 1300, \"distinct_value_count\": 650}, {\"value_count\": 2, \"group_name\": \"Constituency\", \"value\": \"Aberdeen South\", \"total_non_null_rows\": 1300, \"total_rows_inc_nulls\": 1300, \"distinct_value_count\": 650}, {\"value_count\": 2, \"group_name\": \"Constituency\", \"value\": \"Airdrie and Shotts\", \"total_non_null_rows\": 1300, \"total_rows_inc_nulls\": 1300, \"distinct_value_count\": 650}, {\"value_count\": 2, \"group_name\": \"Constituency\", \"value\": \"Aldershot\", \"total_non_null_rows\": 1300, \"total_rows_inc_nulls\": 1300, \"distinct_value_count\": 650}, {\"value_count\": 2, \"group_name\": \"Constituency\", \"value\": \"Aldridge-Brownhills\", \"total_non_null_rows\": 1300, \"total_rows_inc_nulls\": 1300, \"distinct_value_count\": 650}, {\"value_count\": 2, \"group_name\": \"Constituency\", \"value\": \"Altrincham and Sale West\", \"total_non_null_rows\": 1300, \"total_rows_inc_nulls\": 1300, \"distinct_value_count\": 650}, {\"value_count\": 2, \"group_name\": \"Constituency\", \"value\": \"Alyn and Deeside\", \"total_non_null_rows\": 1300, \"total_rows_inc_nulls\": 1300, \"distinct_value_count\": 650}, {\"value_count\": 2, \"group_name\": \"Constituency\", \"value\": \"Amber Valley\", \"total_non_null_rows\": 1300, \"total_rows_inc_nulls\": 1300, \"distinct_value_count\": 650}]}, \"mark\": \"bar\", \"encoding\": {\"x\": {\"type\": \"nominal\", \"field\": \"value\", \"sort\": \"-y\", \"title\": null}, \"y\": {\"type\": \"quantitative\", \"field\": \"value_count\", \"title\": \"Value count\", \"scale\": {\"domain\": [0, 2]}}, \"tooltip\": [{\"field\": \"value\", \"type\": \"nominal\"}, {\"field\": \"value_count\", \"type\": \"quantitative\"}, {\"field\": \"total_non_null_rows\", \"type\": \"quantitative\"}, {\"field\": \"total_rows_inc_nulls\", \"type\": \"quantitative\"}]}, \"title\": \"Bottom 10 values by value count\"}]}], \"$schema\": \"https://vega.github.io/schema/vega-lite/v4.8.1.json\"}, {\"mode\": \"vega-lite\"});\n",
       "</script>"
      ],
      "text/plain": [
       "<splink.charts.VegaliteNoValidate at 0x1aa89268be0>"
      ]
     },
     "execution_count": 72,
     "metadata": {},
     "output_type": "execute_result"
    }
   ],
   "source": [
    "# Examine distribution of columns to be matched\n",
    "\n",
    "linker.profile_columns(['Firstname','Lastname','Constituency'])"
   ]
  },
  {
   "cell_type": "code",
   "execution_count": 73,
   "id": "b3a3905f",
   "metadata": {},
   "outputs": [
    {
     "name": "stderr",
     "output_type": "stream",
     "text": [
      "\n",
      "----- Starting EM training session -----\n",
      "\n",
      "Estimating the m and u probabilities of the model by blocking on:\n",
      "True\n",
      "\n",
      "Parameter estimates will be made for the following comparison(s):\n",
      "    - Firstname\n",
      "    - Lastname\n",
      "    - Constituency\n",
      "\n",
      "Parameter estimates cannot be made for the following comparison(s) since they are used in the blocking rules: \n",
      "\n",
      "Iteration 1: Largest change in params was -0.605 in the u_probability of Firstname, level `All other comparisons`\n",
      "Iteration 2: Largest change in params was 0.00176 in the m_probability of Firstname, level `All other comparisons`\n",
      "Iteration 3: Largest change in params was -5.69e-05 in the m_probability of Lastname, level `Exact match`\n",
      "\n",
      "EM converged after 3 iterations\n",
      "\n",
      "Your model is fully trained. All comparisons have at least one estimate for their m and u values\n"
     ]
    },
    {
     "data": {
      "text/html": [
       "\n",
       "<div id=\"altair-viz-43fa81c81c85447bbd5305aa46416fc6\"></div>\n",
       "<script type=\"text/javascript\">\n",
       "  var VEGA_DEBUG = (typeof VEGA_DEBUG == \"undefined\") ? {} : VEGA_DEBUG;\n",
       "  (function(spec, embedOpt){\n",
       "    let outputDiv = document.currentScript.previousElementSibling;\n",
       "    if (outputDiv.id !== \"altair-viz-43fa81c81c85447bbd5305aa46416fc6\") {\n",
       "      outputDiv = document.getElementById(\"altair-viz-43fa81c81c85447bbd5305aa46416fc6\");\n",
       "    }\n",
       "    const paths = {\n",
       "      \"vega\": \"https://cdn.jsdelivr.net/npm//vega@5?noext\",\n",
       "      \"vega-lib\": \"https://cdn.jsdelivr.net/npm//vega-lib?noext\",\n",
       "      \"vega-lite\": \"https://cdn.jsdelivr.net/npm//vega-lite@4.17.0?noext\",\n",
       "      \"vega-embed\": \"https://cdn.jsdelivr.net/npm//vega-embed@6?noext\",\n",
       "    };\n",
       "\n",
       "    function maybeLoadScript(lib, version) {\n",
       "      var key = `${lib.replace(\"-\", \"\")}_version`;\n",
       "      return (VEGA_DEBUG[key] == version) ?\n",
       "        Promise.resolve(paths[lib]) :\n",
       "        new Promise(function(resolve, reject) {\n",
       "          var s = document.createElement('script');\n",
       "          document.getElementsByTagName(\"head\")[0].appendChild(s);\n",
       "          s.async = true;\n",
       "          s.onload = () => {\n",
       "            VEGA_DEBUG[key] = version;\n",
       "            return resolve(paths[lib]);\n",
       "          };\n",
       "          s.onerror = () => reject(`Error loading script: ${paths[lib]}`);\n",
       "          s.src = paths[lib];\n",
       "        });\n",
       "    }\n",
       "\n",
       "    function showError(err) {\n",
       "      outputDiv.innerHTML = `<div class=\"error\" style=\"color:red;\">${err}</div>`;\n",
       "      throw err;\n",
       "    }\n",
       "\n",
       "    function displayChart(vegaEmbed) {\n",
       "      vegaEmbed(outputDiv, spec, embedOpt)\n",
       "        .catch(err => showError(`Javascript Error: ${err.message}<br>This usually means there's a typo in your chart specification. See the javascript console for the full traceback.`));\n",
       "    }\n",
       "\n",
       "    if(typeof define === \"function\" && define.amd) {\n",
       "      requirejs.config({paths});\n",
       "      require([\"vega-embed\"], displayChart, err => showError(`Error loading script: ${err.message}`));\n",
       "    } else {\n",
       "      maybeLoadScript(\"vega\", \"5\")\n",
       "        .then(() => maybeLoadScript(\"vega-lite\", \"4.17.0\"))\n",
       "        .then(() => maybeLoadScript(\"vega-embed\", \"6\"))\n",
       "        .catch(showError)\n",
       "        .then(() => displayChart(vegaEmbed));\n",
       "    }\n",
       "  })({\"config\": {\"view\": {\"width\": 400, \"height\": 60}, \"mark\": {\"tooltip\": null}, \"title\": {\"anchor\": \"middle\"}, \"header\": {\"title\": null}}, \"params\": [{\"name\": \"iteration_number\", \"value\": 3, \"bind\": {\"input\": \"range\", \"min\": 0, \"max\": 3, \"step\": 1}, \"description\": \"Filter by the iteration number\"}], \"data\": {\"values\": [{\"comparison_name\": \"probability_two_random_records_match\", \"sql_condition\": null, \"label_for_charts\": \"\", \"m_probability\": null, \"u_probability\": null, \"m_probability_description\": null, \"u_probability_description\": null, \"has_tf_adjustments\": false, \"tf_adjustment_column\": null, \"tf_adjustment_weight\": null, \"is_null_level\": false, \"bayes_factor\": 0.00010001000100010001, \"log2_bayes_factor\": -13.287568102831404, \"comparison_vector_value\": 0, \"max_comparison_vector_value\": 0, \"bayes_factor_description\": \"The probability that two random records drawn at random match is 0.000 or one in  10,000.0 records.This is equivalent to a starting match weight of -13.288.\", \"probability_two_random_records_match\": 0.0015075875293170335, \"comparison_sort_order\": -1, \"iteration\": 0}, {\"comparison_name\": \"Firstname\", \"sql_condition\": \"\\\"Firstname_l\\\" = \\\"Firstname_r\\\"\", \"label_for_charts\": \"Exact match\", \"m_probability\": 0.95, \"u_probability\": 0.000927734375, \"m_probability_description\": \"Amongst matching record comparisons, 95.00% of records are in the exact match comparison level\", \"u_probability_description\": \"Amongst non-matching record comparisons, 0.09% of records are in the exact match comparison level\", \"has_tf_adjustments\": false, \"tf_adjustment_column\": null, \"tf_adjustment_weight\": 1.0, \"is_null_level\": false, \"bayes_factor\": 1024.0, \"log2_bayes_factor\": 10.0, \"comparison_vector_value\": 1, \"max_comparison_vector_value\": 1, \"bayes_factor_description\": \"If comparison level is `exact match` then comparison is 1,024.00 times more likely to be a match\", \"probability_two_random_records_match\": 0.0015075875293170335, \"comparison_sort_order\": 0, \"iteration\": 0}, {\"comparison_name\": \"Firstname\", \"sql_condition\": \"ELSE\", \"label_for_charts\": \"All other comparisons\", \"m_probability\": 0.050000000000000044, \"u_probability\": 1.6000000000000014, \"m_probability_description\": \"Amongst matching record comparisons, 5.00% of records are in the all other comparisons comparison level\", \"u_probability_description\": \"Amongst non-matching record comparisons, 160.00% of records are in the all other comparisons comparison level\", \"has_tf_adjustments\": false, \"tf_adjustment_column\": null, \"tf_adjustment_weight\": 1.0, \"is_null_level\": false, \"bayes_factor\": 0.03125, \"log2_bayes_factor\": -5.0, \"comparison_vector_value\": 0, \"max_comparison_vector_value\": 1, \"bayes_factor_description\": \"If comparison level is `all other comparisons` then comparison is  32.00 times less likely to be a match\", \"probability_two_random_records_match\": 0.0015075875293170335, \"comparison_sort_order\": 0, \"iteration\": 0}, {\"comparison_name\": \"Lastname\", \"sql_condition\": \"\\\"Lastname_l\\\" = \\\"Lastname_r\\\"\", \"label_for_charts\": \"Exact match\", \"m_probability\": 0.95, \"u_probability\": 0.000927734375, \"m_probability_description\": \"Amongst matching record comparisons, 95.00% of records are in the exact match comparison level\", \"u_probability_description\": \"Amongst non-matching record comparisons, 0.09% of records are in the exact match comparison level\", \"has_tf_adjustments\": false, \"tf_adjustment_column\": null, \"tf_adjustment_weight\": 1.0, \"is_null_level\": false, \"bayes_factor\": 1024.0, \"log2_bayes_factor\": 10.0, \"comparison_vector_value\": 1, \"max_comparison_vector_value\": 1, \"bayes_factor_description\": \"If comparison level is `exact match` then comparison is 1,024.00 times more likely to be a match\", \"probability_two_random_records_match\": 0.0015075875293170335, \"comparison_sort_order\": 1, \"iteration\": 0}, {\"comparison_name\": \"Lastname\", \"sql_condition\": \"ELSE\", \"label_for_charts\": \"All other comparisons\", \"m_probability\": 0.050000000000000044, \"u_probability\": 1.6000000000000014, \"m_probability_description\": \"Amongst matching record comparisons, 5.00% of records are in the all other comparisons comparison level\", \"u_probability_description\": \"Amongst non-matching record comparisons, 160.00% of records are in the all other comparisons comparison level\", \"has_tf_adjustments\": false, \"tf_adjustment_column\": null, \"tf_adjustment_weight\": 1.0, \"is_null_level\": false, \"bayes_factor\": 0.03125, \"log2_bayes_factor\": -5.0, \"comparison_vector_value\": 0, \"max_comparison_vector_value\": 1, \"bayes_factor_description\": \"If comparison level is `all other comparisons` then comparison is  32.00 times less likely to be a match\", \"probability_two_random_records_match\": 0.0015075875293170335, \"comparison_sort_order\": 1, \"iteration\": 0}, {\"comparison_name\": \"Constituency\", \"sql_condition\": \"\\\"Constituency_l\\\" = \\\"Constituency_r\\\"\", \"label_for_charts\": \"Exact match\", \"m_probability\": 0.95, \"u_probability\": 0.000927734375, \"m_probability_description\": \"Amongst matching record comparisons, 95.00% of records are in the exact match comparison level\", \"u_probability_description\": \"Amongst non-matching record comparisons, 0.09% of records are in the exact match comparison level\", \"has_tf_adjustments\": false, \"tf_adjustment_column\": null, \"tf_adjustment_weight\": 1.0, \"is_null_level\": false, \"bayes_factor\": 1024.0, \"log2_bayes_factor\": 10.0, \"comparison_vector_value\": 1, \"max_comparison_vector_value\": 1, \"bayes_factor_description\": \"If comparison level is `exact match` then comparison is 1,024.00 times more likely to be a match\", \"probability_two_random_records_match\": 0.0015075875293170335, \"comparison_sort_order\": 2, \"iteration\": 0}, {\"comparison_name\": \"Constituency\", \"sql_condition\": \"ELSE\", \"label_for_charts\": \"All other comparisons\", \"m_probability\": 0.050000000000000044, \"u_probability\": 1.6000000000000014, \"m_probability_description\": \"Amongst matching record comparisons, 5.00% of records are in the all other comparisons comparison level\", \"u_probability_description\": \"Amongst non-matching record comparisons, 160.00% of records are in the all other comparisons comparison level\", \"has_tf_adjustments\": false, \"tf_adjustment_column\": null, \"tf_adjustment_weight\": 1.0, \"is_null_level\": false, \"bayes_factor\": 0.03125, \"log2_bayes_factor\": -5.0, \"comparison_vector_value\": 0, \"max_comparison_vector_value\": 1, \"bayes_factor_description\": \"If comparison level is `all other comparisons` then comparison is  32.00 times less likely to be a match\", \"probability_two_random_records_match\": 0.0015075875293170335, \"comparison_sort_order\": 2, \"iteration\": 0}, {\"comparison_name\": \"probability_two_random_records_match\", \"sql_condition\": null, \"label_for_charts\": \"\", \"m_probability\": null, \"u_probability\": null, \"m_probability_description\": null, \"u_probability_description\": null, \"has_tf_adjustments\": false, \"tf_adjustment_column\": null, \"tf_adjustment_weight\": null, \"is_null_level\": false, \"bayes_factor\": 0.0015055356948554216, \"log2_bayes_factor\": -9.375507371232226, \"comparison_vector_value\": 0, \"max_comparison_vector_value\": 0, \"bayes_factor_description\": \"The probability that two random records drawn at random match is 0.002 or one in  665.2 records.This is equivalent to a starting match weight of -9.376.\", \"probability_two_random_records_match\": 0.0015075875293170335, \"comparison_sort_order\": -1, \"iteration\": 1}, {\"comparison_name\": \"Firstname\", \"sql_condition\": \"\\\"Firstname_l\\\" = \\\"Firstname_r\\\"\", \"label_for_charts\": \"Exact match\", \"m_probability\": 0.9939091911348984, \"u_probability\": 0.0048658611176849945, \"m_probability_description\": \"Amongst matching record comparisons, 99.39% of records are in the exact match comparison level\", \"u_probability_description\": \"Amongst non-matching record comparisons, 0.49% of records are in the exact match comparison level\", \"has_tf_adjustments\": false, \"tf_adjustment_column\": null, \"tf_adjustment_weight\": 1.0, \"is_null_level\": false, \"bayes_factor\": 204.2617261562462, \"log2_bayes_factor\": 7.674275092047112, \"comparison_vector_value\": 1, \"max_comparison_vector_value\": 1, \"bayes_factor_description\": \"If comparison level is `exact match` then comparison is 204.26 times more likely to be a match\", \"probability_two_random_records_match\": 0.0015075875293170335, \"comparison_sort_order\": 0, \"iteration\": 1}, {\"comparison_name\": \"Firstname\", \"sql_condition\": \"ELSE\", \"label_for_charts\": \"All other comparisons\", \"m_probability\": 0.0060908088651014805, \"u_probability\": 0.9951341388823151, \"m_probability_description\": \"Amongst matching record comparisons, 0.61% of records are in the all other comparisons comparison level\", \"u_probability_description\": \"Amongst non-matching record comparisons, 99.51% of records are in the all other comparisons comparison level\", \"has_tf_adjustments\": false, \"tf_adjustment_column\": null, \"tf_adjustment_weight\": 1.0, \"is_null_level\": false, \"bayes_factor\": 0.006120590809940832, \"log2_bayes_factor\": -7.352113364189899, \"comparison_vector_value\": 0, \"max_comparison_vector_value\": 1, \"bayes_factor_description\": \"If comparison level is `all other comparisons` then comparison is  163.38 times less likely to be a match\", \"probability_two_random_records_match\": 0.0015075875293170335, \"comparison_sort_order\": 0, \"iteration\": 1}, {\"comparison_name\": \"Lastname\", \"sql_condition\": \"\\\"Lastname_l\\\" = \\\"Lastname_r\\\"\", \"label_for_charts\": \"Exact match\", \"m_probability\": 0.99484741761188, \"u_probability\": 0.0008299813138110154, \"m_probability_description\": \"Amongst matching record comparisons, 99.48% of records are in the exact match comparison level\", \"u_probability_description\": \"Amongst non-matching record comparisons, 0.08% of records are in the exact match comparison level\", \"has_tf_adjustments\": false, \"tf_adjustment_column\": null, \"tf_adjustment_weight\": 1.0, \"is_null_level\": false, \"bayes_factor\": 1198.6383320412972, \"log2_bayes_factor\": 10.227180701311648, \"comparison_vector_value\": 1, \"max_comparison_vector_value\": 1, \"bayes_factor_description\": \"If comparison level is `exact match` then comparison is 1,198.64 times more likely to be a match\", \"probability_two_random_records_match\": 0.0015075875293170335, \"comparison_sort_order\": 1, \"iteration\": 1}, {\"comparison_name\": \"Lastname\", \"sql_condition\": \"ELSE\", \"label_for_charts\": \"All other comparisons\", \"m_probability\": 0.005152582388120091, \"u_probability\": 0.999170018686189, \"m_probability_description\": \"Amongst matching record comparisons, 0.52% of records are in the all other comparisons comparison level\", \"u_probability_description\": \"Amongst non-matching record comparisons, 99.92% of records are in the all other comparisons comparison level\", \"has_tf_adjustments\": false, \"tf_adjustment_column\": null, \"tf_adjustment_weight\": 1.0, \"is_null_level\": false, \"bayes_factor\": 0.00515686248762271, \"log2_bayes_factor\": -7.599290709373135, \"comparison_vector_value\": 0, \"max_comparison_vector_value\": 1, \"bayes_factor_description\": \"If comparison level is `all other comparisons` then comparison is  193.92 times less likely to be a match\", \"probability_two_random_records_match\": 0.0015075875293170335, \"comparison_sort_order\": 1, \"iteration\": 1}, {\"comparison_name\": \"Constituency\", \"sql_condition\": \"\\\"Constituency_l\\\" = \\\"Constituency_r\\\"\", \"label_for_charts\": \"Exact match\", \"m_probability\": 0.9996199530954618, \"u_probability\": 3.5814226549658603e-05, \"m_probability_description\": \"Amongst matching record comparisons, 99.96% of records are in the exact match comparison level\", \"u_probability_description\": \"Amongst non-matching record comparisons, 0.00% of records are in the exact match comparison level\", \"has_tf_adjustments\": false, \"tf_adjustment_column\": null, \"tf_adjustment_weight\": 1.0, \"is_null_level\": false, \"bayes_factor\": 27911.2534151597, \"log2_bayes_factor\": 14.768559292747115, \"comparison_vector_value\": 1, \"max_comparison_vector_value\": 1, \"bayes_factor_description\": \"If comparison level is `exact match` then comparison is 27,911.25 times more likely to be a match\", \"probability_two_random_records_match\": 0.0015075875293170335, \"comparison_sort_order\": 2, \"iteration\": 1}, {\"comparison_name\": \"Constituency\", \"sql_condition\": \"ELSE\", \"label_for_charts\": \"All other comparisons\", \"m_probability\": 0.00038004690453822095, \"u_probability\": 0.9999641857734504, \"m_probability_description\": \"Amongst matching record comparisons, 0.04% of records are in the all other comparisons comparison level\", \"u_probability_description\": \"Amongst non-matching record comparisons, 100.00% of records are in the all other comparisons comparison level\", \"has_tf_adjustments\": false, \"tf_adjustment_column\": null, \"tf_adjustment_weight\": 1.0, \"is_null_level\": false, \"bayes_factor\": 0.00038006051611164755, \"log2_bayes_factor\": -11.361483225880031, \"comparison_vector_value\": 0, \"max_comparison_vector_value\": 1, \"bayes_factor_description\": \"If comparison level is `all other comparisons` then comparison is  2,631.16 times less likely to be a match\", \"probability_two_random_records_match\": 0.0015075875293170335, \"comparison_sort_order\": 2, \"iteration\": 1}, {\"comparison_name\": \"probability_two_random_records_match\", \"sql_condition\": null, \"label_for_charts\": \"\", \"m_probability\": null, \"u_probability\": null, \"m_probability_description\": null, \"u_probability_description\": null, \"has_tf_adjustments\": false, \"tf_adjustment_column\": null, \"tf_adjustment_weight\": null, \"is_null_level\": false, \"bayes_factor\": 0.00150976786672871, \"log2_bayes_factor\": -9.371457538597799, \"comparison_vector_value\": 0, \"max_comparison_vector_value\": 0, \"bayes_factor_description\": \"The probability that two random records drawn at random match is 0.002 or one in  663.4 records.This is equivalent to a starting match weight of -9.371.\", \"probability_two_random_records_match\": 0.0015075875293170335, \"comparison_sort_order\": -1, \"iteration\": 2}, {\"comparison_name\": \"Firstname\", \"sql_condition\": \"\\\"Firstname_l\\\" = \\\"Firstname_r\\\"\", \"label_for_charts\": \"Exact match\", \"m_probability\": 0.9921456975431888, \"u_probability\": 0.004864344074661398, \"m_probability_description\": \"Amongst matching record comparisons, 99.21% of records are in the exact match comparison level\", \"u_probability_description\": \"Amongst non-matching record comparisons, 0.49% of records are in the exact match comparison level\", \"has_tf_adjustments\": false, \"tf_adjustment_column\": null, \"tf_adjustment_weight\": 1.0, \"is_null_level\": false, \"bayes_factor\": 203.96289454755544, \"log2_bayes_factor\": 7.672162907063347, \"comparison_vector_value\": 1, \"max_comparison_vector_value\": 1, \"bayes_factor_description\": \"If comparison level is `exact match` then comparison is 203.96 times more likely to be a match\", \"probability_two_random_records_match\": 0.0015075875293170335, \"comparison_sort_order\": 0, \"iteration\": 2}, {\"comparison_name\": \"Firstname\", \"sql_condition\": \"ELSE\", \"label_for_charts\": \"All other comparisons\", \"m_probability\": 0.007854302456811253, \"u_probability\": 0.9951356559253386, \"m_probability_description\": \"Amongst matching record comparisons, 0.79% of records are in the all other comparisons comparison level\", \"u_probability_description\": \"Amongst non-matching record comparisons, 99.51% of records are in the all other comparisons comparison level\", \"has_tf_adjustments\": false, \"tf_adjustment_column\": null, \"tf_adjustment_weight\": 1.0, \"is_null_level\": false, \"bayes_factor\": 0.007892695242145491, \"log2_bayes_factor\": -6.985266240635878, \"comparison_vector_value\": 0, \"max_comparison_vector_value\": 1, \"bayes_factor_description\": \"If comparison level is `all other comparisons` then comparison is  126.70 times less likely to be a match\", \"probability_two_random_records_match\": 0.0015075875293170335, \"comparison_sort_order\": 0, \"iteration\": 2}, {\"comparison_name\": \"Lastname\", \"sql_condition\": \"\\\"Lastname_l\\\" = \\\"Lastname_r\\\"\", \"label_for_charts\": \"Exact match\", \"m_probability\": 0.9938294910587078, \"u_probability\": 0.0008273176180152573, \"m_probability_description\": \"Amongst matching record comparisons, 99.38% of records are in the exact match comparison level\", \"u_probability_description\": \"Amongst non-matching record comparisons, 0.08% of records are in the exact match comparison level\", \"has_tf_adjustments\": false, \"tf_adjustment_column\": null, \"tf_adjustment_weight\": 1.0, \"is_null_level\": false, \"bayes_factor\": 1201.2671668263442, \"log2_bayes_factor\": 10.230341332783501, \"comparison_vector_value\": 1, \"max_comparison_vector_value\": 1, \"bayes_factor_description\": \"If comparison level is `exact match` then comparison is 1,201.27 times more likely to be a match\", \"probability_two_random_records_match\": 0.0015075875293170335, \"comparison_sort_order\": 1, \"iteration\": 2}, {\"comparison_name\": \"Lastname\", \"sql_condition\": \"ELSE\", \"label_for_charts\": \"All other comparisons\", \"m_probability\": 0.006170508941292321, \"u_probability\": 0.9991726823819848, \"m_probability_description\": \"Amongst matching record comparisons, 0.62% of records are in the all other comparisons comparison level\", \"u_probability_description\": \"Amongst non-matching record comparisons, 99.92% of records are in the all other comparisons comparison level\", \"has_tf_adjustments\": false, \"tf_adjustment_column\": null, \"tf_adjustment_weight\": 1.0, \"is_null_level\": false, \"bayes_factor\": 0.0061756181389808346, \"log2_bayes_factor\": -7.3392007364004375, \"comparison_vector_value\": 0, \"max_comparison_vector_value\": 1, \"bayes_factor_description\": \"If comparison level is `all other comparisons` then comparison is  161.93 times less likely to be a match\", \"probability_two_random_records_match\": 0.0015075875293170335, \"comparison_sort_order\": 1, \"iteration\": 2}, {\"comparison_name\": \"Constituency\", \"sql_condition\": \"\\\"Constituency_l\\\" = \\\"Constituency_r\\\"\", \"label_for_charts\": \"Exact match\", \"m_probability\": 0.9999957460651853, \"u_probability\": 3.102281397926949e-05, \"m_probability_description\": \"Amongst matching record comparisons, 100.00% of records are in the exact match comparison level\", \"u_probability_description\": \"Amongst non-matching record comparisons, 0.00% of records are in the exact match comparison level\", \"has_tf_adjustments\": false, \"tf_adjustment_column\": null, \"tf_adjustment_weight\": 1.0, \"is_null_level\": false, \"bayes_factor\": 32234.205018713546, \"log2_bayes_factor\": 14.97630478277564, \"comparison_vector_value\": 1, \"max_comparison_vector_value\": 1, \"bayes_factor_description\": \"If comparison level is `exact match` then comparison is 32,234.21 times more likely to be a match\", \"probability_two_random_records_match\": 0.0015075875293170335, \"comparison_sort_order\": 2, \"iteration\": 2}, {\"comparison_name\": \"Constituency\", \"sql_condition\": \"ELSE\", \"label_for_charts\": \"All other comparisons\", \"m_probability\": 4.253934814743008e-06, \"u_probability\": 0.9999689771860207, \"m_probability_description\": \"Amongst matching record comparisons, 0.00% of records are in the all other comparisons comparison level\", \"u_probability_description\": \"Amongst non-matching record comparisons, 100.00% of records are in the all other comparisons comparison level\", \"has_tf_adjustments\": false, \"tf_adjustment_column\": null, \"tf_adjustment_weight\": 1.0, \"is_null_level\": false, \"bayes_factor\": 4.254066787865624e-06, \"log2_bayes_factor\": -17.842725885868994, \"comparison_vector_value\": 0, \"max_comparison_vector_value\": 1, \"bayes_factor_description\": \"If comparison level is `all other comparisons` then comparison is  235,069.18 times less likely to be a match\", \"probability_two_random_records_match\": 0.0015075875293170335, \"comparison_sort_order\": 2, \"iteration\": 2}, {\"comparison_name\": \"probability_two_random_records_match\", \"sql_condition\": null, \"label_for_charts\": \"\", \"m_probability\": null, \"u_probability\": null, \"m_probability_description\": null, \"u_probability_description\": null, \"has_tf_adjustments\": false, \"tf_adjustment_column\": null, \"tf_adjustment_weight\": null, \"is_null_level\": false, \"bayes_factor\": 0.001509863781124424, \"log2_bayes_factor\": -9.371365888198525, \"comparison_vector_value\": 0, \"max_comparison_vector_value\": 0, \"bayes_factor_description\": \"The probability that two random records drawn at random match is 0.002 or one in  663.3 records.This is equivalent to a starting match weight of -9.371.\", \"probability_two_random_records_match\": 0.0015075875293170335, \"comparison_sort_order\": -1, \"iteration\": 3}, {\"comparison_name\": \"Firstname\", \"sql_condition\": \"\\\"Firstname_l\\\" = \\\"Firstname_r\\\"\", \"label_for_charts\": \"Exact match\", \"m_probability\": 0.992118804074688, \"u_probability\": 0.004864290128404288, \"m_probability_description\": \"Amongst matching record comparisons, 99.21% of records are in the exact match comparison level\", \"u_probability_description\": \"Amongst non-matching record comparisons, 0.49% of records are in the exact match comparison level\", \"has_tf_adjustments\": false, \"tf_adjustment_column\": null, \"tf_adjustment_weight\": 1.0, \"is_null_level\": false, \"bayes_factor\": 203.95962779468272, \"log2_bayes_factor\": 7.672139800086354, \"comparison_vector_value\": 1, \"max_comparison_vector_value\": 1, \"bayes_factor_description\": \"If comparison level is `exact match` then comparison is 203.96 times more likely to be a match\", \"probability_two_random_records_match\": 0.0015075875293170335, \"comparison_sort_order\": 0, \"iteration\": 3}, {\"comparison_name\": \"Firstname\", \"sql_condition\": \"ELSE\", \"label_for_charts\": \"All other comparisons\", \"m_probability\": 0.007881195925311958, \"u_probability\": 0.9951357098715956, \"m_probability_description\": \"Amongst matching record comparisons, 0.79% of records are in the all other comparisons comparison level\", \"u_probability_description\": \"Amongst non-matching record comparisons, 99.51% of records are in the all other comparisons comparison level\", \"has_tf_adjustments\": false, \"tf_adjustment_column\": null, \"tf_adjustment_weight\": 1.0, \"is_null_level\": false, \"bayes_factor\": 0.007919719739862299, \"log2_bayes_factor\": -6.980334907016909, \"comparison_vector_value\": 0, \"max_comparison_vector_value\": 1, \"bayes_factor_description\": \"If comparison level is `all other comparisons` then comparison is  126.27 times less likely to be a match\", \"probability_two_random_records_match\": 0.0015075875293170335, \"comparison_sort_order\": 0, \"iteration\": 3}, {\"comparison_name\": \"Lastname\", \"sql_condition\": \"\\\"Lastname_l\\\" = \\\"Lastname_r\\\"\", \"label_for_charts\": \"Exact match\", \"m_probability\": 0.9937726043638647, \"u_probability\": 0.0008273084095542099, \"m_probability_description\": \"Amongst matching record comparisons, 99.38% of records are in the exact match comparison level\", \"u_probability_description\": \"Amongst non-matching record comparisons, 0.08% of records are in the exact match comparison level\", \"has_tf_adjustments\": false, \"tf_adjustment_column\": null, \"tf_adjustment_weight\": 1.0, \"is_null_level\": false, \"bayes_factor\": 1201.2117765119215, \"log2_bayes_factor\": 10.230274808719125, \"comparison_vector_value\": 1, \"max_comparison_vector_value\": 1, \"bayes_factor_description\": \"If comparison level is `exact match` then comparison is 1,201.21 times more likely to be a match\", \"probability_two_random_records_match\": 0.0015075875293170335, \"comparison_sort_order\": 1, \"iteration\": 3}, {\"comparison_name\": \"Lastname\", \"sql_condition\": \"ELSE\", \"label_for_charts\": \"All other comparisons\", \"m_probability\": 0.006227395636135347, \"u_probability\": 0.9991726915904457, \"m_probability_description\": \"Amongst matching record comparisons, 0.62% of records are in the all other comparisons comparison level\", \"u_probability_description\": \"Amongst non-matching record comparisons, 99.92% of records are in the all other comparisons comparison level\", \"has_tf_adjustments\": false, \"tf_adjustment_column\": null, \"tf_adjustment_weight\": 1.0, \"is_null_level\": false, \"bayes_factor\": 0.006232551878717593, \"log2_bayes_factor\": -7.325961298143531, \"comparison_vector_value\": 0, \"max_comparison_vector_value\": 1, \"bayes_factor_description\": \"If comparison level is `all other comparisons` then comparison is  160.45 times less likely to be a match\", \"probability_two_random_records_match\": 0.0015075875293170335, \"comparison_sort_order\": 1, \"iteration\": 3}, {\"comparison_name\": \"Constituency\", \"sql_condition\": \"\\\"Constituency_l\\\" = \\\"Constituency_r\\\"\", \"label_for_charts\": \"Exact match\", \"m_probability\": 0.9999999403661186, \"u_probability\": 3.092071473132138e-05, \"m_probability_description\": \"Amongst matching record comparisons, 100.00% of records are in the exact match comparison level\", \"u_probability_description\": \"Amongst non-matching record comparisons, 0.00% of records are in the exact match comparison level\", \"has_tf_adjustments\": false, \"tf_adjustment_column\": null, \"tf_adjustment_weight\": 1.0, \"is_null_level\": false, \"bayes_factor\": 32340.77701810563, \"log2_bayes_factor\": 14.981066720905892, \"comparison_vector_value\": 1, \"max_comparison_vector_value\": 1, \"bayes_factor_description\": \"If comparison level is `exact match` then comparison is 32,340.78 times more likely to be a match\", \"probability_two_random_records_match\": 0.0015075875293170335, \"comparison_sort_order\": 2, \"iteration\": 3}, {\"comparison_name\": \"Constituency\", \"sql_condition\": \"ELSE\", \"label_for_charts\": \"All other comparisons\", \"m_probability\": 5.963388147277392e-08, \"u_probability\": 0.9999690792852688, \"m_probability_description\": \"Amongst matching record comparisons, 0.00% of records are in the all other comparisons comparison level\", \"u_probability_description\": \"Amongst non-matching record comparisons, 100.00% of records are in the all other comparisons comparison level\", \"has_tf_adjustments\": false, \"tf_adjustment_column\": null, \"tf_adjustment_weight\": 1.0, \"is_null_level\": false, \"bayes_factor\": 5.963572545202841e-08, \"log2_bayes_factor\": -23.999247906745296, \"comparison_vector_value\": 0, \"max_comparison_vector_value\": 1, \"bayes_factor_description\": \"If comparison level is `all other comparisons` then comparison is  16,768,472.13 times less likely to be a match\", \"probability_two_random_records_match\": 0.0015075875293170335, \"comparison_sort_order\": 2, \"iteration\": 3}]}, \"transform\": [{\"filter\": \"(datum.iteration == iteration_number)\"}], \"vconcat\": [{\"height\": 20, \"mark\": {\"type\": \"bar\", \"clip\": true, \"height\": 15}, \"selection\": {\"zoom_selector\": {\"type\": \"interval\", \"bind\": \"scales\", \"encodings\": [\"x\"]}}, \"transform\": [{\"filter\": \"(datum.comparison_name == 'probability_two_random_records_match')\"}], \"encoding\": {\"color\": {\"type\": \"quantitative\", \"field\": \"log2_bayes_factor\", \"title\": \"Match weight\", \"scale\": {\"range\": [\"red\", \"orange\", \"green\"], \"domain\": [-10, 0, 10]}}, \"tooltip\": [{\"type\": \"nominal\", \"field\": \"comparison_name\", \"title\": \"Comparison name\"}, {\"type\": \"nominal\", \"field\": \"probability_two_random_records_match\", \"format\": \".4f\", \"title\": \"Probability two random records match\"}, {\"type\": \"quantitative\", \"field\": \"log2_bayes_factor\", \"title\": \"Equivalent match weight\", \"format\": \",.4f\"}, {\"type\": \"nominal\", \"field\": \"bayes_factor_description\", \"title\": \"Match weight description\"}], \"x\": {\"type\": \"quantitative\", \"axis\": {\"labels\": false, \"domain\": false, \"title\": \"\", \"ticks\": false}, \"field\": \"log2_bayes_factor\", \"scale\": {\"domain\": [-10, 10]}}, \"y\": {\"type\": \"nominal\", \"field\": \"label_for_charts\", \"axis\": {\"title\": \"Prior (starting) match weight\", \"titleAngle\": 0, \"titleAlign\": \"right\", \"titleFontWeight\": \"normal\"}, \"sort\": {\"field\": \"comparison_vector_value\", \"order\": \"descending\"}}}}, {\"height\": {\"step\": 12}, \"mark\": {\"type\": \"bar\", \"clip\": true}, \"selection\": {\"zoom_selector\": {\"type\": \"interval\", \"bind\": \"scales\", \"encodings\": [\"x\"]}}, \"transform\": [{\"filter\": \"(datum.comparison_name != 'probability_two_random_records_match')\"}], \"encoding\": {\"color\": {\"type\": \"quantitative\", \"field\": \"log2_bayes_factor\", \"title\": \"Match weight\", \"scale\": {\"range\": [\"red\", \"orange\", \"green\"], \"domain\": [-10, 0, 10]}}, \"row\": {\"type\": \"nominal\", \"field\": \"comparison_name\", \"sort\": {\"field\": \"comparison_sort_order\"}, \"header\": {\"labelAngle\": 0, \"labelAnchor\": \"middle\", \"labelAlign\": \"left\"}}, \"tooltip\": [{\"type\": \"nominal\", \"field\": \"comparison_name\", \"title\": \"Comparison name\"}, {\"type\": \"ordinal\", \"field\": \"label_for_charts\", \"title\": \"Label\"}, {\"type\": \"nominal\", \"field\": \"sql_condition\", \"title\": \"SQL condition\"}, {\"type\": \"quantitative\", \"field\": \"m_probability\", \"format\": \".4f\", \"title\": \"M probability\"}, {\"type\": \"quantitative\", \"field\": \"u_probability\", \"format\": \".4f\", \"title\": \"U probability\"}, {\"type\": \"quantitative\", \"field\": \"bayes_factor\", \"title\": \"Bayes factor = m/u\", \"format\": \",.4f\"}, {\"type\": \"quantitative\", \"field\": \"log2_bayes_factor\", \"title\": \"Match weight = log2(m/u)\", \"format\": \",.4f\"}, {\"type\": \"nominal\", \"field\": \"bayes_factor_description\", \"title\": \"Match weight description\"}], \"x\": {\"type\": \"quantitative\", \"axis\": {\"title\": \"Comparison level match weight = log2(m/u)\"}, \"field\": \"log2_bayes_factor\", \"scale\": {\"domain\": [-10, 10]}}, \"y\": {\"type\": \"nominal\", \"field\": \"label_for_charts\", \"axis\": {\"title\": null}, \"sort\": {\"field\": \"comparison_vector_value\", \"order\": \"descending\"}}}, \"resolve\": {\"axis\": {\"y\": \"independent\"}, \"scale\": {\"y\": \"independent\"}}}], \"selection\": {\"zoom_selector\": {\"type\": \"interval\", \"bind\": \"scales\", \"encodings\": [\"x\"]}}, \"resolve\": {\"axis\": {\"y\": \"independent\"}, \"scale\": {\"y\": \"independent\"}}, \"title\": {\"text\": \"Model parameters (components of final match weight)\", \"subtitle\": \"Training session blocked on <splink.blocking.BlockingRule object at 0x000001AA992CCB50>\"}, \"$schema\": \"https://vega.github.io/schema/vega-lite/v5.2.json\"}, {\"mode\": \"vega-lite\"});\n",
       "</script>"
      ],
      "text/plain": [
       "<splink.charts.VegaliteNoValidate at 0x1aa9a3fd340>"
      ]
     },
     "execution_count": 73,
     "metadata": {},
     "output_type": "execute_result"
    }
   ],
   "source": [
    "em_session = linker.estimate_parameters_using_expectation_maximisation('True', fix_u_probabilities=False, fix_probability_two_random_records_match=False)\n",
    "em_session.match_weights_interactive_history_chart()"
   ]
  },
  {
   "cell_type": "code",
   "execution_count": 74,
   "id": "369fe1ce",
   "metadata": {},
   "outputs": [
    {
     "data": {
      "text/plain": [
       "{'link_type': 'link_only',\n",
       " 'comparisons': [{'output_column_name': 'Firstname',\n",
       "   'comparison_levels': [{'sql_condition': '\"Firstname_l\" IS NULL OR \"Firstname_r\" IS NULL',\n",
       "     'label_for_charts': 'Null',\n",
       "     'is_null_level': True},\n",
       "    {'sql_condition': '\"Firstname_l\" = \"Firstname_r\"',\n",
       "     'label_for_charts': 'Exact match',\n",
       "     'm_probability': 0.992118804074688,\n",
       "     'u_probability': 0.004864290128404288},\n",
       "    {'sql_condition': 'ELSE',\n",
       "     'label_for_charts': 'All other comparisons',\n",
       "     'm_probability': 0.007881195925311958,\n",
       "     'u_probability': 0.9951357098715956}],\n",
       "   'comparison_description': 'Exact match vs. anything else'},\n",
       "  {'output_column_name': 'Lastname',\n",
       "   'comparison_levels': [{'sql_condition': '\"Lastname_l\" IS NULL OR \"Lastname_r\" IS NULL',\n",
       "     'label_for_charts': 'Null',\n",
       "     'is_null_level': True},\n",
       "    {'sql_condition': '\"Lastname_l\" = \"Lastname_r\"',\n",
       "     'label_for_charts': 'Exact match',\n",
       "     'm_probability': 0.9937726043638647,\n",
       "     'u_probability': 0.0008273084095542099},\n",
       "    {'sql_condition': 'ELSE',\n",
       "     'label_for_charts': 'All other comparisons',\n",
       "     'm_probability': 0.006227395636135347,\n",
       "     'u_probability': 0.9991726915904457}],\n",
       "   'comparison_description': 'Exact match vs. anything else'},\n",
       "  {'output_column_name': 'Constituency',\n",
       "   'comparison_levels': [{'sql_condition': '\"Constituency_l\" IS NULL OR \"Constituency_r\" IS NULL',\n",
       "     'label_for_charts': 'Null',\n",
       "     'is_null_level': True},\n",
       "    {'sql_condition': '\"Constituency_l\" = \"Constituency_r\"',\n",
       "     'label_for_charts': 'Exact match',\n",
       "     'm_probability': 0.9999999403661186,\n",
       "     'u_probability': 3.092071473132138e-05},\n",
       "    {'sql_condition': 'ELSE',\n",
       "     'label_for_charts': 'All other comparisons',\n",
       "     'm_probability': 5.963388147277392e-08,\n",
       "     'u_probability': 0.9999690792852688}],\n",
       "   'comparison_description': 'Exact match vs. anything else'}],\n",
       " 'sql_dialect': 'duckdb',\n",
       " 'probability_two_random_records_match': 0.0001}"
      ]
     },
     "execution_count": 74,
     "metadata": {},
     "output_type": "execute_result"
    }
   ],
   "source": [
    "linker.save_settings_to_json()"
   ]
  },
  {
   "cell_type": "code",
   "execution_count": 75,
   "id": "95170543",
   "metadata": {},
   "outputs": [
    {
     "data": {
      "text/plain": [
       "633"
      ]
     },
     "execution_count": 75,
     "metadata": {},
     "output_type": "execute_result"
    }
   ],
   "source": [
    "# Calculate predictions, apply probability threshold of 0.8 and convert to dataframe\n",
    "\n",
    "pres = linker.predict(threshold_match_probability = 0.9).as_pandas_dataframe()\n",
    "len(pres)"
   ]
  },
  {
   "cell_type": "code",
   "execution_count": 76,
   "id": "df9ee1c3",
   "metadata": {},
   "outputs": [
    {
     "data": {
      "text/html": [
       "<div>\n",
       "<style scoped>\n",
       "    .dataframe tbody tr th:only-of-type {\n",
       "        vertical-align: middle;\n",
       "    }\n",
       "\n",
       "    .dataframe tbody tr th {\n",
       "        vertical-align: top;\n",
       "    }\n",
       "\n",
       "    .dataframe thead th {\n",
       "        text-align: right;\n",
       "    }\n",
       "</style>\n",
       "<table border=\"1\" class=\"dataframe\">\n",
       "  <thead>\n",
       "    <tr style=\"text-align: right;\">\n",
       "      <th></th>\n",
       "      <th>match_weight</th>\n",
       "      <th>match_probability</th>\n",
       "      <th>source_dataset_l</th>\n",
       "      <th>source_dataset_r</th>\n",
       "      <th>unique_id_l</th>\n",
       "      <th>unique_id_r</th>\n",
       "      <th>Firstname_l</th>\n",
       "      <th>Firstname_r</th>\n",
       "      <th>gamma_Firstname</th>\n",
       "      <th>Lastname_l</th>\n",
       "      <th>Lastname_r</th>\n",
       "      <th>gamma_Lastname</th>\n",
       "      <th>Constituency_l</th>\n",
       "      <th>Constituency_r</th>\n",
       "      <th>gamma_Constituency</th>\n",
       "    </tr>\n",
       "  </thead>\n",
       "  <tbody>\n",
       "    <tr>\n",
       "      <th>152</th>\n",
       "      <td>4.943439</td>\n",
       "      <td>0.968523</td>\n",
       "      <td>_a</td>\n",
       "      <td>_b</td>\n",
       "      <td>502</td>\n",
       "      <td>153</td>\n",
       "      <td>Tanmanjeet</td>\n",
       "      <td>Tan</td>\n",
       "      <td>0</td>\n",
       "      <td>Dhesi</td>\n",
       "      <td>Dhesi</td>\n",
       "      <td>1</td>\n",
       "      <td>Slough</td>\n",
       "      <td>Slough</td>\n",
       "      <td>1</td>\n",
       "    </tr>\n",
       "    <tr>\n",
       "      <th>224</th>\n",
       "      <td>4.943439</td>\n",
       "      <td>0.968523</td>\n",
       "      <td>_a</td>\n",
       "      <td>_b</td>\n",
       "      <td>605</td>\n",
       "      <td>230</td>\n",
       "      <td>Nus</td>\n",
       "      <td>Nusrat</td>\n",
       "      <td>0</td>\n",
       "      <td>Ghani</td>\n",
       "      <td>Ghani</td>\n",
       "      <td>1</td>\n",
       "      <td>Wealden</td>\n",
       "      <td>Wealden</td>\n",
       "      <td>1</td>\n",
       "    </tr>\n",
       "    <tr>\n",
       "      <th>270</th>\n",
       "      <td>4.943439</td>\n",
       "      <td>0.968523</td>\n",
       "      <td>_a</td>\n",
       "      <td>_b</td>\n",
       "      <td>510</td>\n",
       "      <td>278</td>\n",
       "      <td>Chris</td>\n",
       "      <td>Christopher</td>\n",
       "      <td>0</td>\n",
       "      <td>Hazzard</td>\n",
       "      <td>Hazzard</td>\n",
       "      <td>1</td>\n",
       "      <td>South Down</td>\n",
       "      <td>South Down</td>\n",
       "      <td>1</td>\n",
       "    </tr>\n",
       "    <tr>\n",
       "      <th>479</th>\n",
       "      <td>4.943439</td>\n",
       "      <td>0.968523</td>\n",
       "      <td>_a</td>\n",
       "      <td>_b</td>\n",
       "      <td>122</td>\n",
       "      <td>494</td>\n",
       "      <td>Dan</td>\n",
       "      <td>Daniel</td>\n",
       "      <td>0</td>\n",
       "      <td>Poulter</td>\n",
       "      <td>Poulter</td>\n",
       "      <td>1</td>\n",
       "      <td>Central Suffolk and North Ipswich</td>\n",
       "      <td>Central Suffolk and North Ipswich</td>\n",
       "      <td>1</td>\n",
       "    </tr>\n",
       "    <tr>\n",
       "      <th>586</th>\n",
       "      <td>4.943439</td>\n",
       "      <td>0.968523</td>\n",
       "      <td>_a</td>\n",
       "      <td>_b</td>\n",
       "      <td>526</td>\n",
       "      <td>602</td>\n",
       "      <td>Liz</td>\n",
       "      <td>Elizabeth</td>\n",
       "      <td>0</td>\n",
       "      <td>Truss</td>\n",
       "      <td>Truss</td>\n",
       "      <td>1</td>\n",
       "      <td>South West Norfolk</td>\n",
       "      <td>South West Norfolk</td>\n",
       "      <td>1</td>\n",
       "    </tr>\n",
       "  </tbody>\n",
       "</table>\n",
       "</div>"
      ],
      "text/plain": [
       "     match_weight  match_probability source_dataset_l source_dataset_r  \\\n",
       "152      4.943439           0.968523               _a               _b   \n",
       "224      4.943439           0.968523               _a               _b   \n",
       "270      4.943439           0.968523               _a               _b   \n",
       "479      4.943439           0.968523               _a               _b   \n",
       "586      4.943439           0.968523               _a               _b   \n",
       "\n",
       "     unique_id_l  unique_id_r Firstname_l  Firstname_r  gamma_Firstname  \\\n",
       "152          502          153  Tanmanjeet          Tan                0   \n",
       "224          605          230         Nus       Nusrat                0   \n",
       "270          510          278       Chris  Christopher                0   \n",
       "479          122          494         Dan       Daniel                0   \n",
       "586          526          602         Liz    Elizabeth                0   \n",
       "\n",
       "    Lastname_l Lastname_r  gamma_Lastname                     Constituency_l  \\\n",
       "152      Dhesi      Dhesi               1                             Slough   \n",
       "224      Ghani      Ghani               1                            Wealden   \n",
       "270    Hazzard    Hazzard               1                         South Down   \n",
       "479    Poulter    Poulter               1  Central Suffolk and North Ipswich   \n",
       "586      Truss      Truss               1                 South West Norfolk   \n",
       "\n",
       "                        Constituency_r  gamma_Constituency  \n",
       "152                             Slough                   1  \n",
       "224                            Wealden                   1  \n",
       "270                         South Down                   1  \n",
       "479  Central Suffolk and North Ipswich                   1  \n",
       "586                 South West Norfolk                   1  "
      ]
     },
     "execution_count": 76,
     "metadata": {},
     "output_type": "execute_result"
    }
   ],
   "source": [
    "pres[pres['match_probability']<0.99]"
   ]
  },
  {
   "cell_type": "markdown",
   "id": "d33c5a12",
   "metadata": {},
   "source": [
    "# Real Time Match"
   ]
  },
  {
   "cell_type": "code",
   "execution_count": 77,
   "id": "1a490804",
   "metadata": {},
   "outputs": [
    {
     "data": {
      "text/html": [
       "<div>\n",
       "<style scoped>\n",
       "    .dataframe tbody tr th:only-of-type {\n",
       "        vertical-align: middle;\n",
       "    }\n",
       "\n",
       "    .dataframe tbody tr th {\n",
       "        vertical-align: top;\n",
       "    }\n",
       "\n",
       "    .dataframe thead th {\n",
       "        text-align: right;\n",
       "    }\n",
       "</style>\n",
       "<table border=\"1\" class=\"dataframe\">\n",
       "  <thead>\n",
       "    <tr style=\"text-align: right;\">\n",
       "      <th></th>\n",
       "      <th>match_weight</th>\n",
       "      <th>match_probability</th>\n",
       "      <th>unique_id_l</th>\n",
       "      <th>unique_id_r</th>\n",
       "      <th>Firstname_l</th>\n",
       "      <th>Firstname_r</th>\n",
       "      <th>gamma_Firstname</th>\n",
       "      <th>Lastname_l</th>\n",
       "      <th>Lastname_r</th>\n",
       "      <th>gamma_Lastname</th>\n",
       "      <th>Constituency_l</th>\n",
       "      <th>Constituency_r</th>\n",
       "      <th>gamma_Constituency</th>\n",
       "    </tr>\n",
       "  </thead>\n",
       "  <tbody>\n",
       "    <tr>\n",
       "      <th>0</th>\n",
       "      <td>19.595913</td>\n",
       "      <td>0.999999</td>\n",
       "      <td>122</td>\n",
       "      <td>999</td>\n",
       "      <td>Dan</td>\n",
       "      <td>Dan</td>\n",
       "      <td>1</td>\n",
       "      <td>Poulter</td>\n",
       "      <td>Poulter</td>\n",
       "      <td>1</td>\n",
       "      <td>Central Suffolk and North Ipswich</td>\n",
       "      <td>Central Suffolk and North Ipswich</td>\n",
       "      <td>1</td>\n",
       "    </tr>\n",
       "    <tr>\n",
       "      <th>1</th>\n",
       "      <td>4.943439</td>\n",
       "      <td>0.968523</td>\n",
       "      <td>494</td>\n",
       "      <td>999</td>\n",
       "      <td>Daniel</td>\n",
       "      <td>Dan</td>\n",
       "      <td>0</td>\n",
       "      <td>Poulter</td>\n",
       "      <td>Poulter</td>\n",
       "      <td>1</td>\n",
       "      <td>Central Suffolk and North Ipswich</td>\n",
       "      <td>Central Suffolk and North Ipswich</td>\n",
       "      <td>1</td>\n",
       "    </tr>\n",
       "  </tbody>\n",
       "</table>\n",
       "</div>"
      ],
      "text/plain": [
       "   match_weight  match_probability  unique_id_l  unique_id_r Firstname_l  \\\n",
       "0     19.595913           0.999999          122          999         Dan   \n",
       "1      4.943439           0.968523          494          999      Daniel   \n",
       "\n",
       "  Firstname_r  gamma_Firstname Lastname_l Lastname_r  gamma_Lastname  \\\n",
       "0         Dan                1    Poulter    Poulter               1   \n",
       "1         Dan                0    Poulter    Poulter               1   \n",
       "\n",
       "                      Constituency_l                     Constituency_r  \\\n",
       "0  Central Suffolk and North Ipswich  Central Suffolk and North Ipswich   \n",
       "1  Central Suffolk and North Ipswich  Central Suffolk and North Ipswich   \n",
       "\n",
       "   gamma_Constituency  \n",
       "0                   1  \n",
       "1                   1  "
      ]
     },
     "execution_count": 77,
     "metadata": {},
     "output_type": "execute_result"
    }
   ],
   "source": [
    "# Real time match example\n",
    "record = {'unique_id': 999,\n",
    " 'Firstname': \"Dan\",\n",
    " 'Lastname': \"Poulter\",\n",
    "'Constituency': 'Central Suffolk and North Ipswich'\n",
    "}\n",
    "\n",
    "df_w_inc = linker.find_matches_to_new_records([record], blocking_rules=[], match_weight_threshold = -5).as_pandas_dataframe()\n",
    "df_w_inc.sort_values(\"match_weight\", ascending=False)"
   ]
  },
  {
   "cell_type": "code",
   "execution_count": null,
   "id": "d9e24ef8",
   "metadata": {},
   "outputs": [],
   "source": []
  },
  {
   "cell_type": "code",
   "execution_count": null,
   "id": "2530f59a",
   "metadata": {},
   "outputs": [],
   "source": []
  }
 ],
 "metadata": {
  "kernelspec": {
   "display_name": "Python 3 (ipykernel)",
   "language": "python",
   "name": "python3"
  },
  "language_info": {
   "codemirror_mode": {
    "name": "ipython",
    "version": 3
   },
   "file_extension": ".py",
   "mimetype": "text/x-python",
   "name": "python",
   "nbconvert_exporter": "python",
   "pygments_lexer": "ipython3",
   "version": "3.9.12"
  }
 },
 "nbformat": 4,
 "nbformat_minor": 5
}
