{
 "cells": [
  {
   "cell_type": "code",
   "execution_count": 1,
   "id": "e7b1093c",
   "metadata": {},
   "outputs": [],
   "source": [
    "import pandas as pd\n",
    "\n",
    "df = pd.read_csv('mps_wiki_clean.csv')\n",
    "df_mp = pd.read_csv('mps_they_clean.csv')"
   ]
  },
  {
   "cell_type": "markdown",
   "id": "bef8b9d6",
   "metadata": {},
   "source": [
    "# Extract Match and NotMatch Population"
   ]
  },
  {
   "cell_type": "code",
   "execution_count": 2,
   "id": "2a90f1c0",
   "metadata": {},
   "outputs": [
    {
     "data": {
      "text/plain": [
       "421850"
      ]
     },
     "execution_count": 2,
     "metadata": {},
     "output_type": "execute_result"
    }
   ],
   "source": [
    "# Total match population computed by cross product: 650 x 649 = 421850\n",
    "\n",
    "cross = df.merge(df_mp, how='cross',suffixes=('_w', '_t'))\n",
    "len(cross)"
   ]
  },
  {
   "cell_type": "code",
   "execution_count": 3,
   "id": "958fe6f0",
   "metadata": {},
   "outputs": [],
   "source": [
    "# Generate exact matches as feature columns\n",
    "\n",
    "cross['Fmatch'] = cross.apply(lambda x: x.Firstname_w == x.Firstname_t, axis=1)\n",
    "cross['Lmatch'] = cross.apply(lambda x: x.Lastname_w == x.Lastname_t, axis=1)\n",
    "cross['Cmatch'] = cross.apply(lambda x: x.Constituency_w == x.Constituency_t, axis=1)\n",
    "cross['Tmatch'] = sum([cross['Fmatch'],cross['Lmatch'],cross['Cmatch']])"
   ]
  },
  {
   "cell_type": "code",
   "execution_count": 4,
   "id": "1ca531af",
   "metadata": {},
   "outputs": [
    {
     "data": {
      "text/plain": [
       "637"
      ]
     },
     "execution_count": 4,
     "metadata": {},
     "output_type": "execute_result"
    }
   ],
   "source": [
    "# Extract the match population as Constituency and either Firstname or Lastname matches\n",
    "\n",
    "match = cross[cross['Cmatch'] & (cross['Fmatch'] | cross['Lmatch'])]\n",
    "len(match)"
   ]
  },
  {
   "cell_type": "code",
   "execution_count": 5,
   "id": "26dd514b",
   "metadata": {},
   "outputs": [
    {
     "data": {
      "text/plain": [
       "421213"
      ]
     },
     "execution_count": 5,
     "metadata": {},
     "output_type": "execute_result"
    }
   ],
   "source": [
    "# Extract non match population as either Consitutency doesn't match or Firstname and Lastname don't match (by-election)\n",
    "\n",
    "notmatch=cross[(~cross['Cmatch']) | (~cross['Fmatch'] & ~cross['Lmatch'])]\n",
    "len(notmatch)"
   ]
  },
  {
   "cell_type": "markdown",
   "id": "98c9ed2e",
   "metadata": {},
   "source": [
    " # Firstname Counts"
   ]
  },
  {
   "cell_type": "code",
   "execution_count": 6,
   "id": "64e4722d",
   "metadata": {},
   "outputs": [
    {
     "data": {
      "text/plain": [
       "632"
      ]
     },
     "execution_count": 6,
     "metadata": {},
     "output_type": "execute_result"
    }
   ],
   "source": [
    "# Within match population how many Firstnames match?\n",
    "\n",
    "first_match = match[match['Fmatch']]\n",
    "len(first_match)"
   ]
  },
  {
   "cell_type": "code",
   "execution_count": 7,
   "id": "f5f23837",
   "metadata": {},
   "outputs": [
    {
     "data": {
      "text/plain": [
       "5"
      ]
     },
     "execution_count": 7,
     "metadata": {},
     "output_type": "execute_result"
    }
   ],
   "source": [
    "# Within match population how many Firstnames don't match?\n",
    "\n",
    "notfirst_match = match[~match['Fmatch']]\n",
    "len(notfirst_match)"
   ]
  },
  {
   "cell_type": "code",
   "execution_count": 8,
   "id": "2a70cc46",
   "metadata": {},
   "outputs": [
    {
     "data": {
      "text/plain": [
       "2052"
      ]
     },
     "execution_count": 8,
     "metadata": {},
     "output_type": "execute_result"
    }
   ],
   "source": [
    "# Within the non match population how many Firstnames match?\n",
    "\n",
    "first_notmatch = notmatch[notmatch['Fmatch']]\n",
    "len(first_notmatch)"
   ]
  },
  {
   "cell_type": "code",
   "execution_count": 9,
   "id": "fd578a95",
   "metadata": {},
   "outputs": [
    {
     "data": {
      "text/plain": [
       "419161"
      ]
     },
     "execution_count": 9,
     "metadata": {},
     "output_type": "execute_result"
    }
   ],
   "source": [
    "# Within the non match population how many Firstnames don't match?\n",
    "\n",
    "notfirst_notmatch = notmatch[~notmatch['Fmatch']]\n",
    "len(notfirst_notmatch)"
   ]
  },
  {
   "cell_type": "markdown",
   "id": "c9ebabb2",
   "metadata": {},
   "source": [
    "# Firstname Probabilities"
   ]
  },
  {
   "cell_type": "code",
   "execution_count": 10,
   "id": "f76a387c",
   "metadata": {},
   "outputs": [
    {
     "data": {
      "text/plain": [
       "0.23546944858420268"
      ]
     },
     "execution_count": 10,
     "metadata": {},
     "output_type": "execute_result"
    }
   ],
   "source": [
    "# If Firstname matches how likely is it we have a match?\n",
    "# Calculate as number of Firstname matches within match population divided by total number of Firstname matches\n",
    "\n",
    "prob_match_first = len(first_match) / (len(first_match) + len(first_notmatch))\n",
    "prob_match_first"
   ]
  },
  {
   "cell_type": "code",
   "execution_count": 11,
   "id": "211bfa1d",
   "metadata": {},
   "outputs": [
    {
     "data": {
      "text/plain": [
       "0.001510015408320493"
      ]
     },
     "execution_count": 11,
     "metadata": {},
     "output_type": "execute_result"
    }
   ],
   "source": [
    "# Probability of a match in full population\n",
    "\n",
    "prob_match = len(match) / len(cross)\n",
    "prob_match"
   ]
  },
  {
   "cell_type": "code",
   "execution_count": 12,
   "id": "2e94c5ca",
   "metadata": {},
   "outputs": [
    {
     "data": {
      "text/plain": [
       "0.9921507064364207"
      ]
     },
     "execution_count": 12,
     "metadata": {},
     "output_type": "execute_result"
    }
   ],
   "source": [
    "# Probability of Firstname match within match population\n",
    "\n",
    "prob_first_match = len(first_match) / len(match)\n",
    "prob_first_match"
   ]
  },
  {
   "cell_type": "code",
   "execution_count": 13,
   "id": "b45a72d6",
   "metadata": {},
   "outputs": [
    {
     "data": {
      "text/plain": [
       "0.00636245110821382"
      ]
     },
     "execution_count": 13,
     "metadata": {},
     "output_type": "execute_result"
    }
   ],
   "source": [
    "# Probability of Firstname match within full population\n",
    "\n",
    "prob_first = len(cross[cross['Fmatch']]) / len(cross)\n",
    "prob_first"
   ]
  },
  {
   "cell_type": "code",
   "execution_count": 14,
   "id": "e6b99c75",
   "metadata": {},
   "outputs": [
    {
     "data": {
      "text/plain": [
       "0.23546944858420268"
      ]
     },
     "execution_count": 14,
     "metadata": {},
     "output_type": "execute_result"
    }
   ],
   "source": [
    "# Probability of match within population of Firstname matches\n",
    "\n",
    "prob_match_first = prob_first_match * prob_match / prob_first\n",
    "prob_match_first"
   ]
  },
  {
   "cell_type": "code",
   "execution_count": 15,
   "id": "a06c7606",
   "metadata": {},
   "outputs": [
    {
     "data": {
      "text/plain": [
       "0.004871644512396341"
      ]
     },
     "execution_count": 15,
     "metadata": {},
     "output_type": "execute_result"
    }
   ],
   "source": [
    "# Probability that Firstname doesn't match within not match population\n",
    "\n",
    "prob_first_notmatch = len(first_notmatch) / len(notmatch)\n",
    "prob_first_notmatch"
   ]
  },
  {
   "cell_type": "code",
   "execution_count": 16,
   "id": "fc1f6ad5",
   "metadata": {},
   "outputs": [
    {
     "data": {
      "text/plain": [
       "0.23546944858420266"
      ]
     },
     "execution_count": 16,
     "metadata": {},
     "output_type": "execute_result"
    }
   ],
   "source": [
    "mf1 = prob_first_match\n",
    "uf1 = prob_first_notmatch\n",
    "lmbda = prob_match\n",
    "(lmbda * mf1) / (lmbda * mf1 + (1-lmbda) * uf1)"
   ]
  },
  {
   "cell_type": "markdown",
   "id": "b61c2fa3",
   "metadata": {},
   "source": [
    "# Lastname Counts"
   ]
  },
  {
   "cell_type": "code",
   "execution_count": 17,
   "id": "645caa1b",
   "metadata": {},
   "outputs": [
    {
     "data": {
      "text/plain": [
       "633"
      ]
     },
     "execution_count": 17,
     "metadata": {},
     "output_type": "execute_result"
    }
   ],
   "source": [
    "# Within match population how many Lastnames match?\n",
    "\n",
    "last_match = match[match['Lmatch']]\n",
    "len(last_match)"
   ]
  },
  {
   "cell_type": "code",
   "execution_count": 18,
   "id": "f84f187d",
   "metadata": {},
   "outputs": [
    {
     "data": {
      "text/plain": [
       "4"
      ]
     },
     "execution_count": 18,
     "metadata": {},
     "output_type": "execute_result"
    }
   ],
   "source": [
    "# Within match population how many Lastnames don't match?\n",
    "\n",
    "notlast_match = match[~match['Lmatch']]\n",
    "len(notlast_match)"
   ]
  },
  {
   "cell_type": "code",
   "execution_count": 19,
   "id": "7d30c9ac",
   "metadata": {},
   "outputs": [
    {
     "data": {
      "text/plain": [
       "349"
      ]
     },
     "execution_count": 19,
     "metadata": {},
     "output_type": "execute_result"
    }
   ],
   "source": [
    "# Within the non match population how many Lastnames match?\n",
    "\n",
    "last_notmatch = notmatch[notmatch['Lmatch']]\n",
    "len(last_notmatch)"
   ]
  },
  {
   "cell_type": "code",
   "execution_count": 20,
   "id": "8b16573c",
   "metadata": {},
   "outputs": [
    {
     "data": {
      "text/plain": [
       "420864"
      ]
     },
     "execution_count": 20,
     "metadata": {},
     "output_type": "execute_result"
    }
   ],
   "source": [
    "# Within the non match population how many Lastnames don't match?\n",
    "\n",
    "notlast_notmatch = notmatch[~notmatch['Lmatch']]\n",
    "len(notlast_notmatch)"
   ]
  },
  {
   "cell_type": "markdown",
   "id": "b5072055",
   "metadata": {},
   "source": [
    "# Lastname Probabilities"
   ]
  },
  {
   "cell_type": "code",
   "execution_count": 21,
   "id": "d09dfb34",
   "metadata": {},
   "outputs": [
    {
     "data": {
      "text/plain": [
       "982"
      ]
     },
     "execution_count": 21,
     "metadata": {},
     "output_type": "execute_result"
    }
   ],
   "source": [
    "last = cross[cross['Lmatch']]\n",
    "len(last)"
   ]
  },
  {
   "cell_type": "code",
   "execution_count": 22,
   "id": "d67c22b1",
   "metadata": {},
   "outputs": [
    {
     "data": {
      "text/plain": [
       "0.6446028513238289"
      ]
     },
     "execution_count": 22,
     "metadata": {},
     "output_type": "execute_result"
    }
   ],
   "source": [
    "# If Lastname matches how likely is it we have a match?\n",
    "# Calculate as number of Lastname matches within match population divided by total number of Lastname matches\n",
    "\n",
    "prob_match_last = len(last_match) / (len(last_match) + len(last_notmatch))\n",
    "prob_match_last"
   ]
  },
  {
   "cell_type": "code",
   "execution_count": 23,
   "id": "3b9154f8",
   "metadata": {},
   "outputs": [
    {
     "data": {
      "text/plain": [
       "0.002327841649875548"
      ]
     },
     "execution_count": 23,
     "metadata": {},
     "output_type": "execute_result"
    }
   ],
   "source": [
    "# Probability of Lastname match within full population\n",
    "\n",
    "prob_last = len(last)/len(cross)\n",
    "prob_last"
   ]
  },
  {
   "cell_type": "code",
   "execution_count": 24,
   "id": "62e5f7bf",
   "metadata": {},
   "outputs": [
    {
     "data": {
      "text/plain": [
       "0.9937205651491365"
      ]
     },
     "execution_count": 24,
     "metadata": {},
     "output_type": "execute_result"
    }
   ],
   "source": [
    "# Probability of Lastname match within match population\n",
    "\n",
    "prob_last_match = len(last_match) / len (match)\n",
    "prob_last_match"
   ]
  },
  {
   "cell_type": "code",
   "execution_count": 25,
   "id": "cca1eaa6",
   "metadata": {},
   "outputs": [
    {
     "data": {
      "text/plain": [
       "0.000828559422429982"
      ]
     },
     "execution_count": 25,
     "metadata": {},
     "output_type": "execute_result"
    }
   ],
   "source": [
    "# Probability that Firstname doesn't match within not match population\n",
    "\n",
    "prob_last_notmatch = len (last_notmatch) / len(notmatch)\n",
    "prob_last_notmatch"
   ]
  },
  {
   "cell_type": "code",
   "execution_count": 26,
   "id": "7485b902",
   "metadata": {},
   "outputs": [
    {
     "data": {
      "text/plain": [
       "0.6446028513238289"
      ]
     },
     "execution_count": 26,
     "metadata": {},
     "output_type": "execute_result"
    }
   ],
   "source": [
    "ml1 = prob_last_match\n",
    "ul1 = prob_last_notmatch\n",
    "lmbda = prob_match\n",
    "(lmbda * ml1) / (lmbda * ml1 + (1-lmbda) * ul1)"
   ]
  },
  {
   "cell_type": "markdown",
   "id": "2487a0d7",
   "metadata": {},
   "source": [
    "# Firstname and Lastname Counts"
   ]
  },
  {
   "cell_type": "code",
   "execution_count": 27,
   "id": "55bc79ff",
   "metadata": {},
   "outputs": [
    {
     "data": {
      "text/plain": [
       "628"
      ]
     },
     "execution_count": 27,
     "metadata": {},
     "output_type": "execute_result"
    }
   ],
   "source": [
    "last_first_match = first_match[first_match['Lmatch']]\n",
    "len(last_first_match)"
   ]
  },
  {
   "cell_type": "code",
   "execution_count": 28,
   "id": "97daed4d",
   "metadata": {},
   "outputs": [
    {
     "data": {
      "text/plain": [
       "0.6446028513238289"
      ]
     },
     "execution_count": 28,
     "metadata": {},
     "output_type": "execute_result"
    }
   ],
   "source": [
    "ml1 = prob_last_match\n",
    "ul1 = prob_last_notmatch\n",
    "(lmbda * ml1) / (lmbda * ml1 + (1-lmbda) * ul1)"
   ]
  },
  {
   "cell_type": "code",
   "execution_count": 29,
   "id": "7d30789c",
   "metadata": {},
   "outputs": [
    {
     "data": {
      "text/plain": [
       "4"
      ]
     },
     "execution_count": 29,
     "metadata": {},
     "output_type": "execute_result"
    }
   ],
   "source": [
    "notlast_first_match = first_match[~first_match['Lmatch']]\n",
    "len(notlast_first_match)"
   ]
  },
  {
   "cell_type": "code",
   "execution_count": 30,
   "id": "7ea57f27",
   "metadata": {},
   "outputs": [
    {
     "data": {
      "text/plain": [
       "0"
      ]
     },
     "execution_count": 30,
     "metadata": {},
     "output_type": "execute_result"
    }
   ],
   "source": [
    "last_first_notmatch = first_notmatch[first_notmatch['Lmatch']]\n",
    "len(last_first_notmatch)"
   ]
  },
  {
   "cell_type": "code",
   "execution_count": 31,
   "id": "f68a1dd6",
   "metadata": {},
   "outputs": [
    {
     "data": {
      "text/plain": [
       "2052"
      ]
     },
     "execution_count": 31,
     "metadata": {},
     "output_type": "execute_result"
    }
   ],
   "source": [
    "notlast_first_notmatch = first_notmatch[~first_notmatch['Lmatch']]\n",
    "len(notlast_first_notmatch)"
   ]
  },
  {
   "cell_type": "code",
   "execution_count": null,
   "id": "0393a697",
   "metadata": {},
   "outputs": [],
   "source": []
  },
  {
   "cell_type": "code",
   "execution_count": 32,
   "id": "e373c430",
   "metadata": {},
   "outputs": [
    {
     "data": {
      "text/plain": [
       "5"
      ]
     },
     "execution_count": 32,
     "metadata": {},
     "output_type": "execute_result"
    }
   ],
   "source": [
    "last_notfirst_match = notfirst_match[notfirst_match['Lmatch']]\n",
    "len(last_notfirst_match)"
   ]
  },
  {
   "cell_type": "code",
   "execution_count": 33,
   "id": "146dde76",
   "metadata": {},
   "outputs": [],
   "source": [
    "# Within firstname population"
   ]
  },
  {
   "cell_type": "code",
   "execution_count": 34,
   "id": "a457ac39",
   "metadata": {},
   "outputs": [
    {
     "data": {
      "text/plain": [
       "0"
      ]
     },
     "execution_count": 34,
     "metadata": {},
     "output_type": "execute_result"
    }
   ],
   "source": [
    "notlast_notfirst_match = notfirst_match[~notfirst_match['Lmatch']]\n",
    "len(notlast_notfirst_match)"
   ]
  },
  {
   "cell_type": "code",
   "execution_count": 35,
   "id": "217d13e5",
   "metadata": {},
   "outputs": [
    {
     "data": {
      "text/plain": [
       "349"
      ]
     },
     "execution_count": 35,
     "metadata": {},
     "output_type": "execute_result"
    }
   ],
   "source": [
    "last_notfirst_notmatch = notfirst_notmatch[notfirst_notmatch['Lmatch']]\n",
    "len(last_notfirst_notmatch)"
   ]
  },
  {
   "cell_type": "code",
   "execution_count": 36,
   "id": "4b736c49",
   "metadata": {},
   "outputs": [
    {
     "data": {
      "text/plain": [
       "418812"
      ]
     },
     "execution_count": 36,
     "metadata": {},
     "output_type": "execute_result"
    }
   ],
   "source": [
    "notlast_notfirst_notmatch = notfirst_notmatch[~notfirst_notmatch['Lmatch']]\n",
    "len(notlast_notfirst_notmatch)"
   ]
  },
  {
   "cell_type": "markdown",
   "id": "8ca57656",
   "metadata": {},
   "source": [
    "# Firstname and Lastname Probabilities"
   ]
  },
  {
   "cell_type": "code",
   "execution_count": 37,
   "id": "cbd4cfbd",
   "metadata": {},
   "outputs": [
    {
     "data": {
      "text/plain": [
       "0.0019455252918287938"
      ]
     },
     "execution_count": 37,
     "metadata": {},
     "output_type": "execute_result"
    }
   ],
   "source": [
    "# If Firstname matches but Lastname doesn't what is the probability that it's a match?\n",
    "\n",
    "prob_match_first_notlast = len(notlast_first_match) / (len(notlast_first_match) + len(notlast_first_notmatch))\n",
    "# 4 / (4 + 2052 )\n",
    "prob_match_first_notlast"
   ]
  },
  {
   "cell_type": "code",
   "execution_count": 38,
   "id": "af0b455b",
   "metadata": {},
   "outputs": [
    {
     "data": {
      "text/plain": [
       "0.014124293785310734"
      ]
     },
     "execution_count": 38,
     "metadata": {},
     "output_type": "execute_result"
    }
   ],
   "source": [
    "# If Lastname matches but Firstname doesn't what is the probability that it's a match?\n",
    "\n",
    "prob_match_notfirst_last = len(last_notfirst_match) / (len(last_notfirst_match) + len(last_notfirst_notmatch))\n",
    "# 5 / (5 + 349) \n",
    "prob_match_notfirst_last"
   ]
  },
  {
   "cell_type": "markdown",
   "id": "f2f09fa1",
   "metadata": {},
   "source": [
    "# Firstname and Lastname probabilities with m and u values"
   ]
  },
  {
   "cell_type": "code",
   "execution_count": 39,
   "id": "e89f98b7",
   "metadata": {},
   "outputs": [
    {
     "data": {
      "text/plain": [
       "0.9973001133628486"
      ]
     },
     "execution_count": 39,
     "metadata": {},
     "output_type": "execute_result"
    }
   ],
   "source": [
    "# Probability of match if Firstname and Lastname matches\n",
    "\n",
    "(lmbda * ml1 * mf1) / (lmbda * ml1 * mf1 + (1-lmbda) * ul1 * uf1)"
   ]
  },
  {
   "cell_type": "code",
   "execution_count": 40,
   "id": "d81a9789",
   "metadata": {},
   "outputs": [
    {
     "data": {
      "text/plain": [
       "0.001931881358778785"
      ]
     },
     "execution_count": 40,
     "metadata": {},
     "output_type": "execute_result"
    }
   ],
   "source": [
    "# Probability of match if Firstname matches but Lastname doesn't\n",
    "\n",
    "(lmbda * (1-ml1) * mf1) / ((lmbda * (1-ml1) * mf1) + ((1-lmbda) * (1-ul1) * uf1))"
   ]
  },
  {
   "cell_type": "code",
   "execution_count": 41,
   "id": "42f6595d",
   "metadata": {},
   "outputs": [
    {
     "data": {
      "text/plain": [
       "0.014104594228119374"
      ]
     },
     "execution_count": 41,
     "metadata": {},
     "output_type": "execute_result"
    }
   ],
   "source": [
    "# Probability of match if Firstname doesn't match but Lastname does\n",
    "\n",
    "(lmbda * (1-mf1) * ml1) / ((lmbda * (1-mf1) * ml1) + ((1-lmbda) * (1-uf1) * ul1))"
   ]
  },
  {
   "cell_type": "code",
   "execution_count": 42,
   "id": "7287aae5",
   "metadata": {},
   "outputs": [
    {
     "data": {
      "text/plain": [
       "7.496691699741389e-08"
      ]
     },
     "execution_count": 42,
     "metadata": {},
     "output_type": "execute_result"
    }
   ],
   "source": [
    "# Probability of match if neither Firstname nor Lastname matches\n",
    "\n",
    "(lmbda * (1-mf1) * (1-ml1)) / (lmbda * (1-mf1) * (1-ml1) + (1-lmbda) * (1-uf1) * (1-ul1))"
   ]
  },
  {
   "cell_type": "markdown",
   "id": "8f33ef7c",
   "metadata": {},
   "source": [
    "# Expectation Maximisation"
   ]
  },
  {
   "cell_type": "code",
   "execution_count": 43,
   "id": "20dc7de1",
   "metadata": {},
   "outputs": [],
   "source": [
    "# Function to calculate probability based on match features\n",
    "\n",
    "def em(Fmatch,Lmatch,Cmatch,mf1,ml1,mc1,uf1,ul1,uc1, lmbda):\n",
    "    if (Fmatch==1):\n",
    "        mf = mf1\n",
    "        uf = uf1\n",
    "    else:\n",
    "        mf = (1-mf1)\n",
    "        uf = (1-uf1)\n",
    "    if (Lmatch==1):\n",
    "        ml = ml1\n",
    "        ul = ul1\n",
    "    else:\n",
    "        ml = (1-ml1)\n",
    "        ul = (1-ul1)\n",
    "    if (Cmatch==1):\n",
    "        mc = mc1\n",
    "        uc = uc1\n",
    "    else:\n",
    "        mc = (1-mc1)\n",
    "        uc = (1-uc1)\n",
    "    prob = (lmbda * ml * mf * mc) / (lmbda * ml * mf * mc + (1-lmbda) * ul * uf * uc)\n",
    "    return(prob)"
   ]
  },
  {
   "cell_type": "markdown",
   "id": "07f1b6f5",
   "metadata": {},
   "source": [
    "# EM Iteration 1"
   ]
  },
  {
   "cell_type": "code",
   "execution_count": 44,
   "id": "2c63085b",
   "metadata": {},
   "outputs": [
    {
     "data": {
      "text/plain": [
       "637"
      ]
     },
     "execution_count": 44,
     "metadata": {},
     "output_type": "execute_result"
    }
   ],
   "source": [
    "# Select population where majority of columns match\n",
    "\n",
    "it1_match = cross[cross['Tmatch']>=2]\n",
    "it1_notmatch = cross[cross['Tmatch']<2]\n",
    "len(it1_match)"
   ]
  },
  {
   "cell_type": "code",
   "execution_count": 45,
   "id": "67b2f904",
   "metadata": {},
   "outputs": [],
   "source": [
    "mf1i1 = it1_match['Fmatch'].sum()/len(it1_match)\n",
    "ml1i1 = it1_match['Lmatch'].sum()/len(it1_match)\n",
    "mc1i1 = it1_match['Cmatch'].sum()/len(it1_match)"
   ]
  },
  {
   "cell_type": "code",
   "execution_count": 46,
   "id": "64db8919",
   "metadata": {},
   "outputs": [
    {
     "data": {
      "text/plain": [
       "0.9921507064364207"
      ]
     },
     "execution_count": 46,
     "metadata": {},
     "output_type": "execute_result"
    }
   ],
   "source": [
    "mf1i1"
   ]
  },
  {
   "cell_type": "code",
   "execution_count": 47,
   "id": "b36c544f",
   "metadata": {},
   "outputs": [
    {
     "data": {
      "text/plain": [
       "0.9937205651491365"
      ]
     },
     "execution_count": 47,
     "metadata": {},
     "output_type": "execute_result"
    }
   ],
   "source": [
    "ml1i1"
   ]
  },
  {
   "cell_type": "code",
   "execution_count": 48,
   "id": "e91023c1",
   "metadata": {},
   "outputs": [
    {
     "data": {
      "text/plain": [
       "1.0"
      ]
     },
     "execution_count": 48,
     "metadata": {},
     "output_type": "execute_result"
    }
   ],
   "source": [
    "mc1i1"
   ]
  },
  {
   "cell_type": "code",
   "execution_count": 49,
   "id": "3ad6f683",
   "metadata": {},
   "outputs": [],
   "source": [
    "uf1i1 = it1_notmatch['Fmatch'].sum() / len(it1_notmatch)\n",
    "ul1i1 = it1_notmatch['Lmatch'].sum() / len(it1_notmatch)\n",
    "uc1i1 = it1_notmatch['Cmatch'].sum() / len(it1_notmatch)"
   ]
  },
  {
   "cell_type": "code",
   "execution_count": 50,
   "id": "6ea2edba",
   "metadata": {},
   "outputs": [
    {
     "data": {
      "text/plain": [
       "0.004871644512396341"
      ]
     },
     "execution_count": 50,
     "metadata": {},
     "output_type": "execute_result"
    }
   ],
   "source": [
    "uf1i1"
   ]
  },
  {
   "cell_type": "code",
   "execution_count": 51,
   "id": "53269471",
   "metadata": {},
   "outputs": [
    {
     "data": {
      "text/plain": [
       "0.000828559422429982"
      ]
     },
     "execution_count": 51,
     "metadata": {},
     "output_type": "execute_result"
    }
   ],
   "source": [
    "ul1i1"
   ]
  },
  {
   "cell_type": "code",
   "execution_count": 52,
   "id": "576c4993",
   "metadata": {},
   "outputs": [
    {
     "data": {
      "text/plain": [
       "2.848914919530024e-05"
      ]
     },
     "execution_count": 52,
     "metadata": {},
     "output_type": "execute_result"
    }
   ],
   "source": [
    "uc1i1"
   ]
  },
  {
   "cell_type": "markdown",
   "id": "2bd5a344",
   "metadata": {},
   "source": [
    "# EM Iteration 2"
   ]
  },
  {
   "cell_type": "code",
   "execution_count": 53,
   "id": "e7d47eef",
   "metadata": {},
   "outputs": [
    {
     "data": {
      "text/plain": [
       "633"
      ]
     },
     "execution_count": 53,
     "metadata": {},
     "output_type": "execute_result"
    }
   ],
   "source": [
    "# Calculate the match probability for each combination\n",
    "\n",
    "cross['prob'] = cross.apply(lambda x: em(x.Fmatch,x.Lmatch,x.Cmatch,\n",
    "                                        mf1i1,ml1i1,mc1i1,  \n",
    "                                        uf1i1,ul1i1,uc1i1,\n",
    "                                        lmbda), axis=1)\n",
    "\n",
    "# Set match threshold as > 0.99 probability\n",
    "\n",
    "it2_match = cross[cross['prob']>0.99]\n",
    "it2_notmatch = cross[cross['prob']<=0.99]\n",
    "len(it2_match)"
   ]
  },
  {
   "cell_type": "code",
   "execution_count": 54,
   "id": "6b1811e3",
   "metadata": {},
   "outputs": [
    {
     "data": {
      "text/html": [
       "<div>\n",
       "<style scoped>\n",
       "    .dataframe tbody tr th:only-of-type {\n",
       "        vertical-align: middle;\n",
       "    }\n",
       "\n",
       "    .dataframe tbody tr th {\n",
       "        vertical-align: top;\n",
       "    }\n",
       "\n",
       "    .dataframe thead th {\n",
       "        text-align: right;\n",
       "    }\n",
       "</style>\n",
       "<table border=\"1\" class=\"dataframe\">\n",
       "  <thead>\n",
       "    <tr style=\"text-align: right;\">\n",
       "      <th></th>\n",
       "      <th>Constituency_w</th>\n",
       "      <th>Firstname_w</th>\n",
       "      <th>Lastname_w</th>\n",
       "      <th>Constituency_t</th>\n",
       "      <th>Firstname_t</th>\n",
       "      <th>Lastname_t</th>\n",
       "      <th>Fmatch</th>\n",
       "      <th>Lmatch</th>\n",
       "      <th>Cmatch</th>\n",
       "      <th>Tmatch</th>\n",
       "      <th>prob</th>\n",
       "    </tr>\n",
       "  </thead>\n",
       "  <tbody>\n",
       "    <tr>\n",
       "      <th>79671</th>\n",
       "      <td>Central Suffolk and North Ipswich</td>\n",
       "      <td>Dan</td>\n",
       "      <td>Poulter</td>\n",
       "      <td>Central Suffolk and North Ipswich</td>\n",
       "      <td>Daniel</td>\n",
       "      <td>Poulter</td>\n",
       "      <td>False</td>\n",
       "      <td>True</td>\n",
       "      <td>True</td>\n",
       "      <td>2</td>\n",
       "      <td>0.998013</td>\n",
       "    </tr>\n",
       "    <tr>\n",
       "      <th>325950</th>\n",
       "      <td>Slough</td>\n",
       "      <td>Tanmanjeet</td>\n",
       "      <td>Dhesi</td>\n",
       "      <td>Slough</td>\n",
       "      <td>Tan</td>\n",
       "      <td>Dhesi</td>\n",
       "      <td>False</td>\n",
       "      <td>True</td>\n",
       "      <td>True</td>\n",
       "      <td>2</td>\n",
       "      <td>0.998013</td>\n",
       "    </tr>\n",
       "    <tr>\n",
       "      <th>331267</th>\n",
       "      <td>South Down</td>\n",
       "      <td>Chris</td>\n",
       "      <td>Hazzard</td>\n",
       "      <td>South Down</td>\n",
       "      <td>Christopher</td>\n",
       "      <td>Hazzard</td>\n",
       "      <td>False</td>\n",
       "      <td>True</td>\n",
       "      <td>True</td>\n",
       "      <td>2</td>\n",
       "      <td>0.998013</td>\n",
       "    </tr>\n",
       "    <tr>\n",
       "      <th>341975</th>\n",
       "      <td>South West Norfolk</td>\n",
       "      <td>Liz</td>\n",
       "      <td>Truss</td>\n",
       "      <td>South West Norfolk</td>\n",
       "      <td>Elizabeth</td>\n",
       "      <td>Truss</td>\n",
       "      <td>False</td>\n",
       "      <td>True</td>\n",
       "      <td>True</td>\n",
       "      <td>2</td>\n",
       "      <td>0.998013</td>\n",
       "    </tr>\n",
       "    <tr>\n",
       "      <th>392874</th>\n",
       "      <td>Wealden</td>\n",
       "      <td>Nus</td>\n",
       "      <td>Ghani</td>\n",
       "      <td>Wealden</td>\n",
       "      <td>Nusrat</td>\n",
       "      <td>Ghani</td>\n",
       "      <td>False</td>\n",
       "      <td>True</td>\n",
       "      <td>True</td>\n",
       "      <td>2</td>\n",
       "      <td>0.998013</td>\n",
       "    </tr>\n",
       "  </tbody>\n",
       "</table>\n",
       "</div>"
      ],
      "text/plain": [
       "                           Constituency_w Firstname_w Lastname_w  \\\n",
       "79671   Central Suffolk and North Ipswich         Dan    Poulter   \n",
       "325950                             Slough  Tanmanjeet      Dhesi   \n",
       "331267                         South Down       Chris    Hazzard   \n",
       "341975                 South West Norfolk         Liz      Truss   \n",
       "392874                            Wealden         Nus      Ghani   \n",
       "\n",
       "                           Constituency_t  Firstname_t Lastname_t  Fmatch  \\\n",
       "79671   Central Suffolk and North Ipswich       Daniel    Poulter   False   \n",
       "325950                             Slough          Tan      Dhesi   False   \n",
       "331267                         South Down  Christopher    Hazzard   False   \n",
       "341975                 South West Norfolk    Elizabeth      Truss   False   \n",
       "392874                            Wealden       Nusrat      Ghani   False   \n",
       "\n",
       "        Lmatch  Cmatch  Tmatch      prob  \n",
       "79671     True    True       2  0.998013  \n",
       "325950    True    True       2  0.998013  \n",
       "331267    True    True       2  0.998013  \n",
       "341975    True    True       2  0.998013  \n",
       "392874    True    True       2  0.998013  "
      ]
     },
     "execution_count": 54,
     "metadata": {},
     "output_type": "execute_result"
    }
   ],
   "source": [
    "# How many records are above match threshold when either Firstname or Lastname don't match\n",
    "\n",
    "it2_match[~it2_match['Fmatch'] | ~it2_match['Lmatch']]"
   ]
  },
  {
   "cell_type": "code",
   "execution_count": 55,
   "id": "2e3acee4",
   "metadata": {},
   "outputs": [
    {
     "data": {
      "text/html": [
       "<div>\n",
       "<style scoped>\n",
       "    .dataframe tbody tr th:only-of-type {\n",
       "        vertical-align: middle;\n",
       "    }\n",
       "\n",
       "    .dataframe tbody tr th {\n",
       "        vertical-align: top;\n",
       "    }\n",
       "\n",
       "    .dataframe thead th {\n",
       "        text-align: right;\n",
       "    }\n",
       "</style>\n",
       "<table border=\"1\" class=\"dataframe\">\n",
       "  <thead>\n",
       "    <tr style=\"text-align: right;\">\n",
       "      <th></th>\n",
       "      <th>Constituency_w</th>\n",
       "      <th>Firstname_w</th>\n",
       "      <th>Lastname_w</th>\n",
       "      <th>Constituency_t</th>\n",
       "      <th>Firstname_t</th>\n",
       "      <th>Lastname_t</th>\n",
       "      <th>Fmatch</th>\n",
       "      <th>Lmatch</th>\n",
       "      <th>Cmatch</th>\n",
       "      <th>Tmatch</th>\n",
       "      <th>prob</th>\n",
       "    </tr>\n",
       "  </thead>\n",
       "  <tbody>\n",
       "    <tr>\n",
       "      <th>64599</th>\n",
       "      <td>Burton</td>\n",
       "      <td>Kate</td>\n",
       "      <td>Griffiths</td>\n",
       "      <td>Burton</td>\n",
       "      <td>Kate</td>\n",
       "      <td>Kniveton</td>\n",
       "      <td>True</td>\n",
       "      <td>False</td>\n",
       "      <td>True</td>\n",
       "      <td>2</td>\n",
       "      <td>0.985495</td>\n",
       "    </tr>\n",
       "    <tr>\n",
       "      <th>254852</th>\n",
       "      <td>Newton Abbot</td>\n",
       "      <td>Anne</td>\n",
       "      <td>Marie Morris</td>\n",
       "      <td>Newton Abbot</td>\n",
       "      <td>Anne</td>\n",
       "      <td>Morris</td>\n",
       "      <td>True</td>\n",
       "      <td>False</td>\n",
       "      <td>True</td>\n",
       "      <td>2</td>\n",
       "      <td>0.985495</td>\n",
       "    </tr>\n",
       "    <tr>\n",
       "      <th>256185</th>\n",
       "      <td>North Antrim</td>\n",
       "      <td>Ian</td>\n",
       "      <td>Paisley</td>\n",
       "      <td>North Antrim</td>\n",
       "      <td>Ian</td>\n",
       "      <td>Paisley Jnr</td>\n",
       "      <td>True</td>\n",
       "      <td>False</td>\n",
       "      <td>True</td>\n",
       "      <td>2</td>\n",
       "      <td>0.985495</td>\n",
       "    </tr>\n",
       "    <tr>\n",
       "      <th>399293</th>\n",
       "      <td>West Dunbartonshire</td>\n",
       "      <td>Martin</td>\n",
       "      <td>Docherty-Hughes</td>\n",
       "      <td>West Dunbartonshire</td>\n",
       "      <td>Martin</td>\n",
       "      <td>Docherty</td>\n",
       "      <td>True</td>\n",
       "      <td>False</td>\n",
       "      <td>True</td>\n",
       "      <td>2</td>\n",
       "      <td>0.985495</td>\n",
       "    </tr>\n",
       "  </tbody>\n",
       "</table>\n",
       "</div>"
      ],
      "text/plain": [
       "             Constituency_w Firstname_w       Lastname_w       Constituency_t  \\\n",
       "64599                Burton        Kate        Griffiths               Burton   \n",
       "254852         Newton Abbot        Anne     Marie Morris         Newton Abbot   \n",
       "256185         North Antrim         Ian          Paisley         North Antrim   \n",
       "399293  West Dunbartonshire      Martin  Docherty-Hughes  West Dunbartonshire   \n",
       "\n",
       "       Firstname_t   Lastname_t  Fmatch  Lmatch  Cmatch  Tmatch      prob  \n",
       "64599         Kate     Kniveton    True   False    True       2  0.985495  \n",
       "254852        Anne       Morris    True   False    True       2  0.985495  \n",
       "256185         Ian  Paisley Jnr    True   False    True       2  0.985495  \n",
       "399293      Martin     Docherty    True   False    True       2  0.985495  "
      ]
     },
     "execution_count": 55,
     "metadata": {},
     "output_type": "execute_result"
    }
   ],
   "source": [
    "it2_notmatch[it2_notmatch['prob']>0.9]"
   ]
  },
  {
   "cell_type": "code",
   "execution_count": 56,
   "id": "7e4e9cff",
   "metadata": {},
   "outputs": [],
   "source": [
    "mf1i2 = it2_match['Fmatch'].sum()/len(it2_match)\n",
    "ml1i2 = it2_match['Lmatch'].sum()/len(it2_match)\n",
    "mc1i2 = it2_match['Cmatch'].sum()/len(it2_match)"
   ]
  },
  {
   "cell_type": "code",
   "execution_count": 57,
   "id": "f2916e51",
   "metadata": {},
   "outputs": [
    {
     "data": {
      "text/plain": [
       "0.9921011058451816"
      ]
     },
     "execution_count": 57,
     "metadata": {},
     "output_type": "execute_result"
    }
   ],
   "source": [
    "mf1i2"
   ]
  },
  {
   "cell_type": "code",
   "execution_count": 58,
   "id": "37321da5",
   "metadata": {},
   "outputs": [
    {
     "data": {
      "text/plain": [
       "1.0"
      ]
     },
     "execution_count": 58,
     "metadata": {},
     "output_type": "execute_result"
    }
   ],
   "source": [
    "ml1i2"
   ]
  },
  {
   "cell_type": "code",
   "execution_count": 59,
   "id": "accf7d24",
   "metadata": {},
   "outputs": [
    {
     "data": {
      "text/plain": [
       "1.0"
      ]
     },
     "execution_count": 59,
     "metadata": {},
     "output_type": "execute_result"
    }
   ],
   "source": [
    "mc1i2"
   ]
  },
  {
   "cell_type": "code",
   "execution_count": 60,
   "id": "18d0e72d",
   "metadata": {},
   "outputs": [],
   "source": [
    "uf1i2 = it2_notmatch['Fmatch'].sum() / len(it2_notmatch)\n",
    "ul1i2 = it2_notmatch['Lmatch'].sum() / len(it2_notmatch)\n",
    "uc1i2 = it2_notmatch['Cmatch'].sum() / len(it2_notmatch)"
   ]
  },
  {
   "cell_type": "code",
   "execution_count": 61,
   "id": "84150885",
   "metadata": {},
   "outputs": [
    {
     "data": {
      "text/plain": [
       "0.004881094542717886"
      ]
     },
     "execution_count": 61,
     "metadata": {},
     "output_type": "execute_result"
    }
   ],
   "source": [
    "uf1i2"
   ]
  },
  {
   "cell_type": "code",
   "execution_count": 62,
   "id": "6f7d92b2",
   "metadata": {},
   "outputs": [
    {
     "data": {
      "text/plain": [
       "0.0008285515541870342"
      ]
     },
     "execution_count": 62,
     "metadata": {},
     "output_type": "execute_result"
    }
   ],
   "source": [
    "ul1i2"
   ]
  },
  {
   "cell_type": "code",
   "execution_count": 63,
   "id": "976c9ae6",
   "metadata": {},
   "outputs": [
    {
     "data": {
      "text/plain": [
       "3.79851715386606e-05"
      ]
     },
     "execution_count": 63,
     "metadata": {},
     "output_type": "execute_result"
    }
   ],
   "source": [
    "uc1i2"
   ]
  },
  {
   "cell_type": "markdown",
   "id": "6c4a12a0",
   "metadata": {},
   "source": [
    "# EM Iteration 3"
   ]
  },
  {
   "cell_type": "code",
   "execution_count": 64,
   "id": "bbe6ab4c",
   "metadata": {},
   "outputs": [
    {
     "data": {
      "text/plain": [
       "633"
      ]
     },
     "execution_count": 64,
     "metadata": {},
     "output_type": "execute_result"
    }
   ],
   "source": [
    "# Calculate the match probability for each combination\n",
    "\n",
    "cross['prob'] = cross.apply(lambda x: em(x.Fmatch,x.Lmatch,x.Cmatch,\n",
    "                                        mf1i2,ml1i2,mc1i2,  \n",
    "                                        uf1i2,ul1i2,uc1i2,\n",
    "                                        lmbda), axis=1)\n",
    "\n",
    "# Set match threshold as > 0.99 probability\n",
    "\n",
    "it3_match = cross[cross['prob']>0.99]\n",
    "len(it3_match)"
   ]
  },
  {
   "cell_type": "code",
   "execution_count": 65,
   "id": "cbc07280",
   "metadata": {},
   "outputs": [
    {
     "data": {
      "text/html": [
       "<div>\n",
       "<style scoped>\n",
       "    .dataframe tbody tr th:only-of-type {\n",
       "        vertical-align: middle;\n",
       "    }\n",
       "\n",
       "    .dataframe tbody tr th {\n",
       "        vertical-align: top;\n",
       "    }\n",
       "\n",
       "    .dataframe thead th {\n",
       "        text-align: right;\n",
       "    }\n",
       "</style>\n",
       "<table border=\"1\" class=\"dataframe\">\n",
       "  <thead>\n",
       "    <tr style=\"text-align: right;\">\n",
       "      <th></th>\n",
       "      <th>Constituency_w</th>\n",
       "      <th>Firstname_w</th>\n",
       "      <th>Lastname_w</th>\n",
       "      <th>Constituency_t</th>\n",
       "      <th>Firstname_t</th>\n",
       "      <th>Lastname_t</th>\n",
       "      <th>Fmatch</th>\n",
       "      <th>Lmatch</th>\n",
       "      <th>Cmatch</th>\n",
       "      <th>Tmatch</th>\n",
       "      <th>prob</th>\n",
       "    </tr>\n",
       "  </thead>\n",
       "  <tbody>\n",
       "    <tr>\n",
       "      <th>79671</th>\n",
       "      <td>Central Suffolk and North Ipswich</td>\n",
       "      <td>Dan</td>\n",
       "      <td>Poulter</td>\n",
       "      <td>Central Suffolk and North Ipswich</td>\n",
       "      <td>Daniel</td>\n",
       "      <td>Poulter</td>\n",
       "      <td>False</td>\n",
       "      <td>True</td>\n",
       "      <td>True</td>\n",
       "      <td>2</td>\n",
       "      <td>0.997385</td>\n",
       "    </tr>\n",
       "    <tr>\n",
       "      <th>325950</th>\n",
       "      <td>Slough</td>\n",
       "      <td>Tanmanjeet</td>\n",
       "      <td>Dhesi</td>\n",
       "      <td>Slough</td>\n",
       "      <td>Tan</td>\n",
       "      <td>Dhesi</td>\n",
       "      <td>False</td>\n",
       "      <td>True</td>\n",
       "      <td>True</td>\n",
       "      <td>2</td>\n",
       "      <td>0.997385</td>\n",
       "    </tr>\n",
       "    <tr>\n",
       "      <th>331267</th>\n",
       "      <td>South Down</td>\n",
       "      <td>Chris</td>\n",
       "      <td>Hazzard</td>\n",
       "      <td>South Down</td>\n",
       "      <td>Christopher</td>\n",
       "      <td>Hazzard</td>\n",
       "      <td>False</td>\n",
       "      <td>True</td>\n",
       "      <td>True</td>\n",
       "      <td>2</td>\n",
       "      <td>0.997385</td>\n",
       "    </tr>\n",
       "    <tr>\n",
       "      <th>341975</th>\n",
       "      <td>South West Norfolk</td>\n",
       "      <td>Liz</td>\n",
       "      <td>Truss</td>\n",
       "      <td>South West Norfolk</td>\n",
       "      <td>Elizabeth</td>\n",
       "      <td>Truss</td>\n",
       "      <td>False</td>\n",
       "      <td>True</td>\n",
       "      <td>True</td>\n",
       "      <td>2</td>\n",
       "      <td>0.997385</td>\n",
       "    </tr>\n",
       "    <tr>\n",
       "      <th>392874</th>\n",
       "      <td>Wealden</td>\n",
       "      <td>Nus</td>\n",
       "      <td>Ghani</td>\n",
       "      <td>Wealden</td>\n",
       "      <td>Nusrat</td>\n",
       "      <td>Ghani</td>\n",
       "      <td>False</td>\n",
       "      <td>True</td>\n",
       "      <td>True</td>\n",
       "      <td>2</td>\n",
       "      <td>0.997385</td>\n",
       "    </tr>\n",
       "  </tbody>\n",
       "</table>\n",
       "</div>"
      ],
      "text/plain": [
       "                           Constituency_w Firstname_w Lastname_w  \\\n",
       "79671   Central Suffolk and North Ipswich         Dan    Poulter   \n",
       "325950                             Slough  Tanmanjeet      Dhesi   \n",
       "331267                         South Down       Chris    Hazzard   \n",
       "341975                 South West Norfolk         Liz      Truss   \n",
       "392874                            Wealden         Nus      Ghani   \n",
       "\n",
       "                           Constituency_t  Firstname_t Lastname_t  Fmatch  \\\n",
       "79671   Central Suffolk and North Ipswich       Daniel    Poulter   False   \n",
       "325950                             Slough          Tan      Dhesi   False   \n",
       "331267                         South Down  Christopher    Hazzard   False   \n",
       "341975                 South West Norfolk    Elizabeth      Truss   False   \n",
       "392874                            Wealden       Nusrat      Ghani   False   \n",
       "\n",
       "        Lmatch  Cmatch  Tmatch      prob  \n",
       "79671     True    True       2  0.997385  \n",
       "325950    True    True       2  0.997385  \n",
       "331267    True    True       2  0.997385  \n",
       "341975    True    True       2  0.997385  \n",
       "392874    True    True       2  0.997385  "
      ]
     },
     "execution_count": 65,
     "metadata": {},
     "output_type": "execute_result"
    }
   ],
   "source": [
    "# How many records are above match threshold when either Firstname or Lastname don't match\n",
    "\n",
    "it3_match[~it3_match['Fmatch'] | ~it3_match['Lmatch']]"
   ]
  },
  {
   "cell_type": "markdown",
   "id": "9d5b9150",
   "metadata": {},
   "source": [
    "# Splink"
   ]
  },
  {
   "cell_type": "code",
   "execution_count": 66,
   "id": "128f3a60",
   "metadata": {},
   "outputs": [],
   "source": [
    "# %pip install splink\n",
    "# After install you may need to restart the kernel\n",
    "\n",
    "import splink"
   ]
  },
  {
   "cell_type": "code",
   "execution_count": 67,
   "id": "82620bb5",
   "metadata": {},
   "outputs": [],
   "source": [
    "# Add a unique_id column needed by Splink to both datasets\n",
    "\n",
    "df['unique_id'] = df.index\n",
    "df_mp['unique_id'] = df_mp.index"
   ]
  },
  {
   "cell_type": "code",
   "execution_count": 68,
   "id": "d2bd4424",
   "metadata": {},
   "outputs": [],
   "source": [
    "# Splink settings to match on Firstname, Lastname and Constituency\n",
    "\n",
    "from splink.duckdb.duckdb_linker import DuckDBLinker\n",
    "from splink.duckdb import duckdb_comparison_library as cl\n",
    "\n",
    "settings = {\n",
    "    \"link_type\": \"link_only\",\n",
    "    \"comparisons\": [\n",
    "        cl.exact_match(\"Firstname\"),\n",
    "        cl.exact_match(\"Lastname\"),\n",
    "        cl.exact_match(\"Constituency\")\n",
    "    ],\n",
    "}\n",
    "linker = DuckDBLinker([df, df_mp], settings)"
   ]
  },
  {
   "cell_type": "code",
   "execution_count": 69,
   "id": "b5b4bec7",
   "metadata": {},
   "outputs": [
    {
     "data": {
      "text/html": [
       "\n",
       "<div id=\"altair-viz-29628533859e49a795c260615780d376\"></div>\n",
       "<script type=\"text/javascript\">\n",
       "  var VEGA_DEBUG = (typeof VEGA_DEBUG == \"undefined\") ? {} : VEGA_DEBUG;\n",
       "  (function(spec, embedOpt){\n",
       "    let outputDiv = document.currentScript.previousElementSibling;\n",
       "    if (outputDiv.id !== \"altair-viz-29628533859e49a795c260615780d376\") {\n",
       "      outputDiv = document.getElementById(\"altair-viz-29628533859e49a795c260615780d376\");\n",
       "    }\n",
       "    const paths = {\n",
       "      \"vega\": \"https://cdn.jsdelivr.net/npm//vega@5?noext\",\n",
       "      \"vega-lib\": \"https://cdn.jsdelivr.net/npm//vega-lib?noext\",\n",
       "      \"vega-lite\": \"https://cdn.jsdelivr.net/npm//vega-lite@4.17.0?noext\",\n",
       "      \"vega-embed\": \"https://cdn.jsdelivr.net/npm//vega-embed@6?noext\",\n",
       "    };\n",
       "\n",
       "    function maybeLoadScript(lib, version) {\n",
       "      var key = `${lib.replace(\"-\", \"\")}_version`;\n",
       "      return (VEGA_DEBUG[key] == version) ?\n",
       "        Promise.resolve(paths[lib]) :\n",
       "        new Promise(function(resolve, reject) {\n",
       "          var s = document.createElement('script');\n",
       "          document.getElementsByTagName(\"head\")[0].appendChild(s);\n",
       "          s.async = true;\n",
       "          s.onload = () => {\n",
       "            VEGA_DEBUG[key] = version;\n",
       "            return resolve(paths[lib]);\n",
       "          };\n",
       "          s.onerror = () => reject(`Error loading script: ${paths[lib]}`);\n",
       "          s.src = paths[lib];\n",
       "        });\n",
       "    }\n",
       "\n",
       "    function showError(err) {\n",
       "      outputDiv.innerHTML = `<div class=\"error\" style=\"color:red;\">${err}</div>`;\n",
       "      throw err;\n",
       "    }\n",
       "\n",
       "    function displayChart(vegaEmbed) {\n",
       "      vegaEmbed(outputDiv, spec, embedOpt)\n",
       "        .catch(err => showError(`Javascript Error: ${err.message}<br>This usually means there's a typo in your chart specification. See the javascript console for the full traceback.`));\n",
       "    }\n",
       "\n",
       "    if(typeof define === \"function\" && define.amd) {\n",
       "      requirejs.config({paths});\n",
       "      require([\"vega-embed\"], displayChart, err => showError(`Error loading script: ${err.message}`));\n",
       "    } else {\n",
       "      maybeLoadScript(\"vega\", \"5\")\n",
       "        .then(() => maybeLoadScript(\"vega-lite\", \"4.17.0\"))\n",
       "        .then(() => maybeLoadScript(\"vega-embed\", \"6\"))\n",
       "        .catch(showError)\n",
       "        .then(() => displayChart(vegaEmbed));\n",
       "    }\n",
       "  })({\"config\": {\"view\": {\"continuousWidth\": 400, \"continuousHeight\": 300}}, \"vconcat\": [{\"hconcat\": [{\"data\": {\"values\": [{\"percentile_ex_nulls\": 0.9753656387329102, \"percentile_inc_nulls\": 0.9753656387329102, \"value_count\": 32, \"group_name\": \"Firstname\", \"total_non_null_rows\": 1299, \"total_rows_inc_nulls\": 1299, \"sum_tokens_in_value_count_group\": 32.0, \"distinct_value_count\": 351}, {\"percentile_ex_nulls\": 0.9337952136993408, \"percentile_inc_nulls\": 0.9337952136993408, \"value_count\": 27, \"group_name\": \"Firstname\", \"total_non_null_rows\": 1299, \"total_rows_inc_nulls\": 1299, \"sum_tokens_in_value_count_group\": 54.0, \"distinct_value_count\": 351}, {\"percentile_ex_nulls\": 0.8937644362449646, \"percentile_inc_nulls\": 0.8937644362449646, \"value_count\": 26, \"group_name\": \"Firstname\", \"total_non_null_rows\": 1299, \"total_rows_inc_nulls\": 1299, \"sum_tokens_in_value_count_group\": 52.0, \"distinct_value_count\": 351}, {\"percentile_ex_nulls\": 0.874518871307373, \"percentile_inc_nulls\": 0.874518871307373, \"value_count\": 25, \"group_name\": \"Firstname\", \"total_non_null_rows\": 1299, \"total_rows_inc_nulls\": 1299, \"sum_tokens_in_value_count_group\": 25.0, \"distinct_value_count\": 351}, {\"percentile_ex_nulls\": 0.8591223955154419, \"percentile_inc_nulls\": 0.8591223955154419, \"value_count\": 20, \"group_name\": \"Firstname\", \"total_non_null_rows\": 1299, \"total_rows_inc_nulls\": 1299, \"sum_tokens_in_value_count_group\": 20.0, \"distinct_value_count\": 351}, {\"percentile_ex_nulls\": 0.8452655673027039, \"percentile_inc_nulls\": 0.8452655673027039, \"value_count\": 18, \"group_name\": \"Firstname\", \"total_non_null_rows\": 1299, \"total_rows_inc_nulls\": 1299, \"sum_tokens_in_value_count_group\": 18.0, \"distinct_value_count\": 351}, {\"percentile_ex_nulls\": 0.8329484462738037, \"percentile_inc_nulls\": 0.8329484462738037, \"value_count\": 16, \"group_name\": \"Firstname\", \"total_non_null_rows\": 1299, \"total_rows_inc_nulls\": 1299, \"sum_tokens_in_value_count_group\": 16.0, \"distinct_value_count\": 351}, {\"percentile_ex_nulls\": 0.821401059627533, \"percentile_inc_nulls\": 0.821401059627533, \"value_count\": 15, \"group_name\": \"Firstname\", \"total_non_null_rows\": 1299, \"total_rows_inc_nulls\": 1299, \"sum_tokens_in_value_count_group\": 15.0, \"distinct_value_count\": 351}, {\"percentile_ex_nulls\": 0.7998460531234741, \"percentile_inc_nulls\": 0.7998460531234741, \"value_count\": 14, \"group_name\": \"Firstname\", \"total_non_null_rows\": 1299, \"total_rows_inc_nulls\": 1299, \"sum_tokens_in_value_count_group\": 28.0, \"distinct_value_count\": 351}, {\"percentile_ex_nulls\": 0.7798306345939636, \"percentile_inc_nulls\": 0.7798306345939636, \"value_count\": 13, \"group_name\": \"Firstname\", \"total_non_null_rows\": 1299, \"total_rows_inc_nulls\": 1299, \"sum_tokens_in_value_count_group\": 26.0, \"distinct_value_count\": 351}, {\"percentile_ex_nulls\": 0.761354923248291, \"percentile_inc_nulls\": 0.761354923248291, \"value_count\": 12, \"group_name\": \"Firstname\", \"total_non_null_rows\": 1299, \"total_rows_inc_nulls\": 1299, \"sum_tokens_in_value_count_group\": 24.0, \"distinct_value_count\": 351}, {\"percentile_ex_nulls\": 0.7528868317604065, \"percentile_inc_nulls\": 0.7528868317604065, \"value_count\": 11, \"group_name\": \"Firstname\", \"total_non_null_rows\": 1299, \"total_rows_inc_nulls\": 1299, \"sum_tokens_in_value_count_group\": 11.0, \"distinct_value_count\": 351}, {\"percentile_ex_nulls\": 0.7297921180725098, \"percentile_inc_nulls\": 0.7297921180725098, \"value_count\": 10, \"group_name\": \"Firstname\", \"total_non_null_rows\": 1299, \"total_rows_inc_nulls\": 1299, \"sum_tokens_in_value_count_group\": 30.0, \"distinct_value_count\": 351}, {\"percentile_ex_nulls\": 0.7228637337684631, \"percentile_inc_nulls\": 0.7228637337684631, \"value_count\": 9, \"group_name\": \"Firstname\", \"total_non_null_rows\": 1299, \"total_rows_inc_nulls\": 1299, \"sum_tokens_in_value_count_group\": 9.0, \"distinct_value_count\": 351}, {\"percentile_ex_nulls\": 0.6304849982261658, \"percentile_inc_nulls\": 0.6304849982261658, \"value_count\": 8, \"group_name\": \"Firstname\", \"total_non_null_rows\": 1299, \"total_rows_inc_nulls\": 1299, \"sum_tokens_in_value_count_group\": 120.0, \"distinct_value_count\": 351}, {\"percentile_ex_nulls\": 0.619707465171814, \"percentile_inc_nulls\": 0.619707465171814, \"value_count\": 7, \"group_name\": \"Firstname\", \"total_non_null_rows\": 1299, \"total_rows_inc_nulls\": 1299, \"sum_tokens_in_value_count_group\": 14.0, \"distinct_value_count\": 351}, {\"percentile_ex_nulls\": 0.5273287296295166, \"percentile_inc_nulls\": 0.5273287296295166, \"value_count\": 6, \"group_name\": \"Firstname\", \"total_non_null_rows\": 1299, \"total_rows_inc_nulls\": 1299, \"sum_tokens_in_value_count_group\": 120.0, \"distinct_value_count\": 351}, {\"percentile_ex_nulls\": 0.5080831050872803, \"percentile_inc_nulls\": 0.5080831050872803, \"value_count\": 5, \"group_name\": \"Firstname\", \"total_non_null_rows\": 1299, \"total_rows_inc_nulls\": 1299, \"sum_tokens_in_value_count_group\": 25.0, \"distinct_value_count\": 351}, {\"percentile_ex_nulls\": 0.366435706615448, \"percentile_inc_nulls\": 0.366435706615448, \"value_count\": 4, \"group_name\": \"Firstname\", \"total_non_null_rows\": 1299, \"total_rows_inc_nulls\": 1299, \"sum_tokens_in_value_count_group\": 184.0, \"distinct_value_count\": 351}, {\"percentile_ex_nulls\": 0.3571978211402893, \"percentile_inc_nulls\": 0.3571978211402893, \"value_count\": 3, \"group_name\": \"Firstname\", \"total_non_null_rows\": 1299, \"total_rows_inc_nulls\": 1299, \"sum_tokens_in_value_count_group\": 12.0, \"distinct_value_count\": 351}, {\"percentile_ex_nulls\": 0.009237885475158691, \"percentile_inc_nulls\": 0.009237885475158691, \"value_count\": 2, \"group_name\": \"Firstname\", \"total_non_null_rows\": 1299, \"total_rows_inc_nulls\": 1299, \"sum_tokens_in_value_count_group\": 452.0, \"distinct_value_count\": 351}, {\"percentile_ex_nulls\": 0.0, \"percentile_inc_nulls\": 0.0, \"value_count\": 1, \"group_name\": \"Firstname\", \"total_non_null_rows\": 1299, \"total_rows_inc_nulls\": 1299, \"sum_tokens_in_value_count_group\": 12.0, \"distinct_value_count\": 351}, {\"percentile_ex_nulls\": 1.0, \"percentile_inc_nulls\": 1.0, \"value_count\": 32, \"group_name\": \"Firstname\", \"total_non_null_rows\": 1299, \"total_rows_inc_nulls\": 1299, \"sum_tokens_in_value_count_group\": 32.0, \"distinct_value_count\": 351}]}, \"mark\": {\"type\": \"line\", \"interpolate\": \"step-after\"}, \"encoding\": {\"x\": {\"type\": \"quantitative\", \"field\": \"percentile_ex_nulls\", \"sort\": \"descending\", \"title\": \"Percentile\"}, \"y\": {\"type\": \"quantitative\", \"field\": \"value_count\", \"title\": \"Count of values\"}, \"tooltip\": [{\"field\": \"value_count\", \"type\": \"quantitative\"}, {\"field\": \"percentile_ex_nulls\", \"type\": \"quantitative\"}, {\"field\": \"percentile_inc_nulls\", \"type\": \"quantitative\"}, {\"field\": \"total_non_null_rows\", \"type\": \"quantitative\"}, {\"field\": \"total_rows_inc_nulls\", \"type\": \"quantitative\"}]}, \"title\": {\"text\": \"Distribution of counts of values in column Firstname\", \"subtitle\": \"In this col, 0 values (0.0%) are null and there are 351 distinct values\"}}, {\"data\": {\"values\": [{\"value_count\": 32, \"group_name\": \"Firstname\", \"value\": \"John\", \"total_non_null_rows\": 1299, \"total_rows_inc_nulls\": 1299, \"distinct_value_count\": 351}, {\"value_count\": 27, \"group_name\": \"Firstname\", \"value\": \"Andrew\", \"total_non_null_rows\": 1299, \"total_rows_inc_nulls\": 1299, \"distinct_value_count\": 351}, {\"value_count\": 27, \"group_name\": \"Firstname\", \"value\": \"David\", \"total_non_null_rows\": 1299, \"total_rows_inc_nulls\": 1299, \"distinct_value_count\": 351}, {\"value_count\": 26, \"group_name\": \"Firstname\", \"value\": \"Mark\", \"total_non_null_rows\": 1299, \"total_rows_inc_nulls\": 1299, \"distinct_value_count\": 351}, {\"value_count\": 26, \"group_name\": \"Firstname\", \"value\": \"Chris\", \"total_non_null_rows\": 1299, \"total_rows_inc_nulls\": 1299, \"distinct_value_count\": 351}, {\"value_count\": 25, \"group_name\": \"Firstname\", \"value\": \"James\", \"total_non_null_rows\": 1299, \"total_rows_inc_nulls\": 1299, \"distinct_value_count\": 351}, {\"value_count\": 20, \"group_name\": \"Firstname\", \"value\": \"Stephen\", \"total_non_null_rows\": 1299, \"total_rows_inc_nulls\": 1299, \"distinct_value_count\": 351}, {\"value_count\": 18, \"group_name\": \"Firstname\", \"value\": \"Paul\", \"total_non_null_rows\": 1299, \"total_rows_inc_nulls\": 1299, \"distinct_value_count\": 351}, {\"value_count\": 16, \"group_name\": \"Firstname\", \"value\": \"Ian\", \"total_non_null_rows\": 1299, \"total_rows_inc_nulls\": 1299, \"distinct_value_count\": 351}, {\"value_count\": 15, \"group_name\": \"Firstname\", \"value\": \"Richard\", \"total_non_null_rows\": 1299, \"total_rows_inc_nulls\": 1299, \"distinct_value_count\": 351}]}, \"mark\": \"bar\", \"encoding\": {\"x\": {\"type\": \"nominal\", \"field\": \"value\", \"sort\": \"-y\", \"title\": null}, \"y\": {\"type\": \"quantitative\", \"field\": \"value_count\", \"title\": \"Value count\"}, \"tooltip\": [{\"field\": \"value\", \"type\": \"nominal\"}, {\"field\": \"value_count\", \"type\": \"quantitative\"}, {\"field\": \"total_non_null_rows\", \"type\": \"quantitative\"}, {\"field\": \"total_rows_inc_nulls\", \"type\": \"quantitative\"}]}, \"title\": \"Top 10 values by value count\"}, {\"data\": {\"values\": [{\"value_count\": 1, \"group_name\": \"Firstname\", \"value\": \"Tracy\", \"total_non_null_rows\": 1299, \"total_rows_inc_nulls\": 1299, \"distinct_value_count\": 351}, {\"value_count\": 1, \"group_name\": \"Firstname\", \"value\": \"Cheryl\", \"total_non_null_rows\": 1299, \"total_rows_inc_nulls\": 1299, \"distinct_value_count\": 351}, {\"value_count\": 1, \"group_name\": \"Firstname\", \"value\": \"Tanmanjeet\", \"total_non_null_rows\": 1299, \"total_rows_inc_nulls\": 1299, \"distinct_value_count\": 351}, {\"value_count\": 1, \"group_name\": \"Firstname\", \"value\": \"Nus\", \"total_non_null_rows\": 1299, \"total_rows_inc_nulls\": 1299, \"distinct_value_count\": 351}, {\"value_count\": 1, \"group_name\": \"Firstname\", \"value\": \"Tan\", \"total_non_null_rows\": 1299, \"total_rows_inc_nulls\": 1299, \"distinct_value_count\": 351}, {\"value_count\": 1, \"group_name\": \"Firstname\", \"value\": \"Samantha\", \"total_non_null_rows\": 1299, \"total_rows_inc_nulls\": 1299, \"distinct_value_count\": 351}, {\"value_count\": 1, \"group_name\": \"Firstname\", \"value\": \"Louie\", \"total_non_null_rows\": 1299, \"total_rows_inc_nulls\": 1299, \"distinct_value_count\": 351}, {\"value_count\": 1, \"group_name\": \"Firstname\", \"value\": \"Nusrat\", \"total_non_null_rows\": 1299, \"total_rows_inc_nulls\": 1299, \"distinct_value_count\": 351}, {\"value_count\": 1, \"group_name\": \"Firstname\", \"value\": \"Paulette\", \"total_non_null_rows\": 1299, \"total_rows_inc_nulls\": 1299, \"distinct_value_count\": 351}, {\"value_count\": 1, \"group_name\": \"Firstname\", \"value\": \"Jill\", \"total_non_null_rows\": 1299, \"total_rows_inc_nulls\": 1299, \"distinct_value_count\": 351}]}, \"mark\": \"bar\", \"encoding\": {\"x\": {\"type\": \"nominal\", \"field\": \"value\", \"sort\": \"-y\", \"title\": null}, \"y\": {\"type\": \"quantitative\", \"field\": \"value_count\", \"title\": \"Value count\", \"scale\": {\"domain\": [0, 32]}}, \"tooltip\": [{\"field\": \"value\", \"type\": \"nominal\"}, {\"field\": \"value_count\", \"type\": \"quantitative\"}, {\"field\": \"total_non_null_rows\", \"type\": \"quantitative\"}, {\"field\": \"total_rows_inc_nulls\", \"type\": \"quantitative\"}]}, \"title\": \"Bottom 10 values by value count\"}]}, {\"hconcat\": [{\"data\": {\"values\": [{\"percentile_ex_nulls\": 0.9722863435745239, \"percentile_inc_nulls\": 0.9722863435745239, \"value_count\": 18, \"group_name\": \"Lastname\", \"total_non_null_rows\": 1299, \"total_rows_inc_nulls\": 1299, \"sum_tokens_in_value_count_group\": 36.0, \"distinct_value_count\": 573}, {\"percentile_ex_nulls\": 0.96304851770401, \"percentile_inc_nulls\": 0.96304851770401, \"value_count\": 12, \"group_name\": \"Lastname\", \"total_non_null_rows\": 1299, \"total_rows_inc_nulls\": 1299, \"sum_tokens_in_value_count_group\": 12.0, \"distinct_value_count\": 573}, {\"percentile_ex_nulls\": 0.9553502798080444, \"percentile_inc_nulls\": 0.9553502798080444, \"value_count\": 10, \"group_name\": \"Lastname\", \"total_non_null_rows\": 1299, \"total_rows_inc_nulls\": 1299, \"sum_tokens_in_value_count_group\": 10.0, \"distinct_value_count\": 573}, {\"percentile_ex_nulls\": 0.949191689491272, \"percentile_inc_nulls\": 0.949191689491272, \"value_count\": 8, \"group_name\": \"Lastname\", \"total_non_null_rows\": 1299, \"total_rows_inc_nulls\": 1299, \"sum_tokens_in_value_count_group\": 8.0, \"distinct_value_count\": 573}, {\"percentile_ex_nulls\": 0.9438029527664185, \"percentile_inc_nulls\": 0.9438029527664185, \"value_count\": 7, \"group_name\": \"Lastname\", \"total_non_null_rows\": 1299, \"total_rows_inc_nulls\": 1299, \"sum_tokens_in_value_count_group\": 7.0, \"distinct_value_count\": 573}, {\"percentile_ex_nulls\": 0.9068514108657837, \"percentile_inc_nulls\": 0.9068514108657837, \"value_count\": 6, \"group_name\": \"Lastname\", \"total_non_null_rows\": 1299, \"total_rows_inc_nulls\": 1299, \"sum_tokens_in_value_count_group\": 48.0, \"distinct_value_count\": 573}, {\"percentile_ex_nulls\": 0.9030023217201233, \"percentile_inc_nulls\": 0.9030023217201233, \"value_count\": 5, \"group_name\": \"Lastname\", \"total_non_null_rows\": 1299, \"total_rows_inc_nulls\": 1299, \"sum_tokens_in_value_count_group\": 5.0, \"distinct_value_count\": 573}, {\"percentile_ex_nulls\": 0.7859892249107361, \"percentile_inc_nulls\": 0.7859892249107361, \"value_count\": 4, \"group_name\": \"Lastname\", \"total_non_null_rows\": 1299, \"total_rows_inc_nulls\": 1299, \"sum_tokens_in_value_count_group\": 152.0, \"distinct_value_count\": 573}, {\"percentile_ex_nulls\": 0.7744418978691101, \"percentile_inc_nulls\": 0.7744418978691101, \"value_count\": 3, \"group_name\": \"Lastname\", \"total_non_null_rows\": 1299, \"total_rows_inc_nulls\": 1299, \"sum_tokens_in_value_count_group\": 15.0, \"distinct_value_count\": 573}, {\"percentile_ex_nulls\": 0.018475770950317383, \"percentile_inc_nulls\": 0.018475770950317383, \"value_count\": 2, \"group_name\": \"Lastname\", \"total_non_null_rows\": 1299, \"total_rows_inc_nulls\": 1299, \"sum_tokens_in_value_count_group\": 982.0, \"distinct_value_count\": 573}, {\"percentile_ex_nulls\": 0.0, \"percentile_inc_nulls\": 0.0, \"value_count\": 1, \"group_name\": \"Lastname\", \"total_non_null_rows\": 1299, \"total_rows_inc_nulls\": 1299, \"sum_tokens_in_value_count_group\": 24.0, \"distinct_value_count\": 573}, {\"percentile_ex_nulls\": 1.0, \"percentile_inc_nulls\": 1.0, \"value_count\": 18, \"group_name\": \"Lastname\", \"total_non_null_rows\": 1299, \"total_rows_inc_nulls\": 1299, \"sum_tokens_in_value_count_group\": 36.0, \"distinct_value_count\": 573}]}, \"mark\": {\"type\": \"line\", \"interpolate\": \"step-after\"}, \"encoding\": {\"x\": {\"type\": \"quantitative\", \"field\": \"percentile_ex_nulls\", \"sort\": \"descending\", \"title\": \"Percentile\"}, \"y\": {\"type\": \"quantitative\", \"field\": \"value_count\", \"title\": \"Count of values\"}, \"tooltip\": [{\"field\": \"value_count\", \"type\": \"quantitative\"}, {\"field\": \"percentile_ex_nulls\", \"type\": \"quantitative\"}, {\"field\": \"percentile_inc_nulls\", \"type\": \"quantitative\"}, {\"field\": \"total_non_null_rows\", \"type\": \"quantitative\"}, {\"field\": \"total_rows_inc_nulls\", \"type\": \"quantitative\"}]}, \"title\": {\"text\": \"Distribution of counts of values in column Lastname\", \"subtitle\": \"In this col, 0 values (0.0%) are null and there are 573 distinct values\"}}, {\"data\": {\"values\": [{\"value_count\": 18, \"group_name\": \"Lastname\", \"value\": \"Smith\", \"total_non_null_rows\": 1299, \"total_rows_inc_nulls\": 1299, \"distinct_value_count\": 573}, {\"value_count\": 18, \"group_name\": \"Lastname\", \"value\": \"Jones\", \"total_non_null_rows\": 1299, \"total_rows_inc_nulls\": 1299, \"distinct_value_count\": 573}, {\"value_count\": 12, \"group_name\": \"Lastname\", \"value\": \"Davies\", \"total_non_null_rows\": 1299, \"total_rows_inc_nulls\": 1299, \"distinct_value_count\": 573}, {\"value_count\": 10, \"group_name\": \"Lastname\", \"value\": \"Johnson\", \"total_non_null_rows\": 1299, \"total_rows_inc_nulls\": 1299, \"distinct_value_count\": 573}, {\"value_count\": 8, \"group_name\": \"Lastname\", \"value\": \"Fletcher\", \"total_non_null_rows\": 1299, \"total_rows_inc_nulls\": 1299, \"distinct_value_count\": 573}, {\"value_count\": 7, \"group_name\": \"Lastname\", \"value\": \"Morris\", \"total_non_null_rows\": 1299, \"total_rows_inc_nulls\": 1299, \"distinct_value_count\": 573}, {\"value_count\": 6, \"group_name\": \"Lastname\", \"value\": \"Anderson\", \"total_non_null_rows\": 1299, \"total_rows_inc_nulls\": 1299, \"distinct_value_count\": 573}, {\"value_count\": 6, \"group_name\": \"Lastname\", \"value\": \"Green\", \"total_non_null_rows\": 1299, \"total_rows_inc_nulls\": 1299, \"distinct_value_count\": 573}, {\"value_count\": 6, \"group_name\": \"Lastname\", \"value\": \"Evans\", \"total_non_null_rows\": 1299, \"total_rows_inc_nulls\": 1299, \"distinct_value_count\": 573}, {\"value_count\": 6, \"group_name\": \"Lastname\", \"value\": \"McDonald\", \"total_non_null_rows\": 1299, \"total_rows_inc_nulls\": 1299, \"distinct_value_count\": 573}]}, \"mark\": \"bar\", \"encoding\": {\"x\": {\"type\": \"nominal\", \"field\": \"value\", \"sort\": \"-y\", \"title\": null}, \"y\": {\"type\": \"quantitative\", \"field\": \"value_count\", \"title\": \"Value count\"}, \"tooltip\": [{\"field\": \"value\", \"type\": \"nominal\"}, {\"field\": \"value_count\", \"type\": \"quantitative\"}, {\"field\": \"total_non_null_rows\", \"type\": \"quantitative\"}, {\"field\": \"total_rows_inc_nulls\", \"type\": \"quantitative\"}]}, \"title\": \"Top 10 values by value count\"}, {\"data\": {\"values\": [{\"value_count\": 1, \"group_name\": \"Lastname\", \"value\": \"Brabin\", \"total_non_null_rows\": 1299, \"total_rows_inc_nulls\": 1299, \"distinct_value_count\": 573}, {\"value_count\": 1, \"group_name\": \"Lastname\", \"value\": \"Dromey\", \"total_non_null_rows\": 1299, \"total_rows_inc_nulls\": 1299, \"distinct_value_count\": 573}, {\"value_count\": 1, \"group_name\": \"Lastname\", \"value\": \"Griffiths\", \"total_non_null_rows\": 1299, \"total_rows_inc_nulls\": 1299, \"distinct_value_count\": 573}, {\"value_count\": 1, \"group_name\": \"Lastname\", \"value\": \"Gillan\", \"total_non_null_rows\": 1299, \"total_rows_inc_nulls\": 1299, \"distinct_value_count\": 573}, {\"value_count\": 1, \"group_name\": \"Lastname\", \"value\": \"Matheson\", \"total_non_null_rows\": 1299, \"total_rows_inc_nulls\": 1299, \"distinct_value_count\": 573}, {\"value_count\": 1, \"group_name\": \"Lastname\", \"value\": \"Hill\", \"total_non_null_rows\": 1299, \"total_rows_inc_nulls\": 1299, \"distinct_value_count\": 573}, {\"value_count\": 1, \"group_name\": \"Lastname\", \"value\": \"Marie Morris\", \"total_non_null_rows\": 1299, \"total_rows_inc_nulls\": 1299, \"distinct_value_count\": 573}, {\"value_count\": 1, \"group_name\": \"Lastname\", \"value\": \"Brokenshire\", \"total_non_null_rows\": 1299, \"total_rows_inc_nulls\": 1299, \"distinct_value_count\": 573}, {\"value_count\": 1, \"group_name\": \"Lastname\", \"value\": \"Amess\", \"total_non_null_rows\": 1299, \"total_rows_inc_nulls\": 1299, \"distinct_value_count\": 573}, {\"value_count\": 1, \"group_name\": \"Lastname\", \"value\": \"Parish\", \"total_non_null_rows\": 1299, \"total_rows_inc_nulls\": 1299, \"distinct_value_count\": 573}]}, \"mark\": \"bar\", \"encoding\": {\"x\": {\"type\": \"nominal\", \"field\": \"value\", \"sort\": \"-y\", \"title\": null}, \"y\": {\"type\": \"quantitative\", \"field\": \"value_count\", \"title\": \"Value count\", \"scale\": {\"domain\": [0, 18]}}, \"tooltip\": [{\"field\": \"value\", \"type\": \"nominal\"}, {\"field\": \"value_count\", \"type\": \"quantitative\"}, {\"field\": \"total_non_null_rows\", \"type\": \"quantitative\"}, {\"field\": \"total_rows_inc_nulls\", \"type\": \"quantitative\"}]}, \"title\": \"Bottom 10 values by value count\"}]}, {\"hconcat\": [{\"data\": {\"values\": [{\"percentile_ex_nulls\": 0.0007697939872741699, \"percentile_inc_nulls\": 0.0007697939872741699, \"value_count\": 2, \"group_name\": \"Constituency\", \"total_non_null_rows\": 1299, \"total_rows_inc_nulls\": 1299, \"sum_tokens_in_value_count_group\": 1298.0, \"distinct_value_count\": 650}, {\"percentile_ex_nulls\": 0.0, \"percentile_inc_nulls\": 0.0, \"value_count\": 1, \"group_name\": \"Constituency\", \"total_non_null_rows\": 1299, \"total_rows_inc_nulls\": 1299, \"sum_tokens_in_value_count_group\": 1.0, \"distinct_value_count\": 650}, {\"percentile_ex_nulls\": 1.0, \"percentile_inc_nulls\": 1.0, \"value_count\": 2, \"group_name\": \"Constituency\", \"total_non_null_rows\": 1299, \"total_rows_inc_nulls\": 1299, \"sum_tokens_in_value_count_group\": 1298.0, \"distinct_value_count\": 650}]}, \"mark\": {\"type\": \"line\", \"interpolate\": \"step-after\"}, \"encoding\": {\"x\": {\"type\": \"quantitative\", \"field\": \"percentile_ex_nulls\", \"sort\": \"descending\", \"title\": \"Percentile\"}, \"y\": {\"type\": \"quantitative\", \"field\": \"value_count\", \"title\": \"Count of values\"}, \"tooltip\": [{\"field\": \"value_count\", \"type\": \"quantitative\"}, {\"field\": \"percentile_ex_nulls\", \"type\": \"quantitative\"}, {\"field\": \"percentile_inc_nulls\", \"type\": \"quantitative\"}, {\"field\": \"total_non_null_rows\", \"type\": \"quantitative\"}, {\"field\": \"total_rows_inc_nulls\", \"type\": \"quantitative\"}]}, \"title\": {\"text\": \"Distribution of counts of values in column Constituency\", \"subtitle\": \"In this col, 0 values (0.0%) are null and there are 650 distinct values\"}}, {\"data\": {\"values\": [{\"value_count\": 2, \"group_name\": \"Constituency\", \"value\": \"Aberavon\", \"total_non_null_rows\": 1299, \"total_rows_inc_nulls\": 1299, \"distinct_value_count\": 650}, {\"value_count\": 2, \"group_name\": \"Constituency\", \"value\": \"Aberconwy\", \"total_non_null_rows\": 1299, \"total_rows_inc_nulls\": 1299, \"distinct_value_count\": 650}, {\"value_count\": 2, \"group_name\": \"Constituency\", \"value\": \"Aberdeen North\", \"total_non_null_rows\": 1299, \"total_rows_inc_nulls\": 1299, \"distinct_value_count\": 650}, {\"value_count\": 2, \"group_name\": \"Constituency\", \"value\": \"Aberdeen South\", \"total_non_null_rows\": 1299, \"total_rows_inc_nulls\": 1299, \"distinct_value_count\": 650}, {\"value_count\": 2, \"group_name\": \"Constituency\", \"value\": \"Airdrie and Shotts\", \"total_non_null_rows\": 1299, \"total_rows_inc_nulls\": 1299, \"distinct_value_count\": 650}, {\"value_count\": 2, \"group_name\": \"Constituency\", \"value\": \"Aldershot\", \"total_non_null_rows\": 1299, \"total_rows_inc_nulls\": 1299, \"distinct_value_count\": 650}, {\"value_count\": 2, \"group_name\": \"Constituency\", \"value\": \"Aldridge-Brownhills\", \"total_non_null_rows\": 1299, \"total_rows_inc_nulls\": 1299, \"distinct_value_count\": 650}, {\"value_count\": 2, \"group_name\": \"Constituency\", \"value\": \"Altrincham and Sale West\", \"total_non_null_rows\": 1299, \"total_rows_inc_nulls\": 1299, \"distinct_value_count\": 650}, {\"value_count\": 2, \"group_name\": \"Constituency\", \"value\": \"Alyn and Deeside\", \"total_non_null_rows\": 1299, \"total_rows_inc_nulls\": 1299, \"distinct_value_count\": 650}, {\"value_count\": 2, \"group_name\": \"Constituency\", \"value\": \"Amber Valley\", \"total_non_null_rows\": 1299, \"total_rows_inc_nulls\": 1299, \"distinct_value_count\": 650}]}, \"mark\": \"bar\", \"encoding\": {\"x\": {\"type\": \"nominal\", \"field\": \"value\", \"sort\": \"-y\", \"title\": null}, \"y\": {\"type\": \"quantitative\", \"field\": \"value_count\", \"title\": \"Value count\"}, \"tooltip\": [{\"field\": \"value\", \"type\": \"nominal\"}, {\"field\": \"value_count\", \"type\": \"quantitative\"}, {\"field\": \"total_non_null_rows\", \"type\": \"quantitative\"}, {\"field\": \"total_rows_inc_nulls\", \"type\": \"quantitative\"}]}, \"title\": \"Top 10 values by value count\"}, {\"data\": {\"values\": [{\"value_count\": 1, \"group_name\": \"Constituency\", \"value\": \"West Lancashire\", \"total_non_null_rows\": 1299, \"total_rows_inc_nulls\": 1299, \"distinct_value_count\": 650}, {\"value_count\": 2, \"group_name\": \"Constituency\", \"value\": \"Aberavon\", \"total_non_null_rows\": 1299, \"total_rows_inc_nulls\": 1299, \"distinct_value_count\": 650}, {\"value_count\": 2, \"group_name\": \"Constituency\", \"value\": \"Aberconwy\", \"total_non_null_rows\": 1299, \"total_rows_inc_nulls\": 1299, \"distinct_value_count\": 650}, {\"value_count\": 2, \"group_name\": \"Constituency\", \"value\": \"Aberdeen North\", \"total_non_null_rows\": 1299, \"total_rows_inc_nulls\": 1299, \"distinct_value_count\": 650}, {\"value_count\": 2, \"group_name\": \"Constituency\", \"value\": \"Aberdeen South\", \"total_non_null_rows\": 1299, \"total_rows_inc_nulls\": 1299, \"distinct_value_count\": 650}, {\"value_count\": 2, \"group_name\": \"Constituency\", \"value\": \"Airdrie and Shotts\", \"total_non_null_rows\": 1299, \"total_rows_inc_nulls\": 1299, \"distinct_value_count\": 650}, {\"value_count\": 2, \"group_name\": \"Constituency\", \"value\": \"Aldershot\", \"total_non_null_rows\": 1299, \"total_rows_inc_nulls\": 1299, \"distinct_value_count\": 650}, {\"value_count\": 2, \"group_name\": \"Constituency\", \"value\": \"Aldridge-Brownhills\", \"total_non_null_rows\": 1299, \"total_rows_inc_nulls\": 1299, \"distinct_value_count\": 650}, {\"value_count\": 2, \"group_name\": \"Constituency\", \"value\": \"Altrincham and Sale West\", \"total_non_null_rows\": 1299, \"total_rows_inc_nulls\": 1299, \"distinct_value_count\": 650}, {\"value_count\": 2, \"group_name\": \"Constituency\", \"value\": \"Alyn and Deeside\", \"total_non_null_rows\": 1299, \"total_rows_inc_nulls\": 1299, \"distinct_value_count\": 650}]}, \"mark\": \"bar\", \"encoding\": {\"x\": {\"type\": \"nominal\", \"field\": \"value\", \"sort\": \"-y\", \"title\": null}, \"y\": {\"type\": \"quantitative\", \"field\": \"value_count\", \"title\": \"Value count\", \"scale\": {\"domain\": [0, 2]}}, \"tooltip\": [{\"field\": \"value\", \"type\": \"nominal\"}, {\"field\": \"value_count\", \"type\": \"quantitative\"}, {\"field\": \"total_non_null_rows\", \"type\": \"quantitative\"}, {\"field\": \"total_rows_inc_nulls\", \"type\": \"quantitative\"}]}, \"title\": \"Bottom 10 values by value count\"}]}], \"$schema\": \"https://vega.github.io/schema/vega-lite/v4.8.1.json\"}, {\"mode\": \"vega-lite\"});\n",
       "</script>"
      ],
      "text/plain": [
       "<splink.charts.VegaliteNoValidate at 0x228119299c8>"
      ]
     },
     "execution_count": 69,
     "metadata": {},
     "output_type": "execute_result"
    }
   ],
   "source": [
    "# Examine distribution of columns to be matched\n",
    "\n",
    "linker.profile_columns(['Firstname','Lastname','Constituency'])"
   ]
  },
  {
   "cell_type": "code",
   "execution_count": 70,
   "id": "eb0dd78c",
   "metadata": {},
   "outputs": [
    {
     "name": "stderr",
     "output_type": "stream",
     "text": [
      "----- Estimating u probabilities using random sampling -----\n",
      "\n",
      "Estimated u probabilities using random sampling\n",
      "\n",
      "Your model is not yet fully trained. Missing estimates for:\n",
      "    - Firstname (no m values are trained).\n",
      "    - Lastname (no m values are trained).\n",
      "    - Constituency (no m values are trained).\n"
     ]
    }
   ],
   "source": [
    "# Estimate u values using random sampling\n",
    "\n",
    "linker.estimate_u_using_random_sampling(target_rows=5e5)"
   ]
  },
  {
   "cell_type": "code",
   "execution_count": 71,
   "id": "4f01cda7",
   "metadata": {},
   "outputs": [
    {
     "name": "stderr",
     "output_type": "stream",
     "text": [
      "\n",
      "----- Starting EM training session -----\n",
      "\n",
      "Estimating the m probabilities of the model by blocking on:\n",
      "r.Lastname == l.Lastname\n",
      "\n",
      "Parameter estimates will be made for the following comparison(s):\n",
      "    - Firstname\n",
      "    - Constituency\n",
      "\n",
      "Parameter estimates cannot be made for the following comparison(s) since they are used in the blocking rules: \n",
      "    - Lastname\n",
      "\n",
      "Iteration 1: Largest change in params was 0.577 in probability_two_random_records_match\n",
      "Iteration 2: Largest change in params was 0.0627 in probability_two_random_records_match\n",
      "Iteration 3: Largest change in params was -0.00125 in the m_probability of Firstname, level `Exact match`\n",
      "Iteration 4: Largest change in params was 0.00352 in the m_probability of Firstname, level `All other comparisons`\n",
      "Iteration 5: Largest change in params was -0.00179 in the m_probability of Firstname, level `Exact match`\n",
      "Iteration 6: Largest change in params was 0.000274 in the m_probability of Firstname, level `All other comparisons`\n",
      "Iteration 7: Largest change in params was -3.1e-05 in the m_probability of Firstname, level `Exact match`\n",
      "\n",
      "EM converged after 7 iterations\n",
      "\n",
      "Your model is not yet fully trained. Missing estimates for:\n",
      "    - Lastname (no m values are trained).\n",
      "\n",
      "----- Starting EM training session -----\n",
      "\n",
      "Estimating the m probabilities of the model by blocking on:\n",
      "r.Firstname == l.Firstname\n",
      "\n",
      "Parameter estimates will be made for the following comparison(s):\n",
      "    - Lastname\n",
      "    - Constituency\n",
      "\n",
      "Parameter estimates cannot be made for the following comparison(s) since they are used in the blocking rules: \n",
      "    - Firstname\n",
      "\n",
      "Iteration 1: Largest change in params was 0.225 in probability_two_random_records_match\n",
      "Iteration 2: Largest change in params was 0.0085 in probability_two_random_records_match\n",
      "Iteration 3: Largest change in params was 6.74e-06 in the m_probability of Lastname, level `All other comparisons`\n",
      "\n",
      "EM converged after 3 iterations\n",
      "\n",
      "Your model is fully trained. All comparisons have at least one estimate for their m and u values\n"
     ]
    },
    {
     "data": {
      "text/plain": [
       "<EMTrainingSession, blocking on r.Firstname == l.Firstname, deactivating comparisons Firstname>"
      ]
     },
     "execution_count": 71,
     "metadata": {},
     "output_type": "execute_result"
    }
   ],
   "source": [
    "# Estimate m values using EM method\n",
    "\n",
    "linker.estimate_parameters_using_expectation_maximisation(\"r.Lastname == l.Lastname\")\n",
    "linker.estimate_parameters_using_expectation_maximisation(\"r.Firstname == l.Firstname\")"
   ]
  },
  {
   "cell_type": "code",
   "execution_count": 72,
   "id": "369fe1ce",
   "metadata": {},
   "outputs": [
    {
     "data": {
      "text/plain": [
       "{'link_type': 'link_only',\n",
       " 'comparisons': [{'output_column_name': 'Firstname',\n",
       "   'comparison_levels': [{'sql_condition': '\"Firstname_l\" IS NULL OR \"Firstname_r\" IS NULL',\n",
       "     'label_for_charts': 'Null',\n",
       "     'is_null_level': True},\n",
       "    {'sql_condition': '\"Firstname_l\" = \"Firstname_r\"',\n",
       "     'label_for_charts': 'Exact match',\n",
       "     'm_probability': 0.9929430070307547,\n",
       "     'u_probability': 0.00636245110821382},\n",
       "    {'sql_condition': 'ELSE',\n",
       "     'label_for_charts': 'All other comparisons',\n",
       "     'm_probability': 0.007056992969245251,\n",
       "     'u_probability': 0.9936375488917861}],\n",
       "   'comparison_description': 'Exact match vs. anything else'},\n",
       "  {'output_column_name': 'Lastname',\n",
       "   'comparison_levels': [{'sql_condition': '\"Lastname_l\" IS NULL OR \"Lastname_r\" IS NULL',\n",
       "     'label_for_charts': 'Null',\n",
       "     'is_null_level': True},\n",
       "    {'sql_condition': '\"Lastname_l\" = \"Lastname_r\"',\n",
       "     'label_for_charts': 'Exact match',\n",
       "     'm_probability': 0.9999674340185474,\n",
       "     'u_probability': 0.002327841649875548},\n",
       "    {'sql_condition': 'ELSE',\n",
       "     'label_for_charts': 'All other comparisons',\n",
       "     'm_probability': 3.2565981452679446e-05,\n",
       "     'u_probability': 0.9976721583501245}],\n",
       "   'comparison_description': 'Exact match vs. anything else'},\n",
       "  {'output_column_name': 'Constituency',\n",
       "   'comparison_levels': [{'sql_condition': '\"Constituency_l\" IS NULL OR \"Constituency_r\" IS NULL',\n",
       "     'label_for_charts': 'Null',\n",
       "     'is_null_level': True},\n",
       "    {'sql_condition': '\"Constituency_l\" = \"Constituency_r\"',\n",
       "     'label_for_charts': 'Exact match',\n",
       "     'm_probability': 1.0,\n",
       "     'u_probability': 0.0015384615384615385},\n",
       "    {'sql_condition': 'ELSE',\n",
       "     'label_for_charts': 'All other comparisons',\n",
       "     'm_probability': 1.0520476228112171e-25,\n",
       "     'u_probability': 0.9984615384615385}],\n",
       "   'comparison_description': 'Exact match vs. anything else'}],\n",
       " 'sql_dialect': 'duckdb',\n",
       " 'probability_two_random_records_match': 0.0001}"
      ]
     },
     "execution_count": 72,
     "metadata": {},
     "output_type": "execute_result"
    }
   ],
   "source": [
    "# Get numerical values of m and u probabilities.\n",
    "\n",
    "linker.save_settings_to_json()"
   ]
  },
  {
   "cell_type": "code",
   "execution_count": 73,
   "id": "95170543",
   "metadata": {},
   "outputs": [
    {
     "data": {
      "text/plain": [
       "633"
      ]
     },
     "execution_count": 73,
     "metadata": {},
     "output_type": "execute_result"
    }
   ],
   "source": [
    "# Calculate predictions, apply probability threshold of 0.1 and convert to dataframe\n",
    "\n",
    "pres = linker.predict(threshold_match_probability = 0.1).as_pandas_dataframe()\n",
    "len(pres)"
   ]
  },
  {
   "cell_type": "code",
   "execution_count": 74,
   "id": "df9ee1c3",
   "metadata": {},
   "outputs": [
    {
     "data": {
      "text/html": [
       "<div>\n",
       "<style scoped>\n",
       "    .dataframe tbody tr th:only-of-type {\n",
       "        vertical-align: middle;\n",
       "    }\n",
       "\n",
       "    .dataframe tbody tr th {\n",
       "        vertical-align: top;\n",
       "    }\n",
       "\n",
       "    .dataframe thead th {\n",
       "        text-align: right;\n",
       "    }\n",
       "</style>\n",
       "<table border=\"1\" class=\"dataframe\">\n",
       "  <thead>\n",
       "    <tr style=\"text-align: right;\">\n",
       "      <th></th>\n",
       "      <th>match_weight</th>\n",
       "      <th>match_probability</th>\n",
       "      <th>source_dataset_l</th>\n",
       "      <th>unique_id_l</th>\n",
       "      <th>source_dataset_r</th>\n",
       "      <th>unique_id_r</th>\n",
       "      <th>Firstname_l</th>\n",
       "      <th>Firstname_r</th>\n",
       "      <th>gamma_Firstname</th>\n",
       "      <th>Lastname_l</th>\n",
       "      <th>Lastname_r</th>\n",
       "      <th>gamma_Lastname</th>\n",
       "      <th>Constituency_l</th>\n",
       "      <th>Constituency_r</th>\n",
       "      <th>gamma_Constituency</th>\n",
       "    </tr>\n",
       "  </thead>\n",
       "  <tbody>\n",
       "    <tr>\n",
       "      <th>152</th>\n",
       "      <td>-2.33405</td>\n",
       "      <td>0.165503</td>\n",
       "      <td>_a</td>\n",
       "      <td>502</td>\n",
       "      <td>_b</td>\n",
       "      <td>152</td>\n",
       "      <td>Tanmanjeet</td>\n",
       "      <td>Tan</td>\n",
       "      <td>0</td>\n",
       "      <td>Dhesi</td>\n",
       "      <td>Dhesi</td>\n",
       "      <td>1</td>\n",
       "      <td>Slough</td>\n",
       "      <td>Slough</td>\n",
       "      <td>1</td>\n",
       "    </tr>\n",
       "    <tr>\n",
       "      <th>224</th>\n",
       "      <td>-2.33405</td>\n",
       "      <td>0.165503</td>\n",
       "      <td>_a</td>\n",
       "      <td>605</td>\n",
       "      <td>_b</td>\n",
       "      <td>229</td>\n",
       "      <td>Nus</td>\n",
       "      <td>Nusrat</td>\n",
       "      <td>0</td>\n",
       "      <td>Ghani</td>\n",
       "      <td>Ghani</td>\n",
       "      <td>1</td>\n",
       "      <td>Wealden</td>\n",
       "      <td>Wealden</td>\n",
       "      <td>1</td>\n",
       "    </tr>\n",
       "    <tr>\n",
       "      <th>270</th>\n",
       "      <td>-2.33405</td>\n",
       "      <td>0.165503</td>\n",
       "      <td>_a</td>\n",
       "      <td>510</td>\n",
       "      <td>_b</td>\n",
       "      <td>277</td>\n",
       "      <td>Chris</td>\n",
       "      <td>Christopher</td>\n",
       "      <td>0</td>\n",
       "      <td>Hazzard</td>\n",
       "      <td>Hazzard</td>\n",
       "      <td>1</td>\n",
       "      <td>South Down</td>\n",
       "      <td>South Down</td>\n",
       "      <td>1</td>\n",
       "    </tr>\n",
       "    <tr>\n",
       "      <th>479</th>\n",
       "      <td>-2.33405</td>\n",
       "      <td>0.165503</td>\n",
       "      <td>_a</td>\n",
       "      <td>122</td>\n",
       "      <td>_b</td>\n",
       "      <td>493</td>\n",
       "      <td>Dan</td>\n",
       "      <td>Daniel</td>\n",
       "      <td>0</td>\n",
       "      <td>Poulter</td>\n",
       "      <td>Poulter</td>\n",
       "      <td>1</td>\n",
       "      <td>Central Suffolk and North Ipswich</td>\n",
       "      <td>Central Suffolk and North Ipswich</td>\n",
       "      <td>1</td>\n",
       "    </tr>\n",
       "    <tr>\n",
       "      <th>586</th>\n",
       "      <td>-2.33405</td>\n",
       "      <td>0.165503</td>\n",
       "      <td>_a</td>\n",
       "      <td>526</td>\n",
       "      <td>_b</td>\n",
       "      <td>601</td>\n",
       "      <td>Liz</td>\n",
       "      <td>Elizabeth</td>\n",
       "      <td>0</td>\n",
       "      <td>Truss</td>\n",
       "      <td>Truss</td>\n",
       "      <td>1</td>\n",
       "      <td>South West Norfolk</td>\n",
       "      <td>South West Norfolk</td>\n",
       "      <td>1</td>\n",
       "    </tr>\n",
       "  </tbody>\n",
       "</table>\n",
       "</div>"
      ],
      "text/plain": [
       "     match_weight  match_probability source_dataset_l  unique_id_l  \\\n",
       "152      -2.33405           0.165503               _a          502   \n",
       "224      -2.33405           0.165503               _a          605   \n",
       "270      -2.33405           0.165503               _a          510   \n",
       "479      -2.33405           0.165503               _a          122   \n",
       "586      -2.33405           0.165503               _a          526   \n",
       "\n",
       "    source_dataset_r  unique_id_r Firstname_l  Firstname_r  gamma_Firstname  \\\n",
       "152               _b          152  Tanmanjeet          Tan                0   \n",
       "224               _b          229         Nus       Nusrat                0   \n",
       "270               _b          277       Chris  Christopher                0   \n",
       "479               _b          493         Dan       Daniel                0   \n",
       "586               _b          601         Liz    Elizabeth                0   \n",
       "\n",
       "    Lastname_l Lastname_r  gamma_Lastname                     Constituency_l  \\\n",
       "152      Dhesi      Dhesi               1                             Slough   \n",
       "224      Ghani      Ghani               1                            Wealden   \n",
       "270    Hazzard    Hazzard               1                         South Down   \n",
       "479    Poulter    Poulter               1  Central Suffolk and North Ipswich   \n",
       "586      Truss      Truss               1                 South West Norfolk   \n",
       "\n",
       "                        Constituency_r  gamma_Constituency  \n",
       "152                             Slough                   1  \n",
       "224                            Wealden                   1  \n",
       "270                         South Down                   1  \n",
       "479  Central Suffolk and North Ipswich                   1  \n",
       "586                 South West Norfolk                   1  "
      ]
     },
     "execution_count": 74,
     "metadata": {},
     "output_type": "execute_result"
    }
   ],
   "source": [
    "pres[pres['match_probability']<0.2].head()"
   ]
  },
  {
   "cell_type": "code",
   "execution_count": 75,
   "id": "1ac7b324",
   "metadata": {},
   "outputs": [],
   "source": [
    "#    {'sql_condition': '\"Firstname_l\" = \"Firstname_r\"',\n",
    "#     'm_probability': 0.9929424850650888,\n",
    "#     'u_probability': 0.00636245110821382},\n",
    "#    \n",
    "#    {'sql_condition': '\"Lastname_l\" = \"Lastname_r\"',\n",
    "#     'm_probability': 0.9999837062652734,\n",
    "#     'u_probability': 0.002327841649875548},\n",
    "#    \n",
    "#    {'sql_condition': '\"Constituency_l\" = \"Constituency_r\"',\n",
    "#     'm_probability': 1.0,\n",
    "#     'u_probability': 0.0015384615384615385},"
   ]
  },
  {
   "cell_type": "markdown",
   "id": "192b9618",
   "metadata": {},
   "source": [
    "# Splink Approximate Match"
   ]
  },
  {
   "cell_type": "code",
   "execution_count": 76,
   "id": "fcf0d735",
   "metadata": {},
   "outputs": [],
   "source": [
    "# Splink settings to match on Firstname, Lastname and Constituency\n",
    "\n",
    "from splink.duckdb.duckdb_linker import DuckDBLinker\n",
    "from splink.duckdb import duckdb_comparison_library as cl\n",
    "settings = {\n",
    "    \"link_type\": \"link_only\",\n",
    "    \"comparisons\": [\n",
    "        cl.jaro_winkler_at_thresholds(\"Firstname\", [0.8]),\n",
    "        cl.jaro_winkler_at_thresholds(\"Lastname\", [0.9,0.8]),\n",
    "        cl.exact_match(\"Constituency\")\n",
    "    ],\n",
    "}\n",
    "linker = DuckDBLinker([df, df_mp], settings)"
   ]
  },
  {
   "cell_type": "code",
   "execution_count": 77,
   "id": "d3eab130",
   "metadata": {},
   "outputs": [
    {
     "name": "stderr",
     "output_type": "stream",
     "text": [
      "----- Estimating u probabilities using random sampling -----\n",
      "\n",
      "Estimated u probabilities using random sampling\n",
      "\n",
      "Your model is not yet fully trained. Missing estimates for:\n",
      "    - Firstname (no m values are trained).\n",
      "    - Lastname (no m values are trained).\n",
      "    - Constituency (no m values are trained).\n"
     ]
    }
   ],
   "source": [
    "# Estimate u values using random sampling\n",
    "\n",
    "linker.estimate_u_using_random_sampling(target_rows=5e5)"
   ]
  },
  {
   "cell_type": "code",
   "execution_count": 78,
   "id": "a53dda16",
   "metadata": {},
   "outputs": [
    {
     "name": "stderr",
     "output_type": "stream",
     "text": [
      "\n",
      "----- Starting EM training session -----\n",
      "\n",
      "Estimating the m probabilities of the model by blocking on:\n",
      "r.Lastname == l.Lastname\n",
      "\n",
      "Parameter estimates will be made for the following comparison(s):\n",
      "    - Firstname\n",
      "    - Constituency\n",
      "\n",
      "Parameter estimates cannot be made for the following comparison(s) since they are used in the blocking rules: \n",
      "    - Lastname\n",
      "\n",
      "Iteration 1: Largest change in params was 0.578 in probability_two_random_records_match\n",
      "Iteration 2: Largest change in params was 0.0659 in probability_two_random_records_match\n",
      "Iteration 3: Largest change in params was -4.63e-05 in the m_probability of Firstname, level `Exact match`\n",
      "\n",
      "EM converged after 3 iterations\n",
      "\n",
      "Your model is not yet fully trained. Missing estimates for:\n",
      "    - Lastname (no m values are trained).\n",
      "\n",
      "----- Starting EM training session -----\n",
      "\n",
      "Estimating the m probabilities of the model by blocking on:\n",
      "r.Firstname == l.Firstname\n",
      "\n",
      "Parameter estimates will be made for the following comparison(s):\n",
      "    - Lastname\n",
      "    - Constituency\n",
      "\n",
      "Parameter estimates cannot be made for the following comparison(s) since they are used in the blocking rules: \n",
      "    - Firstname\n",
      "\n",
      "Iteration 1: Largest change in params was 0.226 in probability_two_random_records_match\n",
      "Iteration 2: Largest change in params was 0.00875 in probability_two_random_records_match\n",
      "Iteration 3: Largest change in params was 1.45e-06 in the m_probability of Lastname, level `jaro_winkler_similarity >= 0.9`\n",
      "\n",
      "EM converged after 3 iterations\n",
      "\n",
      "Your model is fully trained. All comparisons have at least one estimate for their m and u values\n"
     ]
    },
    {
     "data": {
      "text/plain": [
       "<EMTrainingSession, blocking on r.Firstname == l.Firstname, deactivating comparisons Firstname>"
      ]
     },
     "execution_count": 78,
     "metadata": {},
     "output_type": "execute_result"
    }
   ],
   "source": [
    "# Estimate m values using EM method\n",
    "\n",
    "linker.estimate_parameters_using_expectation_maximisation(\"r.Lastname == l.Lastname\")\n",
    "linker.estimate_parameters_using_expectation_maximisation(\"r.Firstname == l.Firstname\")"
   ]
  },
  {
   "cell_type": "code",
   "execution_count": 79,
   "id": "bff894ab",
   "metadata": {},
   "outputs": [
    {
     "data": {
      "text/plain": [
       "634"
      ]
     },
     "execution_count": 79,
     "metadata": {},
     "output_type": "execute_result"
    }
   ],
   "source": [
    "# Calculate predictions and convert to Pandas dataframe\n",
    "\n",
    "pres = linker.predict(threshold_match_probability = 0.1).as_pandas_dataframe()\n",
    "len(pres)"
   ]
  },
  {
   "cell_type": "code",
   "execution_count": 80,
   "id": "8c0c444d",
   "metadata": {},
   "outputs": [
    {
     "data": {
      "text/html": [
       "<div>\n",
       "<style scoped>\n",
       "    .dataframe tbody tr th:only-of-type {\n",
       "        vertical-align: middle;\n",
       "    }\n",
       "\n",
       "    .dataframe tbody tr th {\n",
       "        vertical-align: top;\n",
       "    }\n",
       "\n",
       "    .dataframe thead th {\n",
       "        text-align: right;\n",
       "    }\n",
       "</style>\n",
       "<table border=\"1\" class=\"dataframe\">\n",
       "  <thead>\n",
       "    <tr style=\"text-align: right;\">\n",
       "      <th></th>\n",
       "      <th>match_weight</th>\n",
       "      <th>match_probability</th>\n",
       "      <th>source_dataset_l</th>\n",
       "      <th>unique_id_l</th>\n",
       "      <th>source_dataset_r</th>\n",
       "      <th>unique_id_r</th>\n",
       "      <th>Firstname_l</th>\n",
       "      <th>Firstname_r</th>\n",
       "      <th>gamma_Firstname</th>\n",
       "      <th>Lastname_l</th>\n",
       "      <th>Lastname_r</th>\n",
       "      <th>gamma_Lastname</th>\n",
       "      <th>Constituency_l</th>\n",
       "      <th>Constituency_r</th>\n",
       "      <th>gamma_Constituency</th>\n",
       "    </tr>\n",
       "  </thead>\n",
       "  <tbody>\n",
       "    <tr>\n",
       "      <th>152</th>\n",
       "      <td>4.452889</td>\n",
       "      <td>0.956333</td>\n",
       "      <td>_a</td>\n",
       "      <td>502</td>\n",
       "      <td>_b</td>\n",
       "      <td>152</td>\n",
       "      <td>Tanmanjeet</td>\n",
       "      <td>Tan</td>\n",
       "      <td>1</td>\n",
       "      <td>Dhesi</td>\n",
       "      <td>Dhesi</td>\n",
       "      <td>3</td>\n",
       "      <td>Slough</td>\n",
       "      <td>Slough</td>\n",
       "      <td>1</td>\n",
       "    </tr>\n",
       "    <tr>\n",
       "      <th>157</th>\n",
       "      <td>5.865504</td>\n",
       "      <td>0.983138</td>\n",
       "      <td>_a</td>\n",
       "      <td>615</td>\n",
       "      <td>_b</td>\n",
       "      <td>158</td>\n",
       "      <td>Martin</td>\n",
       "      <td>Martin</td>\n",
       "      <td>2</td>\n",
       "      <td>Docherty-Hughes</td>\n",
       "      <td>Docherty</td>\n",
       "      <td>2</td>\n",
       "      <td>West Dunbartonshire</td>\n",
       "      <td>West Dunbartonshire</td>\n",
       "      <td>1</td>\n",
       "    </tr>\n",
       "    <tr>\n",
       "      <th>225</th>\n",
       "      <td>4.452889</td>\n",
       "      <td>0.956333</td>\n",
       "      <td>_a</td>\n",
       "      <td>605</td>\n",
       "      <td>_b</td>\n",
       "      <td>229</td>\n",
       "      <td>Nus</td>\n",
       "      <td>Nusrat</td>\n",
       "      <td>1</td>\n",
       "      <td>Ghani</td>\n",
       "      <td>Ghani</td>\n",
       "      <td>3</td>\n",
       "      <td>Wealden</td>\n",
       "      <td>Wealden</td>\n",
       "      <td>1</td>\n",
       "    </tr>\n",
       "    <tr>\n",
       "      <th>271</th>\n",
       "      <td>4.452889</td>\n",
       "      <td>0.956333</td>\n",
       "      <td>_a</td>\n",
       "      <td>510</td>\n",
       "      <td>_b</td>\n",
       "      <td>277</td>\n",
       "      <td>Chris</td>\n",
       "      <td>Christopher</td>\n",
       "      <td>1</td>\n",
       "      <td>Hazzard</td>\n",
       "      <td>Hazzard</td>\n",
       "      <td>3</td>\n",
       "      <td>South Down</td>\n",
       "      <td>South Down</td>\n",
       "      <td>1</td>\n",
       "    </tr>\n",
       "    <tr>\n",
       "      <th>467</th>\n",
       "      <td>5.865504</td>\n",
       "      <td>0.983138</td>\n",
       "      <td>_a</td>\n",
       "      <td>394</td>\n",
       "      <td>_b</td>\n",
       "      <td>479</td>\n",
       "      <td>Ian</td>\n",
       "      <td>Ian</td>\n",
       "      <td>2</td>\n",
       "      <td>Paisley</td>\n",
       "      <td>Paisley Jnr</td>\n",
       "      <td>2</td>\n",
       "      <td>North Antrim</td>\n",
       "      <td>North Antrim</td>\n",
       "      <td>1</td>\n",
       "    </tr>\n",
       "  </tbody>\n",
       "</table>\n",
       "</div>"
      ],
      "text/plain": [
       "     match_weight  match_probability source_dataset_l  unique_id_l  \\\n",
       "152      4.452889           0.956333               _a          502   \n",
       "157      5.865504           0.983138               _a          615   \n",
       "225      4.452889           0.956333               _a          605   \n",
       "271      4.452889           0.956333               _a          510   \n",
       "467      5.865504           0.983138               _a          394   \n",
       "\n",
       "    source_dataset_r  unique_id_r Firstname_l  Firstname_r  gamma_Firstname  \\\n",
       "152               _b          152  Tanmanjeet          Tan                1   \n",
       "157               _b          158      Martin       Martin                2   \n",
       "225               _b          229         Nus       Nusrat                1   \n",
       "271               _b          277       Chris  Christopher                1   \n",
       "467               _b          479         Ian          Ian                2   \n",
       "\n",
       "          Lastname_l   Lastname_r  gamma_Lastname       Constituency_l  \\\n",
       "152            Dhesi        Dhesi               3               Slough   \n",
       "157  Docherty-Hughes     Docherty               2  West Dunbartonshire   \n",
       "225            Ghani        Ghani               3              Wealden   \n",
       "271          Hazzard      Hazzard               3           South Down   \n",
       "467          Paisley  Paisley Jnr               2         North Antrim   \n",
       "\n",
       "          Constituency_r  gamma_Constituency  \n",
       "152               Slough                   1  \n",
       "157  West Dunbartonshire                   1  \n",
       "225              Wealden                   1  \n",
       "271           South Down                   1  \n",
       "467         North Antrim                   1  "
      ]
     },
     "execution_count": 80,
     "metadata": {},
     "output_type": "execute_result"
    }
   ],
   "source": [
    "pres[pres['match_probability']<0.99].head()"
   ]
  },
  {
   "cell_type": "code",
   "execution_count": 81,
   "id": "eb29f5e4",
   "metadata": {},
   "outputs": [
    {
     "data": {
      "text/plain": [
       "{'link_type': 'link_only',\n",
       " 'comparisons': [{'output_column_name': 'Firstname',\n",
       "   'comparison_levels': [{'sql_condition': '\"Firstname_l\" IS NULL OR \"Firstname_r\" IS NULL',\n",
       "     'label_for_charts': 'Null',\n",
       "     'is_null_level': True},\n",
       "    {'sql_condition': '\"Firstname_l\" = \"Firstname_r\"',\n",
       "     'label_for_charts': 'Exact match',\n",
       "     'm_probability': 0.9936701863484996,\n",
       "     'u_probability': 0.00636245110821382},\n",
       "    {'sql_condition': 'jaro_winkler_similarity(\"Firstname_l\", \"Firstname_r\") >= 0.8',\n",
       "     'label_for_charts': 'jaro_winkler_similarity >= 0.8',\n",
       "     'm_probability': 0.006322249703249883,\n",
       "     'u_probability': 0.008036031764845325},\n",
       "    {'sql_condition': 'ELSE',\n",
       "     'label_for_charts': 'All other comparisons',\n",
       "     'm_probability': 7.563948250584628e-06,\n",
       "     'u_probability': 0.9856015171269409}],\n",
       "   'comparison_description': 'Exact match vs. jaro_winkler_similarity at threshold 0.8 vs. anything else'},\n",
       "  {'output_column_name': 'Lastname',\n",
       "   'comparison_levels': [{'sql_condition': '\"Lastname_l\" IS NULL OR \"Lastname_r\" IS NULL',\n",
       "     'label_for_charts': 'Null',\n",
       "     'is_null_level': True},\n",
       "    {'sql_condition': '\"Lastname_l\" = \"Lastname_r\"',\n",
       "     'label_for_charts': 'Exact match',\n",
       "     'm_probability': 0.9968267456007025,\n",
       "     'u_probability': 0.002327841649875548},\n",
       "    {'sql_condition': 'jaro_winkler_similarity(\"Lastname_l\", \"Lastname_r\") >= 0.9',\n",
       "     'label_for_charts': 'jaro_winkler_similarity >= 0.9',\n",
       "     'm_probability': 0.0031718729254044224,\n",
       "     'u_probability': 0.0005523290269052981},\n",
       "    {'sql_condition': 'jaro_winkler_similarity(\"Lastname_l\", \"Lastname_r\") >= 0.8',\n",
       "     'label_for_charts': 'jaro_winkler_similarity >= 0.8',\n",
       "     'm_probability': 2.143191152272135e-50,\n",
       "     'u_probability': 0.0025198530283276044},\n",
       "    {'sql_condition': 'ELSE',\n",
       "     'label_for_charts': 'All other comparisons',\n",
       "     'm_probability': 1.381473893044597e-06,\n",
       "     'u_probability': 0.9945999762948915}],\n",
       "   'comparison_description': 'Exact match vs. jaro_winkler_similarity at thresholds 0.9, 0.8 vs. anything else'},\n",
       "  {'output_column_name': 'Constituency',\n",
       "   'comparison_levels': [{'sql_condition': '\"Constituency_l\" IS NULL OR \"Constituency_r\" IS NULL',\n",
       "     'label_for_charts': 'Null',\n",
       "     'is_null_level': True},\n",
       "    {'sql_condition': '\"Constituency_l\" = \"Constituency_r\"',\n",
       "     'label_for_charts': 'Exact match',\n",
       "     'm_probability': 0.9999999999970148,\n",
       "     'u_probability': 0.0015384615384615385},\n",
       "    {'sql_condition': 'ELSE',\n",
       "     'label_for_charts': 'All other comparisons',\n",
       "     'm_probability': 2.9851118336634723e-12,\n",
       "     'u_probability': 0.9984615384615385}],\n",
       "   'comparison_description': 'Exact match vs. anything else'}],\n",
       " 'sql_dialect': 'duckdb',\n",
       " 'probability_two_random_records_match': 0.0001}"
      ]
     },
     "execution_count": 81,
     "metadata": {},
     "output_type": "execute_result"
    }
   ],
   "source": [
    "linker.save_settings_to_json()"
   ]
  },
  {
   "cell_type": "code",
   "execution_count": 82,
   "id": "70ccc08b",
   "metadata": {},
   "outputs": [
    {
     "data": {
      "text/html": [
       "\n",
       "<div id=\"altair-viz-1a7df8cd04f24021b4f874298bc0921f\"></div>\n",
       "<script type=\"text/javascript\">\n",
       "  var VEGA_DEBUG = (typeof VEGA_DEBUG == \"undefined\") ? {} : VEGA_DEBUG;\n",
       "  (function(spec, embedOpt){\n",
       "    let outputDiv = document.currentScript.previousElementSibling;\n",
       "    if (outputDiv.id !== \"altair-viz-1a7df8cd04f24021b4f874298bc0921f\") {\n",
       "      outputDiv = document.getElementById(\"altair-viz-1a7df8cd04f24021b4f874298bc0921f\");\n",
       "    }\n",
       "    const paths = {\n",
       "      \"vega\": \"https://cdn.jsdelivr.net/npm//vega@5?noext\",\n",
       "      \"vega-lib\": \"https://cdn.jsdelivr.net/npm//vega-lib?noext\",\n",
       "      \"vega-lite\": \"https://cdn.jsdelivr.net/npm//vega-lite@4.17.0?noext\",\n",
       "      \"vega-embed\": \"https://cdn.jsdelivr.net/npm//vega-embed@6?noext\",\n",
       "    };\n",
       "\n",
       "    function maybeLoadScript(lib, version) {\n",
       "      var key = `${lib.replace(\"-\", \"\")}_version`;\n",
       "      return (VEGA_DEBUG[key] == version) ?\n",
       "        Promise.resolve(paths[lib]) :\n",
       "        new Promise(function(resolve, reject) {\n",
       "          var s = document.createElement('script');\n",
       "          document.getElementsByTagName(\"head\")[0].appendChild(s);\n",
       "          s.async = true;\n",
       "          s.onload = () => {\n",
       "            VEGA_DEBUG[key] = version;\n",
       "            return resolve(paths[lib]);\n",
       "          };\n",
       "          s.onerror = () => reject(`Error loading script: ${paths[lib]}`);\n",
       "          s.src = paths[lib];\n",
       "        });\n",
       "    }\n",
       "\n",
       "    function showError(err) {\n",
       "      outputDiv.innerHTML = `<div class=\"error\" style=\"color:red;\">${err}</div>`;\n",
       "      throw err;\n",
       "    }\n",
       "\n",
       "    function displayChart(vegaEmbed) {\n",
       "      vegaEmbed(outputDiv, spec, embedOpt)\n",
       "        .catch(err => showError(`Javascript Error: ${err.message}<br>This usually means there's a typo in your chart specification. See the javascript console for the full traceback.`));\n",
       "    }\n",
       "\n",
       "    if(typeof define === \"function\" && define.amd) {\n",
       "      requirejs.config({paths});\n",
       "      require([\"vega-embed\"], displayChart, err => showError(`Error loading script: ${err.message}`));\n",
       "    } else {\n",
       "      maybeLoadScript(\"vega\", \"5\")\n",
       "        .then(() => maybeLoadScript(\"vega-lite\", \"4.17.0\"))\n",
       "        .then(() => maybeLoadScript(\"vega-embed\", \"6\"))\n",
       "        .catch(showError)\n",
       "        .then(() => displayChart(vegaEmbed));\n",
       "    }\n",
       "  })({\"config\": {\"view\": {\"width\": 400, \"height\": 60}, \"mark\": {\"tooltip\": null}, \"title\": {\"anchor\": \"middle\"}, \"header\": {\"title\": null}}, \"data\": {\"values\": [{\"comparison_name\": \"probability_two_random_records_match\", \"sql_condition\": null, \"label_for_charts\": \"\", \"m_probability\": null, \"u_probability\": null, \"m_probability_description\": null, \"u_probability_description\": null, \"has_tf_adjustments\": false, \"tf_adjustment_column\": null, \"tf_adjustment_weight\": null, \"is_null_level\": false, \"bayes_factor\": 0.00010001000100010001, \"log2_bayes_factor\": -13.287568102831404, \"comparison_vector_value\": 0, \"max_comparison_vector_value\": 0, \"bayes_factor_description\": \"The probability that two random records drawn at random match is 0.000 or one in  10,000.0 records.This is equivalent to a starting match weight of -13.288.\", \"probability_two_random_records_match\": 0.0001, \"comparison_sort_order\": -1}, {\"comparison_name\": \"Firstname\", \"sql_condition\": \"\\\"Firstname_l\\\" = \\\"Firstname_r\\\"\", \"label_for_charts\": \"Exact match\", \"m_probability\": 0.9936701863484996, \"u_probability\": 0.00636245110821382, \"m_probability_description\": \"Amongst matching record comparisons, 99.37% of records are in the exact match comparison level\", \"u_probability_description\": \"Amongst non-matching record comparisons, 0.64% of records are in the exact match comparison level\", \"has_tf_adjustments\": false, \"tf_adjustment_column\": null, \"tf_adjustment_weight\": 1.0, \"is_null_level\": false, \"bayes_factor\": 156.17726084616788, \"log2_bayes_factor\": 7.287040604505723, \"comparison_vector_value\": 2, \"max_comparison_vector_value\": 2, \"bayes_factor_description\": \"If comparison level is `exact match` then comparison is 156.18 times more likely to be a match\", \"probability_two_random_records_match\": 0.0001, \"comparison_sort_order\": 0}, {\"comparison_name\": \"Firstname\", \"sql_condition\": \"jaro_winkler_similarity(\\\"Firstname_l\\\", \\\"Firstname_r\\\") >= 0.8\", \"label_for_charts\": \"jaro_winkler_similarity >= 0.8\", \"m_probability\": 0.006322249703249883, \"u_probability\": 0.008036031764845325, \"m_probability_description\": \"Amongst matching record comparisons, 0.63% of records are in the jaro_winkler_similarity >= 0.8 comparison level\", \"u_probability_description\": \"Amongst non-matching record comparisons, 0.80% of records are in the jaro_winkler_similarity >= 0.8 comparison level\", \"has_tf_adjustments\": false, \"tf_adjustment_column\": null, \"tf_adjustment_weight\": 1.0, \"is_null_level\": false, \"bayes_factor\": 0.786737769119753, \"log2_bayes_factor\": -0.34604524979383566, \"comparison_vector_value\": 1, \"max_comparison_vector_value\": 2, \"bayes_factor_description\": \"If comparison level is `jaro_winkler_similarity >= 0.8` then comparison is  1.27 times less likely to be a match\", \"probability_two_random_records_match\": 0.0001, \"comparison_sort_order\": 0}, {\"comparison_name\": \"Firstname\", \"sql_condition\": \"ELSE\", \"label_for_charts\": \"All other comparisons\", \"m_probability\": 7.563948250584628e-06, \"u_probability\": 0.9856015171269409, \"m_probability_description\": \"Amongst matching record comparisons, 0.00% of records are in the all other comparisons comparison level\", \"u_probability_description\": \"Amongst non-matching record comparisons, 98.56% of records are in the all other comparisons comparison level\", \"has_tf_adjustments\": false, \"tf_adjustment_column\": null, \"tf_adjustment_weight\": 1.0, \"is_null_level\": false, \"bayes_factor\": 7.674448668295248e-06, \"log2_bayes_factor\": -16.99150545820116, \"comparison_vector_value\": 0, \"max_comparison_vector_value\": 2, \"bayes_factor_description\": \"If comparison level is `all other comparisons` then comparison is  130,302.52 times less likely to be a match\", \"probability_two_random_records_match\": 0.0001, \"comparison_sort_order\": 0}, {\"comparison_name\": \"Lastname\", \"sql_condition\": \"\\\"Lastname_l\\\" = \\\"Lastname_r\\\"\", \"label_for_charts\": \"Exact match\", \"m_probability\": 0.9968267456007025, \"u_probability\": 0.002327841649875548, \"m_probability_description\": \"Amongst matching record comparisons, 99.68% of records are in the exact match comparison level\", \"u_probability_description\": \"Amongst non-matching record comparisons, 0.23% of records are in the exact match comparison level\", \"has_tf_adjustments\": false, \"tf_adjustment_column\": null, \"tf_adjustment_weight\": 1.0, \"is_null_level\": false, \"bayes_factor\": 428.219310215536, \"log2_bayes_factor\": 8.742206044171777, \"comparison_vector_value\": 3, \"max_comparison_vector_value\": 3, \"bayes_factor_description\": \"If comparison level is `exact match` then comparison is 428.22 times more likely to be a match\", \"probability_two_random_records_match\": 0.0001, \"comparison_sort_order\": 1}, {\"comparison_name\": \"Lastname\", \"sql_condition\": \"jaro_winkler_similarity(\\\"Lastname_l\\\", \\\"Lastname_r\\\") >= 0.9\", \"label_for_charts\": \"jaro_winkler_similarity >= 0.9\", \"m_probability\": 0.0031718729254044224, \"u_probability\": 0.0005523290269052981, \"m_probability_description\": \"Amongst matching record comparisons, 0.32% of records are in the jaro_winkler_similarity >= 0.9 comparison level\", \"u_probability_description\": \"Amongst non-matching record comparisons, 0.06% of records are in the jaro_winkler_similarity >= 0.9 comparison level\", \"has_tf_adjustments\": false, \"tf_adjustment_column\": null, \"tf_adjustment_weight\": 1.0, \"is_null_level\": false, \"bayes_factor\": 5.74272357760453, \"log2_bayes_factor\": 2.5217351201747853, \"comparison_vector_value\": 2, \"max_comparison_vector_value\": 3, \"bayes_factor_description\": \"If comparison level is `jaro_winkler_similarity >= 0.9` then comparison is 5.74 times more likely to be a match\", \"probability_two_random_records_match\": 0.0001, \"comparison_sort_order\": 1}, {\"comparison_name\": \"Lastname\", \"sql_condition\": \"jaro_winkler_similarity(\\\"Lastname_l\\\", \\\"Lastname_r\\\") >= 0.8\", \"label_for_charts\": \"jaro_winkler_similarity >= 0.8\", \"m_probability\": 2.143191152272135e-50, \"u_probability\": 0.0025198530283276044, \"m_probability_description\": \"Amongst matching record comparisons, 0.00% of records are in the jaro_winkler_similarity >= 0.8 comparison level\", \"u_probability_description\": \"Amongst non-matching record comparisons, 0.25% of records are in the jaro_winkler_similarity >= 0.8 comparison level\", \"has_tf_adjustments\": false, \"tf_adjustment_column\": null, \"tf_adjustment_weight\": 1.0, \"is_null_level\": false, \"bayes_factor\": 8.505222837121357e-48, \"log2_bayes_factor\": -156.36419951955148, \"comparison_vector_value\": 1, \"max_comparison_vector_value\": 3, \"bayes_factor_description\": \"If comparison level is `jaro_winkler_similarity >= 0.8` then comparison is  117,574,814,810,902,241,261,015,276,406,523,749,448,881,799,168.00 times less likely to be a match\", \"probability_two_random_records_match\": 0.0001, \"comparison_sort_order\": 1}, {\"comparison_name\": \"Lastname\", \"sql_condition\": \"ELSE\", \"label_for_charts\": \"All other comparisons\", \"m_probability\": 1.381473893044597e-06, \"u_probability\": 0.9945999762948915, \"m_probability_description\": \"Amongst matching record comparisons, 0.00% of records are in the all other comparisons comparison level\", \"u_probability_description\": \"Amongst non-matching record comparisons, 99.46% of records are in the all other comparisons comparison level\", \"has_tf_adjustments\": false, \"tf_adjustment_column\": null, \"tf_adjustment_weight\": 1.0, \"is_null_level\": false, \"bayes_factor\": 1.3889743876637699e-06, \"log2_bayes_factor\": -19.457548572691078, \"comparison_vector_value\": 0, \"max_comparison_vector_value\": 3, \"bayes_factor_description\": \"If comparison level is `all other comparisons` then comparison is  719,955.68 times less likely to be a match\", \"probability_two_random_records_match\": 0.0001, \"comparison_sort_order\": 1}, {\"comparison_name\": \"Constituency\", \"sql_condition\": \"\\\"Constituency_l\\\" = \\\"Constituency_r\\\"\", \"label_for_charts\": \"Exact match\", \"m_probability\": 0.9999999999970148, \"u_probability\": 0.0015384615384615385, \"m_probability_description\": \"Amongst matching record comparisons, 100.00% of records are in the exact match comparison level\", \"u_probability_description\": \"Amongst non-matching record comparisons, 0.15% of records are in the exact match comparison level\", \"has_tf_adjustments\": false, \"tf_adjustment_column\": null, \"tf_adjustment_weight\": 1.0, \"is_null_level\": false, \"bayes_factor\": 649.9999999980596, \"log2_bayes_factor\": 9.34429590791151, \"comparison_vector_value\": 1, \"max_comparison_vector_value\": 1, \"bayes_factor_description\": \"If comparison level is `exact match` then comparison is 650.00 times more likely to be a match\", \"probability_two_random_records_match\": 0.0001, \"comparison_sort_order\": 2}, {\"comparison_name\": \"Constituency\", \"sql_condition\": \"ELSE\", \"label_for_charts\": \"All other comparisons\", \"m_probability\": 2.9851118336634723e-12, \"u_probability\": 0.9984615384615385, \"m_probability_description\": \"Amongst matching record comparisons, 0.00% of records are in the all other comparisons comparison level\", \"u_probability_description\": \"Amongst non-matching record comparisons, 99.85% of records are in the all other comparisons comparison level\", \"has_tf_adjustments\": false, \"tf_adjustment_column\": null, \"tf_adjustment_weight\": 1.0, \"is_null_level\": false, \"bayes_factor\": 2.9897113896475452e-12, \"log2_bayes_factor\": -38.283130917375786, \"comparison_vector_value\": 0, \"max_comparison_vector_value\": 1, \"bayes_factor_description\": \"If comparison level is `all other comparisons` then comparison is  334,480,446,327.59 times less likely to be a match\", \"probability_two_random_records_match\": 0.0001, \"comparison_sort_order\": 2}]}, \"vconcat\": [{\"height\": 20, \"mark\": {\"type\": \"bar\", \"clip\": true, \"height\": 15}, \"selection\": {\"zoom_selector\": {\"type\": \"interval\", \"bind\": \"scales\", \"encodings\": [\"x\"]}}, \"transform\": [{\"filter\": \"(datum.comparison_name == 'probability_two_random_records_match')\"}], \"encoding\": {\"color\": {\"type\": \"quantitative\", \"field\": \"log2_bayes_factor\", \"title\": \"Match weight\", \"scale\": {\"range\": [\"red\", \"orange\", \"green\"], \"domain\": [-10, 0, 10]}}, \"tooltip\": [{\"type\": \"nominal\", \"field\": \"comparison_name\", \"title\": \"Comparison name\"}, {\"type\": \"nominal\", \"field\": \"probability_two_random_records_match\", \"format\": \".4f\", \"title\": \"Probability two random records match\"}, {\"type\": \"quantitative\", \"field\": \"log2_bayes_factor\", \"title\": \"Equivalent match weight\", \"format\": \",.4f\"}, {\"type\": \"nominal\", \"field\": \"bayes_factor_description\", \"title\": \"Match weight description\"}], \"x\": {\"type\": \"quantitative\", \"axis\": {\"labels\": false, \"domain\": false, \"title\": \"\", \"ticks\": false}, \"field\": \"log2_bayes_factor\", \"scale\": {\"domain\": [-10, 10]}}, \"y\": {\"type\": \"nominal\", \"field\": \"label_for_charts\", \"axis\": {\"title\": \"Prior (starting) match weight\", \"titleAngle\": 0, \"titleAlign\": \"right\", \"titleFontWeight\": \"normal\"}, \"sort\": {\"field\": \"comparison_vector_value\", \"order\": \"descending\"}}}}, {\"height\": {\"step\": 12}, \"mark\": {\"type\": \"bar\", \"clip\": true}, \"selection\": {\"zoom_selector\": {\"type\": \"interval\", \"bind\": \"scales\", \"encodings\": [\"x\"]}}, \"transform\": [{\"filter\": \"(datum.comparison_name != 'probability_two_random_records_match')\"}], \"encoding\": {\"color\": {\"type\": \"quantitative\", \"field\": \"log2_bayes_factor\", \"title\": \"Match weight\", \"scale\": {\"range\": [\"red\", \"orange\", \"green\"], \"domain\": [-10, 0, 10]}}, \"row\": {\"type\": \"nominal\", \"field\": \"comparison_name\", \"sort\": {\"field\": \"comparison_sort_order\"}, \"header\": {\"labelAngle\": 0, \"labelAnchor\": \"middle\", \"labelAlign\": \"left\"}}, \"tooltip\": [{\"type\": \"nominal\", \"field\": \"comparison_name\", \"title\": \"Comparison name\"}, {\"type\": \"ordinal\", \"field\": \"label_for_charts\", \"title\": \"Label\"}, {\"type\": \"nominal\", \"field\": \"sql_condition\", \"title\": \"SQL condition\"}, {\"type\": \"quantitative\", \"field\": \"m_probability\", \"format\": \".4f\", \"title\": \"M probability\"}, {\"type\": \"quantitative\", \"field\": \"u_probability\", \"format\": \".4f\", \"title\": \"U probability\"}, {\"type\": \"quantitative\", \"field\": \"bayes_factor\", \"title\": \"Bayes factor = m/u\", \"format\": \",.4f\"}, {\"type\": \"quantitative\", \"field\": \"log2_bayes_factor\", \"title\": \"Match weight = log2(m/u)\", \"format\": \",.4f\"}, {\"type\": \"nominal\", \"field\": \"bayes_factor_description\", \"title\": \"Match weight description\"}], \"x\": {\"type\": \"quantitative\", \"axis\": {\"title\": \"Comparison level match weight = log2(m/u)\"}, \"field\": \"log2_bayes_factor\", \"scale\": {\"domain\": [-10, 10]}}, \"y\": {\"type\": \"nominal\", \"field\": \"label_for_charts\", \"axis\": {\"title\": null}, \"sort\": {\"field\": \"comparison_vector_value\", \"order\": \"descending\"}}}, \"resolve\": {\"axis\": {\"y\": \"independent\"}, \"scale\": {\"y\": \"independent\"}}}], \"selection\": {\"zoom_selector\": {\"type\": \"interval\", \"bind\": \"scales\", \"encodings\": [\"x\"]}}, \"resolve\": {\"axis\": {\"y\": \"independent\"}, \"scale\": {\"y\": \"independent\"}}, \"title\": {\"text\": \"Model parameters (components of final match weight)\", \"subtitle\": \"Use mousewheel to zoom\"}, \"$schema\": \"https://vega.github.io/schema/vega-lite/v5.2.json\"}, {\"mode\": \"vega-lite\"});\n",
       "</script>"
      ],
      "text/plain": [
       "<splink.charts.VegaliteNoValidate at 0x228040b48c8>"
      ]
     },
     "execution_count": 82,
     "metadata": {},
     "output_type": "execute_result"
    }
   ],
   "source": [
    "linker.match_weights_chart()"
   ]
  },
  {
   "cell_type": "markdown",
   "id": "d33c5a12",
   "metadata": {},
   "source": [
    "# Real Time Match"
   ]
  },
  {
   "cell_type": "code",
   "execution_count": 83,
   "id": "1a490804",
   "metadata": {},
   "outputs": [
    {
     "data": {
      "text/html": [
       "<div>\n",
       "<style scoped>\n",
       "    .dataframe tbody tr th:only-of-type {\n",
       "        vertical-align: middle;\n",
       "    }\n",
       "\n",
       "    .dataframe tbody tr th {\n",
       "        vertical-align: top;\n",
       "    }\n",
       "\n",
       "    .dataframe thead th {\n",
       "        text-align: right;\n",
       "    }\n",
       "</style>\n",
       "<table border=\"1\" class=\"dataframe\">\n",
       "  <thead>\n",
       "    <tr style=\"text-align: right;\">\n",
       "      <th></th>\n",
       "      <th>match_weight</th>\n",
       "      <th>match_probability</th>\n",
       "      <th>unique_id_l</th>\n",
       "      <th>unique_id_r</th>\n",
       "      <th>Firstname_l</th>\n",
       "      <th>Firstname_r</th>\n",
       "      <th>gamma_Firstname</th>\n",
       "      <th>Lastname_l</th>\n",
       "      <th>Lastname_r</th>\n",
       "      <th>gamma_Lastname</th>\n",
       "      <th>Constituency_l</th>\n",
       "      <th>Constituency_r</th>\n",
       "      <th>gamma_Constituency</th>\n",
       "    </tr>\n",
       "  </thead>\n",
       "  <tbody>\n",
       "    <tr>\n",
       "      <th>0</th>\n",
       "      <td>12.085974</td>\n",
       "      <td>0.999770</td>\n",
       "      <td>122</td>\n",
       "      <td>999</td>\n",
       "      <td>Dan</td>\n",
       "      <td>Dan</td>\n",
       "      <td>2</td>\n",
       "      <td>Poulter</td>\n",
       "      <td>Poulter</td>\n",
       "      <td>3</td>\n",
       "      <td>Central Suffolk and North Ipswich</td>\n",
       "      <td>Central Suffolk and North Ipswich</td>\n",
       "      <td>1</td>\n",
       "    </tr>\n",
       "    <tr>\n",
       "      <th>1</th>\n",
       "      <td>4.452889</td>\n",
       "      <td>0.956333</td>\n",
       "      <td>493</td>\n",
       "      <td>999</td>\n",
       "      <td>Daniel</td>\n",
       "      <td>Dan</td>\n",
       "      <td>1</td>\n",
       "      <td>Poulter</td>\n",
       "      <td>Poulter</td>\n",
       "      <td>3</td>\n",
       "      <td>Central Suffolk and North Ipswich</td>\n",
       "      <td>Central Suffolk and North Ipswich</td>\n",
       "      <td>1</td>\n",
       "    </tr>\n",
       "  </tbody>\n",
       "</table>\n",
       "</div>"
      ],
      "text/plain": [
       "   match_weight  match_probability  unique_id_l  unique_id_r Firstname_l  \\\n",
       "0     12.085974           0.999770          122          999         Dan   \n",
       "1      4.452889           0.956333          493          999      Daniel   \n",
       "\n",
       "  Firstname_r  gamma_Firstname Lastname_l Lastname_r  gamma_Lastname  \\\n",
       "0         Dan                2    Poulter    Poulter               3   \n",
       "1         Dan                1    Poulter    Poulter               3   \n",
       "\n",
       "                      Constituency_l                     Constituency_r  \\\n",
       "0  Central Suffolk and North Ipswich  Central Suffolk and North Ipswich   \n",
       "1  Central Suffolk and North Ipswich  Central Suffolk and North Ipswich   \n",
       "\n",
       "   gamma_Constituency  \n",
       "0                   1  \n",
       "1                   1  "
      ]
     },
     "execution_count": 83,
     "metadata": {},
     "output_type": "execute_result"
    }
   ],
   "source": [
    "# Real time match example\n",
    "record = {'unique_id': 999,\n",
    " 'Firstname': \"Dan\",\n",
    " 'Lastname': \"Poulter\",\n",
    "'Constituency': 'Central Suffolk and North Ipswich'\n",
    "}\n",
    "\n",
    "df_inc = linker.find_matches_to_new_records([record], blocking_rules=[], match_weight_threshold = -5).as_pandas_dataframe()\n",
    "df_inc.sort_values(\"match_weight\", ascending=False)"
   ]
  },
  {
   "cell_type": "code",
   "execution_count": null,
   "id": "d9e24ef8",
   "metadata": {},
   "outputs": [],
   "source": []
  }
 ],
 "metadata": {
  "kernelspec": {
   "display_name": "Python 3 (ipykernel)",
   "language": "python",
   "name": "python3"
  },
  "language_info": {
   "codemirror_mode": {
    "name": "ipython",
    "version": 3
   },
   "file_extension": ".py",
   "mimetype": "text/x-python",
   "name": "python",
   "nbconvert_exporter": "python",
   "pygments_lexer": "ipython3",
   "version": "3.7.4"
  }
 },
 "nbformat": 4,
 "nbformat_minor": 5
}
