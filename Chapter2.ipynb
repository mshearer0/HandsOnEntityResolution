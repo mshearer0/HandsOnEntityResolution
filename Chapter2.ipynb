{
 "cells": [
  {
   "cell_type": "markdown",
   "id": "2c86c7be",
   "metadata": {},
   "source": [
    "# Chapter 2 - Data Standardization"
   ]
  },
  {
   "cell_type": "markdown",
   "id": "b476eeef",
   "metadata": {},
   "source": [
    "## Step 1 - Acquire Data"
   ]
  },
  {
   "cell_type": "markdown",
   "id": "cf81046d",
   "metadata": {},
   "source": [
    "### Wikipedia"
   ]
  },
  {
   "cell_type": "code",
   "execution_count": 1,
   "id": "bcbd8f6a",
   "metadata": {},
   "outputs": [],
   "source": [
    "# Get the Wikipedia webpage and find all tables.\n",
    "\n",
    "url = \"https://en.wikipedia.org/wiki/List_of_MPs_elected_in_the_2019_United_Kingdom_general_election\"\n",
    "\n",
    "import requests\n",
    "from bs4 import BeautifulSoup\n",
    "\n",
    "website_url = requests.get(url).text\n",
    "soup = BeautifulSoup(website_url,'html.parser')\n",
    "tables = soup.find_all('table')"
   ]
  },
  {
   "cell_type": "code",
   "execution_count": 2,
   "id": "647b6d9b",
   "metadata": {},
   "outputs": [],
   "source": [
    "# Find the table with members returned, extract rows as a list of lists and load into dataframe\n",
    "\n",
    "import pandas as pd\n",
    "\n",
    "for table in tables:\n",
    "    if 'Member returned' in table.text:\n",
    "        headers = [header.text.strip() for header in table.find_all('th')]\n",
    "        # To fix - headers returns 7 but only 5 columns \n",
    "        headers = headers[:5]\n",
    "        dfrows = []\n",
    "        table_rows = table.find_all('tr')    \n",
    "        for row in table_rows:\n",
    "            td = row.find_all('td')\n",
    "            dfrow = [row.text for row in td if row.text!='\\n']\n",
    "            dfrows.append(dfrow)\n",
    "\n",
    "df_w = pd.DataFrame(dfrows, columns=headers)            "
   ]
  },
  {
   "cell_type": "code",
   "execution_count": 3,
   "id": "df654f78",
   "metadata": {},
   "outputs": [
    {
     "name": "stdout",
     "output_type": "stream",
     "text": [
      "<class 'pandas.core.frame.DataFrame'>\n",
      "RangeIndex: 652 entries, 0 to 651\n",
      "Data columns (total 5 columns):\n",
      " #   Column                             Non-Null Count  Dtype \n",
      "---  ------                             --------------  ----- \n",
      " 0   Constituency                       650 non-null    object\n",
      " 1   Party of incumbentbefore election  650 non-null    object\n",
      " 2   Member returned                    650 non-null    object\n",
      " 3   Party of incumbentafter election   650 non-null    object\n",
      " 4   Notes                              650 non-null    object\n",
      "dtypes: object(5)\n",
      "memory usage: 25.6+ KB\n"
     ]
    }
   ],
   "source": [
    "df_w.info()"
   ]
  },
  {
   "cell_type": "code",
   "execution_count": 4,
   "id": "de90537c",
   "metadata": {},
   "outputs": [
    {
     "data": {
      "text/plain": [
       "652"
      ]
     },
     "execution_count": 4,
     "metadata": {},
     "output_type": "execute_result"
    }
   ],
   "source": [
    "# Remove unwanted columns and check length\n",
    "\n",
    "df_w = df_w[['Constituency','Member returned','Notes']]\n",
    "len(df_w)"
   ]
  },
  {
   "cell_type": "markdown",
   "id": "3e8233dc",
   "metadata": {},
   "source": [
    "### Saving to Local Storage"
   ]
  },
  {
   "cell_type": "code",
   "execution_count": 17,
   "id": "b4f17671",
   "metadata": {},
   "outputs": [],
   "source": [
    "# Save file to local storage\n",
    "#df_w.to_csv('mps_wiki_raw.csv')\n",
    "\n",
    "df_w = pd.read_csv('mps_wiki_raw.csv')"
   ]
  },
  {
   "cell_type": "markdown",
   "id": "5cbd19ee",
   "metadata": {},
   "source": [
    "### They Work For You"
   ]
  },
  {
   "cell_type": "code",
   "execution_count": 18,
   "id": "c32d2dbd",
   "metadata": {},
   "outputs": [],
   "source": [
    "# Download all current Members of Parliament\n",
    "\n",
    "url = \"https://www.theyworkforyou.com/mps/?f=csv\"\n",
    "df_t = pd.read_csv(url, header=0)"
   ]
  },
  {
   "cell_type": "code",
   "execution_count": 19,
   "id": "4250cf7e",
   "metadata": {},
   "outputs": [
    {
     "name": "stdout",
     "output_type": "stream",
     "text": [
      "<class 'pandas.core.frame.DataFrame'>\n",
      "RangeIndex: 650 entries, 0 to 649\n",
      "Data columns (total 6 columns):\n",
      " #   Column        Non-Null Count  Dtype \n",
      "---  ------        --------------  ----- \n",
      " 0   Person ID     650 non-null    int64 \n",
      " 1   First name    650 non-null    object\n",
      " 2   Last name     650 non-null    object\n",
      " 3   Party         650 non-null    object\n",
      " 4   Constituency  650 non-null    object\n",
      " 5   URI           650 non-null    object\n",
      "dtypes: int64(1), object(5)\n",
      "memory usage: 30.6+ KB\n"
     ]
    }
   ],
   "source": [
    "df_t.info()"
   ]
  },
  {
   "cell_type": "code",
   "execution_count": 20,
   "id": "7866e5a6",
   "metadata": {},
   "outputs": [
    {
     "data": {
      "text/html": [
       "<div>\n",
       "<style scoped>\n",
       "    .dataframe tbody tr th:only-of-type {\n",
       "        vertical-align: middle;\n",
       "    }\n",
       "\n",
       "    .dataframe tbody tr th {\n",
       "        vertical-align: top;\n",
       "    }\n",
       "\n",
       "    .dataframe thead th {\n",
       "        text-align: right;\n",
       "    }\n",
       "</style>\n",
       "<table border=\"1\" class=\"dataframe\">\n",
       "  <thead>\n",
       "    <tr style=\"text-align: right;\">\n",
       "      <th></th>\n",
       "      <th>Person ID</th>\n",
       "      <th>First name</th>\n",
       "      <th>Last name</th>\n",
       "      <th>Party</th>\n",
       "      <th>Constituency</th>\n",
       "      <th>URI</th>\n",
       "    </tr>\n",
       "  </thead>\n",
       "  <tbody>\n",
       "    <tr>\n",
       "      <th>0</th>\n",
       "      <td>10001</td>\n",
       "      <td>Diane</td>\n",
       "      <td>Abbott</td>\n",
       "      <td>Labour</td>\n",
       "      <td>Hackney North and Stoke Newington</td>\n",
       "      <td>https://www.theyworkforyou.com/mp/10001/diane_...</td>\n",
       "    </tr>\n",
       "    <tr>\n",
       "      <th>1</th>\n",
       "      <td>25034</td>\n",
       "      <td>Debbie</td>\n",
       "      <td>Abrahams</td>\n",
       "      <td>Labour</td>\n",
       "      <td>Oldham East and Saddleworth</td>\n",
       "      <td>https://www.theyworkforyou.com/mp/25034/debbie...</td>\n",
       "    </tr>\n",
       "    <tr>\n",
       "      <th>2</th>\n",
       "      <td>24878</td>\n",
       "      <td>Nigel</td>\n",
       "      <td>Adams</td>\n",
       "      <td>Conservative</td>\n",
       "      <td>Selby and Ainsty</td>\n",
       "      <td>https://www.theyworkforyou.com/mp/24878/nigel_...</td>\n",
       "    </tr>\n",
       "    <tr>\n",
       "      <th>3</th>\n",
       "      <td>25661</td>\n",
       "      <td>Bim</td>\n",
       "      <td>Afolami</td>\n",
       "      <td>Conservative</td>\n",
       "      <td>Hitchin and Harpenden</td>\n",
       "      <td>https://www.theyworkforyou.com/mp/25661/bim_af...</td>\n",
       "    </tr>\n",
       "    <tr>\n",
       "      <th>4</th>\n",
       "      <td>11929</td>\n",
       "      <td>Adam</td>\n",
       "      <td>Afriyie</td>\n",
       "      <td>Conservative</td>\n",
       "      <td>Windsor</td>\n",
       "      <td>https://www.theyworkforyou.com/mp/11929/adam_a...</td>\n",
       "    </tr>\n",
       "  </tbody>\n",
       "</table>\n",
       "</div>"
      ],
      "text/plain": [
       "   Person ID First name Last name         Party  \\\n",
       "0      10001      Diane    Abbott        Labour   \n",
       "1      25034     Debbie  Abrahams        Labour   \n",
       "2      24878      Nigel     Adams  Conservative   \n",
       "3      25661        Bim   Afolami  Conservative   \n",
       "4      11929       Adam   Afriyie  Conservative   \n",
       "\n",
       "                        Constituency  \\\n",
       "0  Hackney North and Stoke Newington   \n",
       "1        Oldham East and Saddleworth   \n",
       "2                   Selby and Ainsty   \n",
       "3              Hitchin and Harpenden   \n",
       "4                            Windsor   \n",
       "\n",
       "                                                 URI  \n",
       "0  https://www.theyworkforyou.com/mp/10001/diane_...  \n",
       "1  https://www.theyworkforyou.com/mp/25034/debbie...  \n",
       "2  https://www.theyworkforyou.com/mp/24878/nigel_...  \n",
       "3  https://www.theyworkforyou.com/mp/25661/bim_af...  \n",
       "4  https://www.theyworkforyou.com/mp/11929/adam_a...  "
      ]
     },
     "execution_count": 20,
     "metadata": {},
     "output_type": "execute_result"
    }
   ],
   "source": [
    "df_t.head(n=5)"
   ]
  },
  {
   "cell_type": "markdown",
   "id": "1d8cbd3a",
   "metadata": {},
   "source": [
    "### Add facebook links"
   ]
  },
  {
   "cell_type": "code",
   "execution_count": 21,
   "id": "b98ef249",
   "metadata": {},
   "outputs": [],
   "source": [
    "def facelink(url):\n",
    "    website_url = requests.get(url).text\n",
    "    soup = BeautifulSoup(website_url,'html.parser')\n",
    "    flinks = [f\"{item['href']}\" for item in soup.select(\n",
    "            \"a[href*='facebook.com']\")]\n",
    "    if flinks[0]!=\"https://www.facebook.com/TheyWorkForYou\":\n",
    "        return(flinks[0])\n",
    "    else:\n",
    "        return(\"\")"
   ]
  },
  {
   "cell_type": "code",
   "execution_count": 22,
   "id": "3503c936",
   "metadata": {},
   "outputs": [],
   "source": [
    "df_t['Flink'] = df_t.apply(lambda x: facelink(x.URI), axis=1)"
   ]
  },
  {
   "cell_type": "code",
   "execution_count": 23,
   "id": "0f5e1b72",
   "metadata": {},
   "outputs": [
    {
     "data": {
      "text/html": [
       "<div>\n",
       "<style scoped>\n",
       "    .dataframe tbody tr th:only-of-type {\n",
       "        vertical-align: middle;\n",
       "    }\n",
       "\n",
       "    .dataframe tbody tr th {\n",
       "        vertical-align: top;\n",
       "    }\n",
       "\n",
       "    .dataframe thead th {\n",
       "        text-align: right;\n",
       "    }\n",
       "</style>\n",
       "<table border=\"1\" class=\"dataframe\">\n",
       "  <thead>\n",
       "    <tr style=\"text-align: right;\">\n",
       "      <th></th>\n",
       "      <th>Person ID</th>\n",
       "      <th>First name</th>\n",
       "      <th>Last name</th>\n",
       "      <th>Party</th>\n",
       "      <th>Constituency</th>\n",
       "      <th>URI</th>\n",
       "      <th>Flink</th>\n",
       "    </tr>\n",
       "  </thead>\n",
       "  <tbody>\n",
       "    <tr>\n",
       "      <th>0</th>\n",
       "      <td>10001</td>\n",
       "      <td>Diane</td>\n",
       "      <td>Abbott</td>\n",
       "      <td>Labour</td>\n",
       "      <td>Hackney North and Stoke Newington</td>\n",
       "      <td>https://www.theyworkforyou.com/mp/10001/diane_...</td>\n",
       "      <td>https://facebook.com/Dianeabbott</td>\n",
       "    </tr>\n",
       "    <tr>\n",
       "      <th>1</th>\n",
       "      <td>25034</td>\n",
       "      <td>Debbie</td>\n",
       "      <td>Abrahams</td>\n",
       "      <td>Labour</td>\n",
       "      <td>Oldham East and Saddleworth</td>\n",
       "      <td>https://www.theyworkforyou.com/mp/25034/debbie...</td>\n",
       "      <td></td>\n",
       "    </tr>\n",
       "    <tr>\n",
       "      <th>2</th>\n",
       "      <td>24878</td>\n",
       "      <td>Nigel</td>\n",
       "      <td>Adams</td>\n",
       "      <td>Conservative</td>\n",
       "      <td>Selby and Ainsty</td>\n",
       "      <td>https://www.theyworkforyou.com/mp/24878/nigel_...</td>\n",
       "      <td>https://facebook.com/nigel.adamsmp</td>\n",
       "    </tr>\n",
       "    <tr>\n",
       "      <th>3</th>\n",
       "      <td>25661</td>\n",
       "      <td>Bim</td>\n",
       "      <td>Afolami</td>\n",
       "      <td>Conservative</td>\n",
       "      <td>Hitchin and Harpenden</td>\n",
       "      <td>https://www.theyworkforyou.com/mp/25661/bim_af...</td>\n",
       "      <td></td>\n",
       "    </tr>\n",
       "    <tr>\n",
       "      <th>4</th>\n",
       "      <td>11929</td>\n",
       "      <td>Adam</td>\n",
       "      <td>Afriyie</td>\n",
       "      <td>Conservative</td>\n",
       "      <td>Windsor</td>\n",
       "      <td>https://www.theyworkforyou.com/mp/11929/adam_a...</td>\n",
       "      <td>https://facebook.com/adamafriyieofficial</td>\n",
       "    </tr>\n",
       "  </tbody>\n",
       "</table>\n",
       "</div>"
      ],
      "text/plain": [
       "   Person ID First name Last name         Party  \\\n",
       "0      10001      Diane    Abbott        Labour   \n",
       "1      25034     Debbie  Abrahams        Labour   \n",
       "2      24878      Nigel     Adams  Conservative   \n",
       "3      25661        Bim   Afolami  Conservative   \n",
       "4      11929       Adam   Afriyie  Conservative   \n",
       "\n",
       "                        Constituency  \\\n",
       "0  Hackney North and Stoke Newington   \n",
       "1        Oldham East and Saddleworth   \n",
       "2                   Selby and Ainsty   \n",
       "3              Hitchin and Harpenden   \n",
       "4                            Windsor   \n",
       "\n",
       "                                                 URI  \\\n",
       "0  https://www.theyworkforyou.com/mp/10001/diane_...   \n",
       "1  https://www.theyworkforyou.com/mp/25034/debbie...   \n",
       "2  https://www.theyworkforyou.com/mp/24878/nigel_...   \n",
       "3  https://www.theyworkforyou.com/mp/25661/bim_af...   \n",
       "4  https://www.theyworkforyou.com/mp/11929/adam_a...   \n",
       "\n",
       "                                      Flink  \n",
       "0          https://facebook.com/Dianeabbott  \n",
       "1                                            \n",
       "2        https://facebook.com/nigel.adamsmp  \n",
       "3                                            \n",
       "4  https://facebook.com/adamafriyieofficial  "
      ]
     },
     "execution_count": 23,
     "metadata": {},
     "output_type": "execute_result"
    }
   ],
   "source": [
    "df_t.head(n=5)"
   ]
  },
  {
   "cell_type": "code",
   "execution_count": 24,
   "id": "96df144e",
   "metadata": {},
   "outputs": [
    {
     "data": {
      "text/plain": [
       "650"
      ]
     },
     "execution_count": 24,
     "metadata": {},
     "output_type": "execute_result"
    }
   ],
   "source": [
    "# Remove unwanted columns and check length\n",
    "\n",
    "df_t = df_t[['Constituency','First name','Last name','Flink']]\n",
    "len(df_t)"
   ]
  },
  {
   "cell_type": "markdown",
   "id": "3afe535e",
   "metadata": {},
   "source": [
    "### Saving to Local Storage"
   ]
  },
  {
   "cell_type": "code",
   "execution_count": 25,
   "id": "b9661fcd",
   "metadata": {},
   "outputs": [],
   "source": [
    "# Save file to local storage\n",
    "# After next UK election when theyworkforyou update their website you may wish to \n",
    "# comment out this next line and use the raw file (captured in 2023) provided.\n",
    "\n",
    "#df_t.to_csv('mps_they_raw.csv')\n",
    "\n",
    "df_t = pd.read_csv('mps_they_raw.csv')"
   ]
  },
  {
   "cell_type": "markdown",
   "id": "579b7664",
   "metadata": {},
   "source": [
    "## Step 2 - Data Cleansing"
   ]
  },
  {
   "cell_type": "markdown",
   "id": "3f816c66",
   "metadata": {},
   "source": [
    "#### Wikipedia Data"
   ]
  },
  {
   "cell_type": "code",
   "execution_count": 37,
   "id": "287f3344",
   "metadata": {},
   "outputs": [
    {
     "data": {
      "text/html": [
       "<div>\n",
       "<style scoped>\n",
       "    .dataframe tbody tr th:only-of-type {\n",
       "        vertical-align: middle;\n",
       "    }\n",
       "\n",
       "    .dataframe tbody tr th {\n",
       "        vertical-align: top;\n",
       "    }\n",
       "\n",
       "    .dataframe thead th {\n",
       "        text-align: right;\n",
       "    }\n",
       "</style>\n",
       "<table border=\"1\" class=\"dataframe\">\n",
       "  <thead>\n",
       "    <tr style=\"text-align: right;\">\n",
       "      <th></th>\n",
       "      <th>Unnamed: 0</th>\n",
       "      <th>Constituency</th>\n",
       "      <th>Fullname</th>\n",
       "      <th>Notes</th>\n",
       "      <th>Firstname</th>\n",
       "      <th>Lastname</th>\n",
       "    </tr>\n",
       "  </thead>\n",
       "  <tbody>\n",
       "    <tr>\n",
       "      <th>1</th>\n",
       "      <td>1</td>\n",
       "      <td>Aberavon</td>\n",
       "      <td>Stephen Kinnock</td>\n",
       "      <td>Seat held\\n</td>\n",
       "      <td>Stephen</td>\n",
       "      <td>Kinnock</td>\n",
       "    </tr>\n",
       "    <tr>\n",
       "      <th>2</th>\n",
       "      <td>2</td>\n",
       "      <td>Aberconwy</td>\n",
       "      <td>Robin Millar</td>\n",
       "      <td>Previous incumbent, Guto Bebb, did not stand\\n</td>\n",
       "      <td>Robin</td>\n",
       "      <td>Millar</td>\n",
       "    </tr>\n",
       "    <tr>\n",
       "      <th>3</th>\n",
       "      <td>3</td>\n",
       "      <td>Aberdeen North</td>\n",
       "      <td>Kirsty Blackman</td>\n",
       "      <td>Seat held\\n</td>\n",
       "      <td>Kirsty</td>\n",
       "      <td>Blackman</td>\n",
       "    </tr>\n",
       "    <tr>\n",
       "      <th>4</th>\n",
       "      <td>4</td>\n",
       "      <td>Aberdeen South</td>\n",
       "      <td>Stephen Flynn</td>\n",
       "      <td>Previous incumbent, Ross Thomson, did not stand\\n</td>\n",
       "      <td>Stephen</td>\n",
       "      <td>Flynn</td>\n",
       "    </tr>\n",
       "    <tr>\n",
       "      <th>5</th>\n",
       "      <td>5</td>\n",
       "      <td>Airdrie and Shotts</td>\n",
       "      <td>Neil Gray</td>\n",
       "      <td>Seat held\\n</td>\n",
       "      <td>Neil</td>\n",
       "      <td>Gray</td>\n",
       "    </tr>\n",
       "  </tbody>\n",
       "</table>\n",
       "</div>"
      ],
      "text/plain": [
       "   Unnamed: 0        Constituency         Fullname  \\\n",
       "1           1            Aberavon  Stephen Kinnock   \n",
       "2           2           Aberconwy     Robin Millar   \n",
       "3           3      Aberdeen North  Kirsty Blackman   \n",
       "4           4      Aberdeen South    Stephen Flynn   \n",
       "5           5  Airdrie and Shotts        Neil Gray   \n",
       "\n",
       "                                               Notes Firstname  Lastname  \n",
       "1                                        Seat held\\n   Stephen   Kinnock  \n",
       "2     Previous incumbent, Guto Bebb, did not stand\\n     Robin    Millar  \n",
       "3                                        Seat held\\n    Kirsty  Blackman  \n",
       "4  Previous incumbent, Ross Thomson, did not stand\\n   Stephen     Flynn  \n",
       "5                                        Seat held\\n      Neil      Gray  "
      ]
     },
     "execution_count": 37,
     "metadata": {},
     "output_type": "execute_result"
    }
   ],
   "source": [
    "df_w.head(n=5)"
   ]
  },
  {
   "cell_type": "code",
   "execution_count": 38,
   "id": "4f69a8a1",
   "metadata": {},
   "outputs": [
    {
     "data": {
      "text/html": [
       "<div>\n",
       "<style scoped>\n",
       "    .dataframe tbody tr th:only-of-type {\n",
       "        vertical-align: middle;\n",
       "    }\n",
       "\n",
       "    .dataframe tbody tr th {\n",
       "        vertical-align: top;\n",
       "    }\n",
       "\n",
       "    .dataframe thead th {\n",
       "        text-align: right;\n",
       "    }\n",
       "</style>\n",
       "<table border=\"1\" class=\"dataframe\">\n",
       "  <thead>\n",
       "    <tr style=\"text-align: right;\">\n",
       "      <th></th>\n",
       "      <th>Unnamed: 0</th>\n",
       "      <th>Constituency</th>\n",
       "      <th>Fullname</th>\n",
       "      <th>Notes</th>\n",
       "      <th>Firstname</th>\n",
       "      <th>Lastname</th>\n",
       "    </tr>\n",
       "  </thead>\n",
       "  <tbody>\n",
       "    <tr>\n",
       "      <th>646</th>\n",
       "      <td>646</td>\n",
       "      <td>Wythenshawe and Sale East</td>\n",
       "      <td>Mike Kane</td>\n",
       "      <td>Seat held\\n</td>\n",
       "      <td>Mike</td>\n",
       "      <td>Kane</td>\n",
       "    </tr>\n",
       "    <tr>\n",
       "      <th>647</th>\n",
       "      <td>647</td>\n",
       "      <td>Yeovil</td>\n",
       "      <td>Marcus Fysh</td>\n",
       "      <td>Seat held\\n</td>\n",
       "      <td>Marcus</td>\n",
       "      <td>Fysh</td>\n",
       "    </tr>\n",
       "    <tr>\n",
       "      <th>648</th>\n",
       "      <td>648</td>\n",
       "      <td>Ynys Môn</td>\n",
       "      <td>Virginia Crosbie</td>\n",
       "      <td>Previous incumbent, Albert Owen, did not stand\\n</td>\n",
       "      <td>Virginia</td>\n",
       "      <td>Crosbie</td>\n",
       "    </tr>\n",
       "    <tr>\n",
       "      <th>649</th>\n",
       "      <td>649</td>\n",
       "      <td>York Central</td>\n",
       "      <td>Rachael Maskell</td>\n",
       "      <td>Seat held\\n</td>\n",
       "      <td>Rachael</td>\n",
       "      <td>Maskell</td>\n",
       "    </tr>\n",
       "    <tr>\n",
       "      <th>650</th>\n",
       "      <td>650</td>\n",
       "      <td>York Outer</td>\n",
       "      <td>Julian Sturdy</td>\n",
       "      <td>Seat held\\n</td>\n",
       "      <td>Julian</td>\n",
       "      <td>Sturdy</td>\n",
       "    </tr>\n",
       "  </tbody>\n",
       "</table>\n",
       "</div>"
      ],
      "text/plain": [
       "     Unnamed: 0               Constituency          Fullname  \\\n",
       "646         646  Wythenshawe and Sale East         Mike Kane   \n",
       "647         647                     Yeovil       Marcus Fysh   \n",
       "648         648                   Ynys Môn  Virginia Crosbie   \n",
       "649         649               York Central   Rachael Maskell   \n",
       "650         650                 York Outer     Julian Sturdy   \n",
       "\n",
       "                                                Notes Firstname Lastname  \n",
       "646                                       Seat held\\n      Mike     Kane  \n",
       "647                                       Seat held\\n    Marcus     Fysh  \n",
       "648  Previous incumbent, Albert Owen, did not stand\\n  Virginia  Crosbie  \n",
       "649                                       Seat held\\n   Rachael  Maskell  \n",
       "650                                       Seat held\\n    Julian   Sturdy  "
      ]
     },
     "execution_count": 38,
     "metadata": {},
     "output_type": "execute_result"
    }
   ],
   "source": [
    "df_w.tail(n=5)"
   ]
  },
  {
   "cell_type": "code",
   "execution_count": 28,
   "id": "babd8461",
   "metadata": {},
   "outputs": [],
   "source": [
    "# Rename columns for consistency\n",
    "\n",
    "df_w = df_w.rename(columns={ 'Member returned' : 'Fullname'})\n",
    "\n",
    "# Remove null rows at start and end and strip tailing '\\n'\n",
    "\n",
    "df_w = df_w.dropna()\n",
    "df_w['Constituency'] = df_w['Constituency'].str.rstrip(\"\\n\")\n",
    "df_w['Fullname'] = df_w['Fullname'].str.rstrip(\"\\n\")"
   ]
  },
  {
   "cell_type": "code",
   "execution_count": 29,
   "id": "30285938",
   "metadata": {},
   "outputs": [
    {
     "data": {
      "text/html": [
       "<div>\n",
       "<style scoped>\n",
       "    .dataframe tbody tr th:only-of-type {\n",
       "        vertical-align: middle;\n",
       "    }\n",
       "\n",
       "    .dataframe tbody tr th {\n",
       "        vertical-align: top;\n",
       "    }\n",
       "\n",
       "    .dataframe thead th {\n",
       "        text-align: right;\n",
       "    }\n",
       "</style>\n",
       "<table border=\"1\" class=\"dataframe\">\n",
       "  <thead>\n",
       "    <tr style=\"text-align: right;\">\n",
       "      <th></th>\n",
       "      <th>Unnamed: 0</th>\n",
       "      <th>Constituency</th>\n",
       "      <th>Fullname</th>\n",
       "      <th>Notes</th>\n",
       "    </tr>\n",
       "  </thead>\n",
       "  <tbody>\n",
       "    <tr>\n",
       "      <th>228</th>\n",
       "      <td>228</td>\n",
       "      <td>Finchley and Golders Green</td>\n",
       "      <td>\\nMike Freer</td>\n",
       "      <td>Seat held\\n</td>\n",
       "    </tr>\n",
       "    <tr>\n",
       "      <th>373</th>\n",
       "      <td>373</td>\n",
       "      <td>Mole Valley</td>\n",
       "      <td>\\nPaul Beresford</td>\n",
       "      <td>Seat held\\n</td>\n",
       "    </tr>\n",
       "    <tr>\n",
       "      <th>545</th>\n",
       "      <td>545</td>\n",
       "      <td>Stockport</td>\n",
       "      <td>\\nNavendu Mishra</td>\n",
       "      <td>Previous incumbent, Ann Coffey, did not stand\\n</td>\n",
       "    </tr>\n",
       "    <tr>\n",
       "      <th>546</th>\n",
       "      <td>546</td>\n",
       "      <td>Stockton North</td>\n",
       "      <td>\\nAlex Cunningham</td>\n",
       "      <td>Seat held\\n</td>\n",
       "    </tr>\n",
       "    <tr>\n",
       "      <th>547</th>\n",
       "      <td>547</td>\n",
       "      <td>Stockton South</td>\n",
       "      <td>\\nMatt Vickers</td>\n",
       "      <td>Defeated incumbent, Paul Williams\\n</td>\n",
       "    </tr>\n",
       "    <tr>\n",
       "      <th>...</th>\n",
       "      <td>...</td>\n",
       "      <td>...</td>\n",
       "      <td>...</td>\n",
       "      <td>...</td>\n",
       "    </tr>\n",
       "    <tr>\n",
       "      <th>613</th>\n",
       "      <td>613</td>\n",
       "      <td>West Bromwich East</td>\n",
       "      <td>\\nNicola Richards</td>\n",
       "      <td>Previous incumbent, Tom Watson, did not stand\\n</td>\n",
       "    </tr>\n",
       "    <tr>\n",
       "      <th>614</th>\n",
       "      <td>614</td>\n",
       "      <td>West Bromwich West</td>\n",
       "      <td>\\nShaun Bailey</td>\n",
       "      <td>Previous incumbent, Adrian Bailey, did not sta...</td>\n",
       "    </tr>\n",
       "    <tr>\n",
       "      <th>616</th>\n",
       "      <td>616</td>\n",
       "      <td>West Dunbartonshire</td>\n",
       "      <td>\\nMartin Docherty-Hughes</td>\n",
       "      <td>Seat held\\n</td>\n",
       "    </tr>\n",
       "    <tr>\n",
       "      <th>619</th>\n",
       "      <td>619</td>\n",
       "      <td>West Suffolk</td>\n",
       "      <td>\\nMatthew Hancock</td>\n",
       "      <td>Seat held\\n</td>\n",
       "    </tr>\n",
       "    <tr>\n",
       "      <th>620</th>\n",
       "      <td>620</td>\n",
       "      <td>West Tyrone</td>\n",
       "      <td>\\nÓrfhlaith Begley</td>\n",
       "      <td>Seat held\\n</td>\n",
       "    </tr>\n",
       "  </tbody>\n",
       "</table>\n",
       "<p>75 rows × 4 columns</p>\n",
       "</div>"
      ],
      "text/plain": [
       "     Unnamed: 0                Constituency                  Fullname  \\\n",
       "228         228  Finchley and Golders Green              \\nMike Freer   \n",
       "373         373                 Mole Valley          \\nPaul Beresford   \n",
       "545         545                   Stockport          \\nNavendu Mishra   \n",
       "546         546              Stockton North         \\nAlex Cunningham   \n",
       "547         547              Stockton South            \\nMatt Vickers   \n",
       "..          ...                         ...                       ...   \n",
       "613         613          West Bromwich East         \\nNicola Richards   \n",
       "614         614          West Bromwich West            \\nShaun Bailey   \n",
       "616         616         West Dunbartonshire  \\nMartin Docherty-Hughes   \n",
       "619         619                West Suffolk         \\nMatthew Hancock   \n",
       "620         620                 West Tyrone        \\nÓrfhlaith Begley   \n",
       "\n",
       "                                                 Notes  \n",
       "228                                        Seat held\\n  \n",
       "373                                        Seat held\\n  \n",
       "545    Previous incumbent, Ann Coffey, did not stand\\n  \n",
       "546                                        Seat held\\n  \n",
       "547                Defeated incumbent, Paul Williams\\n  \n",
       "..                                                 ...  \n",
       "613    Previous incumbent, Tom Watson, did not stand\\n  \n",
       "614  Previous incumbent, Adrian Bailey, did not sta...  \n",
       "616                                        Seat held\\n  \n",
       "619                                        Seat held\\n  \n",
       "620                                        Seat held\\n  \n",
       "\n",
       "[75 rows x 4 columns]"
      ]
     },
     "execution_count": 29,
     "metadata": {},
     "output_type": "execute_result"
    }
   ],
   "source": [
    "# Check \\n not elsewhere in Fullname\n",
    "\n",
    "df_w[df_w['Fullname'].astype(str).str.contains('\\n')]"
   ]
  },
  {
   "cell_type": "code",
   "execution_count": 30,
   "id": "6644cd0e",
   "metadata": {},
   "outputs": [],
   "source": [
    "# Strip leading '\\n' \n",
    "\n",
    "df_w['Fullname'] = df_w['Fullname'].str.lstrip(\"\\n\")"
   ]
  },
  {
   "cell_type": "code",
   "execution_count": 31,
   "id": "5518e582",
   "metadata": {},
   "outputs": [
    {
     "data": {
      "text/html": [
       "<div>\n",
       "<style scoped>\n",
       "    .dataframe tbody tr th:only-of-type {\n",
       "        vertical-align: middle;\n",
       "    }\n",
       "\n",
       "    .dataframe tbody tr th {\n",
       "        vertical-align: top;\n",
       "    }\n",
       "\n",
       "    .dataframe thead th {\n",
       "        text-align: right;\n",
       "    }\n",
       "</style>\n",
       "<table border=\"1\" class=\"dataframe\">\n",
       "  <thead>\n",
       "    <tr style=\"text-align: right;\">\n",
       "      <th></th>\n",
       "      <th>Unnamed: 0</th>\n",
       "      <th>Constituency</th>\n",
       "      <th>Fullname</th>\n",
       "      <th>Notes</th>\n",
       "    </tr>\n",
       "  </thead>\n",
       "  <tbody>\n",
       "  </tbody>\n",
       "</table>\n",
       "</div>"
      ],
      "text/plain": [
       "Empty DataFrame\n",
       "Columns: [Unnamed: 0, Constituency, Fullname, Notes]\n",
       "Index: []"
      ]
     },
     "execution_count": 31,
     "metadata": {},
     "output_type": "execute_result"
    }
   ],
   "source": [
    "# Check \\n not elsewhere in Constituency\n",
    "\n",
    "df_w[df_w['Constituency'].astype(str).str.contains('\\n')]"
   ]
  },
  {
   "cell_type": "code",
   "execution_count": 32,
   "id": "a358bcb2",
   "metadata": {},
   "outputs": [],
   "source": [
    "# Split into Firstname and compound Lastname\n",
    "\n",
    "df_w['Firstname'] = df_w['Fullname'].str.split().str[0]\n",
    "df_w['Lastname'] = df_w['Fullname'].astype(str).apply(lambda x: ' '.join(x.split()[1:]))"
   ]
  },
  {
   "cell_type": "code",
   "execution_count": 33,
   "id": "4cc7c529",
   "metadata": {},
   "outputs": [
    {
     "data": {
      "text/plain": [
       "31       de Cordova\n",
       "134    Duncan Smith\n",
       "393    Marie Morris\n",
       "592      Ahmad Khan\n",
       "Name: Lastname, dtype: object"
      ]
     },
     "execution_count": 33,
     "metadata": {},
     "output_type": "execute_result"
    }
   ],
   "source": [
    "# Check for compound lastnames\n",
    "\n",
    "df_w[df_w['Lastname'].astype(str).str.contains(' ')]['Lastname']"
   ]
  },
  {
   "cell_type": "markdown",
   "id": "c5fd1490",
   "metadata": {},
   "source": [
    "#### They Work for You Data"
   ]
  },
  {
   "cell_type": "code",
   "execution_count": 34,
   "id": "963ff01b",
   "metadata": {},
   "outputs": [],
   "source": [
    "df_t = df_t.rename(columns={'Last name' : 'Lastname', 'First name' : 'Firstname'})"
   ]
  },
  {
   "cell_type": "markdown",
   "id": "9b99a3ff",
   "metadata": {},
   "source": [
    "### Calculate Exact Match Counts "
   ]
  },
  {
   "cell_type": "code",
   "execution_count": 52,
   "id": "5c902041",
   "metadata": {},
   "outputs": [
    {
     "data": {
      "text/plain": [
       "599"
      ]
     },
     "execution_count": 52,
     "metadata": {},
     "output_type": "execute_result"
    }
   ],
   "source": [
    "# All matching columns\n",
    "\n",
    "len(df_w.merge(df_t, on=['Constituency','Firstname','Lastname']))"
   ]
  },
  {
   "cell_type": "code",
   "execution_count": 53,
   "id": "abd507ce",
   "metadata": {},
   "outputs": [
    {
     "data": {
      "text/plain": [
       "624"
      ]
     },
     "execution_count": 53,
     "metadata": {},
     "output_type": "execute_result"
    }
   ],
   "source": [
    "# Match on First name and Last name\n",
    "\n",
    "len(df_w.merge(df_t, on=['Firstname','Lastname'] ))"
   ]
  },
  {
   "cell_type": "code",
   "execution_count": 54,
   "id": "79ada167",
   "metadata": {},
   "outputs": [
    {
     "data": {
      "text/plain": [
       "607"
      ]
     },
     "execution_count": 54,
     "metadata": {},
     "output_type": "execute_result"
    }
   ],
   "source": [
    "# Match on Consistency and Last name\n",
    "\n",
    "len(df_w.merge(df_t, on=['Constituency','Lastname'] ))"
   ]
  },
  {
   "cell_type": "code",
   "execution_count": 55,
   "id": "6f36dafe",
   "metadata": {},
   "outputs": [
    {
     "data": {
      "text/plain": [
       "602"
      ]
     },
     "execution_count": 55,
     "metadata": {},
     "output_type": "execute_result"
    }
   ],
   "source": [
    "# Match on Consistency and First name\n",
    "\n",
    "len(df_w.merge(df_t, on=['Constituency','Firstname'] ))"
   ]
  },
  {
   "cell_type": "code",
   "execution_count": 56,
   "id": "46f6dad1",
   "metadata": {},
   "outputs": [
    {
     "data": {
      "text/plain": [
       "982"
      ]
     },
     "execution_count": 56,
     "metadata": {},
     "output_type": "execute_result"
    }
   ],
   "source": [
    "# Match on Lastname\n",
    "\n",
    "len(df_w.merge(df_t, on=['Lastname'] ))"
   ]
  },
  {
   "cell_type": "code",
   "execution_count": 57,
   "id": "7b0667b4",
   "metadata": {},
   "outputs": [
    {
     "data": {
      "text/plain": [
       "2663"
      ]
     },
     "execution_count": 57,
     "metadata": {},
     "output_type": "execute_result"
    }
   ],
   "source": [
    "# Match on Firstname\n",
    "\n",
    "len(df_w.merge(df_t, on=['Firstname'] ))"
   ]
  },
  {
   "cell_type": "code",
   "execution_count": 58,
   "id": "ef47143d",
   "metadata": {},
   "outputs": [
    {
     "data": {
      "text/plain": [
       "623"
      ]
     },
     "execution_count": 58,
     "metadata": {},
     "output_type": "execute_result"
    }
   ],
   "source": [
    "# Match on Consistency\n",
    "\n",
    "len(df_w.merge(df_t, on=['Constituency'] ))"
   ]
  },
  {
   "cell_type": "markdown",
   "id": "60c086bf",
   "metadata": {},
   "source": [
    "## Step 3 - Further Cleansing"
   ]
  },
  {
   "cell_type": "markdown",
   "id": "bee621a1",
   "metadata": {},
   "source": [
    "### Consitutency"
   ]
  },
  {
   "cell_type": "code",
   "execution_count": 59,
   "id": "d0beffbe",
   "metadata": {},
   "outputs": [
    {
     "data": {
      "text/plain": [
       "650    Birmingham, Hall Green\n",
       "651      Liverpool, Wavertree\n",
       "652         Sheffield, Hallam\n",
       "653     Liverpool, West Derby\n",
       "654    Birmingham, Hodge Hill\n",
       "Name: Constituency, dtype: object"
      ]
     },
     "execution_count": 59,
     "metadata": {},
     "output_type": "execute_result"
    }
   ],
   "source": [
    "df_w_outer = df_w.merge(df_t, on=['Constituency'],how=\"outer\",indicator=True)\n",
    "df_w_outer[df_w_outer['_merge']=='right_only']['Constituency'].head(n=5)"
   ]
  },
  {
   "cell_type": "code",
   "execution_count": 60,
   "id": "e1249362",
   "metadata": {},
   "outputs": [
    {
     "data": {
      "text/plain": [
       "46     Birmingham Edgbaston\n",
       "47     Birmingham Erdington\n",
       "48    Birmingham Hall Green\n",
       "49    Birmingham Hodge Hill\n",
       "50      Birmingham Ladywood\n",
       "Name: Constituency, dtype: object"
      ]
     },
     "execution_count": 60,
     "metadata": {},
     "output_type": "execute_result"
    }
   ],
   "source": [
    "df_w_outer[df_w_outer['_merge']=='left_only']['Constituency'].head(n=5)"
   ]
  },
  {
   "cell_type": "code",
   "execution_count": 61,
   "id": "594794c8",
   "metadata": {},
   "outputs": [],
   "source": [
    "# Remove commas from both dataframes\n",
    "\n",
    "df_t['Constituency'] = df_t['Constituency'].str.replace(',', '')\n",
    "df_w['Constituency'] = df_w['Constituency'].str.replace(',', '')"
   ]
  },
  {
   "cell_type": "code",
   "execution_count": 62,
   "id": "bd21884a",
   "metadata": {},
   "outputs": [
    {
     "data": {
      "text/plain": [
       "650"
      ]
     },
     "execution_count": 62,
     "metadata": {},
     "output_type": "execute_result"
    }
   ],
   "source": [
    "# Match on Consistency\n",
    "\n",
    "len(df_w.merge(df_t, on=['Constituency'] ))"
   ]
  },
  {
   "cell_type": "code",
   "execution_count": 64,
   "id": "7e93846a",
   "metadata": {},
   "outputs": [
    {
     "data": {
      "text/plain": [
       "624"
      ]
     },
     "execution_count": 64,
     "metadata": {},
     "output_type": "execute_result"
    }
   ],
   "source": [
    "# Repeat perfect match count\n",
    "\n",
    "len(df_w.merge(df_t, on=['Constituency','Firstname','Lastname']))"
   ]
  },
  {
   "cell_type": "markdown",
   "id": "5e68ad62",
   "metadata": {},
   "source": [
    "### Firstname"
   ]
  },
  {
   "cell_type": "code",
   "execution_count": 65,
   "id": "c10a6629",
   "metadata": {},
   "outputs": [
    {
     "data": {
      "text/html": [
       "<div>\n",
       "<style scoped>\n",
       "    .dataframe tbody tr th:only-of-type {\n",
       "        vertical-align: middle;\n",
       "    }\n",
       "\n",
       "    .dataframe tbody tr th {\n",
       "        vertical-align: top;\n",
       "    }\n",
       "\n",
       "    .dataframe thead th {\n",
       "        text-align: right;\n",
       "    }\n",
       "</style>\n",
       "<table border=\"1\" class=\"dataframe\">\n",
       "  <thead>\n",
       "    <tr style=\"text-align: right;\">\n",
       "      <th></th>\n",
       "      <th>Unnamed: 0_w</th>\n",
       "      <th>Constituency</th>\n",
       "      <th>Fullname</th>\n",
       "      <th>Notes</th>\n",
       "      <th>Firstname_w</th>\n",
       "      <th>Lastname_w</th>\n",
       "      <th>Unnamed: 0_t</th>\n",
       "      <th>Firstname_t</th>\n",
       "      <th>Lastname_t</th>\n",
       "      <th>Flink</th>\n",
       "    </tr>\n",
       "  </thead>\n",
       "  <tbody>\n",
       "    <tr>\n",
       "      <th>4</th>\n",
       "      <td>5</td>\n",
       "      <td>Airdrie and Shotts</td>\n",
       "      <td>Neil Gray</td>\n",
       "      <td>Seat held\\n</td>\n",
       "      <td>Neil</td>\n",
       "      <td>Gray</td>\n",
       "      <td>500</td>\n",
       "      <td>Anum</td>\n",
       "      <td>Qaisar</td>\n",
       "      <td>NaN</td>\n",
       "    </tr>\n",
       "    <tr>\n",
       "      <th>29</th>\n",
       "      <td>30</td>\n",
       "      <td>Batley and Spen</td>\n",
       "      <td>Tracy Brabin</td>\n",
       "      <td>Seat held\\n</td>\n",
       "      <td>Tracy</td>\n",
       "      <td>Brabin</td>\n",
       "      <td>361</td>\n",
       "      <td>Kim</td>\n",
       "      <td>Leadbeater</td>\n",
       "      <td>NaN</td>\n",
       "    </tr>\n",
       "    <tr>\n",
       "      <th>47</th>\n",
       "      <td>48</td>\n",
       "      <td>Birmingham Erdington</td>\n",
       "      <td>Jack Dromey</td>\n",
       "      <td>Seat held\\n</td>\n",
       "      <td>Jack</td>\n",
       "      <td>Dromey</td>\n",
       "      <td>262</td>\n",
       "      <td>Paulette</td>\n",
       "      <td>Hamilton</td>\n",
       "      <td>NaN</td>\n",
       "    </tr>\n",
       "    <tr>\n",
       "      <th>130</th>\n",
       "      <td>131</td>\n",
       "      <td>Chesham and Amersham</td>\n",
       "      <td>Cheryl Gillan</td>\n",
       "      <td>Seat held\\n</td>\n",
       "      <td>Cheryl</td>\n",
       "      <td>Gillan</td>\n",
       "      <td>250</td>\n",
       "      <td>Sarah</td>\n",
       "      <td>Green</td>\n",
       "      <td>NaN</td>\n",
       "    </tr>\n",
       "    <tr>\n",
       "      <th>139</th>\n",
       "      <td>140</td>\n",
       "      <td>City of Chester</td>\n",
       "      <td>Chris Matheson</td>\n",
       "      <td>Seat held\\n</td>\n",
       "      <td>Chris</td>\n",
       "      <td>Matheson</td>\n",
       "      <td>156</td>\n",
       "      <td>Samantha</td>\n",
       "      <td>Dixon</td>\n",
       "      <td>NaN</td>\n",
       "    </tr>\n",
       "    <tr>\n",
       "      <th>268</th>\n",
       "      <td>269</td>\n",
       "      <td>Hartlepool</td>\n",
       "      <td>Mike Hill</td>\n",
       "      <td>Seat held\\n</td>\n",
       "      <td>Mike</td>\n",
       "      <td>Hill</td>\n",
       "      <td>450</td>\n",
       "      <td>Jill</td>\n",
       "      <td>Mortimer</td>\n",
       "      <td>NaN</td>\n",
       "    </tr>\n",
       "    <tr>\n",
       "      <th>392</th>\n",
       "      <td>393</td>\n",
       "      <td>Newton Abbot</td>\n",
       "      <td>Anne Marie Morris</td>\n",
       "      <td>Seat held\\n</td>\n",
       "      <td>Anne</td>\n",
       "      <td>Marie Morris</td>\n",
       "      <td>445</td>\n",
       "      <td>Anne Marie</td>\n",
       "      <td>Morris</td>\n",
       "      <td>https://facebook.com/annemarie.morris.NA</td>\n",
       "    </tr>\n",
       "    <tr>\n",
       "      <th>410</th>\n",
       "      <td>411</td>\n",
       "      <td>North Shropshire</td>\n",
       "      <td>Owen Paterson</td>\n",
       "      <td>Seat held\\n</td>\n",
       "      <td>Owen</td>\n",
       "      <td>Paterson</td>\n",
       "      <td>443</td>\n",
       "      <td>Helen</td>\n",
       "      <td>Morgan</td>\n",
       "      <td>NaN</td>\n",
       "    </tr>\n",
       "    <tr>\n",
       "      <th>432</th>\n",
       "      <td>433</td>\n",
       "      <td>Old Bexley and Sidcup</td>\n",
       "      <td>James Brokenshire</td>\n",
       "      <td>Seat held\\n</td>\n",
       "      <td>James</td>\n",
       "      <td>Brokenshire</td>\n",
       "      <td>223</td>\n",
       "      <td>Louie</td>\n",
       "      <td>French</td>\n",
       "      <td>NaN</td>\n",
       "    </tr>\n",
       "    <tr>\n",
       "      <th>531</th>\n",
       "      <td>532</td>\n",
       "      <td>Southend West</td>\n",
       "      <td>David Amess</td>\n",
       "      <td>Seat held\\n</td>\n",
       "      <td>David</td>\n",
       "      <td>Amess</td>\n",
       "      <td>206</td>\n",
       "      <td>Anna</td>\n",
       "      <td>Firth</td>\n",
       "      <td>NaN</td>\n",
       "    </tr>\n",
       "    <tr>\n",
       "      <th>555</th>\n",
       "      <td>556</td>\n",
       "      <td>Stretford and Urmston</td>\n",
       "      <td>Kate Green</td>\n",
       "      <td>Seat held\\n</td>\n",
       "      <td>Kate</td>\n",
       "      <td>Green</td>\n",
       "      <td>623</td>\n",
       "      <td>Andrew</td>\n",
       "      <td>Western</td>\n",
       "      <td>NaN</td>\n",
       "    </tr>\n",
       "    <tr>\n",
       "      <th>574</th>\n",
       "      <td>575</td>\n",
       "      <td>Tiverton and Honiton</td>\n",
       "      <td>Neil Parish</td>\n",
       "      <td>Seat held\\n</td>\n",
       "      <td>Neil</td>\n",
       "      <td>Parish</td>\n",
       "      <td>212</td>\n",
       "      <td>Richard</td>\n",
       "      <td>Foord</td>\n",
       "      <td>NaN</td>\n",
       "    </tr>\n",
       "    <tr>\n",
       "      <th>591</th>\n",
       "      <td>592</td>\n",
       "      <td>Wakefield</td>\n",
       "      <td>Imran Ahmad Khan</td>\n",
       "      <td>Defeated incumbent, Mary Creagh\\n</td>\n",
       "      <td>Imran</td>\n",
       "      <td>Ahmad Khan</td>\n",
       "      <td>371</td>\n",
       "      <td>Simon</td>\n",
       "      <td>Lightwood</td>\n",
       "      <td>NaN</td>\n",
       "    </tr>\n",
       "    <tr>\n",
       "      <th>617</th>\n",
       "      <td>618</td>\n",
       "      <td>West Lancashire</td>\n",
       "      <td>Rosie Cooper</td>\n",
       "      <td>Seat held\\n</td>\n",
       "      <td>Rosie</td>\n",
       "      <td>Cooper</td>\n",
       "      <td>137</td>\n",
       "      <td>Ashley</td>\n",
       "      <td>Dalton</td>\n",
       "      <td>NaN</td>\n",
       "    </tr>\n",
       "  </tbody>\n",
       "</table>\n",
       "</div>"
      ],
      "text/plain": [
       "     Unnamed: 0_w           Constituency           Fullname  \\\n",
       "4               5     Airdrie and Shotts          Neil Gray   \n",
       "29             30        Batley and Spen       Tracy Brabin   \n",
       "47             48   Birmingham Erdington        Jack Dromey   \n",
       "130           131   Chesham and Amersham      Cheryl Gillan   \n",
       "139           140        City of Chester     Chris Matheson   \n",
       "268           269             Hartlepool          Mike Hill   \n",
       "392           393           Newton Abbot  Anne Marie Morris   \n",
       "410           411       North Shropshire      Owen Paterson   \n",
       "432           433  Old Bexley and Sidcup  James Brokenshire   \n",
       "531           532          Southend West        David Amess   \n",
       "555           556  Stretford and Urmston         Kate Green   \n",
       "574           575   Tiverton and Honiton        Neil Parish   \n",
       "591           592              Wakefield   Imran Ahmad Khan   \n",
       "617           618        West Lancashire       Rosie Cooper   \n",
       "\n",
       "                                 Notes Firstname_w    Lastname_w  \\\n",
       "4                          Seat held\\n        Neil          Gray   \n",
       "29                         Seat held\\n       Tracy        Brabin   \n",
       "47                         Seat held\\n        Jack        Dromey   \n",
       "130                        Seat held\\n      Cheryl        Gillan   \n",
       "139                        Seat held\\n       Chris      Matheson   \n",
       "268                        Seat held\\n        Mike          Hill   \n",
       "392                        Seat held\\n        Anne  Marie Morris   \n",
       "410                        Seat held\\n        Owen      Paterson   \n",
       "432                        Seat held\\n       James   Brokenshire   \n",
       "531                        Seat held\\n       David         Amess   \n",
       "555                        Seat held\\n        Kate         Green   \n",
       "574                        Seat held\\n        Neil        Parish   \n",
       "591  Defeated incumbent, Mary Creagh\\n       Imran    Ahmad Khan   \n",
       "617                        Seat held\\n       Rosie        Cooper   \n",
       "\n",
       "     Unnamed: 0_t Firstname_t  Lastname_t  \\\n",
       "4             500        Anum      Qaisar   \n",
       "29            361         Kim  Leadbeater   \n",
       "47            262    Paulette    Hamilton   \n",
       "130           250       Sarah       Green   \n",
       "139           156    Samantha       Dixon   \n",
       "268           450        Jill    Mortimer   \n",
       "392           445  Anne Marie      Morris   \n",
       "410           443       Helen      Morgan   \n",
       "432           223       Louie      French   \n",
       "531           206        Anna       Firth   \n",
       "555           623      Andrew     Western   \n",
       "574           212     Richard       Foord   \n",
       "591           371       Simon   Lightwood   \n",
       "617           137      Ashley      Dalton   \n",
       "\n",
       "                                        Flink  \n",
       "4                                         NaN  \n",
       "29                                        NaN  \n",
       "47                                        NaN  \n",
       "130                                       NaN  \n",
       "139                                       NaN  \n",
       "268                                       NaN  \n",
       "392  https://facebook.com/annemarie.morris.NA  \n",
       "410                                       NaN  \n",
       "432                                       NaN  \n",
       "531                                       NaN  \n",
       "555                                       NaN  \n",
       "574                                       NaN  \n",
       "591                                       NaN  \n",
       "617                                       NaN  "
      ]
     },
     "execution_count": 65,
     "metadata": {},
     "output_type": "execute_result"
    }
   ],
   "source": [
    "df_w_inner = df_w.merge(df_t, on=['Constituency'], suffixes=('_w', '_t'))\n",
    "df_w_inner[(df_w_inner['Firstname_w'] != df_w_inner['Firstname_t']) & (df_w_inner['Lastname_w'] != df_w_inner['Lastname_t'])]"
   ]
  },
  {
   "cell_type": "code",
   "execution_count": 66,
   "id": "93b4203f",
   "metadata": {},
   "outputs": [
    {
     "data": {
      "text/html": [
       "<div>\n",
       "<style scoped>\n",
       "    .dataframe tbody tr th:only-of-type {\n",
       "        vertical-align: middle;\n",
       "    }\n",
       "\n",
       "    .dataframe tbody tr th {\n",
       "        vertical-align: top;\n",
       "    }\n",
       "\n",
       "    .dataframe thead th {\n",
       "        text-align: right;\n",
       "    }\n",
       "</style>\n",
       "<table border=\"1\" class=\"dataframe\">\n",
       "  <thead>\n",
       "    <tr style=\"text-align: right;\">\n",
       "      <th></th>\n",
       "      <th>Unnamed: 0_w</th>\n",
       "      <th>Constituency</th>\n",
       "      <th>Fullname</th>\n",
       "      <th>Notes</th>\n",
       "      <th>Firstname_w</th>\n",
       "      <th>Lastname_w</th>\n",
       "      <th>Unnamed: 0_t</th>\n",
       "      <th>Firstname_t</th>\n",
       "      <th>Lastname_t</th>\n",
       "      <th>Flink</th>\n",
       "    </tr>\n",
       "  </thead>\n",
       "  <tbody>\n",
       "    <tr>\n",
       "      <th>46</th>\n",
       "      <td>47</td>\n",
       "      <td>Birmingham Edgbaston</td>\n",
       "      <td>Preet Gill</td>\n",
       "      <td>Seat held\\n</td>\n",
       "      <td>Preet</td>\n",
       "      <td>Gill</td>\n",
       "      <td>236</td>\n",
       "      <td>Preet Kaur</td>\n",
       "      <td>Gill</td>\n",
       "      <td>https://facebook.com/PreetKaurGillMP</td>\n",
       "    </tr>\n",
       "    <tr>\n",
       "      <th>99</th>\n",
       "      <td>100</td>\n",
       "      <td>Burton</td>\n",
       "      <td>Kate Griffiths</td>\n",
       "      <td>Previous incumbent, Andrew Griffiths, did not ...</td>\n",
       "      <td>Kate</td>\n",
       "      <td>Griffiths</td>\n",
       "      <td>349</td>\n",
       "      <td>Kate</td>\n",
       "      <td>Kniveton</td>\n",
       "      <td>NaN</td>\n",
       "    </tr>\n",
       "    <tr>\n",
       "      <th>122</th>\n",
       "      <td>123</td>\n",
       "      <td>Central Suffolk and North Ipswich</td>\n",
       "      <td>Dan Poulter</td>\n",
       "      <td>Seat held\\n</td>\n",
       "      <td>Dan</td>\n",
       "      <td>Poulter</td>\n",
       "      <td>494</td>\n",
       "      <td>Daniel</td>\n",
       "      <td>Poulter</td>\n",
       "      <td>NaN</td>\n",
       "    </tr>\n",
       "    <tr>\n",
       "      <th>272</th>\n",
       "      <td>273</td>\n",
       "      <td>Hayes and Harlington</td>\n",
       "      <td>John McDonnell</td>\n",
       "      <td>Seat held\\n</td>\n",
       "      <td>John</td>\n",
       "      <td>McDonnell</td>\n",
       "      <td>412</td>\n",
       "      <td>John Martin</td>\n",
       "      <td>McDonnell</td>\n",
       "      <td>https://facebook.com/johnmcdonnellmp</td>\n",
       "    </tr>\n",
       "    <tr>\n",
       "      <th>311</th>\n",
       "      <td>312</td>\n",
       "      <td>Kingston upon Hull North</td>\n",
       "      <td>Diana Johnson</td>\n",
       "      <td>Seat held\\n</td>\n",
       "      <td>Diana</td>\n",
       "      <td>Johnson</td>\n",
       "      <td>325</td>\n",
       "      <td>Diana R.</td>\n",
       "      <td>Johnson</td>\n",
       "      <td>https://facebook.com/DianaJohnsonHullNorth</td>\n",
       "    </tr>\n",
       "    <tr>\n",
       "      <th>316</th>\n",
       "      <td>317</td>\n",
       "      <td>Lagan Valley</td>\n",
       "      <td>Jeffrey Donaldson</td>\n",
       "      <td>Seat held\\n</td>\n",
       "      <td>Jeffrey</td>\n",
       "      <td>Donaldson</td>\n",
       "      <td>161</td>\n",
       "      <td>Jeffrey M.</td>\n",
       "      <td>Donaldson</td>\n",
       "      <td>https://facebook.com/jeffrey.donaldson1</td>\n",
       "    </tr>\n",
       "    <tr>\n",
       "      <th>394</th>\n",
       "      <td>395</td>\n",
       "      <td>North Antrim</td>\n",
       "      <td>Ian Paisley</td>\n",
       "      <td>Seat held\\n</td>\n",
       "      <td>Ian</td>\n",
       "      <td>Paisley</td>\n",
       "      <td>480</td>\n",
       "      <td>Ian</td>\n",
       "      <td>Paisley Jnr</td>\n",
       "      <td>NaN</td>\n",
       "    </tr>\n",
       "    <tr>\n",
       "      <th>502</th>\n",
       "      <td>503</td>\n",
       "      <td>Slough</td>\n",
       "      <td>Tanmanjeet Dhesi</td>\n",
       "      <td>Seat held\\n</td>\n",
       "      <td>Tanmanjeet</td>\n",
       "      <td>Dhesi</td>\n",
       "      <td>153</td>\n",
       "      <td>Tan</td>\n",
       "      <td>Dhesi</td>\n",
       "      <td>https://facebook.com/tandhesi</td>\n",
       "    </tr>\n",
       "    <tr>\n",
       "      <th>510</th>\n",
       "      <td>511</td>\n",
       "      <td>South Down</td>\n",
       "      <td>Chris Hazzard</td>\n",
       "      <td>Seat held\\n</td>\n",
       "      <td>Chris</td>\n",
       "      <td>Hazzard</td>\n",
       "      <td>278</td>\n",
       "      <td>Christopher</td>\n",
       "      <td>Hazzard</td>\n",
       "      <td>https://facebook.com/chris.hazzard.77</td>\n",
       "    </tr>\n",
       "    <tr>\n",
       "      <th>526</th>\n",
       "      <td>527</td>\n",
       "      <td>South West Norfolk</td>\n",
       "      <td>Liz Truss</td>\n",
       "      <td>Seat held\\n</td>\n",
       "      <td>Liz</td>\n",
       "      <td>Truss</td>\n",
       "      <td>602</td>\n",
       "      <td>Elizabeth</td>\n",
       "      <td>Truss</td>\n",
       "      <td>https://facebook.com/ElizabethTrussSWNorfolk</td>\n",
       "    </tr>\n",
       "    <tr>\n",
       "      <th>605</th>\n",
       "      <td>606</td>\n",
       "      <td>Wealden</td>\n",
       "      <td>Nus Ghani</td>\n",
       "      <td>Seat held\\n</td>\n",
       "      <td>Nus</td>\n",
       "      <td>Ghani</td>\n",
       "      <td>230</td>\n",
       "      <td>Nusrat</td>\n",
       "      <td>Ghani</td>\n",
       "      <td>https://facebook.com/NusGhaniofficial</td>\n",
       "    </tr>\n",
       "    <tr>\n",
       "      <th>615</th>\n",
       "      <td>616</td>\n",
       "      <td>West Dunbartonshire</td>\n",
       "      <td>Martin Docherty-Hughes</td>\n",
       "      <td>Seat held\\n</td>\n",
       "      <td>Martin</td>\n",
       "      <td>Docherty-Hughes</td>\n",
       "      <td>159</td>\n",
       "      <td>Martin</td>\n",
       "      <td>Docherty</td>\n",
       "      <td>https://facebook.com/MartinDochertySNP</td>\n",
       "    </tr>\n",
       "  </tbody>\n",
       "</table>\n",
       "</div>"
      ],
      "text/plain": [
       "     Unnamed: 0_w                       Constituency                Fullname  \\\n",
       "46             47               Birmingham Edgbaston              Preet Gill   \n",
       "99            100                             Burton          Kate Griffiths   \n",
       "122           123  Central Suffolk and North Ipswich             Dan Poulter   \n",
       "272           273               Hayes and Harlington          John McDonnell   \n",
       "311           312           Kingston upon Hull North           Diana Johnson   \n",
       "316           317                       Lagan Valley       Jeffrey Donaldson   \n",
       "394           395                       North Antrim             Ian Paisley   \n",
       "502           503                             Slough        Tanmanjeet Dhesi   \n",
       "510           511                         South Down           Chris Hazzard   \n",
       "526           527                 South West Norfolk               Liz Truss   \n",
       "605           606                            Wealden               Nus Ghani   \n",
       "615           616                West Dunbartonshire  Martin Docherty-Hughes   \n",
       "\n",
       "                                                 Notes Firstname_w  \\\n",
       "46                                         Seat held\\n       Preet   \n",
       "99   Previous incumbent, Andrew Griffiths, did not ...        Kate   \n",
       "122                                        Seat held\\n         Dan   \n",
       "272                                        Seat held\\n        John   \n",
       "311                                        Seat held\\n       Diana   \n",
       "316                                        Seat held\\n     Jeffrey   \n",
       "394                                        Seat held\\n         Ian   \n",
       "502                                        Seat held\\n  Tanmanjeet   \n",
       "510                                        Seat held\\n       Chris   \n",
       "526                                        Seat held\\n         Liz   \n",
       "605                                        Seat held\\n         Nus   \n",
       "615                                        Seat held\\n      Martin   \n",
       "\n",
       "          Lastname_w  Unnamed: 0_t  Firstname_t   Lastname_t  \\\n",
       "46              Gill           236   Preet Kaur         Gill   \n",
       "99         Griffiths           349         Kate     Kniveton   \n",
       "122          Poulter           494       Daniel      Poulter   \n",
       "272        McDonnell           412  John Martin    McDonnell   \n",
       "311          Johnson           325     Diana R.      Johnson   \n",
       "316        Donaldson           161   Jeffrey M.    Donaldson   \n",
       "394          Paisley           480          Ian  Paisley Jnr   \n",
       "502            Dhesi           153          Tan        Dhesi   \n",
       "510          Hazzard           278  Christopher      Hazzard   \n",
       "526            Truss           602    Elizabeth        Truss   \n",
       "605            Ghani           230       Nusrat        Ghani   \n",
       "615  Docherty-Hughes           159       Martin     Docherty   \n",
       "\n",
       "                                            Flink  \n",
       "46           https://facebook.com/PreetKaurGillMP  \n",
       "99                                            NaN  \n",
       "122                                           NaN  \n",
       "272          https://facebook.com/johnmcdonnellmp  \n",
       "311    https://facebook.com/DianaJohnsonHullNorth  \n",
       "316       https://facebook.com/jeffrey.donaldson1  \n",
       "394                                           NaN  \n",
       "502                 https://facebook.com/tandhesi  \n",
       "510         https://facebook.com/chris.hazzard.77  \n",
       "526  https://facebook.com/ElizabethTrussSWNorfolk  \n",
       "605         https://facebook.com/NusGhaniofficial  \n",
       "615        https://facebook.com/MartinDochertySNP  "
      ]
     },
     "execution_count": 66,
     "metadata": {},
     "output_type": "execute_result"
    }
   ],
   "source": [
    "df_w_inner = df_w.merge(df_t, on=['Constituency'], suffixes=('_w', '_t'))\n",
    "df_w_inner[(df_w_inner['Firstname_w'] == df_w_inner['Firstname_t']) & (df_w_inner['Lastname_w'] != df_w_inner['Lastname_t']) |\n",
    "         (df_w_inner['Firstname_w'] != df_w_inner['Firstname_t']) & (df_w_inner['Lastname_w'] == df_w_inner['Lastname_t'])]"
   ]
  },
  {
   "cell_type": "code",
   "execution_count": 67,
   "id": "19d0d89c",
   "metadata": {},
   "outputs": [],
   "source": [
    "# Remove extra suffixes in TheyWorkForYou Firstnames\n",
    "\n",
    "df_t['Firstname'] = df_t['Firstname'].str.split().str[0]"
   ]
  },
  {
   "cell_type": "code",
   "execution_count": 68,
   "id": "10d2705e",
   "metadata": {},
   "outputs": [
    {
     "data": {
      "text/plain": [
       "628"
      ]
     },
     "execution_count": 68,
     "metadata": {},
     "output_type": "execute_result"
    }
   ],
   "source": [
    "# Final resolved match count\n",
    "\n",
    "df_resolved = df_w.merge(df_t, on=['Firstname','Lastname'] )\n",
    "len(df_resolved)"
   ]
  },
  {
   "cell_type": "code",
   "execution_count": 69,
   "id": "c0019aa0",
   "metadata": {},
   "outputs": [
    {
     "data": {
      "text/html": [
       "<div>\n",
       "<style scoped>\n",
       "    .dataframe tbody tr th:only-of-type {\n",
       "        vertical-align: middle;\n",
       "    }\n",
       "\n",
       "    .dataframe tbody tr th {\n",
       "        vertical-align: top;\n",
       "    }\n",
       "\n",
       "    .dataframe thead th {\n",
       "        text-align: right;\n",
       "    }\n",
       "</style>\n",
       "<table border=\"1\" class=\"dataframe\">\n",
       "  <thead>\n",
       "    <tr style=\"text-align: right;\">\n",
       "      <th></th>\n",
       "      <th>Unnamed: 0_w</th>\n",
       "      <th>Constituency</th>\n",
       "      <th>Fullname</th>\n",
       "      <th>Notes</th>\n",
       "      <th>Firstname_w</th>\n",
       "      <th>Lastname_w</th>\n",
       "      <th>Unnamed: 0_t</th>\n",
       "      <th>Firstname_t</th>\n",
       "      <th>Lastname_t</th>\n",
       "      <th>Flink</th>\n",
       "    </tr>\n",
       "  </thead>\n",
       "  <tbody>\n",
       "    <tr>\n",
       "      <th>99</th>\n",
       "      <td>100</td>\n",
       "      <td>Burton</td>\n",
       "      <td>Kate Griffiths</td>\n",
       "      <td>Previous incumbent, Andrew Griffiths, did not ...</td>\n",
       "      <td>Kate</td>\n",
       "      <td>Griffiths</td>\n",
       "      <td>349</td>\n",
       "      <td>Kate</td>\n",
       "      <td>Kniveton</td>\n",
       "      <td>NaN</td>\n",
       "    </tr>\n",
       "    <tr>\n",
       "      <th>122</th>\n",
       "      <td>123</td>\n",
       "      <td>Central Suffolk and North Ipswich</td>\n",
       "      <td>Dan Poulter</td>\n",
       "      <td>Seat held\\n</td>\n",
       "      <td>Dan</td>\n",
       "      <td>Poulter</td>\n",
       "      <td>494</td>\n",
       "      <td>Daniel</td>\n",
       "      <td>Poulter</td>\n",
       "      <td>NaN</td>\n",
       "    </tr>\n",
       "    <tr>\n",
       "      <th>392</th>\n",
       "      <td>393</td>\n",
       "      <td>Newton Abbot</td>\n",
       "      <td>Anne Marie Morris</td>\n",
       "      <td>Seat held\\n</td>\n",
       "      <td>Anne</td>\n",
       "      <td>Marie Morris</td>\n",
       "      <td>445</td>\n",
       "      <td>Anne</td>\n",
       "      <td>Morris</td>\n",
       "      <td>https://facebook.com/annemarie.morris.NA</td>\n",
       "    </tr>\n",
       "    <tr>\n",
       "      <th>394</th>\n",
       "      <td>395</td>\n",
       "      <td>North Antrim</td>\n",
       "      <td>Ian Paisley</td>\n",
       "      <td>Seat held\\n</td>\n",
       "      <td>Ian</td>\n",
       "      <td>Paisley</td>\n",
       "      <td>480</td>\n",
       "      <td>Ian</td>\n",
       "      <td>Paisley Jnr</td>\n",
       "      <td>NaN</td>\n",
       "    </tr>\n",
       "    <tr>\n",
       "      <th>502</th>\n",
       "      <td>503</td>\n",
       "      <td>Slough</td>\n",
       "      <td>Tanmanjeet Dhesi</td>\n",
       "      <td>Seat held\\n</td>\n",
       "      <td>Tanmanjeet</td>\n",
       "      <td>Dhesi</td>\n",
       "      <td>153</td>\n",
       "      <td>Tan</td>\n",
       "      <td>Dhesi</td>\n",
       "      <td>https://facebook.com/tandhesi</td>\n",
       "    </tr>\n",
       "    <tr>\n",
       "      <th>510</th>\n",
       "      <td>511</td>\n",
       "      <td>South Down</td>\n",
       "      <td>Chris Hazzard</td>\n",
       "      <td>Seat held\\n</td>\n",
       "      <td>Chris</td>\n",
       "      <td>Hazzard</td>\n",
       "      <td>278</td>\n",
       "      <td>Christopher</td>\n",
       "      <td>Hazzard</td>\n",
       "      <td>https://facebook.com/chris.hazzard.77</td>\n",
       "    </tr>\n",
       "    <tr>\n",
       "      <th>526</th>\n",
       "      <td>527</td>\n",
       "      <td>South West Norfolk</td>\n",
       "      <td>Liz Truss</td>\n",
       "      <td>Seat held\\n</td>\n",
       "      <td>Liz</td>\n",
       "      <td>Truss</td>\n",
       "      <td>602</td>\n",
       "      <td>Elizabeth</td>\n",
       "      <td>Truss</td>\n",
       "      <td>https://facebook.com/ElizabethTrussSWNorfolk</td>\n",
       "    </tr>\n",
       "    <tr>\n",
       "      <th>605</th>\n",
       "      <td>606</td>\n",
       "      <td>Wealden</td>\n",
       "      <td>Nus Ghani</td>\n",
       "      <td>Seat held\\n</td>\n",
       "      <td>Nus</td>\n",
       "      <td>Ghani</td>\n",
       "      <td>230</td>\n",
       "      <td>Nusrat</td>\n",
       "      <td>Ghani</td>\n",
       "      <td>https://facebook.com/NusGhaniofficial</td>\n",
       "    </tr>\n",
       "    <tr>\n",
       "      <th>615</th>\n",
       "      <td>616</td>\n",
       "      <td>West Dunbartonshire</td>\n",
       "      <td>Martin Docherty-Hughes</td>\n",
       "      <td>Seat held\\n</td>\n",
       "      <td>Martin</td>\n",
       "      <td>Docherty-Hughes</td>\n",
       "      <td>159</td>\n",
       "      <td>Martin</td>\n",
       "      <td>Docherty</td>\n",
       "      <td>https://facebook.com/MartinDochertySNP</td>\n",
       "    </tr>\n",
       "  </tbody>\n",
       "</table>\n",
       "</div>"
      ],
      "text/plain": [
       "     Unnamed: 0_w                       Constituency                Fullname  \\\n",
       "99            100                             Burton          Kate Griffiths   \n",
       "122           123  Central Suffolk and North Ipswich             Dan Poulter   \n",
       "392           393                       Newton Abbot       Anne Marie Morris   \n",
       "394           395                       North Antrim             Ian Paisley   \n",
       "502           503                             Slough        Tanmanjeet Dhesi   \n",
       "510           511                         South Down           Chris Hazzard   \n",
       "526           527                 South West Norfolk               Liz Truss   \n",
       "605           606                            Wealden               Nus Ghani   \n",
       "615           616                West Dunbartonshire  Martin Docherty-Hughes   \n",
       "\n",
       "                                                 Notes Firstname_w  \\\n",
       "99   Previous incumbent, Andrew Griffiths, did not ...        Kate   \n",
       "122                                        Seat held\\n         Dan   \n",
       "392                                        Seat held\\n        Anne   \n",
       "394                                        Seat held\\n         Ian   \n",
       "502                                        Seat held\\n  Tanmanjeet   \n",
       "510                                        Seat held\\n       Chris   \n",
       "526                                        Seat held\\n         Liz   \n",
       "605                                        Seat held\\n         Nus   \n",
       "615                                        Seat held\\n      Martin   \n",
       "\n",
       "          Lastname_w  Unnamed: 0_t  Firstname_t   Lastname_t  \\\n",
       "99         Griffiths           349         Kate     Kniveton   \n",
       "122          Poulter           494       Daniel      Poulter   \n",
       "392     Marie Morris           445         Anne       Morris   \n",
       "394          Paisley           480          Ian  Paisley Jnr   \n",
       "502            Dhesi           153          Tan        Dhesi   \n",
       "510          Hazzard           278  Christopher      Hazzard   \n",
       "526            Truss           602    Elizabeth        Truss   \n",
       "605            Ghani           230       Nusrat        Ghani   \n",
       "615  Docherty-Hughes           159       Martin     Docherty   \n",
       "\n",
       "                                            Flink  \n",
       "99                                            NaN  \n",
       "122                                           NaN  \n",
       "392      https://facebook.com/annemarie.morris.NA  \n",
       "394                                           NaN  \n",
       "502                 https://facebook.com/tandhesi  \n",
       "510         https://facebook.com/chris.hazzard.77  \n",
       "526  https://facebook.com/ElizabethTrussSWNorfolk  \n",
       "605         https://facebook.com/NusGhaniofficial  \n",
       "615        https://facebook.com/MartinDochertySNP  "
      ]
     },
     "execution_count": 69,
     "metadata": {},
     "output_type": "execute_result"
    }
   ],
   "source": [
    "df_w_inner = df_w.merge(df_t, on=['Constituency'], suffixes=('_w', '_t'))\n",
    "df_w_unmatched = df_w_inner[(df_w_inner['Firstname_w'] == df_w_inner['Firstname_t']) & (df_w_inner['Lastname_w'] != df_w_inner['Lastname_t']) |\n",
    "         (df_w_inner['Firstname_w'] != df_w_inner['Firstname_t']) & (df_w_inner['Lastname_w'] == df_w_inner['Lastname_t'])]\n",
    "df_w_unmatched"
   ]
  },
  {
   "cell_type": "markdown",
   "id": "0d3f7d1b",
   "metadata": {},
   "source": [
    "## Sample Problem: Find MPs who held their seat and currently have Facebook account"
   ]
  },
  {
   "cell_type": "code",
   "execution_count": 70,
   "id": "d7bdb373",
   "metadata": {},
   "outputs": [
    {
     "data": {
      "text/html": [
       "<div>\n",
       "<style scoped>\n",
       "    .dataframe tbody tr th:only-of-type {\n",
       "        vertical-align: middle;\n",
       "    }\n",
       "\n",
       "    .dataframe tbody tr th {\n",
       "        vertical-align: top;\n",
       "    }\n",
       "\n",
       "    .dataframe thead th {\n",
       "        text-align: right;\n",
       "    }\n",
       "</style>\n",
       "<table border=\"1\" class=\"dataframe\">\n",
       "  <thead>\n",
       "    <tr style=\"text-align: right;\">\n",
       "      <th></th>\n",
       "      <th>Unnamed: 0_x</th>\n",
       "      <th>Constituency_x</th>\n",
       "      <th>Fullname</th>\n",
       "      <th>Notes</th>\n",
       "      <th>Firstname</th>\n",
       "      <th>Lastname</th>\n",
       "      <th>Unnamed: 0_y</th>\n",
       "      <th>Constituency_y</th>\n",
       "      <th>Flink</th>\n",
       "    </tr>\n",
       "  </thead>\n",
       "  <tbody>\n",
       "    <tr>\n",
       "      <th>0</th>\n",
       "      <td>1</td>\n",
       "      <td>Aberavon</td>\n",
       "      <td>Stephen Kinnock</td>\n",
       "      <td>Seat held\\n</td>\n",
       "      <td>Stephen</td>\n",
       "      <td>Kinnock</td>\n",
       "      <td>346</td>\n",
       "      <td>Aberavon</td>\n",
       "      <td>https://facebook.com/stephenkinnock</td>\n",
       "    </tr>\n",
       "    <tr>\n",
       "      <th>1</th>\n",
       "      <td>2</td>\n",
       "      <td>Aberconwy</td>\n",
       "      <td>Robin Millar</td>\n",
       "      <td>Previous incumbent, Guto Bebb, did not stand\\n</td>\n",
       "      <td>Robin</td>\n",
       "      <td>Millar</td>\n",
       "      <td>429</td>\n",
       "      <td>Aberconwy</td>\n",
       "      <td>NaN</td>\n",
       "    </tr>\n",
       "    <tr>\n",
       "      <th>2</th>\n",
       "      <td>3</td>\n",
       "      <td>Aberdeen North</td>\n",
       "      <td>Kirsty Blackman</td>\n",
       "      <td>Seat held\\n</td>\n",
       "      <td>Kirsty</td>\n",
       "      <td>Blackman</td>\n",
       "      <td>48</td>\n",
       "      <td>Aberdeen North</td>\n",
       "      <td>https://facebook.com/aberdeennorth</td>\n",
       "    </tr>\n",
       "    <tr>\n",
       "      <th>3</th>\n",
       "      <td>4</td>\n",
       "      <td>Aberdeen South</td>\n",
       "      <td>Stephen Flynn</td>\n",
       "      <td>Previous incumbent, Ross Thomson, did not stand\\n</td>\n",
       "      <td>Stephen</td>\n",
       "      <td>Flynn</td>\n",
       "      <td>211</td>\n",
       "      <td>Aberdeen South</td>\n",
       "      <td>NaN</td>\n",
       "    </tr>\n",
       "    <tr>\n",
       "      <th>4</th>\n",
       "      <td>6</td>\n",
       "      <td>Aldershot</td>\n",
       "      <td>Leo Docherty</td>\n",
       "      <td>Seat held\\n</td>\n",
       "      <td>Leo</td>\n",
       "      <td>Docherty</td>\n",
       "      <td>158</td>\n",
       "      <td>Aldershot</td>\n",
       "      <td>https://facebook.com/pg/LeoDocherty4Aldershot</td>\n",
       "    </tr>\n",
       "  </tbody>\n",
       "</table>\n",
       "</div>"
      ],
      "text/plain": [
       "   Unnamed: 0_x  Constituency_x         Fullname  \\\n",
       "0             1        Aberavon  Stephen Kinnock   \n",
       "1             2       Aberconwy     Robin Millar   \n",
       "2             3  Aberdeen North  Kirsty Blackman   \n",
       "3             4  Aberdeen South    Stephen Flynn   \n",
       "4             6       Aldershot     Leo Docherty   \n",
       "\n",
       "                                               Notes Firstname  Lastname  \\\n",
       "0                                        Seat held\\n   Stephen   Kinnock   \n",
       "1     Previous incumbent, Guto Bebb, did not stand\\n     Robin    Millar   \n",
       "2                                        Seat held\\n    Kirsty  Blackman   \n",
       "3  Previous incumbent, Ross Thomson, did not stand\\n   Stephen     Flynn   \n",
       "4                                        Seat held\\n       Leo  Docherty   \n",
       "\n",
       "   Unnamed: 0_y  Constituency_y                                          Flink  \n",
       "0           346        Aberavon            https://facebook.com/stephenkinnock  \n",
       "1           429       Aberconwy                                            NaN  \n",
       "2            48  Aberdeen North             https://facebook.com/aberdeennorth  \n",
       "3           211  Aberdeen South                                            NaN  \n",
       "4           158       Aldershot  https://facebook.com/pg/LeoDocherty4Aldershot  "
      ]
     },
     "execution_count": 70,
     "metadata": {},
     "output_type": "execute_result"
    }
   ],
   "source": [
    "df_resolved.head(n=5)"
   ]
  },
  {
   "cell_type": "code",
   "execution_count": 71,
   "id": "5b980ae2",
   "metadata": {},
   "outputs": [
    {
     "data": {
      "text/plain": [
       "474"
      ]
     },
     "execution_count": 71,
     "metadata": {},
     "output_type": "execute_result"
    }
   ],
   "source": [
    "# Select those records with a non-null Facebook reference\n",
    "\n",
    "df_heldwithface = df_resolved[(df_resolved['Flink']!=\"\") & (df_resolved['Notes']==\"Seat held\\n\")]\n",
    "len(df_heldwithface)"
   ]
  },
  {
   "cell_type": "markdown",
   "id": "4c57ca34",
   "metadata": {},
   "source": [
    "## Save Files for Subsequent Chapters"
   ]
  },
  {
   "cell_type": "code",
   "execution_count": 72,
   "id": "11946ddf",
   "metadata": {},
   "outputs": [],
   "source": [
    "# Save unmatched to pick up in Chapter 3\n",
    "\n",
    "df_w_unmatched.to_csv('mps_unmatched.csv', index=False)"
   ]
  },
  {
   "cell_type": "code",
   "execution_count": 73,
   "id": "774069f3",
   "metadata": {},
   "outputs": [],
   "source": [
    "df_w.to_csv('mps_wiki_clean.csv', index=False)"
   ]
  },
  {
   "cell_type": "code",
   "execution_count": 74,
   "id": "3f7f6aa5",
   "metadata": {},
   "outputs": [],
   "source": [
    "df_t.to_csv('mps_they_clean.csv', index=False)"
   ]
  },
  {
   "cell_type": "code",
   "execution_count": null,
   "id": "6890ccb1",
   "metadata": {},
   "outputs": [],
   "source": []
  }
 ],
 "metadata": {
  "kernelspec": {
   "display_name": "Python 3 (ipykernel)",
   "language": "python",
   "name": "python3"
  },
  "language_info": {
   "codemirror_mode": {
    "name": "ipython",
    "version": 3
   },
   "file_extension": ".py",
   "mimetype": "text/x-python",
   "name": "python",
   "nbconvert_exporter": "python",
   "pygments_lexer": "ipython3",
   "version": "3.9.12"
  }
 },
 "nbformat": 4,
 "nbformat_minor": 5
}
