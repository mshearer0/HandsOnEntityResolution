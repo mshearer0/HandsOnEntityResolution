{
 "cells": [
  {
   "cell_type": "code",
   "execution_count": 1,
   "id": "8eea0074",
   "metadata": {},
   "outputs": [],
   "source": [
    "url = \"https://en.wikipedia.org/wiki/List_of_MPs_elected_in_the_2019_United_Kingdom_general_election\""
   ]
  },
  {
   "cell_type": "code",
   "execution_count": 2,
   "id": "bcbd8f6a",
   "metadata": {},
   "outputs": [],
   "source": [
    "# Get the webpage and find all tables.\n",
    "\n",
    "import requests\n",
    "from bs4 import BeautifulSoup\n",
    "\n",
    "website_url = requests.get(url).text\n",
    "soup = BeautifulSoup(website_url,'html.parser')\n",
    "tables = soup.find_all('table')"
   ]
  },
  {
   "cell_type": "code",
   "execution_count": 3,
   "id": "647b6d9b",
   "metadata": {},
   "outputs": [],
   "source": [
    "# Find the table with members returned, extract rows as a list of lists and load into dataframe\n",
    "\n",
    "import pandas as pd\n",
    "\n",
    "for table in tables:\n",
    "    if 'Member returned' in table.text:\n",
    "        headers = [header.text.strip() for header in table.find_all('th')]\n",
    "        # To fix - headers returns 7 but only 5 columns \n",
    "        headers = headers[:5]\n",
    "        rows = []\n",
    "        table_rows = table.find_all('tr')    \n",
    "        for row in table_rows:\n",
    "            td = row.find_all('td')\n",
    "            row = [row.text for row in td if row.text!='\\n']\n",
    "            rows.append(row)"
   ]
  },
  {
   "cell_type": "code",
   "execution_count": 4,
   "id": "48e41d5a",
   "metadata": {},
   "outputs": [],
   "source": [
    "df = pd.DataFrame(rows, columns=headers) "
   ]
  },
  {
   "cell_type": "code",
   "execution_count": 5,
   "id": "df654f78",
   "metadata": {},
   "outputs": [
    {
     "name": "stdout",
     "output_type": "stream",
     "text": [
      "<class 'pandas.core.frame.DataFrame'>\n",
      "RangeIndex: 652 entries, 0 to 651\n",
      "Data columns (total 5 columns):\n",
      " #   Column                             Non-Null Count  Dtype \n",
      "---  ------                             --------------  ----- \n",
      " 0   Constituency                       650 non-null    object\n",
      " 1   Party of incumbentbefore election  650 non-null    object\n",
      " 2   Member returned                    650 non-null    object\n",
      " 3   Party of incumbentafter election   650 non-null    object\n",
      " 4   Notes                              650 non-null    object\n",
      "dtypes: object(5)\n",
      "memory usage: 25.6+ KB\n"
     ]
    }
   ],
   "source": [
    "df.info()"
   ]
  },
  {
   "cell_type": "code",
   "execution_count": 6,
   "id": "db53d5dd",
   "metadata": {},
   "outputs": [
    {
     "data": {
      "text/html": [
       "<div>\n",
       "<style scoped>\n",
       "    .dataframe tbody tr th:only-of-type {\n",
       "        vertical-align: middle;\n",
       "    }\n",
       "\n",
       "    .dataframe tbody tr th {\n",
       "        vertical-align: top;\n",
       "    }\n",
       "\n",
       "    .dataframe thead th {\n",
       "        text-align: right;\n",
       "    }\n",
       "</style>\n",
       "<table border=\"1\" class=\"dataframe\">\n",
       "  <thead>\n",
       "    <tr style=\"text-align: right;\">\n",
       "      <th></th>\n",
       "      <th>Constituency</th>\n",
       "      <th>Party of incumbentbefore election</th>\n",
       "      <th>Member returned</th>\n",
       "      <th>Party of incumbentafter election</th>\n",
       "      <th>Notes</th>\n",
       "    </tr>\n",
       "  </thead>\n",
       "  <tbody>\n",
       "    <tr>\n",
       "      <th>0</th>\n",
       "      <td>None</td>\n",
       "      <td>None</td>\n",
       "      <td>None</td>\n",
       "      <td>None</td>\n",
       "      <td>None</td>\n",
       "    </tr>\n",
       "    <tr>\n",
       "      <th>1</th>\n",
       "      <td>Aberavon\\n</td>\n",
       "      <td>Labour\\n</td>\n",
       "      <td>Stephen Kinnock\\n</td>\n",
       "      <td>Labour\\n</td>\n",
       "      <td>Seat held\\n</td>\n",
       "    </tr>\n",
       "    <tr>\n",
       "      <th>2</th>\n",
       "      <td>Aberconwy\\n</td>\n",
       "      <td>Conservative\\n</td>\n",
       "      <td>Robin Millar\\n</td>\n",
       "      <td>Conservative\\n</td>\n",
       "      <td>Previous incumbent, Guto Bebb, did not stand\\n</td>\n",
       "    </tr>\n",
       "    <tr>\n",
       "      <th>3</th>\n",
       "      <td>Aberdeen North\\n</td>\n",
       "      <td>Scottish National\\n</td>\n",
       "      <td>Kirsty Blackman\\n</td>\n",
       "      <td>Scottish National\\n</td>\n",
       "      <td>Seat held\\n</td>\n",
       "    </tr>\n",
       "    <tr>\n",
       "      <th>4</th>\n",
       "      <td>Aberdeen South\\n</td>\n",
       "      <td>Conservative\\n</td>\n",
       "      <td>Stephen Flynn\\n</td>\n",
       "      <td>Scottish National\\n</td>\n",
       "      <td>Previous incumbent, Ross Thomson, did not stand\\n</td>\n",
       "    </tr>\n",
       "  </tbody>\n",
       "</table>\n",
       "</div>"
      ],
      "text/plain": [
       "       Constituency Party of incumbentbefore election    Member returned  \\\n",
       "0              None                              None               None   \n",
       "1        Aberavon\\n                          Labour\\n  Stephen Kinnock\\n   \n",
       "2       Aberconwy\\n                    Conservative\\n     Robin Millar\\n   \n",
       "3  Aberdeen North\\n               Scottish National\\n  Kirsty Blackman\\n   \n",
       "4  Aberdeen South\\n                    Conservative\\n    Stephen Flynn\\n   \n",
       "\n",
       "  Party of incumbentafter election  \\\n",
       "0                             None   \n",
       "1                         Labour\\n   \n",
       "2                   Conservative\\n   \n",
       "3              Scottish National\\n   \n",
       "4              Scottish National\\n   \n",
       "\n",
       "                                               Notes  \n",
       "0                                               None  \n",
       "1                                        Seat held\\n  \n",
       "2     Previous incumbent, Guto Bebb, did not stand\\n  \n",
       "3                                        Seat held\\n  \n",
       "4  Previous incumbent, Ross Thomson, did not stand\\n  "
      ]
     },
     "execution_count": 6,
     "metadata": {},
     "output_type": "execute_result"
    }
   ],
   "source": [
    "df.head(n=5)"
   ]
  },
  {
   "cell_type": "code",
   "execution_count": 7,
   "id": "93351b79",
   "metadata": {},
   "outputs": [
    {
     "data": {
      "text/html": [
       "<div>\n",
       "<style scoped>\n",
       "    .dataframe tbody tr th:only-of-type {\n",
       "        vertical-align: middle;\n",
       "    }\n",
       "\n",
       "    .dataframe tbody tr th {\n",
       "        vertical-align: top;\n",
       "    }\n",
       "\n",
       "    .dataframe thead th {\n",
       "        text-align: right;\n",
       "    }\n",
       "</style>\n",
       "<table border=\"1\" class=\"dataframe\">\n",
       "  <thead>\n",
       "    <tr style=\"text-align: right;\">\n",
       "      <th></th>\n",
       "      <th>Constituency</th>\n",
       "      <th>Party of incumbentbefore election</th>\n",
       "      <th>Member returned</th>\n",
       "      <th>Party of incumbentafter election</th>\n",
       "      <th>Notes</th>\n",
       "    </tr>\n",
       "  </thead>\n",
       "  <tbody>\n",
       "    <tr>\n",
       "      <th>647</th>\n",
       "      <td>Yeovil\\n</td>\n",
       "      <td>Conservative\\n</td>\n",
       "      <td>Marcus Fysh\\n</td>\n",
       "      <td>Conservative\\n</td>\n",
       "      <td>Seat held\\n</td>\n",
       "    </tr>\n",
       "    <tr>\n",
       "      <th>648</th>\n",
       "      <td>Ynys Môn\\n</td>\n",
       "      <td>Labour\\n</td>\n",
       "      <td>Virginia Crosbie\\n</td>\n",
       "      <td>Conservative\\n</td>\n",
       "      <td>Previous incumbent, Albert Owen, did not stand\\n</td>\n",
       "    </tr>\n",
       "    <tr>\n",
       "      <th>649</th>\n",
       "      <td>York Central\\n</td>\n",
       "      <td>Labour Co-operative\\n</td>\n",
       "      <td>Rachael Maskell\\n</td>\n",
       "      <td>Labour Co-operative\\n</td>\n",
       "      <td>Seat held\\n</td>\n",
       "    </tr>\n",
       "    <tr>\n",
       "      <th>650</th>\n",
       "      <td>York Outer\\n</td>\n",
       "      <td>Conservative\\n</td>\n",
       "      <td>Julian Sturdy\\n</td>\n",
       "      <td>Conservative\\n</td>\n",
       "      <td>Seat held\\n</td>\n",
       "    </tr>\n",
       "    <tr>\n",
       "      <th>651</th>\n",
       "      <td>None</td>\n",
       "      <td>None</td>\n",
       "      <td>None</td>\n",
       "      <td>None</td>\n",
       "      <td>None</td>\n",
       "    </tr>\n",
       "  </tbody>\n",
       "</table>\n",
       "</div>"
      ],
      "text/plain": [
       "       Constituency Party of incumbentbefore election     Member returned  \\\n",
       "647        Yeovil\\n                    Conservative\\n       Marcus Fysh\\n   \n",
       "648      Ynys Môn\\n                          Labour\\n  Virginia Crosbie\\n   \n",
       "649  York Central\\n             Labour Co-operative\\n   Rachael Maskell\\n   \n",
       "650    York Outer\\n                    Conservative\\n     Julian Sturdy\\n   \n",
       "651            None                              None                None   \n",
       "\n",
       "    Party of incumbentafter election  \\\n",
       "647                   Conservative\\n   \n",
       "648                   Conservative\\n   \n",
       "649            Labour Co-operative\\n   \n",
       "650                   Conservative\\n   \n",
       "651                             None   \n",
       "\n",
       "                                                Notes  \n",
       "647                                       Seat held\\n  \n",
       "648  Previous incumbent, Albert Owen, did not stand\\n  \n",
       "649                                       Seat held\\n  \n",
       "650                                       Seat held\\n  \n",
       "651                                              None  "
      ]
     },
     "execution_count": 7,
     "metadata": {},
     "output_type": "execute_result"
    }
   ],
   "source": [
    "df.tail(n=5)"
   ]
  },
  {
   "cell_type": "code",
   "execution_count": 8,
   "id": "babd8461",
   "metadata": {},
   "outputs": [],
   "source": [
    "# Remove null rows at start and end and strip tailing '\\n'\n",
    "\n",
    "df = df.dropna()\n",
    "df['Constituency'] = df['Constituency'].str.rstrip(\"\\n\")\n",
    "df['Fullname'] = df['Member returned'].str.rstrip(\"\\n\")"
   ]
  },
  {
   "cell_type": "code",
   "execution_count": 9,
   "id": "30285938",
   "metadata": {},
   "outputs": [
    {
     "data": {
      "text/html": [
       "<div>\n",
       "<style scoped>\n",
       "    .dataframe tbody tr th:only-of-type {\n",
       "        vertical-align: middle;\n",
       "    }\n",
       "\n",
       "    .dataframe tbody tr th {\n",
       "        vertical-align: top;\n",
       "    }\n",
       "\n",
       "    .dataframe thead th {\n",
       "        text-align: right;\n",
       "    }\n",
       "</style>\n",
       "<table border=\"1\" class=\"dataframe\">\n",
       "  <thead>\n",
       "    <tr style=\"text-align: right;\">\n",
       "      <th></th>\n",
       "      <th>Constituency</th>\n",
       "      <th>Party of incumbentbefore election</th>\n",
       "      <th>Member returned</th>\n",
       "      <th>Party of incumbentafter election</th>\n",
       "      <th>Notes</th>\n",
       "      <th>Fullname</th>\n",
       "    </tr>\n",
       "  </thead>\n",
       "  <tbody>\n",
       "    <tr>\n",
       "      <th>228</th>\n",
       "      <td>Finchley and Golders Green</td>\n",
       "      <td>Conservative\\n</td>\n",
       "      <td>\\nMike Freer\\n\\n</td>\n",
       "      <td>Conservative\\n</td>\n",
       "      <td>Seat held\\n</td>\n",
       "      <td>\\nMike Freer</td>\n",
       "    </tr>\n",
       "    <tr>\n",
       "      <th>373</th>\n",
       "      <td>Mole Valley</td>\n",
       "      <td>Conservative\\n</td>\n",
       "      <td>\\nPaul Beresford\\n\\n</td>\n",
       "      <td>Conservative\\n</td>\n",
       "      <td>Seat held\\n</td>\n",
       "      <td>\\nPaul Beresford</td>\n",
       "    </tr>\n",
       "    <tr>\n",
       "      <th>545</th>\n",
       "      <td>Stockport</td>\n",
       "      <td>Change UK[i]\\n</td>\n",
       "      <td>\\nNavendu Mishra\\n\\n</td>\n",
       "      <td>Labour\\n</td>\n",
       "      <td>Previous incumbent, Ann Coffey, did not stand\\n</td>\n",
       "      <td>\\nNavendu Mishra</td>\n",
       "    </tr>\n",
       "    <tr>\n",
       "      <th>546</th>\n",
       "      <td>Stockton North</td>\n",
       "      <td>Labour\\n</td>\n",
       "      <td>\\nAlex Cunningham\\n\\n</td>\n",
       "      <td>Labour\\n</td>\n",
       "      <td>Seat held\\n</td>\n",
       "      <td>\\nAlex Cunningham</td>\n",
       "    </tr>\n",
       "    <tr>\n",
       "      <th>547</th>\n",
       "      <td>Stockton South</td>\n",
       "      <td>Labour\\n</td>\n",
       "      <td>\\nMatt Vickers\\n\\n</td>\n",
       "      <td>Conservative\\n</td>\n",
       "      <td>Defeated incumbent, Paul Williams\\n</td>\n",
       "      <td>\\nMatt Vickers</td>\n",
       "    </tr>\n",
       "    <tr>\n",
       "      <th>...</th>\n",
       "      <td>...</td>\n",
       "      <td>...</td>\n",
       "      <td>...</td>\n",
       "      <td>...</td>\n",
       "      <td>...</td>\n",
       "      <td>...</td>\n",
       "    </tr>\n",
       "    <tr>\n",
       "      <th>613</th>\n",
       "      <td>West Bromwich East</td>\n",
       "      <td>Labour\\n</td>\n",
       "      <td>\\nNicola Richards\\n\\n</td>\n",
       "      <td>Conservative\\n</td>\n",
       "      <td>Previous incumbent, Tom Watson, did not stand\\n</td>\n",
       "      <td>\\nNicola Richards</td>\n",
       "    </tr>\n",
       "    <tr>\n",
       "      <th>614</th>\n",
       "      <td>West Bromwich West</td>\n",
       "      <td>Labour Co-operative\\n</td>\n",
       "      <td>\\nShaun Bailey\\n\\n</td>\n",
       "      <td>Conservative\\n</td>\n",
       "      <td>Previous incumbent, Adrian Bailey, did not sta...</td>\n",
       "      <td>\\nShaun Bailey</td>\n",
       "    </tr>\n",
       "    <tr>\n",
       "      <th>616</th>\n",
       "      <td>West Dunbartonshire</td>\n",
       "      <td>Scottish National\\n</td>\n",
       "      <td>\\nMartin Docherty-Hughes\\n\\n</td>\n",
       "      <td>Scottish National\\n</td>\n",
       "      <td>Seat held\\n</td>\n",
       "      <td>\\nMartin Docherty-Hughes</td>\n",
       "    </tr>\n",
       "    <tr>\n",
       "      <th>619</th>\n",
       "      <td>West Suffolk</td>\n",
       "      <td>Conservative\\n</td>\n",
       "      <td>\\nMatthew Hancock\\n\\n</td>\n",
       "      <td>Conservative\\n</td>\n",
       "      <td>Seat held\\n</td>\n",
       "      <td>\\nMatthew Hancock</td>\n",
       "    </tr>\n",
       "    <tr>\n",
       "      <th>620</th>\n",
       "      <td>West Tyrone</td>\n",
       "      <td>Sinn Féin\\n</td>\n",
       "      <td>\\nÓrfhlaith Begley\\n\\n</td>\n",
       "      <td>Sinn Féin\\n</td>\n",
       "      <td>Seat held\\n</td>\n",
       "      <td>\\nÓrfhlaith Begley</td>\n",
       "    </tr>\n",
       "  </tbody>\n",
       "</table>\n",
       "<p>75 rows × 6 columns</p>\n",
       "</div>"
      ],
      "text/plain": [
       "                   Constituency Party of incumbentbefore election  \\\n",
       "228  Finchley and Golders Green                    Conservative\\n   \n",
       "373                 Mole Valley                    Conservative\\n   \n",
       "545                   Stockport                    Change UK[i]\\n   \n",
       "546              Stockton North                          Labour\\n   \n",
       "547              Stockton South                          Labour\\n   \n",
       "..                          ...                               ...   \n",
       "613          West Bromwich East                          Labour\\n   \n",
       "614          West Bromwich West             Labour Co-operative\\n   \n",
       "616         West Dunbartonshire               Scottish National\\n   \n",
       "619                West Suffolk                    Conservative\\n   \n",
       "620                 West Tyrone                       Sinn Féin\\n   \n",
       "\n",
       "                  Member returned Party of incumbentafter election  \\\n",
       "228              \\nMike Freer\\n\\n                   Conservative\\n   \n",
       "373          \\nPaul Beresford\\n\\n                   Conservative\\n   \n",
       "545          \\nNavendu Mishra\\n\\n                         Labour\\n   \n",
       "546         \\nAlex Cunningham\\n\\n                         Labour\\n   \n",
       "547            \\nMatt Vickers\\n\\n                   Conservative\\n   \n",
       "..                            ...                              ...   \n",
       "613         \\nNicola Richards\\n\\n                   Conservative\\n   \n",
       "614            \\nShaun Bailey\\n\\n                   Conservative\\n   \n",
       "616  \\nMartin Docherty-Hughes\\n\\n              Scottish National\\n   \n",
       "619         \\nMatthew Hancock\\n\\n                   Conservative\\n   \n",
       "620        \\nÓrfhlaith Begley\\n\\n                      Sinn Féin\\n   \n",
       "\n",
       "                                                 Notes  \\\n",
       "228                                        Seat held\\n   \n",
       "373                                        Seat held\\n   \n",
       "545    Previous incumbent, Ann Coffey, did not stand\\n   \n",
       "546                                        Seat held\\n   \n",
       "547                Defeated incumbent, Paul Williams\\n   \n",
       "..                                                 ...   \n",
       "613    Previous incumbent, Tom Watson, did not stand\\n   \n",
       "614  Previous incumbent, Adrian Bailey, did not sta...   \n",
       "616                                        Seat held\\n   \n",
       "619                                        Seat held\\n   \n",
       "620                                        Seat held\\n   \n",
       "\n",
       "                     Fullname  \n",
       "228              \\nMike Freer  \n",
       "373          \\nPaul Beresford  \n",
       "545          \\nNavendu Mishra  \n",
       "546         \\nAlex Cunningham  \n",
       "547            \\nMatt Vickers  \n",
       "..                        ...  \n",
       "613         \\nNicola Richards  \n",
       "614            \\nShaun Bailey  \n",
       "616  \\nMartin Docherty-Hughes  \n",
       "619         \\nMatthew Hancock  \n",
       "620        \\nÓrfhlaith Begley  \n",
       "\n",
       "[75 rows x 6 columns]"
      ]
     },
     "execution_count": 9,
     "metadata": {},
     "output_type": "execute_result"
    }
   ],
   "source": [
    "# Check \\n not elsewhere in Fullname\n",
    "\n",
    "df[df['Fullname'].astype(str).str.contains('\\n')]"
   ]
  },
  {
   "cell_type": "code",
   "execution_count": 10,
   "id": "f4319e63",
   "metadata": {},
   "outputs": [
    {
     "data": {
      "text/html": [
       "<div>\n",
       "<style scoped>\n",
       "    .dataframe tbody tr th:only-of-type {\n",
       "        vertical-align: middle;\n",
       "    }\n",
       "\n",
       "    .dataframe tbody tr th {\n",
       "        vertical-align: top;\n",
       "    }\n",
       "\n",
       "    .dataframe thead th {\n",
       "        text-align: right;\n",
       "    }\n",
       "</style>\n",
       "<table border=\"1\" class=\"dataframe\">\n",
       "  <thead>\n",
       "    <tr style=\"text-align: right;\">\n",
       "      <th></th>\n",
       "      <th>Constituency</th>\n",
       "      <th>Party of incumbentbefore election</th>\n",
       "      <th>Member returned</th>\n",
       "      <th>Party of incumbentafter election</th>\n",
       "      <th>Notes</th>\n",
       "      <th>Fullname</th>\n",
       "    </tr>\n",
       "  </thead>\n",
       "  <tbody>\n",
       "  </tbody>\n",
       "</table>\n",
       "</div>"
      ],
      "text/plain": [
       "Empty DataFrame\n",
       "Columns: [Constituency, Party of incumbentbefore election, Member returned, Party of incumbentafter election, Notes, Fullname]\n",
       "Index: []"
      ]
     },
     "execution_count": 10,
     "metadata": {},
     "output_type": "execute_result"
    }
   ],
   "source": [
    "# Check \\n not elsewhere in Fullname\n",
    "\n",
    "df[df['Constituency'].astype(str).str.contains('\\n')]"
   ]
  },
  {
   "cell_type": "code",
   "execution_count": 11,
   "id": "6644cd0e",
   "metadata": {},
   "outputs": [],
   "source": [
    "# Strip leading '\\n' \n",
    "\n",
    "df['Fullname'] = df['Fullname'].str.lstrip(\"\\n\")"
   ]
  },
  {
   "cell_type": "code",
   "execution_count": 12,
   "id": "a358bcb2",
   "metadata": {},
   "outputs": [],
   "source": [
    "# Split into Firstname and compound Lastname\n",
    "\n",
    "df['Firstname'] = df['Fullname'].str.split().str[0]\n",
    "df['Lastname'] = df['Fullname'].astype(str).apply(lambda x: ' '.join(x.split()[1:]))"
   ]
  },
  {
   "cell_type": "code",
   "execution_count": 13,
   "id": "4cc7c529",
   "metadata": {},
   "outputs": [
    {
     "data": {
      "text/plain": [
       "31       de Cordova\n",
       "134    Duncan Smith\n",
       "393    Marie Morris\n",
       "592      Ahmad Khan\n",
       "Name: Lastname, dtype: object"
      ]
     },
     "execution_count": 13,
     "metadata": {},
     "output_type": "execute_result"
    }
   ],
   "source": [
    "# Check for compound lastnames\n",
    "\n",
    "df[df['Lastname'].astype(str).str.contains(' ')]['Lastname']"
   ]
  },
  {
   "cell_type": "code",
   "execution_count": 14,
   "id": "ee4847a6",
   "metadata": {},
   "outputs": [
    {
     "data": {
      "text/plain": [
       "650"
      ]
     },
     "execution_count": 14,
     "metadata": {},
     "output_type": "execute_result"
    }
   ],
   "source": [
    "# Remove unwanted columns and check length\n",
    "\n",
    "df = df[['Constituency','Firstname','Lastname']]\n",
    "len(df)"
   ]
  },
  {
   "cell_type": "code",
   "execution_count": 15,
   "id": "11b125f8",
   "metadata": {},
   "outputs": [],
   "source": [
    "# Download all current Members of Parliament\n",
    "\n",
    "url = \"https://www.theyworkforyou.com/mps/?f=csv\"\n",
    "df_mp=pd.read_csv(url, header=0)"
   ]
  },
  {
   "cell_type": "code",
   "execution_count": 16,
   "id": "bec6d5d1",
   "metadata": {},
   "outputs": [],
   "source": [
    "# Save file to local storage\n",
    "# Post next UK election when theyworkforyou update their website you may wish to \n",
    "# comment out this next line and use the raw file (captured in 2023) provided.\n",
    "df_mp.to_csv('mps_raw.csv')\n",
    "\n",
    "df_mp = pd.read_csv('mps_raw.csv')"
   ]
  },
  {
   "cell_type": "code",
   "execution_count": 17,
   "id": "2c6ed0c2",
   "metadata": {},
   "outputs": [
    {
     "name": "stdout",
     "output_type": "stream",
     "text": [
      "<class 'pandas.core.frame.DataFrame'>\n",
      "RangeIndex: 649 entries, 0 to 648\n",
      "Data columns (total 7 columns):\n",
      " #   Column        Non-Null Count  Dtype \n",
      "---  ------        --------------  ----- \n",
      " 0   Unnamed: 0    649 non-null    int64 \n",
      " 1   Person ID     649 non-null    int64 \n",
      " 2   First name    649 non-null    object\n",
      " 3   Last name     649 non-null    object\n",
      " 4   Party         649 non-null    object\n",
      " 5   Constituency  649 non-null    object\n",
      " 6   URI           649 non-null    object\n",
      "dtypes: int64(2), object(5)\n",
      "memory usage: 35.6+ KB\n"
     ]
    }
   ],
   "source": [
    "df_mp.info()"
   ]
  },
  {
   "cell_type": "code",
   "execution_count": 18,
   "id": "e753dc31",
   "metadata": {},
   "outputs": [
    {
     "data": {
      "text/html": [
       "<div>\n",
       "<style scoped>\n",
       "    .dataframe tbody tr th:only-of-type {\n",
       "        vertical-align: middle;\n",
       "    }\n",
       "\n",
       "    .dataframe tbody tr th {\n",
       "        vertical-align: top;\n",
       "    }\n",
       "\n",
       "    .dataframe thead th {\n",
       "        text-align: right;\n",
       "    }\n",
       "</style>\n",
       "<table border=\"1\" class=\"dataframe\">\n",
       "  <thead>\n",
       "    <tr style=\"text-align: right;\">\n",
       "      <th></th>\n",
       "      <th>Unnamed: 0</th>\n",
       "      <th>Person ID</th>\n",
       "      <th>First name</th>\n",
       "      <th>Last name</th>\n",
       "      <th>Party</th>\n",
       "      <th>Constituency</th>\n",
       "      <th>URI</th>\n",
       "    </tr>\n",
       "  </thead>\n",
       "  <tbody>\n",
       "    <tr>\n",
       "      <th>0</th>\n",
       "      <td>0</td>\n",
       "      <td>10001</td>\n",
       "      <td>Diane</td>\n",
       "      <td>Abbott</td>\n",
       "      <td>Labour</td>\n",
       "      <td>Hackney North and Stoke Newington</td>\n",
       "      <td>https://www.theyworkforyou.com/mp/10001/diane_...</td>\n",
       "    </tr>\n",
       "    <tr>\n",
       "      <th>1</th>\n",
       "      <td>1</td>\n",
       "      <td>25034</td>\n",
       "      <td>Debbie</td>\n",
       "      <td>Abrahams</td>\n",
       "      <td>Labour</td>\n",
       "      <td>Oldham East and Saddleworth</td>\n",
       "      <td>https://www.theyworkforyou.com/mp/25034/debbie...</td>\n",
       "    </tr>\n",
       "    <tr>\n",
       "      <th>2</th>\n",
       "      <td>2</td>\n",
       "      <td>24878</td>\n",
       "      <td>Nigel</td>\n",
       "      <td>Adams</td>\n",
       "      <td>Conservative</td>\n",
       "      <td>Selby and Ainsty</td>\n",
       "      <td>https://www.theyworkforyou.com/mp/24878/nigel_...</td>\n",
       "    </tr>\n",
       "    <tr>\n",
       "      <th>3</th>\n",
       "      <td>3</td>\n",
       "      <td>25661</td>\n",
       "      <td>Bim</td>\n",
       "      <td>Afolami</td>\n",
       "      <td>Conservative</td>\n",
       "      <td>Hitchin and Harpenden</td>\n",
       "      <td>https://www.theyworkforyou.com/mp/25661/bim_af...</td>\n",
       "    </tr>\n",
       "    <tr>\n",
       "      <th>4</th>\n",
       "      <td>4</td>\n",
       "      <td>11929</td>\n",
       "      <td>Adam</td>\n",
       "      <td>Afriyie</td>\n",
       "      <td>Conservative</td>\n",
       "      <td>Windsor</td>\n",
       "      <td>https://www.theyworkforyou.com/mp/11929/adam_a...</td>\n",
       "    </tr>\n",
       "  </tbody>\n",
       "</table>\n",
       "</div>"
      ],
      "text/plain": [
       "   Unnamed: 0  Person ID First name Last name         Party  \\\n",
       "0           0      10001      Diane    Abbott        Labour   \n",
       "1           1      25034     Debbie  Abrahams        Labour   \n",
       "2           2      24878      Nigel     Adams  Conservative   \n",
       "3           3      25661        Bim   Afolami  Conservative   \n",
       "4           4      11929       Adam   Afriyie  Conservative   \n",
       "\n",
       "                        Constituency  \\\n",
       "0  Hackney North and Stoke Newington   \n",
       "1        Oldham East and Saddleworth   \n",
       "2                   Selby and Ainsty   \n",
       "3              Hitchin and Harpenden   \n",
       "4                            Windsor   \n",
       "\n",
       "                                                 URI  \n",
       "0  https://www.theyworkforyou.com/mp/10001/diane_...  \n",
       "1  https://www.theyworkforyou.com/mp/25034/debbie...  \n",
       "2  https://www.theyworkforyou.com/mp/24878/nigel_...  \n",
       "3  https://www.theyworkforyou.com/mp/25661/bim_af...  \n",
       "4  https://www.theyworkforyou.com/mp/11929/adam_a...  "
      ]
     },
     "execution_count": 18,
     "metadata": {},
     "output_type": "execute_result"
    }
   ],
   "source": [
    "df_mp.head(n=5)"
   ]
  },
  {
   "cell_type": "code",
   "execution_count": 19,
   "id": "5654a800",
   "metadata": {},
   "outputs": [
    {
     "data": {
      "text/html": [
       "<div>\n",
       "<style scoped>\n",
       "    .dataframe tbody tr th:only-of-type {\n",
       "        vertical-align: middle;\n",
       "    }\n",
       "\n",
       "    .dataframe tbody tr th {\n",
       "        vertical-align: top;\n",
       "    }\n",
       "\n",
       "    .dataframe thead th {\n",
       "        text-align: right;\n",
       "    }\n",
       "</style>\n",
       "<table border=\"1\" class=\"dataframe\">\n",
       "  <thead>\n",
       "    <tr style=\"text-align: right;\">\n",
       "      <th></th>\n",
       "      <th>Unnamed: 0</th>\n",
       "      <th>Person ID</th>\n",
       "      <th>First name</th>\n",
       "      <th>Last name</th>\n",
       "      <th>Party</th>\n",
       "      <th>Constituency</th>\n",
       "      <th>URI</th>\n",
       "    </tr>\n",
       "  </thead>\n",
       "  <tbody>\n",
       "    <tr>\n",
       "      <th>644</th>\n",
       "      <td>644</td>\n",
       "      <td>11791</td>\n",
       "      <td>Jeremy</td>\n",
       "      <td>Wright</td>\n",
       "      <td>Conservative</td>\n",
       "      <td>Kenilworth and Southam</td>\n",
       "      <td>https://www.theyworkforyou.com/mp/11791/jeremy...</td>\n",
       "    </tr>\n",
       "    <tr>\n",
       "      <th>645</th>\n",
       "      <td>645</td>\n",
       "      <td>25649</td>\n",
       "      <td>Mohammad</td>\n",
       "      <td>Yasin</td>\n",
       "      <td>Labour</td>\n",
       "      <td>Bedford</td>\n",
       "      <td>https://www.theyworkforyou.com/mp/25649/mohamm...</td>\n",
       "    </tr>\n",
       "    <tr>\n",
       "      <th>646</th>\n",
       "      <td>646</td>\n",
       "      <td>25806</td>\n",
       "      <td>Jacob</td>\n",
       "      <td>Young</td>\n",
       "      <td>Conservative</td>\n",
       "      <td>Redcar</td>\n",
       "      <td>https://www.theyworkforyou.com/mp/25806/jacob_...</td>\n",
       "    </tr>\n",
       "    <tr>\n",
       "      <th>647</th>\n",
       "      <td>647</td>\n",
       "      <td>24822</td>\n",
       "      <td>Nadhim</td>\n",
       "      <td>Zahawi</td>\n",
       "      <td>Conservative</td>\n",
       "      <td>Stratford-on-Avon</td>\n",
       "      <td>https://www.theyworkforyou.com/mp/24822/nadhim...</td>\n",
       "    </tr>\n",
       "    <tr>\n",
       "      <th>648</th>\n",
       "      <td>648</td>\n",
       "      <td>25386</td>\n",
       "      <td>Daniel</td>\n",
       "      <td>Zeichner</td>\n",
       "      <td>Labour</td>\n",
       "      <td>Cambridge</td>\n",
       "      <td>https://www.theyworkforyou.com/mp/25386/daniel...</td>\n",
       "    </tr>\n",
       "  </tbody>\n",
       "</table>\n",
       "</div>"
      ],
      "text/plain": [
       "     Unnamed: 0  Person ID First name Last name         Party  \\\n",
       "644         644      11791     Jeremy    Wright  Conservative   \n",
       "645         645      25649   Mohammad     Yasin        Labour   \n",
       "646         646      25806      Jacob     Young  Conservative   \n",
       "647         647      24822     Nadhim    Zahawi  Conservative   \n",
       "648         648      25386     Daniel  Zeichner        Labour   \n",
       "\n",
       "               Constituency                                                URI  \n",
       "644  Kenilworth and Southam  https://www.theyworkforyou.com/mp/11791/jeremy...  \n",
       "645                 Bedford  https://www.theyworkforyou.com/mp/25649/mohamm...  \n",
       "646                  Redcar  https://www.theyworkforyou.com/mp/25806/jacob_...  \n",
       "647       Stratford-on-Avon  https://www.theyworkforyou.com/mp/24822/nadhim...  \n",
       "648               Cambridge  https://www.theyworkforyou.com/mp/25386/daniel...  "
      ]
     },
     "execution_count": 19,
     "metadata": {},
     "output_type": "execute_result"
    }
   ],
   "source": [
    "df_mp.tail(n=5)"
   ]
  },
  {
   "cell_type": "code",
   "execution_count": 20,
   "id": "963ff01b",
   "metadata": {},
   "outputs": [
    {
     "data": {
      "text/plain": [
       "649"
      ]
     },
     "execution_count": 20,
     "metadata": {},
     "output_type": "execute_result"
    }
   ],
   "source": [
    "df_mp['Lastname']=df_mp['Last name']\n",
    "df_mp['Firstname']=df_mp['First name']\n",
    "df_mp = df_mp[['Constituency','Firstname','Lastname']]\n",
    "len(df_mp)"
   ]
  },
  {
   "cell_type": "code",
   "execution_count": 21,
   "id": "5c902041",
   "metadata": {},
   "outputs": [
    {
     "data": {
      "text/plain": [
       "599"
      ]
     },
     "execution_count": 21,
     "metadata": {},
     "output_type": "execute_result"
    }
   ],
   "source": [
    "# All matching columns\n",
    "\n",
    "len(df.merge(df_mp))"
   ]
  },
  {
   "cell_type": "code",
   "execution_count": 22,
   "id": "abd507ce",
   "metadata": {},
   "outputs": [
    {
     "data": {
      "text/plain": [
       "624"
      ]
     },
     "execution_count": 22,
     "metadata": {},
     "output_type": "execute_result"
    }
   ],
   "source": [
    "# Match on First name and Last name\n",
    "\n",
    "len(df.merge(df_mp, on=['Firstname','Lastname'] ))"
   ]
  },
  {
   "cell_type": "code",
   "execution_count": 23,
   "id": "79ada167",
   "metadata": {},
   "outputs": [
    {
     "data": {
      "text/plain": [
       "607"
      ]
     },
     "execution_count": 23,
     "metadata": {},
     "output_type": "execute_result"
    }
   ],
   "source": [
    "# Match on Consistency and Last name\n",
    "\n",
    "len(df.merge(df_mp, on=['Constituency','Lastname'] ))"
   ]
  },
  {
   "cell_type": "code",
   "execution_count": 24,
   "id": "6f36dafe",
   "metadata": {},
   "outputs": [
    {
     "data": {
      "text/plain": [
       "602"
      ]
     },
     "execution_count": 24,
     "metadata": {},
     "output_type": "execute_result"
    }
   ],
   "source": [
    "# Match on Consistency and First name\n",
    "\n",
    "len(df.merge(df_mp, on=['Constituency','Firstname'] ))"
   ]
  },
  {
   "cell_type": "code",
   "execution_count": 25,
   "id": "46f6dad1",
   "metadata": {},
   "outputs": [
    {
     "data": {
      "text/plain": [
       "982"
      ]
     },
     "execution_count": 25,
     "metadata": {},
     "output_type": "execute_result"
    }
   ],
   "source": [
    "# Match on Lastname\n",
    "\n",
    "len(df.merge(df_mp, on=['Lastname'] ))"
   ]
  },
  {
   "cell_type": "code",
   "execution_count": 26,
   "id": "7b0667b4",
   "metadata": {},
   "outputs": [
    {
     "data": {
      "text/plain": [
       "2663"
      ]
     },
     "execution_count": 26,
     "metadata": {},
     "output_type": "execute_result"
    }
   ],
   "source": [
    "# Match on Firstname\n",
    "\n",
    "len(df.merge(df_mp, on=['Firstname'] ))"
   ]
  },
  {
   "cell_type": "code",
   "execution_count": 27,
   "id": "ef47143d",
   "metadata": {},
   "outputs": [
    {
     "data": {
      "text/plain": [
       "622"
      ]
     },
     "execution_count": 27,
     "metadata": {},
     "output_type": "execute_result"
    }
   ],
   "source": [
    "# Match on Consistency\n",
    "\n",
    "len(df.merge(df_mp, on=['Constituency'] ))"
   ]
  },
  {
   "cell_type": "code",
   "execution_count": 28,
   "id": "d0beffbe",
   "metadata": {},
   "outputs": [
    {
     "data": {
      "text/plain": [
       "650    Birmingham, Hall Green\n",
       "651      Liverpool, Wavertree\n",
       "652         Sheffield, Hallam\n",
       "653     Liverpool, West Derby\n",
       "654    Birmingham, Hodge Hill\n",
       "Name: Constituency, dtype: object"
      ]
     },
     "execution_count": 28,
     "metadata": {},
     "output_type": "execute_result"
    }
   ],
   "source": [
    "df_outer = df.merge(df_mp, on=['Constituency'],how=\"outer\",indicator=True)\n",
    "df_outer[df_outer['_merge']=='right_only']['Constituency'].head(n=5)"
   ]
  },
  {
   "cell_type": "code",
   "execution_count": 29,
   "id": "e1249362",
   "metadata": {},
   "outputs": [
    {
     "data": {
      "text/plain": [
       "46     Birmingham Edgbaston\n",
       "47     Birmingham Erdington\n",
       "48    Birmingham Hall Green\n",
       "49    Birmingham Hodge Hill\n",
       "50      Birmingham Ladywood\n",
       "Name: Constituency, dtype: object"
      ]
     },
     "execution_count": 29,
     "metadata": {},
     "output_type": "execute_result"
    }
   ],
   "source": [
    "df_outer[df_outer['_merge']=='left_only']['Constituency'].head(n=5)"
   ]
  },
  {
   "cell_type": "code",
   "execution_count": 30,
   "id": "594794c8",
   "metadata": {},
   "outputs": [],
   "source": [
    "# Remove commas from both dataframes\n",
    "\n",
    "df_mp['Constituency'] = df_mp['Constituency'].str.replace(',', '')\n",
    "df['Constituency'] = df['Constituency'].str.replace(',', '')"
   ]
  },
  {
   "cell_type": "code",
   "execution_count": 31,
   "id": "bd21884a",
   "metadata": {},
   "outputs": [
    {
     "data": {
      "text/plain": [
       "649"
      ]
     },
     "execution_count": 31,
     "metadata": {},
     "output_type": "execute_result"
    }
   ],
   "source": [
    "# Match on Consistency\n",
    "\n",
    "len(df.merge(df_mp, on=['Constituency'] ))"
   ]
  },
  {
   "cell_type": "code",
   "execution_count": 32,
   "id": "7e93846a",
   "metadata": {},
   "outputs": [
    {
     "data": {
      "text/plain": [
       "624"
      ]
     },
     "execution_count": 32,
     "metadata": {},
     "output_type": "execute_result"
    }
   ],
   "source": [
    "# Repeat perfect match count\n",
    "\n",
    "len(df.merge(df_mp))"
   ]
  },
  {
   "cell_type": "code",
   "execution_count": 33,
   "id": "c10a6629",
   "metadata": {},
   "outputs": [
    {
     "data": {
      "text/html": [
       "<div>\n",
       "<style scoped>\n",
       "    .dataframe tbody tr th:only-of-type {\n",
       "        vertical-align: middle;\n",
       "    }\n",
       "\n",
       "    .dataframe tbody tr th {\n",
       "        vertical-align: top;\n",
       "    }\n",
       "\n",
       "    .dataframe thead th {\n",
       "        text-align: right;\n",
       "    }\n",
       "</style>\n",
       "<table border=\"1\" class=\"dataframe\">\n",
       "  <thead>\n",
       "    <tr style=\"text-align: right;\">\n",
       "      <th></th>\n",
       "      <th>Constituency</th>\n",
       "      <th>Firstname_x</th>\n",
       "      <th>Lastname_x</th>\n",
       "      <th>Firstname_y</th>\n",
       "      <th>Lastname_y</th>\n",
       "    </tr>\n",
       "  </thead>\n",
       "  <tbody>\n",
       "    <tr>\n",
       "      <th>4</th>\n",
       "      <td>Airdrie and Shotts</td>\n",
       "      <td>Neil</td>\n",
       "      <td>Gray</td>\n",
       "      <td>Anum</td>\n",
       "      <td>Qaisar</td>\n",
       "    </tr>\n",
       "    <tr>\n",
       "      <th>29</th>\n",
       "      <td>Batley and Spen</td>\n",
       "      <td>Tracy</td>\n",
       "      <td>Brabin</td>\n",
       "      <td>Kim</td>\n",
       "      <td>Leadbeater</td>\n",
       "    </tr>\n",
       "    <tr>\n",
       "      <th>47</th>\n",
       "      <td>Birmingham Erdington</td>\n",
       "      <td>Jack</td>\n",
       "      <td>Dromey</td>\n",
       "      <td>Paulette</td>\n",
       "      <td>Hamilton</td>\n",
       "    </tr>\n",
       "    <tr>\n",
       "      <th>130</th>\n",
       "      <td>Chesham and Amersham</td>\n",
       "      <td>Cheryl</td>\n",
       "      <td>Gillan</td>\n",
       "      <td>Sarah</td>\n",
       "      <td>Green</td>\n",
       "    </tr>\n",
       "    <tr>\n",
       "      <th>139</th>\n",
       "      <td>City of Chester</td>\n",
       "      <td>Chris</td>\n",
       "      <td>Matheson</td>\n",
       "      <td>Samantha</td>\n",
       "      <td>Dixon</td>\n",
       "    </tr>\n",
       "    <tr>\n",
       "      <th>268</th>\n",
       "      <td>Hartlepool</td>\n",
       "      <td>Mike</td>\n",
       "      <td>Hill</td>\n",
       "      <td>Jill</td>\n",
       "      <td>Mortimer</td>\n",
       "    </tr>\n",
       "    <tr>\n",
       "      <th>392</th>\n",
       "      <td>Newton Abbot</td>\n",
       "      <td>Anne</td>\n",
       "      <td>Marie Morris</td>\n",
       "      <td>Anne Marie</td>\n",
       "      <td>Morris</td>\n",
       "    </tr>\n",
       "    <tr>\n",
       "      <th>410</th>\n",
       "      <td>North Shropshire</td>\n",
       "      <td>Owen</td>\n",
       "      <td>Paterson</td>\n",
       "      <td>Helen</td>\n",
       "      <td>Morgan</td>\n",
       "    </tr>\n",
       "    <tr>\n",
       "      <th>432</th>\n",
       "      <td>Old Bexley and Sidcup</td>\n",
       "      <td>James</td>\n",
       "      <td>Brokenshire</td>\n",
       "      <td>Louie</td>\n",
       "      <td>French</td>\n",
       "    </tr>\n",
       "    <tr>\n",
       "      <th>531</th>\n",
       "      <td>Southend West</td>\n",
       "      <td>David</td>\n",
       "      <td>Amess</td>\n",
       "      <td>Anna</td>\n",
       "      <td>Firth</td>\n",
       "    </tr>\n",
       "    <tr>\n",
       "      <th>555</th>\n",
       "      <td>Stretford and Urmston</td>\n",
       "      <td>Kate</td>\n",
       "      <td>Green</td>\n",
       "      <td>Andrew</td>\n",
       "      <td>Western</td>\n",
       "    </tr>\n",
       "    <tr>\n",
       "      <th>574</th>\n",
       "      <td>Tiverton and Honiton</td>\n",
       "      <td>Neil</td>\n",
       "      <td>Parish</td>\n",
       "      <td>Richard</td>\n",
       "      <td>Foord</td>\n",
       "    </tr>\n",
       "    <tr>\n",
       "      <th>591</th>\n",
       "      <td>Wakefield</td>\n",
       "      <td>Imran</td>\n",
       "      <td>Ahmad Khan</td>\n",
       "      <td>Simon</td>\n",
       "      <td>Lightwood</td>\n",
       "    </tr>\n",
       "  </tbody>\n",
       "</table>\n",
       "</div>"
      ],
      "text/plain": [
       "              Constituency Firstname_x    Lastname_x Firstname_y  Lastname_y\n",
       "4       Airdrie and Shotts        Neil          Gray        Anum      Qaisar\n",
       "29         Batley and Spen       Tracy        Brabin         Kim  Leadbeater\n",
       "47    Birmingham Erdington        Jack        Dromey    Paulette    Hamilton\n",
       "130   Chesham and Amersham      Cheryl        Gillan       Sarah       Green\n",
       "139        City of Chester       Chris      Matheson    Samantha       Dixon\n",
       "268             Hartlepool        Mike          Hill        Jill    Mortimer\n",
       "392           Newton Abbot        Anne  Marie Morris  Anne Marie      Morris\n",
       "410       North Shropshire        Owen      Paterson       Helen      Morgan\n",
       "432  Old Bexley and Sidcup       James   Brokenshire       Louie      French\n",
       "531          Southend West       David         Amess        Anna       Firth\n",
       "555  Stretford and Urmston        Kate         Green      Andrew     Western\n",
       "574   Tiverton and Honiton        Neil        Parish     Richard       Foord\n",
       "591              Wakefield       Imran    Ahmad Khan       Simon   Lightwood"
      ]
     },
     "execution_count": 33,
     "metadata": {},
     "output_type": "execute_result"
    }
   ],
   "source": [
    "# Find consitutencies where neither Firstname nor Lastname match\n",
    "# These are candidates by-elections.\n",
    "\n",
    "df_inner = df.merge(df_mp, on=['Constituency'])\n",
    "df_inner[(df_inner['Firstname_x'] != df_inner['Firstname_y']) & (df_inner['Lastname_x'] != df_inner['Lastname_y'])]"
   ]
  },
  {
   "cell_type": "code",
   "execution_count": 34,
   "id": "93b4203f",
   "metadata": {},
   "outputs": [
    {
     "data": {
      "text/html": [
       "<div>\n",
       "<style scoped>\n",
       "    .dataframe tbody tr th:only-of-type {\n",
       "        vertical-align: middle;\n",
       "    }\n",
       "\n",
       "    .dataframe tbody tr th {\n",
       "        vertical-align: top;\n",
       "    }\n",
       "\n",
       "    .dataframe thead th {\n",
       "        text-align: right;\n",
       "    }\n",
       "</style>\n",
       "<table border=\"1\" class=\"dataframe\">\n",
       "  <thead>\n",
       "    <tr style=\"text-align: right;\">\n",
       "      <th></th>\n",
       "      <th>Constituency</th>\n",
       "      <th>Firstname_x</th>\n",
       "      <th>Lastname_x</th>\n",
       "      <th>Firstname_y</th>\n",
       "      <th>Lastname_y</th>\n",
       "    </tr>\n",
       "  </thead>\n",
       "  <tbody>\n",
       "    <tr>\n",
       "      <th>46</th>\n",
       "      <td>Birmingham Edgbaston</td>\n",
       "      <td>Preet</td>\n",
       "      <td>Gill</td>\n",
       "      <td>Preet Kaur</td>\n",
       "      <td>Gill</td>\n",
       "    </tr>\n",
       "    <tr>\n",
       "      <th>99</th>\n",
       "      <td>Burton</td>\n",
       "      <td>Kate</td>\n",
       "      <td>Griffiths</td>\n",
       "      <td>Kate</td>\n",
       "      <td>Kniveton</td>\n",
       "    </tr>\n",
       "    <tr>\n",
       "      <th>122</th>\n",
       "      <td>Central Suffolk and North Ipswich</td>\n",
       "      <td>Dan</td>\n",
       "      <td>Poulter</td>\n",
       "      <td>Daniel</td>\n",
       "      <td>Poulter</td>\n",
       "    </tr>\n",
       "    <tr>\n",
       "      <th>272</th>\n",
       "      <td>Hayes and Harlington</td>\n",
       "      <td>John</td>\n",
       "      <td>McDonnell</td>\n",
       "      <td>John Martin</td>\n",
       "      <td>McDonnell</td>\n",
       "    </tr>\n",
       "    <tr>\n",
       "      <th>311</th>\n",
       "      <td>Kingston upon Hull North</td>\n",
       "      <td>Diana</td>\n",
       "      <td>Johnson</td>\n",
       "      <td>Diana R.</td>\n",
       "      <td>Johnson</td>\n",
       "    </tr>\n",
       "    <tr>\n",
       "      <th>316</th>\n",
       "      <td>Lagan Valley</td>\n",
       "      <td>Jeffrey</td>\n",
       "      <td>Donaldson</td>\n",
       "      <td>Jeffrey M.</td>\n",
       "      <td>Donaldson</td>\n",
       "    </tr>\n",
       "    <tr>\n",
       "      <th>394</th>\n",
       "      <td>North Antrim</td>\n",
       "      <td>Ian</td>\n",
       "      <td>Paisley</td>\n",
       "      <td>Ian</td>\n",
       "      <td>Paisley Jnr</td>\n",
       "    </tr>\n",
       "    <tr>\n",
       "      <th>502</th>\n",
       "      <td>Slough</td>\n",
       "      <td>Tanmanjeet</td>\n",
       "      <td>Dhesi</td>\n",
       "      <td>Tan</td>\n",
       "      <td>Dhesi</td>\n",
       "    </tr>\n",
       "    <tr>\n",
       "      <th>510</th>\n",
       "      <td>South Down</td>\n",
       "      <td>Chris</td>\n",
       "      <td>Hazzard</td>\n",
       "      <td>Christopher</td>\n",
       "      <td>Hazzard</td>\n",
       "    </tr>\n",
       "    <tr>\n",
       "      <th>526</th>\n",
       "      <td>South West Norfolk</td>\n",
       "      <td>Liz</td>\n",
       "      <td>Truss</td>\n",
       "      <td>Elizabeth</td>\n",
       "      <td>Truss</td>\n",
       "    </tr>\n",
       "    <tr>\n",
       "      <th>605</th>\n",
       "      <td>Wealden</td>\n",
       "      <td>Nus</td>\n",
       "      <td>Ghani</td>\n",
       "      <td>Nusrat</td>\n",
       "      <td>Ghani</td>\n",
       "    </tr>\n",
       "    <tr>\n",
       "      <th>615</th>\n",
       "      <td>West Dunbartonshire</td>\n",
       "      <td>Martin</td>\n",
       "      <td>Docherty-Hughes</td>\n",
       "      <td>Martin</td>\n",
       "      <td>Docherty</td>\n",
       "    </tr>\n",
       "  </tbody>\n",
       "</table>\n",
       "</div>"
      ],
      "text/plain": [
       "                          Constituency Firstname_x       Lastname_x  \\\n",
       "46                Birmingham Edgbaston       Preet             Gill   \n",
       "99                              Burton        Kate        Griffiths   \n",
       "122  Central Suffolk and North Ipswich         Dan          Poulter   \n",
       "272               Hayes and Harlington        John        McDonnell   \n",
       "311           Kingston upon Hull North       Diana          Johnson   \n",
       "316                       Lagan Valley     Jeffrey        Donaldson   \n",
       "394                       North Antrim         Ian          Paisley   \n",
       "502                             Slough  Tanmanjeet            Dhesi   \n",
       "510                         South Down       Chris          Hazzard   \n",
       "526                 South West Norfolk         Liz            Truss   \n",
       "605                            Wealden         Nus            Ghani   \n",
       "615                West Dunbartonshire      Martin  Docherty-Hughes   \n",
       "\n",
       "     Firstname_y   Lastname_y  \n",
       "46    Preet Kaur         Gill  \n",
       "99          Kate     Kniveton  \n",
       "122       Daniel      Poulter  \n",
       "272  John Martin    McDonnell  \n",
       "311     Diana R.      Johnson  \n",
       "316   Jeffrey M.    Donaldson  \n",
       "394          Ian  Paisley Jnr  \n",
       "502          Tan        Dhesi  \n",
       "510  Christopher      Hazzard  \n",
       "526    Elizabeth        Truss  \n",
       "605       Nusrat        Ghani  \n",
       "615       Martin     Docherty  "
      ]
     },
     "execution_count": 34,
     "metadata": {},
     "output_type": "execute_result"
    }
   ],
   "source": [
    "# Find constituencies where either only the Firstname matches or only the Lastname\n",
    "# These are matches we should have found\n",
    "\n",
    "df_inner = df.merge(df_mp, on=['Constituency'])\n",
    "df_inner[(df_inner['Firstname_x'] == df_inner['Firstname_y']) & (df_inner['Lastname_x'] != df_inner['Lastname_y']) |\n",
    "         (df_inner['Firstname_x'] != df_inner['Firstname_y']) & (df_inner['Lastname_x'] == df_inner['Lastname_y'])]"
   ]
  },
  {
   "cell_type": "code",
   "execution_count": 35,
   "id": "19d0d89c",
   "metadata": {},
   "outputs": [],
   "source": [
    "# Remove extra suffixes in TheyWorkForYou Firstnames\n",
    "\n",
    "df_mp['Firstname'] = df_mp['Firstname'].str.split().str[0]"
   ]
  },
  {
   "cell_type": "code",
   "execution_count": 36,
   "id": "10d2705e",
   "metadata": {},
   "outputs": [
    {
     "data": {
      "text/plain": [
       "628"
      ]
     },
     "execution_count": 36,
     "metadata": {},
     "output_type": "execute_result"
    }
   ],
   "source": [
    "# Repeat perfect match count\n",
    "\n",
    "len(df.merge(df_mp))"
   ]
  },
  {
   "cell_type": "code",
   "execution_count": 37,
   "id": "c0019aa0",
   "metadata": {},
   "outputs": [
    {
     "data": {
      "text/html": [
       "<div>\n",
       "<style scoped>\n",
       "    .dataframe tbody tr th:only-of-type {\n",
       "        vertical-align: middle;\n",
       "    }\n",
       "\n",
       "    .dataframe tbody tr th {\n",
       "        vertical-align: top;\n",
       "    }\n",
       "\n",
       "    .dataframe thead th {\n",
       "        text-align: right;\n",
       "    }\n",
       "</style>\n",
       "<table border=\"1\" class=\"dataframe\">\n",
       "  <thead>\n",
       "    <tr style=\"text-align: right;\">\n",
       "      <th></th>\n",
       "      <th>Constituency</th>\n",
       "      <th>Firstname_x</th>\n",
       "      <th>Lastname_x</th>\n",
       "      <th>Firstname_y</th>\n",
       "      <th>Lastname_y</th>\n",
       "    </tr>\n",
       "  </thead>\n",
       "  <tbody>\n",
       "    <tr>\n",
       "      <th>99</th>\n",
       "      <td>Burton</td>\n",
       "      <td>Kate</td>\n",
       "      <td>Griffiths</td>\n",
       "      <td>Kate</td>\n",
       "      <td>Kniveton</td>\n",
       "    </tr>\n",
       "    <tr>\n",
       "      <th>122</th>\n",
       "      <td>Central Suffolk and North Ipswich</td>\n",
       "      <td>Dan</td>\n",
       "      <td>Poulter</td>\n",
       "      <td>Daniel</td>\n",
       "      <td>Poulter</td>\n",
       "    </tr>\n",
       "    <tr>\n",
       "      <th>392</th>\n",
       "      <td>Newton Abbot</td>\n",
       "      <td>Anne</td>\n",
       "      <td>Marie Morris</td>\n",
       "      <td>Anne</td>\n",
       "      <td>Morris</td>\n",
       "    </tr>\n",
       "    <tr>\n",
       "      <th>394</th>\n",
       "      <td>North Antrim</td>\n",
       "      <td>Ian</td>\n",
       "      <td>Paisley</td>\n",
       "      <td>Ian</td>\n",
       "      <td>Paisley Jnr</td>\n",
       "    </tr>\n",
       "    <tr>\n",
       "      <th>502</th>\n",
       "      <td>Slough</td>\n",
       "      <td>Tanmanjeet</td>\n",
       "      <td>Dhesi</td>\n",
       "      <td>Tan</td>\n",
       "      <td>Dhesi</td>\n",
       "    </tr>\n",
       "    <tr>\n",
       "      <th>510</th>\n",
       "      <td>South Down</td>\n",
       "      <td>Chris</td>\n",
       "      <td>Hazzard</td>\n",
       "      <td>Christopher</td>\n",
       "      <td>Hazzard</td>\n",
       "    </tr>\n",
       "    <tr>\n",
       "      <th>526</th>\n",
       "      <td>South West Norfolk</td>\n",
       "      <td>Liz</td>\n",
       "      <td>Truss</td>\n",
       "      <td>Elizabeth</td>\n",
       "      <td>Truss</td>\n",
       "    </tr>\n",
       "    <tr>\n",
       "      <th>605</th>\n",
       "      <td>Wealden</td>\n",
       "      <td>Nus</td>\n",
       "      <td>Ghani</td>\n",
       "      <td>Nusrat</td>\n",
       "      <td>Ghani</td>\n",
       "    </tr>\n",
       "    <tr>\n",
       "      <th>615</th>\n",
       "      <td>West Dunbartonshire</td>\n",
       "      <td>Martin</td>\n",
       "      <td>Docherty-Hughes</td>\n",
       "      <td>Martin</td>\n",
       "      <td>Docherty</td>\n",
       "    </tr>\n",
       "  </tbody>\n",
       "</table>\n",
       "</div>"
      ],
      "text/plain": [
       "                          Constituency Firstname_x       Lastname_x  \\\n",
       "99                              Burton        Kate        Griffiths   \n",
       "122  Central Suffolk and North Ipswich         Dan          Poulter   \n",
       "392                       Newton Abbot        Anne     Marie Morris   \n",
       "394                       North Antrim         Ian          Paisley   \n",
       "502                             Slough  Tanmanjeet            Dhesi   \n",
       "510                         South Down       Chris          Hazzard   \n",
       "526                 South West Norfolk         Liz            Truss   \n",
       "605                            Wealden         Nus            Ghani   \n",
       "615                West Dunbartonshire      Martin  Docherty-Hughes   \n",
       "\n",
       "     Firstname_y   Lastname_y  \n",
       "99          Kate     Kniveton  \n",
       "122       Daniel      Poulter  \n",
       "392         Anne       Morris  \n",
       "394          Ian  Paisley Jnr  \n",
       "502          Tan        Dhesi  \n",
       "510  Christopher      Hazzard  \n",
       "526    Elizabeth        Truss  \n",
       "605       Nusrat        Ghani  \n",
       "615       Martin     Docherty  "
      ]
     },
     "execution_count": 37,
     "metadata": {},
     "output_type": "execute_result"
    }
   ],
   "source": [
    "# Find constituencies where either only the Firstname matches or only the Lastname\n",
    "# These are matches we should have found\n",
    "\n",
    "df_inner = df.merge(df_mp, on=['Constituency'])\n",
    "df_unmatched = df_inner[(df_inner['Firstname_x'] == df_inner['Firstname_y']) & (df_inner['Lastname_x'] != df_inner['Lastname_y']) |\n",
    "         (df_inner['Firstname_x'] != df_inner['Firstname_y']) & (df_inner['Lastname_x'] == df_inner['Lastname_y'])]\n",
    "df_unmatched"
   ]
  },
  {
   "cell_type": "code",
   "execution_count": 38,
   "id": "9c7eb149",
   "metadata": {},
   "outputs": [],
   "source": [
    "# Save unmatched to pick up in Chapter 3\n",
    "\n",
    "df_unmatched.to_csv('mps_unmatched.csv', index=False)"
   ]
  },
  {
   "cell_type": "code",
   "execution_count": 39,
   "id": "a5cd9019",
   "metadata": {},
   "outputs": [],
   "source": [
    "df.to_csv('mps_wiki_clean.csv', index=False)"
   ]
  },
  {
   "cell_type": "code",
   "execution_count": 40,
   "id": "632cf270",
   "metadata": {},
   "outputs": [],
   "source": [
    "df_mp.to_csv('mps_they_clean.csv', index=False)"
   ]
  },
  {
   "cell_type": "code",
   "execution_count": null,
   "id": "2e912d61",
   "metadata": {},
   "outputs": [],
   "source": []
  }
 ],
 "metadata": {
  "kernelspec": {
   "display_name": "Python 3 (ipykernel)",
   "language": "python",
   "name": "python3"
  },
  "language_info": {
   "codemirror_mode": {
    "name": "ipython",
    "version": 3
   },
   "file_extension": ".py",
   "mimetype": "text/x-python",
   "name": "python",
   "nbconvert_exporter": "python",
   "pygments_lexer": "ipython3",
   "version": "3.7.4"
  }
 },
 "nbformat": 4,
 "nbformat_minor": 5
}
