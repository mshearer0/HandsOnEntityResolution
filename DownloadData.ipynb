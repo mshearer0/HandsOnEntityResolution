{
 "cells": [
  {
   "cell_type": "markdown",
   "id": "20126dc6",
   "metadata": {},
   "source": [
    "### Download and Save Example Data"
   ]
  },
  {
   "cell_type": "code",
   "execution_count": 1,
   "id": "9303a5bd",
   "metadata": {},
   "outputs": [],
   "source": [
    "import requests\n",
    "import json\n",
    "import zipfile\n",
    "import io\n",
    "import pandas as pd\n",
    "import numpy as np\n",
    "from bs4 import BeautifulSoup"
   ]
  },
  {
   "cell_type": "code",
   "execution_count": 2,
   "id": "1c8ac5ec",
   "metadata": {},
   "outputs": [],
   "source": [
    "# UK Companies House Persons with Significant Control Download Page\n",
    "\n",
    "url = \"http://download.companieshouse.gov.uk/en_pscdata.html\""
   ]
  },
  {
   "cell_type": "code",
   "execution_count": 3,
   "id": "46160f74",
   "metadata": {},
   "outputs": [
    {
     "name": "stdout",
     "output_type": "stream",
     "text": [
      "psc-snapshot-2022-12-16_1of22.txt\n",
      "psc-snapshot-2022-12-16_2of22.txt\n",
      "psc-snapshot-2022-12-16_3of22.txt\n",
      "psc-snapshot-2022-12-16_4of22.txt\n",
      "psc-snapshot-2022-12-16_5of22.txt\n",
      "psc-snapshot-2022-12-16_6of22.txt\n",
      "psc-snapshot-2022-12-16_7of22.txt\n",
      "psc-snapshot-2022-12-16_8of22.txt\n",
      "psc-snapshot-2022-12-16_9of22.txt\n",
      "psc-snapshot-2022-12-16_10of22.txt\n",
      "psc-snapshot-2022-12-16_11of22.txt\n",
      "psc-snapshot-2022-12-16_12of22.txt\n",
      "psc-snapshot-2022-12-16_13of22.txt\n",
      "psc-snapshot-2022-12-16_14of22.txt\n",
      "psc-snapshot-2022-12-16_15of22.txt\n",
      "psc-snapshot-2022-12-16_16of22.txt\n",
      "psc-snapshot-2022-12-16_17of22.txt\n",
      "psc-snapshot-2022-12-16_18of22.txt\n",
      "psc-snapshot-2022-12-16_19of22.txt\n",
      "psc-snapshot-2022-12-16_20of22.txt\n",
      "psc-snapshot-2022-12-16_21of22.txt\n"
     ]
    }
   ],
   "source": [
    "# Download snapshots, convert json to dataframe, remove unwanted columns and append to a single dataframe\n",
    "# Ignore last file 22of22\n",
    "\n",
    "df_psctotal = pd.DataFrame()\n",
    "with requests.Session() as req:\n",
    "        r = req.get(url)\n",
    "        soup = BeautifulSoup(r.content, 'html.parser')\n",
    "        snapshots = [f\"{url[:38]}{item['href']}\" for item in soup.select(\n",
    "            \"a[href*='psc-snapshot']\")]\n",
    "        for snapshot in snapshots:    \n",
    "            response = requests.get(snapshot).content     \n",
    "            zipsnapshot = zipfile.ZipFile(io.BytesIO(response))\n",
    "            if(zipsnapshot.namelist()[0][-10:] != \"22of22.txt\"):\n",
    "                tempfile = zipsnapshot.extract(zipsnapshot.namelist()[0])\n",
    "                print(zipsnapshot.namelist()[0])\n",
    "                df_psc = pd.json_normalize(pd.Series(open(tempfile, encoding=\"utf8\").readlines()).apply(json.loads))\n",
    "                df_psc = df_psc[df_psc['data.ceased_on'].notnull()]\n",
    "                df_psc = df_psc.dropna(subset=['data.name_elements.forename'])\n",
    "                df_psc = df_psc[['company_number','data.name_elements.surname','data.name_elements.forename','data.name_elements.title','data.date_of_birth.month','data.date_of_birth.year']]  \n",
    "                df_psctotal = pd.concat([df_psctotal, df_psc], ignore_index=True)"
   ]
  },
  {
   "cell_type": "code",
   "execution_count": 4,
   "id": "c0765462",
   "metadata": {},
   "outputs": [],
   "source": [
    "# Write the Persons with Significant Control dataframe as csv\n",
    "\n",
    "df_psctotal.to_csv('psc_slim.csv')"
   ]
  },
  {
   "cell_type": "code",
   "execution_count": 2,
   "id": "616b2e2a",
   "metadata": {},
   "outputs": [],
   "source": [
    "# Maritime and Coastguard Agency - List of approved recruitment and placement agencies\n",
    "\n",
    "url = \"https://www.gov.uk/government/publications/recruitment-and-placement-agencies-approved-by-the-mca\""
   ]
  },
  {
   "cell_type": "code",
   "execution_count": 3,
   "id": "ba0eb1c5",
   "metadata": {},
   "outputs": [],
   "source": [
    "# Download the csv file, extract name and save\n",
    "\n",
    "with requests.Session() as req:\n",
    "    r = req.get(url)\n",
    "    soup = BeautifulSoup(r.content, 'html.parser')\n",
    "    targets = [f\"{item['href']}\" for item in soup.select(\n",
    "        \"a[href$='.csv']\")]\n",
    "    for target in targets:\n",
    "        r = req.get(target)\n",
    "        name = target.rsplit(\"/\", 1)[-1]\n",
    "        with open(name, 'wb') as f:\n",
    "            f.write(r.content)          "
   ]
  },
  {
   "cell_type": "code",
   "execution_count": 32,
   "id": "e182d0ed",
   "metadata": {},
   "outputs": [],
   "source": [
    "# Everypolitican website for UK House of Commons\n",
    "\n",
    "url = \"http://everypolitician.org/uk/commons/download.html\""
   ]
  },
  {
   "cell_type": "code",
   "execution_count": 37,
   "id": "70d7172d",
   "metadata": {},
   "outputs": [
    {
     "name": "stdout",
     "output_type": "stream",
     "text": [
      "['https://cdn.rawgit.com/everypolitician/everypolitician-data/f594edb3364d459ec5ee50f15b92261085a49bc5/data/UK/Commons/ep-popolo-v1.0.json']\n"
     ]
    }
   ],
   "source": [
    "# Download UK House of Commmons json file and save\n",
    "\n",
    "with requests.Session() as req:\n",
    "    r = req.get(url)\n",
    "    soup = BeautifulSoup(r.content, 'html.parser')\n",
    "    targets = [f\"{item['href']}\" for item in soup.select(\n",
    "        \"a[href*='ep-popolo']\")]\n",
    "    print(targets)\n",
    "    for target in targets:\n",
    "        r = req.get(target)\n",
    "        name = target.rsplit(\"/\", 1)[-1]\n",
    "        with open(name, 'wb') as f:\n",
    "            f.write(r.content)   "
   ]
  },
  {
   "cell_type": "code",
   "execution_count": 2,
   "id": "b18bdda8",
   "metadata": {},
   "outputs": [],
   "source": [
    "# UK Companies House Basic Company Data download page\n",
    "\n",
    "url=\"http://download.companieshouse.gov.uk/en_output.html\""
   ]
  },
  {
   "cell_type": "code",
   "execution_count": 3,
   "id": "d6bcbc7f",
   "metadata": {},
   "outputs": [
    {
     "name": "stdout",
     "output_type": "stream",
     "text": [
      "BasicCompanyData-2022-11-01-part1_7.csv\n"
     ]
    },
    {
     "name": "stderr",
     "output_type": "stream",
     "text": [
      "C:\\Users\\mshea\\splink\\lib\\site-packages\\IPython\\core\\interactiveshell.py:3553: DtypeWarning: Columns (41,42,43,44,45,46,47,48,49,50,51,52) have mixed types.Specify dtype option on import or set low_memory=False.\n",
      "  exec(code_obj, self.user_global_ns, self.user_ns)\n"
     ]
    },
    {
     "name": "stdout",
     "output_type": "stream",
     "text": [
      "BasicCompanyData-2022-11-01-part2_7.csv\n",
      "BasicCompanyData-2022-11-01-part3_7.csv\n",
      "BasicCompanyData-2022-11-01-part4_7.csv\n",
      "BasicCompanyData-2022-11-01-part5_7.csv\n"
     ]
    },
    {
     "name": "stderr",
     "output_type": "stream",
     "text": [
      "C:\\Users\\mshea\\splink\\lib\\site-packages\\IPython\\core\\interactiveshell.py:3553: DtypeWarning: Columns (43,44,45,46,47,48,49,50,51,52) have mixed types.Specify dtype option on import or set low_memory=False.\n",
      "  exec(code_obj, self.user_global_ns, self.user_ns)\n"
     ]
    },
    {
     "name": "stdout",
     "output_type": "stream",
     "text": [
      "BasicCompanyData-2022-11-01-part6_7.csv\n",
      "BasicCompanyData-2022-11-01-part7_7.csv\n"
     ]
    },
    {
     "name": "stderr",
     "output_type": "stream",
     "text": [
      "C:\\Users\\mshea\\splink\\lib\\site-packages\\IPython\\core\\interactiveshell.py:3553: DtypeWarning: Columns (43,44) have mixed types.Specify dtype option on import or set low_memory=False.\n",
      "  exec(code_obj, self.user_global_ns, self.user_ns)\n"
     ]
    }
   ],
   "source": [
    "# Download snapshots, convert json to dataframe, remove unwanted columns and append to a single dataframe\n",
    "\n",
    "df_comptotal = pd.DataFrame()\n",
    "with requests.Session() as req:\n",
    "        r = req.get(url)\n",
    "        soup = BeautifulSoup(r.content, 'html.parser')\n",
    "        snapshots = [f\"{url[:38]}{item['href']}\" for item in soup.select(\n",
    "            \"a[href*='BasicCompanyData-']\")]\n",
    "        for snapshot in snapshots:    \n",
    "            response = requests.get(snapshot).content     \n",
    "            zipsnapshot = zipfile.ZipFile(io.BytesIO(response))\n",
    "            tempfile = zipsnapshot.extract(zipsnapshot.namelist()[0])\n",
    "            print(zipsnapshot.namelist()[0])\n",
    "            df_comp = pd.read_csv(tempfile)\n",
    "            df_comp = df_comp[['RegAddress.PostCode','RegAddress.PostTown','CompanyName']]\n",
    "            df_comptotal = pd.concat([df_comptotal, df_comp], ignore_index=True)"
   ]
  },
  {
   "cell_type": "code",
   "execution_count": 4,
   "id": "f8efd329",
   "metadata": {},
   "outputs": [],
   "source": [
    "# Write the Basic Company Information dataframe as csv\n",
    "\n",
    "df_comptotal.to_csv('basic_slim.csv')"
   ]
  },
  {
   "cell_type": "code",
   "execution_count": null,
   "id": "6ae3604b",
   "metadata": {},
   "outputs": [],
   "source": [
    "pd.set_option('display.max_columns', None)\n",
    "\n",
    "def substitute_name(name, forename, surname):\n",
    "    if forename is np.NaN:\n",
    "        return name.split()[0], ' '.join(name.split()[1:]) \n",
    "    else: \n",
    "        return forename, surname\n",
    "\n",
    "#               tempname = np.vectorize(substitute_name)(df_psc['data.name'], df_psc['data.name_elements.forename'],df_psc['data.name_elements.surname'])\n",
    "#                df_psc['data.name_elements.forename'] = tempname[0]\n",
    " #               df_psc['data.name_elements.surname'] = tempname[1]"
   ]
  }
 ],
 "metadata": {
  "celltoolbar": "Raw Cell Format",
  "kernelspec": {
   "display_name": "Python 3 (ipykernel)",
   "language": "python",
   "name": "python3"
  },
  "language_info": {
   "codemirror_mode": {
    "name": "ipython",
    "version": 3
   },
   "file_extension": ".py",
   "mimetype": "text/x-python",
   "name": "python",
   "nbconvert_exporter": "python",
   "pygments_lexer": "ipython3",
   "version": "3.7.4"
  }
 },
 "nbformat": 4,
 "nbformat_minor": 5
}
