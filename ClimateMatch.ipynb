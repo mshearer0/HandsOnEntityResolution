{
 "cells": [
  {
   "cell_type": "markdown",
   "id": "2d5ff28f",
   "metadata": {},
   "source": [
    "### Climate Match matching entities to basic companies house records"
   ]
  },
  {
   "cell_type": "code",
   "execution_count": 1,
   "id": "df0470ce",
   "metadata": {},
   "outputs": [],
   "source": [
    "import tabula\n",
    "import pandas as pd\n",
    "import numpy as np"
   ]
  },
  {
   "cell_type": "code",
   "execution_count": 2,
   "id": "04ab9f60",
   "metadata": {},
   "outputs": [],
   "source": [
    "url = \"https://assets.publishing.service.gov.uk/government/uploads/system/uploads/attachment_data/file/310599/legal_entities.pdf\""
   ]
  },
  {
   "cell_type": "code",
   "execution_count": 3,
   "id": "b397322b",
   "metadata": {},
   "outputs": [],
   "source": [
    "# Read pdf and extract GB Companies\n",
    "\n",
    "df = tabula.read_pdf(url, pages='all', multiple_tables = False, encoding='cp1252')\n",
    "cldf = df[0][df[0]['COUNTRY']=='GB']"
   ]
  },
  {
   "cell_type": "code",
   "execution_count": 4,
   "id": "ef6ee841",
   "metadata": {},
   "outputs": [],
   "source": [
    "# Function to remove stopwards from companies\n",
    "\n",
    "def strip_stopwords(raw_name):    \n",
    "    company_stopwords = { 'LIMITED', 'LTD', 'SERVICES', 'COMPANY', 'GROUP', 'PROPERTIES', 'CONSULTING', \n",
    "        'HOLDINGS', 'UK', 'TRADING', 'LTD.' }\n",
    "    return(' '.join([raw_name_part for raw_name_part in raw_name.split() if raw_name_part not in company_stopwords]))"
   ]
  },
  {
   "cell_type": "code",
   "execution_count": 5,
   "id": "9cfb2488",
   "metadata": {},
   "outputs": [
    {
     "name": "stderr",
     "output_type": "stream",
     "text": [
      "C:\\Users\\mshea\\splink\\lib\\site-packages\\ipykernel_launcher.py:6: SettingWithCopyWarning: \n",
      "A value is trying to be set on a copy of a slice from a DataFrame.\n",
      "Try using .loc[row_indexer,col_indexer] = value instead\n",
      "\n",
      "See the caveats in the documentation: https://pandas.pydata.org/pandas-docs/stable/user_guide/indexing.html#returning-a-view-versus-a-copy\n",
      "  \n",
      "C:\\Users\\mshea\\splink\\lib\\site-packages\\ipykernel_launcher.py:7: SettingWithCopyWarning: \n",
      "A value is trying to be set on a copy of a slice from a DataFrame.\n",
      "Try using .loc[row_indexer,col_indexer] = value instead\n",
      "\n",
      "See the caveats in the documentation: https://pandas.pydata.org/pandas-docs/stable/user_guide/indexing.html#returning-a-view-versus-a-copy\n",
      "  import sys\n",
      "C:\\Users\\mshea\\splink\\lib\\site-packages\\ipykernel_launcher.py:8: SettingWithCopyWarning: \n",
      "A value is trying to be set on a copy of a slice from a DataFrame.\n",
      "Try using .loc[row_indexer,col_indexer] = value instead\n",
      "\n",
      "See the caveats in the documentation: https://pandas.pydata.org/pandas-docs/stable/user_guide/indexing.html#returning-a-view-versus-a-copy\n",
      "  \n",
      "C:\\Users\\mshea\\splink\\lib\\site-packages\\ipykernel_launcher.py:9: SettingWithCopyWarning: \n",
      "A value is trying to be set on a copy of a slice from a DataFrame.\n",
      "Try using .loc[row_indexer,col_indexer] = value instead\n",
      "\n",
      "See the caveats in the documentation: https://pandas.pydata.org/pandas-docs/stable/user_guide/indexing.html#returning-a-view-versus-a-copy\n",
      "  if __name__ == \"__main__\":\n",
      "C:\\Users\\mshea\\splink\\lib\\site-packages\\ipykernel_launcher.py:10: SettingWithCopyWarning: \n",
      "A value is trying to be set on a copy of a slice from a DataFrame.\n",
      "Try using .loc[row_indexer,col_indexer] = value instead\n",
      "\n",
      "See the caveats in the documentation: https://pandas.pydata.org/pandas-docs/stable/user_guide/indexing.html#returning-a-view-versus-a-copy\n",
      "  # Remove the CWD from sys.path while we load stuff.\n"
     ]
    }
   ],
   "source": [
    "# Rename columns and strip stopwords\n",
    "# Add unique id column Splink needs\n",
    "\n",
    "# ToFix: SettingWithCopy Warning\n",
    "\n",
    "cldf['Postcode'] = cldf['POSTCODE']\n",
    "cldf['Location'] = cldf['CITY'].str.upper()\n",
    "cldf['CompanyName'] = cldf['LEGAL ENTITY'].str.upper()\n",
    "cldf['CompanyName'] = cldf.apply(lambda row: strip_stopwords(row['CompanyName']), axis=1)\n",
    "cldf['unique_id'] = cldf.index"
   ]
  },
  {
   "cell_type": "code",
   "execution_count": 6,
   "id": "219b0f43",
   "metadata": {},
   "outputs": [
    {
     "data": {
      "text/plain": [
       "334"
      ]
     },
     "execution_count": 6,
     "metadata": {},
     "output_type": "execute_result"
    }
   ],
   "source": [
    "# Remove unwanted columns\n",
    "# Number of climate companies to match\n",
    "\n",
    "cldf = cldf[['Postcode','CompanyName','Location','unique_id']]\n",
    "len(cldf)"
   ]
  },
  {
   "cell_type": "code",
   "execution_count": 7,
   "id": "7cf3fd48",
   "metadata": {},
   "outputs": [],
   "source": [
    "# Read basic companies house data as prepared by Download Data notebook\n",
    "\n",
    "cdf = pd.read_csv('basic_slim.csv')\n",
    "cdf = cdf.rename(columns={\"RegAddress.PostCode\": \"Postcode\", 'RegAddress.PostTown': 'Location'})\n",
    "cdf['CompanyName'] = cdf.apply(lambda row: strip_stopwords(row['CompanyName']), axis=1)\n",
    "cdf['CompanyName'].replace('', np.nan, inplace=True)\n",
    "cdf['unique_id'] = cdf.index"
   ]
  },
  {
   "cell_type": "code",
   "execution_count": 8,
   "id": "d0022928",
   "metadata": {},
   "outputs": [],
   "source": [
    "# Remove unwanted columns\n",
    "\n",
    "cdf = cdf[['Postcode','CompanyName','Location','unique_id']]"
   ]
  },
  {
   "cell_type": "code",
   "execution_count": 9,
   "id": "1c94209c",
   "metadata": {},
   "outputs": [
    {
     "data": {
      "text/plain": [
       "56"
      ]
     },
     "execution_count": 9,
     "metadata": {},
     "output_type": "execute_result"
    }
   ],
   "source": [
    "# Number of exact matches\n",
    "\n",
    "exact = cldf.merge(cdf,left_on=['Postcode','CompanyName'], right_on=['Postcode','CompanyName'],\n",
    "          suffixes=('_left', '_right'))\n",
    "len(exact)"
   ]
  },
  {
   "cell_type": "code",
   "execution_count": 10,
   "id": "4b935aad",
   "metadata": {},
   "outputs": [],
   "source": [
    "import recordlinkage"
   ]
  },
  {
   "cell_type": "code",
   "execution_count": 11,
   "id": "26b4f81e",
   "metadata": {},
   "outputs": [
    {
     "data": {
      "text/plain": [
       "101605"
      ]
     },
     "execution_count": 11,
     "metadata": {},
     "output_type": "execute_result"
    }
   ],
   "source": [
    "indexer = recordlinkage.Index()\n",
    "indexer.block(\"Postcode\")\n",
    "candidate_links = indexer.index(cdf, cldf)\n",
    "len(candidate_links)"
   ]
  },
  {
   "cell_type": "code",
   "execution_count": 12,
   "id": "9490ae55",
   "metadata": {},
   "outputs": [
    {
     "data": {
      "text/plain": [
       "659"
      ]
     },
     "execution_count": 12,
     "metadata": {},
     "output_type": "execute_result"
    }
   ],
   "source": [
    "compare_cl = recordlinkage.Compare()\n",
    "compare_cl.string(\"CompanyName\", \"CompanyName\", method='jarowinkler',threshold=0.85)\n",
    "compare_cl.exact(\"Postcode\",\"Postcode\")\n",
    "features = compare_cl.compute(candidate_links, cdf, cldf)\n",
    "\n",
    "# Name exact or approx match and postcode matches\n",
    "matches = features[(features[0]==1) & (features[1]==1)]\n",
    "len(matches)"
   ]
  },
  {
   "cell_type": "code",
   "execution_count": 13,
   "id": "d38b74e1",
   "metadata": {},
   "outputs": [
    {
     "data": {
      "text/plain": [
       "603"
      ]
     },
     "execution_count": 13,
     "metadata": {},
     "output_type": "execute_result"
    }
   ],
   "source": [
    "# Set index names to allow join \n",
    "matches.index.names = ['cdf','cldf']\n",
    "cdf.index.names= ['cdf']\n",
    "cldf.index.names= ['cldf']\n",
    "\n",
    "# Lookup both names\n",
    "matches = matches.join(cdf, how='inner')\n",
    "matches = matches.join(cldf, how='inner', rsuffix='_cldf')\n",
    "\n",
    "# Select those with only approx match not exact match\n",
    "approx = matches[matches['CompanyName']!=matches['CompanyName_cldf']]\n",
    "len(approx)"
   ]
  },
  {
   "cell_type": "code",
   "execution_count": 14,
   "id": "8366334a",
   "metadata": {},
   "outputs": [
    {
     "data": {
      "text/plain": [
       "89"
      ]
     },
     "execution_count": 14,
     "metadata": {},
     "output_type": "execute_result"
    }
   ],
   "source": [
    "# List of those companies matched at least once\n",
    "found = matches.index.unique(level='cldf')\n",
    "len(found)"
   ]
  },
  {
   "cell_type": "code",
   "execution_count": 15,
   "id": "aed9d056",
   "metadata": {},
   "outputs": [
    {
     "data": {
      "text/plain": [
       "245"
      ]
     },
     "execution_count": 15,
     "metadata": {},
     "output_type": "execute_result"
    }
   ],
   "source": [
    "# Select those companies not found \n",
    "notfound = cldf.loc[(cldf.index.isin(found, level='cldf') == False)]\n",
    "len(notfound)"
   ]
  },
  {
   "cell_type": "code",
   "execution_count": 16,
   "id": "3c963a44",
   "metadata": {},
   "outputs": [],
   "source": [
    "import splink"
   ]
  },
  {
   "cell_type": "code",
   "execution_count": 17,
   "id": "c97c5abe",
   "metadata": {},
   "outputs": [],
   "source": [
    "from splink.duckdb.duckdb_linker import DuckDBLinker\n",
    "from splink.duckdb import duckdb_comparison_library as cl\n",
    "settings = {\n",
    "    \"link_type\": \"link_only\",\n",
    "    \"blocking_rules_to_generate_predictions\": [\n",
    "        \"l.Postcode = r.Postcode\",\n",
    "    ],\n",
    "    \"comparisons\": [\n",
    "        cl.jaro_winkler_at_thresholds(\"CompanyName\",distance_threshold_or_thresholds=[0.9]),\n",
    "    ],    \n",
    "    \"retain_intermediate_calculation_columns\" : True,\n",
    "    \"retain_matching_columns\" : True\n",
    "}"
   ]
  },
  {
   "cell_type": "code",
   "execution_count": 18,
   "id": "0263d41f",
   "metadata": {},
   "outputs": [
    {
     "name": "stderr",
     "output_type": "stream",
     "text": [
      "----- Estimating u probabilities using random sampling -----\n",
      "\n",
      "Estimated u probabilities using random sampling\n",
      "\n",
      "Your model is not yet fully trained. Missing estimates for:\n",
      "    - CompanyName (no m values are trained).\n"
     ]
    }
   ],
   "source": [
    "linker = DuckDBLinker([cldf, cdf], settings, input_table_aliases=[\"cldf\", \"cdf\"])\n",
    "linker.estimate_u_using_random_sampling(target_rows=5e7)"
   ]
  },
  {
   "cell_type": "code",
   "execution_count": 19,
   "id": "1e3cdd38",
   "metadata": {},
   "outputs": [
    {
     "name": "stderr",
     "output_type": "stream",
     "text": [
      "\n",
      "----- Starting EM training session -----\n",
      "\n",
      "Estimating the m probabilities of the model by blocking on:\n",
      "l.Postcode = r.Postcode\n",
      "\n",
      "Parameter estimates will be made for the following comparison(s):\n",
      "    - CompanyName\n",
      "\n",
      "Parameter estimates cannot be made for the following comparison(s) since they are used in the blocking rules: \n",
      "\n",
      "Iteration 1: Largest change in params was 0.525 in the m_probability of CompanyName, level `jaro_winkler_similarity >= 0.9`\n",
      "Iteration 2: Largest change in params was 0.247 in the m_probability of CompanyName, level `jaro_winkler_similarity >= 0.9`\n",
      "Iteration 3: Largest change in params was 0.000918 in the m_probability of CompanyName, level `jaro_winkler_similarity >= 0.9`\n",
      "Iteration 4: Largest change in params was 2.36e-06 in the m_probability of CompanyName, level `jaro_winkler_similarity >= 0.9`\n",
      "\n",
      "EM converged after 4 iterations\n",
      "\n",
      "Your model is fully trained. All comparisons have at least one estimate for their m and u values\n"
     ]
    },
    {
     "data": {
      "text/plain": [
       "<EMTrainingSession, blocking on l.Postcode = r.Postcode, deactivating comparisons >"
      ]
     },
     "execution_count": 19,
     "metadata": {},
     "output_type": "execute_result"
    }
   ],
   "source": [
    "linker.estimate_parameters_using_expectation_maximisation(\"l.Postcode = r.Postcode\")"
   ]
  },
  {
   "cell_type": "code",
   "execution_count": 20,
   "id": "051bc3ad",
   "metadata": {},
   "outputs": [
    {
     "data": {
      "text/plain": [
       "279"
      ]
     },
     "execution_count": 20,
     "metadata": {},
     "output_type": "execute_result"
    }
   ],
   "source": [
    "df_splink = linker.predict(threshold_match_probability = 0.9).as_pandas_dataframe()\n",
    "len(df_splink)"
   ]
  },
  {
   "cell_type": "code",
   "execution_count": 21,
   "id": "3bd6fe31",
   "metadata": {},
   "outputs": [],
   "source": [
    "df_nonexact = df_splink[(df_splink['CompanyName_l']!=df_splink['CompanyName_r'])]"
   ]
  },
  {
   "cell_type": "code",
   "execution_count": 22,
   "id": "dec3d75f",
   "metadata": {},
   "outputs": [
    {
     "data": {
      "text/html": [
       "<div>\n",
       "<style scoped>\n",
       "    .dataframe tbody tr th:only-of-type {\n",
       "        vertical-align: middle;\n",
       "    }\n",
       "\n",
       "    .dataframe tbody tr th {\n",
       "        vertical-align: top;\n",
       "    }\n",
       "\n",
       "    .dataframe thead th {\n",
       "        text-align: right;\n",
       "    }\n",
       "</style>\n",
       "<table border=\"1\" class=\"dataframe\">\n",
       "  <thead>\n",
       "    <tr style=\"text-align: right;\">\n",
       "      <th></th>\n",
       "      <th>match_weight</th>\n",
       "      <th>match_probability</th>\n",
       "      <th>source_dataset_l</th>\n",
       "      <th>unique_id_l</th>\n",
       "      <th>source_dataset_r</th>\n",
       "      <th>unique_id_r</th>\n",
       "      <th>CompanyName_l</th>\n",
       "      <th>CompanyName_r</th>\n",
       "      <th>gamma_CompanyName</th>\n",
       "      <th>bf_CompanyName</th>\n",
       "      <th>Postcode_l</th>\n",
       "      <th>Postcode_r</th>\n",
       "    </tr>\n",
       "  </thead>\n",
       "  <tbody>\n",
       "    <tr>\n",
       "      <th>1</th>\n",
       "      <td>3.829464</td>\n",
       "      <td>0.934281</td>\n",
       "      <td>cdf</td>\n",
       "      <td>268002</td>\n",
       "      <td>cldf</td>\n",
       "      <td>28</td>\n",
       "      <td>ALLEN &amp; OVERY (AUSTRALIA) LLP</td>\n",
       "      <td>ALLEN &amp; OVERY LLP</td>\n",
       "      <td>1</td>\n",
       "      <td>142147.82345</td>\n",
       "      <td>E1 6AD</td>\n",
       "      <td>E1 6AD</td>\n",
       "    </tr>\n",
       "    <tr>\n",
       "      <th>2</th>\n",
       "      <td>3.829464</td>\n",
       "      <td>0.934281</td>\n",
       "      <td>cdf</td>\n",
       "      <td>268003</td>\n",
       "      <td>cldf</td>\n",
       "      <td>28</td>\n",
       "      <td>ALLEN &amp; OVERY (BELGIUM) LLP</td>\n",
       "      <td>ALLEN &amp; OVERY LLP</td>\n",
       "      <td>1</td>\n",
       "      <td>142147.82345</td>\n",
       "      <td>E1 6AD</td>\n",
       "      <td>E1 6AD</td>\n",
       "    </tr>\n",
       "    <tr>\n",
       "      <th>3</th>\n",
       "      <td>3.829464</td>\n",
       "      <td>0.934281</td>\n",
       "      <td>cdf</td>\n",
       "      <td>268005</td>\n",
       "      <td>cldf</td>\n",
       "      <td>28</td>\n",
       "      <td>ALLEN &amp; OVERY (HOLDINGS)</td>\n",
       "      <td>ALLEN &amp; OVERY LLP</td>\n",
       "      <td>1</td>\n",
       "      <td>142147.82345</td>\n",
       "      <td>E1 6AD</td>\n",
       "      <td>E1 6AD</td>\n",
       "    </tr>\n",
       "    <tr>\n",
       "      <th>4</th>\n",
       "      <td>3.829464</td>\n",
       "      <td>0.934281</td>\n",
       "      <td>cdf</td>\n",
       "      <td>268007</td>\n",
       "      <td>cldf</td>\n",
       "      <td>28</td>\n",
       "      <td>ALLEN &amp; OVERY (LONDON)</td>\n",
       "      <td>ALLEN &amp; OVERY LLP</td>\n",
       "      <td>1</td>\n",
       "      <td>142147.82345</td>\n",
       "      <td>E1 6AD</td>\n",
       "      <td>E1 6AD</td>\n",
       "    </tr>\n",
       "    <tr>\n",
       "      <th>5</th>\n",
       "      <td>3.829464</td>\n",
       "      <td>0.934281</td>\n",
       "      <td>cdf</td>\n",
       "      <td>268008</td>\n",
       "      <td>cldf</td>\n",
       "      <td>28</td>\n",
       "      <td>ALLEN &amp; OVERY (SOUTH AFRICA) LLP</td>\n",
       "      <td>ALLEN &amp; OVERY LLP</td>\n",
       "      <td>1</td>\n",
       "      <td>142147.82345</td>\n",
       "      <td>E1 6AD</td>\n",
       "      <td>E1 6AD</td>\n",
       "    </tr>\n",
       "    <tr>\n",
       "      <th>...</th>\n",
       "      <td>...</td>\n",
       "      <td>...</td>\n",
       "      <td>...</td>\n",
       "      <td>...</td>\n",
       "      <td>...</td>\n",
       "      <td>...</td>\n",
       "      <td>...</td>\n",
       "      <td>...</td>\n",
       "      <td>...</td>\n",
       "      <td>...</td>\n",
       "      <td>...</td>\n",
       "      <td>...</td>\n",
       "    </tr>\n",
       "    <tr>\n",
       "      <th>267</th>\n",
       "      <td>3.829464</td>\n",
       "      <td>0.934281</td>\n",
       "      <td>cdf</td>\n",
       "      <td>2605036</td>\n",
       "      <td>cldf</td>\n",
       "      <td>296</td>\n",
       "      <td>KNAUF</td>\n",
       "      <td>KNAUF GMBH</td>\n",
       "      <td>1</td>\n",
       "      <td>142147.82345</td>\n",
       "      <td>ME9 8SR</td>\n",
       "      <td>ME9 8SR</td>\n",
       "    </tr>\n",
       "    <tr>\n",
       "      <th>270</th>\n",
       "      <td>3.829464</td>\n",
       "      <td>0.934281</td>\n",
       "      <td>cdf</td>\n",
       "      <td>2658860</td>\n",
       "      <td>cldf</td>\n",
       "      <td>312</td>\n",
       "      <td>LAMB-WESTON/MEIJER</td>\n",
       "      <td>LAMB WESTON/MEIJER</td>\n",
       "      <td>1</td>\n",
       "      <td>142147.82345</td>\n",
       "      <td>PE13 2RN</td>\n",
       "      <td>PE13 2RN</td>\n",
       "    </tr>\n",
       "    <tr>\n",
       "      <th>273</th>\n",
       "      <td>3.829464</td>\n",
       "      <td>0.934281</td>\n",
       "      <td>cdf</td>\n",
       "      <td>4345855</td>\n",
       "      <td>cldf</td>\n",
       "      <td>457</td>\n",
       "      <td>STANDARD BANK LONDON</td>\n",
       "      <td>STANDARD BANK PLC</td>\n",
       "      <td>1</td>\n",
       "      <td>142147.82345</td>\n",
       "      <td>EC2V 7JE</td>\n",
       "      <td>EC2V 7JE</td>\n",
       "    </tr>\n",
       "    <tr>\n",
       "      <th>275</th>\n",
       "      <td>3.829464</td>\n",
       "      <td>0.934281</td>\n",
       "      <td>cdf</td>\n",
       "      <td>4378661</td>\n",
       "      <td>cldf</td>\n",
       "      <td>465</td>\n",
       "      <td>STOELZLE FLACONNAGE</td>\n",
       "      <td>STOLZLE FLACONNAGE</td>\n",
       "      <td>1</td>\n",
       "      <td>142147.82345</td>\n",
       "      <td>WF11 8AP</td>\n",
       "      <td>WF11 8AP</td>\n",
       "    </tr>\n",
       "    <tr>\n",
       "      <th>277</th>\n",
       "      <td>3.829464</td>\n",
       "      <td>0.934281</td>\n",
       "      <td>cdf</td>\n",
       "      <td>4470871</td>\n",
       "      <td>cldf</td>\n",
       "      <td>479</td>\n",
       "      <td>T&amp;L SUGARS</td>\n",
       "      <td>T &amp; L SUGARS</td>\n",
       "      <td>1</td>\n",
       "      <td>142147.82345</td>\n",
       "      <td>E16 2EW</td>\n",
       "      <td>E16 2EW</td>\n",
       "    </tr>\n",
       "  </tbody>\n",
       "</table>\n",
       "<p>223 rows × 12 columns</p>\n",
       "</div>"
      ],
      "text/plain": [
       "     match_weight  match_probability source_dataset_l  unique_id_l  \\\n",
       "1        3.829464           0.934281              cdf       268002   \n",
       "2        3.829464           0.934281              cdf       268003   \n",
       "3        3.829464           0.934281              cdf       268005   \n",
       "4        3.829464           0.934281              cdf       268007   \n",
       "5        3.829464           0.934281              cdf       268008   \n",
       "..            ...                ...              ...          ...   \n",
       "267      3.829464           0.934281              cdf      2605036   \n",
       "270      3.829464           0.934281              cdf      2658860   \n",
       "273      3.829464           0.934281              cdf      4345855   \n",
       "275      3.829464           0.934281              cdf      4378661   \n",
       "277      3.829464           0.934281              cdf      4470871   \n",
       "\n",
       "    source_dataset_r  unique_id_r                     CompanyName_l  \\\n",
       "1               cldf           28     ALLEN & OVERY (AUSTRALIA) LLP   \n",
       "2               cldf           28       ALLEN & OVERY (BELGIUM) LLP   \n",
       "3               cldf           28          ALLEN & OVERY (HOLDINGS)   \n",
       "4               cldf           28            ALLEN & OVERY (LONDON)   \n",
       "5               cldf           28  ALLEN & OVERY (SOUTH AFRICA) LLP   \n",
       "..               ...          ...                               ...   \n",
       "267             cldf          296                             KNAUF   \n",
       "270             cldf          312                LAMB-WESTON/MEIJER   \n",
       "273             cldf          457              STANDARD BANK LONDON   \n",
       "275             cldf          465               STOELZLE FLACONNAGE   \n",
       "277             cldf          479                        T&L SUGARS   \n",
       "\n",
       "          CompanyName_r  gamma_CompanyName  bf_CompanyName Postcode_l  \\\n",
       "1     ALLEN & OVERY LLP                  1    142147.82345     E1 6AD   \n",
       "2     ALLEN & OVERY LLP                  1    142147.82345     E1 6AD   \n",
       "3     ALLEN & OVERY LLP                  1    142147.82345     E1 6AD   \n",
       "4     ALLEN & OVERY LLP                  1    142147.82345     E1 6AD   \n",
       "5     ALLEN & OVERY LLP                  1    142147.82345     E1 6AD   \n",
       "..                  ...                ...             ...        ...   \n",
       "267          KNAUF GMBH                  1    142147.82345    ME9 8SR   \n",
       "270  LAMB WESTON/MEIJER                  1    142147.82345   PE13 2RN   \n",
       "273   STANDARD BANK PLC                  1    142147.82345   EC2V 7JE   \n",
       "275  STOLZLE FLACONNAGE                  1    142147.82345   WF11 8AP   \n",
       "277        T & L SUGARS                  1    142147.82345    E16 2EW   \n",
       "\n",
       "    Postcode_r  \n",
       "1       E1 6AD  \n",
       "2       E1 6AD  \n",
       "3       E1 6AD  \n",
       "4       E1 6AD  \n",
       "5       E1 6AD  \n",
       "..         ...  \n",
       "267    ME9 8SR  \n",
       "270   PE13 2RN  \n",
       "273   EC2V 7JE  \n",
       "275   WF11 8AP  \n",
       "277    E16 2EW  \n",
       "\n",
       "[223 rows x 12 columns]"
      ]
     },
     "execution_count": 22,
     "metadata": {},
     "output_type": "execute_result"
    }
   ],
   "source": [
    "df_nonexact"
   ]
  },
  {
   "cell_type": "code",
   "execution_count": 23,
   "id": "f8be17a0",
   "metadata": {},
   "outputs": [
    {
     "data": {
      "text/plain": [
       "77"
      ]
     },
     "execution_count": 23,
     "metadata": {},
     "output_type": "execute_result"
    }
   ],
   "source": [
    "len(df_splink['CompanyName_r'].unique())"
   ]
  },
  {
   "cell_type": "code",
   "execution_count": null,
   "id": "1f22a1aa",
   "metadata": {},
   "outputs": [],
   "source": []
  },
  {
   "cell_type": "code",
   "execution_count": null,
   "id": "a9b61cb5",
   "metadata": {},
   "outputs": [],
   "source": []
  }
 ],
 "metadata": {
  "kernelspec": {
   "display_name": "Python 3 (ipykernel)",
   "language": "python",
   "name": "python3"
  },
  "language_info": {
   "codemirror_mode": {
    "name": "ipython",
    "version": 3
   },
   "file_extension": ".py",
   "mimetype": "text/x-python",
   "name": "python",
   "nbconvert_exporter": "python",
   "pygments_lexer": "ipython3",
   "version": "3.7.4"
  }
 },
 "nbformat": 4,
 "nbformat_minor": 5
}
