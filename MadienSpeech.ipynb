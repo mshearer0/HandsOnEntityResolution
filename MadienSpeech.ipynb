{
 "cells": [
  {
   "cell_type": "markdown",
   "id": "dda97ec1",
   "metadata": {},
   "source": [
    "### Madien Speech Example\n",
    "\n",
    "Matches UK House of Commons MPs Madien Speeches to UK Members of Parliament List"
   ]
  },
  {
   "cell_type": "code",
   "execution_count": 1,
   "id": "c700f217",
   "metadata": {},
   "outputs": [],
   "source": [
    "import splink\n",
    "import pandas as pd"
   ]
  },
  {
   "cell_type": "code",
   "execution_count": 2,
   "id": "25f01bff",
   "metadata": {},
   "outputs": [],
   "source": [
    "import probablepeople as pp\n",
    "\n",
    "# Extract firstname, removing Honorific Prefix (eg Dr)\n",
    "\n",
    "def clean_firstname(raw_name):\n",
    "    first_name=raw_name\n",
    "    if(type(raw_name)==str):\n",
    "        for parsed_value, parsed_type in pp.parse(raw_name):\n",
    "            if parsed_type == 'GivenName':\n",
    "                first_name = parsed_value\n",
    "    return first_name"
   ]
  },
  {
   "cell_type": "code",
   "execution_count": 3,
   "id": "dde0ae07",
   "metadata": {},
   "outputs": [],
   "source": [
    "# Download table of MP madien speeches from 2015\n",
    "# Spreadsheet is from https://commonslibrary.parliament.uk/research-briefings/sn04588/\n",
    "# Direct download into notebook disabled by cloudflare protection\n",
    "\n",
    "df=pd.read_excel(\"SN04588.xlsx\", skiprows=1, header=1, sheet_name=\"2015 - Present\")"
   ]
  },
  {
   "cell_type": "code",
   "execution_count": 4,
   "id": "07306670",
   "metadata": {},
   "outputs": [],
   "source": [
    "# Cleanse and Standardise Madien Speech table\n",
    "\n",
    "df['Firstname'] = df.apply(lambda row: clean_firstname(row['First Name']), axis=1)\n",
    "df['Surname']=df['Surname'].replace('-', ' ', regex=True)\n",
    "df['Party'] = df['Party'].map({'Lab': 'Labour', 'Con': 'Conservative', 'LD': 'Liberal Democrat'})\n",
    "df = df[['Firstname','Surname','Party','Constituency']]\n",
    "\n",
    "#Strip spaces at start, end and convert to uppercase\n",
    "df[df.columns] = df.apply(lambda x: x.str.strip())\n",
    "df = df.apply(lambda x: x.astype(str).str.upper())\n",
    "\n",
    "#Add unique_id column\n",
    "df['unique_id'] = df.index"
   ]
  },
  {
   "cell_type": "code",
   "execution_count": 5,
   "id": "75464b54",
   "metadata": {},
   "outputs": [],
   "source": [
    "# Download all current Members of Parliament\n",
    "\n",
    "df_mp=pd.read_csv(\"https://www.theyworkforyou.com/mps/?f=csv\", header=0)"
   ]
  },
  {
   "cell_type": "code",
   "execution_count": 6,
   "id": "14ad0036",
   "metadata": {},
   "outputs": [],
   "source": [
    "# Cleanse MP table\n",
    "\n",
    "df_mp['Firstname'] = df_mp.apply(lambda row: clean_firstname(row['First name']), axis=1)\n",
    "df_mp['Surname']=df_mp['Last name'].replace('-', ' ', regex=True)\n",
    "df_mp = df_mp[['Firstname','Surname','Party','Constituency']]\n",
    "\n",
    "#Convert to uppercase\n",
    "df_mp = df_mp.apply(lambda x: x.astype(str).str.upper())\n",
    "\n",
    "#Add unique_id column\n",
    "df_mp['unique_id'] = df_mp.index"
   ]
  },
  {
   "cell_type": "code",
   "execution_count": 7,
   "id": "1d088cd4",
   "metadata": {},
   "outputs": [
    {
     "data": {
      "text/plain": [
       "253"
      ]
     },
     "execution_count": 7,
     "metadata": {},
     "output_type": "execute_result"
    }
   ],
   "source": [
    "#Perfect matches on Constituency, Party, Firstname and Surname\n",
    "\n",
    "df_result = df.merge(df_mp, left_on=['Constituency','Firstname','Surname','Party'], right_on=['Constituency','Firstname','Surname','Party'],\n",
    "          suffixes=('_l', '_r'))\n",
    "len(df_result)"
   ]
  },
  {
   "cell_type": "code",
   "execution_count": 8,
   "id": "fe267369",
   "metadata": {},
   "outputs": [
    {
     "data": {
      "text/plain": [
       "324"
      ]
     },
     "execution_count": 8,
     "metadata": {},
     "output_type": "execute_result"
    }
   ],
   "source": [
    "#Perfect matches on Constituency, Firstname and Surname\n",
    "\n",
    "df_result = df.merge(df_mp, left_on=['Constituency','Firstname','Surname'], right_on=['Constituency','Firstname','Surname'],\n",
    "          suffixes=('_l', '_r'))\n",
    "len(df_result)"
   ]
  },
  {
   "cell_type": "code",
   "execution_count": 9,
   "id": "362e51d2",
   "metadata": {},
   "outputs": [
    {
     "data": {
      "text/plain": [
       "408"
      ]
     },
     "execution_count": 9,
     "metadata": {},
     "output_type": "execute_result"
    }
   ],
   "source": [
    "#Simple merge on Consitutency\n",
    "\n",
    "df_result = df.merge(df_mp, left_on=['Constituency'], right_on=['Constituency'],\n",
    "          suffixes=('_l', '_r'))\n",
    "len(df_result)"
   ]
  },
  {
   "cell_type": "code",
   "execution_count": 10,
   "id": "9d9dc45d",
   "metadata": {},
   "outputs": [
    {
     "data": {
      "text/html": [
       "<div>\n",
       "<style scoped>\n",
       "    .dataframe tbody tr th:only-of-type {\n",
       "        vertical-align: middle;\n",
       "    }\n",
       "\n",
       "    .dataframe tbody tr th {\n",
       "        vertical-align: top;\n",
       "    }\n",
       "\n",
       "    .dataframe thead th {\n",
       "        text-align: right;\n",
       "    }\n",
       "</style>\n",
       "<table border=\"1\" class=\"dataframe\">\n",
       "  <thead>\n",
       "    <tr style=\"text-align: right;\">\n",
       "      <th></th>\n",
       "      <th>Firstname_l</th>\n",
       "      <th>Surname_l</th>\n",
       "      <th>Surname_r</th>\n",
       "    </tr>\n",
       "  </thead>\n",
       "  <tbody>\n",
       "    <tr>\n",
       "      <th>8</th>\n",
       "      <td>ANUM</td>\n",
       "      <td>QAISAR JAVED</td>\n",
       "      <td>QAISAR</td>\n",
       "    </tr>\n",
       "    <tr>\n",
       "      <th>58</th>\n",
       "      <td>KATE</td>\n",
       "      <td>GRIFFITHS</td>\n",
       "      <td>KNIVETON</td>\n",
       "    </tr>\n",
       "    <tr>\n",
       "      <th>157</th>\n",
       "      <td>JAMES</td>\n",
       "      <td>FRITH</td>\n",
       "      <td>DALY</td>\n",
       "    </tr>\n",
       "    <tr>\n",
       "      <th>212</th>\n",
       "      <td>JULIA</td>\n",
       "      <td>DOCKERILL</td>\n",
       "      <td>LOPEZ</td>\n",
       "    </tr>\n",
       "    <tr>\n",
       "      <th>388</th>\n",
       "      <td>SUELLA</td>\n",
       "      <td>FERNANDES</td>\n",
       "      <td>BRAVERMAN</td>\n",
       "    </tr>\n",
       "  </tbody>\n",
       "</table>\n",
       "</div>"
      ],
      "text/plain": [
       "    Firstname_l     Surname_l  Surname_r\n",
       "8          ANUM  QAISAR JAVED     QAISAR\n",
       "58         KATE     GRIFFITHS   KNIVETON\n",
       "157       JAMES         FRITH       DALY\n",
       "212       JULIA     DOCKERILL      LOPEZ\n",
       "388      SUELLA     FERNANDES  BRAVERMAN"
      ]
     },
     "execution_count": 10,
     "metadata": {},
     "output_type": "execute_result"
    }
   ],
   "source": [
    "# Firstname matches but Surname doesn't match, maybe marriage\n",
    "\n",
    "df_namemismatch = df_result[(df_result['Surname_l'] != df_result['Surname_r']) & (df_result['Firstname_l'] == df_result['Firstname_r'])]\n",
    "df_namemismatch = df_namemismatch[['Firstname_l','Surname_l','Surname_r']]\n",
    "df_namemismatch"
   ]
  },
  {
   "cell_type": "code",
   "execution_count": 11,
   "id": "5b30e7f9",
   "metadata": {},
   "outputs": [
    {
     "data": {
      "text/html": [
       "<div>\n",
       "<style scoped>\n",
       "    .dataframe tbody tr th:only-of-type {\n",
       "        vertical-align: middle;\n",
       "    }\n",
       "\n",
       "    .dataframe tbody tr th {\n",
       "        vertical-align: top;\n",
       "    }\n",
       "\n",
       "    .dataframe thead th {\n",
       "        text-align: right;\n",
       "    }\n",
       "</style>\n",
       "<table border=\"1\" class=\"dataframe\">\n",
       "  <thead>\n",
       "    <tr style=\"text-align: right;\">\n",
       "      <th></th>\n",
       "      <th>Firstname_l</th>\n",
       "      <th>Firstname_r</th>\n",
       "      <th>Surname_l</th>\n",
       "    </tr>\n",
       "  </thead>\n",
       "  <tbody>\n",
       "    <tr>\n",
       "      <th>31</th>\n",
       "      <td>NICK</td>\n",
       "      <td>NICHOLAS</td>\n",
       "      <td>FLETCHER</td>\n",
       "    </tr>\n",
       "    <tr>\n",
       "      <th>138</th>\n",
       "      <td>FREYAL</td>\n",
       "      <td>FERYAL</td>\n",
       "      <td>CLARK</td>\n",
       "    </tr>\n",
       "    <tr>\n",
       "      <th>211</th>\n",
       "      <td>ANNALIESE</td>\n",
       "      <td>ANNELIESE</td>\n",
       "      <td>DODDS</td>\n",
       "    </tr>\n",
       "    <tr>\n",
       "      <th>291</th>\n",
       "      <td>NAZ</td>\n",
       "      <td>NASEEM</td>\n",
       "      <td>SHAH</td>\n",
       "    </tr>\n",
       "    <tr>\n",
       "      <th>320</th>\n",
       "      <td>TOM</td>\n",
       "      <td>THOMAS</td>\n",
       "      <td>TUGENDHAT</td>\n",
       "    </tr>\n",
       "    <tr>\n",
       "      <th>376</th>\n",
       "      <td>THANGHAM</td>\n",
       "      <td>THANGAM</td>\n",
       "      <td>DEBBONAIRE</td>\n",
       "    </tr>\n",
       "  </tbody>\n",
       "</table>\n",
       "</div>"
      ],
      "text/plain": [
       "    Firstname_l Firstname_r   Surname_l\n",
       "31         NICK    NICHOLAS    FLETCHER\n",
       "138      FREYAL      FERYAL       CLARK\n",
       "211   ANNALIESE   ANNELIESE       DODDS\n",
       "291         NAZ      NASEEM        SHAH\n",
       "320         TOM      THOMAS   TUGENDHAT\n",
       "376    THANGHAM     THANGAM  DEBBONAIRE"
      ]
     },
     "execution_count": 11,
     "metadata": {},
     "output_type": "execute_result"
    }
   ],
   "source": [
    "# Surname matches but Firstname doesn't match\n",
    "\n",
    "df_namemismatch = df_result[(df_result['Surname_l'] == df_result['Surname_r']) & (df_result['Firstname_l'] != df_result['Firstname_r'])]\n",
    "df_namemismatch = df_namemismatch[['Firstname_l','Firstname_r','Surname_l']]\n",
    "df_namemismatch"
   ]
  },
  {
   "cell_type": "code",
   "execution_count": 12,
   "id": "bf35bd1e",
   "metadata": {},
   "outputs": [],
   "source": [
    "import splink"
   ]
  },
  {
   "cell_type": "code",
   "execution_count": 13,
   "id": "49a40d1f",
   "metadata": {},
   "outputs": [],
   "source": [
    "# Splink settings to block on constituency and match Name and Party\n",
    "\n",
    "from splink.duckdb.duckdb_linker import DuckDBLinker\n",
    "from splink.duckdb import duckdb_comparison_library as cl\n",
    "settings = {\n",
    "    \"link_type\": \"link_only\",\n",
    "    \"blocking_rules_to_generate_predictions\": [\n",
    "        \"l.Constituency = r.Constituency\"\n",
    "    ],\n",
    "    \"comparisons\": [\n",
    "        cl.jaccard_at_thresholds(\"Firstname\",distance_threshold_or_thresholds=[0.9]),\n",
    "        cl.exact_match(\"Surname\"),\n",
    "        cl.exact_match(\"Party\"),\n",
    "    ],\n",
    "    \"retain_intermediate_calculation_columns\": True,\n",
    "}"
   ]
  },
  {
   "cell_type": "code",
   "execution_count": 14,
   "id": "222ffb3d",
   "metadata": {},
   "outputs": [
    {
     "name": "stderr",
     "output_type": "stream",
     "text": [
      "----- Estimating u probabilities using random sampling -----\n",
      "\n",
      "Estimated u probabilities using random sampling\n",
      "\n",
      "Your model is not yet fully trained. Missing estimates for:\n",
      "    - Firstname (no m values are trained).\n",
      "    - Surname (no m values are trained).\n",
      "    - Party (no m values are trained).\n"
     ]
    }
   ],
   "source": [
    "linker = DuckDBLinker([df, df_mp], settings, input_table_aliases=[\"df_l\", \"df_r\"])\n",
    "linker.estimate_u_using_random_sampling(target_rows=1e5)"
   ]
  },
  {
   "cell_type": "code",
   "execution_count": 15,
   "id": "359e9fc5",
   "metadata": {},
   "outputs": [
    {
     "name": "stderr",
     "output_type": "stream",
     "text": [
      "\n",
      "----- Starting EM training session -----\n",
      "\n",
      "Estimating the m probabilities of the model by blocking on:\n",
      "l.Constituency = r.Constituency\n",
      "\n",
      "Parameter estimates will be made for the following comparison(s):\n",
      "    - Firstname\n",
      "    - Surname\n",
      "    - Party\n",
      "\n",
      "Parameter estimates cannot be made for the following comparison(s) since they are used in the blocking rules: \n",
      "\n",
      "Iteration 1: Largest change in params was 0.674 in probability_two_random_records_match\n",
      "Iteration 2: Largest change in params was 0.129 in probability_two_random_records_match\n",
      "Iteration 3: Largest change in params was 0.00806 in probability_two_random_records_match\n",
      "Iteration 4: Largest change in params was -0.00725 in the m_probability of Surname, level `Exact match`\n",
      "Iteration 5: Largest change in params was 0.00219 in the m_probability of Surname, level `All other comparisons`\n",
      "Iteration 6: Largest change in params was -0.000275 in the m_probability of Surname, level `Exact match`\n",
      "Iteration 7: Largest change in params was 2.97e-05 in the m_probability of Surname, level `All other comparisons`\n",
      "\n",
      "EM converged after 7 iterations\n",
      "\n",
      "Your model is fully trained. All comparisons have at least one estimate for their m and u values\n",
      "\n",
      "----- Starting EM training session -----\n",
      "\n",
      "Estimating the m probabilities of the model by blocking on:\n",
      "l.Surname = r.Surname and l.Firstname = r.Firstname\n",
      "\n",
      "Parameter estimates will be made for the following comparison(s):\n",
      "    - Party\n",
      "\n",
      "Parameter estimates cannot be made for the following comparison(s) since they are used in the blocking rules: \n",
      "    - Firstname\n",
      "    - Surname\n",
      "\n",
      "Iteration 1: Largest change in params was 0.182 in the m_probability of Party, level `Exact match`\n",
      "Iteration 2: Largest change in params was -0.0325 in the m_probability of Party, level `All other comparisons`\n",
      "Iteration 3: Largest change in params was -0.00472 in the m_probability of Party, level `All other comparisons`\n",
      "Iteration 4: Largest change in params was 0.0013 in probability_two_random_records_match\n",
      "Iteration 5: Largest change in params was 0.00302 in probability_two_random_records_match\n",
      "Iteration 6: Largest change in params was 0.00692 in probability_two_random_records_match\n",
      "Iteration 7: Largest change in params was 0.0156 in probability_two_random_records_match\n",
      "Iteration 8: Largest change in params was 0.0336 in probability_two_random_records_match\n",
      "Iteration 9: Largest change in params was 0.0661 in probability_two_random_records_match\n",
      "Iteration 10: Largest change in params was 0.11 in probability_two_random_records_match\n",
      "Iteration 11: Largest change in params was 0.139 in probability_two_random_records_match\n",
      "Iteration 12: Largest change in params was 0.127 in probability_two_random_records_match\n",
      "Iteration 13: Largest change in params was 0.0851 in probability_two_random_records_match\n",
      "Iteration 14: Largest change in params was 0.0461 in probability_two_random_records_match\n",
      "Iteration 15: Largest change in params was 0.0221 in probability_two_random_records_match\n",
      "Iteration 16: Largest change in params was 0.00996 in probability_two_random_records_match\n",
      "Iteration 17: Largest change in params was 0.00437 in probability_two_random_records_match\n",
      "Iteration 18: Largest change in params was 0.00189 in probability_two_random_records_match\n",
      "Iteration 19: Largest change in params was 0.000816 in probability_two_random_records_match\n",
      "Iteration 20: Largest change in params was 0.000351 in probability_two_random_records_match\n",
      "Iteration 21: Largest change in params was 0.000151 in probability_two_random_records_match\n",
      "Iteration 22: Largest change in params was 6.48e-05 in probability_two_random_records_match\n",
      "\n",
      "EM converged after 22 iterations\n",
      "\n",
      "Your model is fully trained. All comparisons have at least one estimate for their m and u values\n"
     ]
    },
    {
     "data": {
      "text/plain": [
       "<EMTrainingSession, blocking on l.Surname = r.Surname and l.Firstname = r.Firstname, deactivating comparisons Firstname, Surname>"
      ]
     },
     "execution_count": 15,
     "metadata": {},
     "output_type": "execute_result"
    }
   ],
   "source": [
    "linker.estimate_parameters_using_expectation_maximisation(\"l.Constituency = r.Constituency\")\n",
    "linker.estimate_parameters_using_expectation_maximisation(\"l.Surname = r.Surname and l.Firstname = r.Firstname\")"
   ]
  },
  {
   "cell_type": "code",
   "execution_count": 16,
   "id": "f4c46a12",
   "metadata": {},
   "outputs": [
    {
     "data": {
      "text/html": [
       "\n",
       "<div id=\"altair-viz-d087a6a2fe774c20865464e402b39e6b\"></div>\n",
       "<script type=\"text/javascript\">\n",
       "  var VEGA_DEBUG = (typeof VEGA_DEBUG == \"undefined\") ? {} : VEGA_DEBUG;\n",
       "  (function(spec, embedOpt){\n",
       "    let outputDiv = document.currentScript.previousElementSibling;\n",
       "    if (outputDiv.id !== \"altair-viz-d087a6a2fe774c20865464e402b39e6b\") {\n",
       "      outputDiv = document.getElementById(\"altair-viz-d087a6a2fe774c20865464e402b39e6b\");\n",
       "    }\n",
       "    const paths = {\n",
       "      \"vega\": \"https://cdn.jsdelivr.net/npm//vega@5?noext\",\n",
       "      \"vega-lib\": \"https://cdn.jsdelivr.net/npm//vega-lib?noext\",\n",
       "      \"vega-lite\": \"https://cdn.jsdelivr.net/npm//vega-lite@4.17.0?noext\",\n",
       "      \"vega-embed\": \"https://cdn.jsdelivr.net/npm//vega-embed@6?noext\",\n",
       "    };\n",
       "\n",
       "    function maybeLoadScript(lib, version) {\n",
       "      var key = `${lib.replace(\"-\", \"\")}_version`;\n",
       "      return (VEGA_DEBUG[key] == version) ?\n",
       "        Promise.resolve(paths[lib]) :\n",
       "        new Promise(function(resolve, reject) {\n",
       "          var s = document.createElement('script');\n",
       "          document.getElementsByTagName(\"head\")[0].appendChild(s);\n",
       "          s.async = true;\n",
       "          s.onload = () => {\n",
       "            VEGA_DEBUG[key] = version;\n",
       "            return resolve(paths[lib]);\n",
       "          };\n",
       "          s.onerror = () => reject(`Error loading script: ${paths[lib]}`);\n",
       "          s.src = paths[lib];\n",
       "        });\n",
       "    }\n",
       "\n",
       "    function showError(err) {\n",
       "      outputDiv.innerHTML = `<div class=\"error\" style=\"color:red;\">${err}</div>`;\n",
       "      throw err;\n",
       "    }\n",
       "\n",
       "    function displayChart(vegaEmbed) {\n",
       "      vegaEmbed(outputDiv, spec, embedOpt)\n",
       "        .catch(err => showError(`Javascript Error: ${err.message}<br>This usually means there's a typo in your chart specification. See the javascript console for the full traceback.`));\n",
       "    }\n",
       "\n",
       "    if(typeof define === \"function\" && define.amd) {\n",
       "      requirejs.config({paths});\n",
       "      require([\"vega-embed\"], displayChart, err => showError(`Error loading script: ${err.message}`));\n",
       "    } else {\n",
       "      maybeLoadScript(\"vega\", \"5\")\n",
       "        .then(() => maybeLoadScript(\"vega-lite\", \"4.17.0\"))\n",
       "        .then(() => maybeLoadScript(\"vega-embed\", \"6\"))\n",
       "        .catch(showError)\n",
       "        .then(() => displayChart(vegaEmbed));\n",
       "    }\n",
       "  })({\"config\": {\"view\": {\"width\": 400, \"height\": 60}, \"mark\": {\"tooltip\": null}, \"title\": {\"anchor\": \"middle\"}, \"header\": {\"title\": null}}, \"data\": {\"values\": [{\"comparison_name\": \"probability_two_random_records_match\", \"sql_condition\": null, \"label_for_charts\": \"\", \"m_probability\": null, \"u_probability\": null, \"m_probability_description\": null, \"u_probability_description\": null, \"has_tf_adjustments\": false, \"tf_adjustment_column\": null, \"tf_adjustment_weight\": null, \"is_null_level\": false, \"bayes_factor\": 0.00010001000100010001, \"log2_bayes_factor\": -13.287568102831404, \"comparison_vector_value\": 0, \"max_comparison_vector_value\": 0, \"bayes_factor_description\": \"The probability that two random records drawn at random match is 0.000 or one in  10,000.0 records.This is equivalent to a starting match weight of -13.288.\", \"probability_two_random_records_match\": 0.0001, \"comparison_sort_order\": -1}, {\"comparison_name\": \"Firstname\", \"sql_condition\": \"\\\"Firstname_l\\\" = \\\"Firstname_r\\\"\", \"label_for_charts\": \"Exact match\", \"m_probability\": 0.9821703440213716, \"u_probability\": 0.0049368541905855335, \"m_probability_description\": \"Amongst matching record comparisons, 98.22% of records are in the exact match comparison level\", \"u_probability_description\": \"Amongst non-matching record comparisons, 0.49% of records are in the exact match comparison level\", \"has_tf_adjustments\": false, \"tf_adjustment_column\": null, \"tf_adjustment_weight\": 1.0, \"is_null_level\": false, \"bayes_factor\": 198.94659759130576, \"log2_bayes_factor\": 7.636237415872854, \"comparison_vector_value\": 2, \"max_comparison_vector_value\": 2, \"bayes_factor_description\": \"If comparison level is `exact match` then comparison is 198.95 times more likely to be a match\", \"probability_two_random_records_match\": 0.0001, \"comparison_sort_order\": 0}, {\"comparison_name\": \"Firstname\", \"sql_condition\": \"jaccard(\\\"Firstname_l\\\", \\\"Firstname_r\\\") >= 0.9\", \"label_for_charts\": \"jaccard >= 0.9\", \"m_probability\": 0.008969351477697106, \"u_probability\": 0.0003157290470723307, \"m_probability_description\": \"Amongst matching record comparisons, 0.90% of records are in the jaccard >= 0.9 comparison level\", \"u_probability_description\": \"Amongst non-matching record comparisons, 0.03% of records are in the jaccard >= 0.9 comparison level\", \"has_tf_adjustments\": false, \"tf_adjustment_column\": null, \"tf_adjustment_weight\": 1.0, \"is_null_level\": false, \"bayes_factor\": 28.40838231663338, \"log2_bayes_factor\": 4.828244776107954, \"comparison_vector_value\": 1, \"max_comparison_vector_value\": 2, \"bayes_factor_description\": \"If comparison level is `jaccard >= 0.9` then comparison is 28.41 times more likely to be a match\", \"probability_two_random_records_match\": 0.0001, \"comparison_sort_order\": 0}, {\"comparison_name\": \"Firstname\", \"sql_condition\": \"ELSE\", \"label_for_charts\": \"All other comparisons\", \"m_probability\": 0.00886030450093132, \"u_probability\": 0.9947474167623421, \"m_probability_description\": \"Amongst matching record comparisons, 0.89% of records are in the all other comparisons comparison level\", \"u_probability_description\": \"Amongst non-matching record comparisons, 99.47% of records are in the all other comparisons comparison level\", \"has_tf_adjustments\": false, \"tf_adjustment_column\": null, \"tf_adjustment_weight\": 1.0, \"is_null_level\": false, \"bayes_factor\": 0.00890708973114947, \"log2_bayes_factor\": -6.810830156650686, \"comparison_vector_value\": 0, \"max_comparison_vector_value\": 2, \"bayes_factor_description\": \"If comparison level is `all other comparisons` then comparison is  112.27 times less likely to be a match\", \"probability_two_random_records_match\": 0.0001, \"comparison_sort_order\": 0}, {\"comparison_name\": \"Surname\", \"sql_condition\": \"\\\"Surname_l\\\" = \\\"Surname_r\\\"\", \"label_for_charts\": \"Exact match\", \"m_probability\": 0.9864582406900544, \"u_probability\": 0.0019804822043628014, \"m_probability_description\": \"Amongst matching record comparisons, 98.65% of records are in the exact match comparison level\", \"u_probability_description\": \"Amongst non-matching record comparisons, 0.20% of records are in the exact match comparison level\", \"has_tf_adjustments\": false, \"tf_adjustment_column\": null, \"tf_adjustment_weight\": 1.0, \"is_null_level\": false, \"bayes_factor\": 498.08992906726803, \"log2_bayes_factor\": 8.960262431077147, \"comparison_vector_value\": 1, \"max_comparison_vector_value\": 1, \"bayes_factor_description\": \"If comparison level is `exact match` then comparison is 498.09 times more likely to be a match\", \"probability_two_random_records_match\": 0.0001, \"comparison_sort_order\": 1}, {\"comparison_name\": \"Surname\", \"sql_condition\": \"ELSE\", \"label_for_charts\": \"All other comparisons\", \"m_probability\": 0.013541759309945611, \"u_probability\": 0.9980195177956372, \"m_probability_description\": \"Amongst matching record comparisons, 1.35% of records are in the all other comparisons comparison level\", \"u_probability_description\": \"Amongst non-matching record comparisons, 99.80% of records are in the all other comparisons comparison level\", \"has_tf_adjustments\": false, \"tf_adjustment_column\": null, \"tf_adjustment_weight\": 1.0, \"is_null_level\": false, \"bayes_factor\": 0.013568631743651464, \"log2_bayes_factor\": -6.203580942575285, \"comparison_vector_value\": 0, \"max_comparison_vector_value\": 1, \"bayes_factor_description\": \"If comparison level is `all other comparisons` then comparison is  73.70 times less likely to be a match\", \"probability_two_random_records_match\": 0.0001, \"comparison_sort_order\": 1}, {\"comparison_name\": \"Party\", \"sql_condition\": \"\\\"Party_l\\\" = \\\"Party_r\\\"\", \"label_for_charts\": \"Exact match\", \"m_probability\": 0.8899503885371047, \"u_probability\": 0.3366437045541523, \"m_probability_description\": \"Amongst matching record comparisons, 89.00% of records are in the exact match comparison level\", \"u_probability_description\": \"Amongst non-matching record comparisons, 33.66% of records are in the exact match comparison level\", \"has_tf_adjustments\": false, \"tf_adjustment_column\": null, \"tf_adjustment_weight\": 1.0, \"is_null_level\": false, \"bayes_factor\": 2.6435973003438353, \"log2_bayes_factor\": 1.4025024275851978, \"comparison_vector_value\": 1, \"max_comparison_vector_value\": 1, \"bayes_factor_description\": \"If comparison level is `exact match` then comparison is 2.64 times more likely to be a match\", \"probability_two_random_records_match\": 0.0001, \"comparison_sort_order\": 2}, {\"comparison_name\": \"Party\", \"sql_condition\": \"ELSE\", \"label_for_charts\": \"All other comparisons\", \"m_probability\": 0.11004961146289528, \"u_probability\": 0.6633562954458477, \"m_probability_description\": \"Amongst matching record comparisons, 11.00% of records are in the all other comparisons comparison level\", \"u_probability_description\": \"Amongst non-matching record comparisons, 66.34% of records are in the all other comparisons comparison level\", \"has_tf_adjustments\": false, \"tf_adjustment_column\": null, \"tf_adjustment_weight\": 1.0, \"is_null_level\": false, \"bayes_factor\": 0.1658981941053713, \"log2_bayes_factor\": -2.591629913050521, \"comparison_vector_value\": 0, \"max_comparison_vector_value\": 1, \"bayes_factor_description\": \"If comparison level is `all other comparisons` then comparison is  6.03 times less likely to be a match\", \"probability_two_random_records_match\": 0.0001, \"comparison_sort_order\": 2}]}, \"vconcat\": [{\"height\": 20, \"mark\": {\"type\": \"bar\", \"clip\": true, \"height\": 15}, \"selection\": {\"zoom_selector\": {\"type\": \"interval\", \"bind\": \"scales\", \"encodings\": [\"x\"]}}, \"transform\": [{\"filter\": \"(datum.comparison_name == 'probability_two_random_records_match')\"}], \"encoding\": {\"color\": {\"type\": \"quantitative\", \"field\": \"log2_bayes_factor\", \"title\": \"Match weight\", \"scale\": {\"range\": [\"red\", \"orange\", \"green\"], \"domain\": [-10, 0, 10]}}, \"tooltip\": [{\"type\": \"nominal\", \"field\": \"comparison_name\", \"title\": \"Comparison name\"}, {\"type\": \"nominal\", \"field\": \"probability_two_random_records_match\", \"format\": \".4f\", \"title\": \"Probability two random records match\"}, {\"type\": \"quantitative\", \"field\": \"log2_bayes_factor\", \"title\": \"Equivalent match weight\", \"format\": \",.4f\"}, {\"type\": \"nominal\", \"field\": \"bayes_factor_description\", \"title\": \"Match weight description\"}], \"x\": {\"type\": \"quantitative\", \"axis\": {\"labels\": false, \"domain\": false, \"title\": \"\", \"ticks\": false}, \"field\": \"log2_bayes_factor\", \"scale\": {\"domain\": [-10, 10]}}, \"y\": {\"type\": \"nominal\", \"field\": \"label_for_charts\", \"axis\": {\"title\": \"Prior (starting) match weight\", \"titleAngle\": 0, \"titleAlign\": \"right\", \"titleFontWeight\": \"normal\"}, \"sort\": {\"field\": \"comparison_vector_value\", \"order\": \"descending\"}}}}, {\"height\": {\"step\": 12}, \"mark\": {\"type\": \"bar\", \"clip\": true}, \"selection\": {\"zoom_selector\": {\"type\": \"interval\", \"bind\": \"scales\", \"encodings\": [\"x\"]}}, \"transform\": [{\"filter\": \"(datum.comparison_name != 'probability_two_random_records_match')\"}], \"encoding\": {\"color\": {\"type\": \"quantitative\", \"field\": \"log2_bayes_factor\", \"title\": \"Match weight\", \"scale\": {\"range\": [\"red\", \"orange\", \"green\"], \"domain\": [-10, 0, 10]}}, \"row\": {\"type\": \"nominal\", \"field\": \"comparison_name\", \"sort\": {\"field\": \"comparison_sort_order\"}, \"header\": {\"labelAngle\": 0, \"labelAnchor\": \"middle\", \"labelAlign\": \"left\"}}, \"tooltip\": [{\"type\": \"nominal\", \"field\": \"comparison_name\", \"title\": \"Comparison name\"}, {\"type\": \"ordinal\", \"field\": \"label_for_charts\", \"title\": \"Label\"}, {\"type\": \"nominal\", \"field\": \"sql_condition\", \"title\": \"SQL condition\"}, {\"type\": \"quantitative\", \"field\": \"m_probability\", \"format\": \".4f\", \"title\": \"M probability\"}, {\"type\": \"quantitative\", \"field\": \"u_probability\", \"format\": \".4f\", \"title\": \"U probability\"}, {\"type\": \"quantitative\", \"field\": \"bayes_factor\", \"title\": \"Bayes factor = m/u\", \"format\": \",.4f\"}, {\"type\": \"quantitative\", \"field\": \"log2_bayes_factor\", \"title\": \"Match weight = log2(m/u)\", \"format\": \",.4f\"}, {\"type\": \"nominal\", \"field\": \"bayes_factor_description\", \"title\": \"Match weight description\"}], \"x\": {\"type\": \"quantitative\", \"axis\": {\"title\": \"Comparison level match weight = log2(m/u)\"}, \"field\": \"log2_bayes_factor\", \"scale\": {\"domain\": [-10, 10]}}, \"y\": {\"type\": \"nominal\", \"field\": \"label_for_charts\", \"axis\": {\"title\": null}, \"sort\": {\"field\": \"comparison_vector_value\", \"order\": \"descending\"}}}, \"resolve\": {\"axis\": {\"y\": \"independent\"}, \"scale\": {\"y\": \"independent\"}}}], \"selection\": {\"zoom_selector\": {\"type\": \"interval\", \"bind\": \"scales\", \"encodings\": [\"x\"]}}, \"resolve\": {\"axis\": {\"y\": \"independent\"}, \"scale\": {\"y\": \"independent\"}}, \"title\": {\"text\": \"Model parameters (components of final match weight)\", \"subtitle\": \"Use mousewheel to zoom\"}, \"$schema\": \"https://vega.github.io/schema/vega-lite/v5.2.json\"}, {\"mode\": \"vega-lite\"});\n",
       "</script>"
      ],
      "text/plain": [
       "<splink.charts.VegaliteNoValidate at 0x166ff5d1048>"
      ]
     },
     "execution_count": 16,
     "metadata": {},
     "output_type": "execute_result"
    }
   ],
   "source": [
    "linker.match_weights_chart()"
   ]
  },
  {
   "cell_type": "code",
   "execution_count": 17,
   "id": "2004e9f0",
   "metadata": {},
   "outputs": [
    {
     "data": {
      "text/plain": [
       "327"
      ]
     },
     "execution_count": 17,
     "metadata": {},
     "output_type": "execute_result"
    }
   ],
   "source": [
    "# Number of matches \n",
    "\n",
    "df_splink = linker.predict(threshold_match_probability = 0.1).as_pandas_dataframe()\n",
    "len(df_splink)"
   ]
  },
  {
   "cell_type": "code",
   "execution_count": 18,
   "id": "a9985d1f",
   "metadata": {},
   "outputs": [
    {
     "data": {
      "text/html": [
       "<div>\n",
       "<style scoped>\n",
       "    .dataframe tbody tr th:only-of-type {\n",
       "        vertical-align: middle;\n",
       "    }\n",
       "\n",
       "    .dataframe tbody tr th {\n",
       "        vertical-align: top;\n",
       "    }\n",
       "\n",
       "    .dataframe thead th {\n",
       "        text-align: right;\n",
       "    }\n",
       "</style>\n",
       "<table border=\"1\" class=\"dataframe\">\n",
       "  <thead>\n",
       "    <tr style=\"text-align: right;\">\n",
       "      <th></th>\n",
       "      <th>match_weight</th>\n",
       "      <th>match_probability</th>\n",
       "      <th>source_dataset_l</th>\n",
       "      <th>unique_id_l</th>\n",
       "      <th>source_dataset_r</th>\n",
       "      <th>unique_id_r</th>\n",
       "      <th>Firstname_l</th>\n",
       "      <th>Firstname_r</th>\n",
       "      <th>gamma_Firstname</th>\n",
       "      <th>bf_Firstname</th>\n",
       "      <th>Surname_l</th>\n",
       "      <th>Surname_r</th>\n",
       "      <th>gamma_Surname</th>\n",
       "      <th>bf_Surname</th>\n",
       "      <th>Party_l</th>\n",
       "      <th>Party_r</th>\n",
       "      <th>gamma_Party</th>\n",
       "      <th>bf_Party</th>\n",
       "      <th>Constituency_l</th>\n",
       "      <th>Constituency_r</th>\n",
       "    </tr>\n",
       "  </thead>\n",
       "  <tbody>\n",
       "    <tr>\n",
       "      <th>42</th>\n",
       "      <td>1.903442</td>\n",
       "      <td>0.789076</td>\n",
       "      <td>df_l</td>\n",
       "      <td>108</td>\n",
       "      <td>df_r</td>\n",
       "      <td>107</td>\n",
       "      <td>FREYAL</td>\n",
       "      <td>FERYAL</td>\n",
       "      <td>1</td>\n",
       "      <td>28.408382</td>\n",
       "      <td>CLARK</td>\n",
       "      <td>CLARK</td>\n",
       "      <td>1</td>\n",
       "      <td>498.089929</td>\n",
       "      <td>LABOUR</td>\n",
       "      <td>LABOUR</td>\n",
       "      <td>1</td>\n",
       "      <td>2.643597</td>\n",
       "      <td>ENFIELD NORTH</td>\n",
       "      <td>ENFIELD NORTH</td>\n",
       "    </tr>\n",
       "    <tr>\n",
       "      <th>59</th>\n",
       "      <td>1.903442</td>\n",
       "      <td>0.789076</td>\n",
       "      <td>df_l</td>\n",
       "      <td>382</td>\n",
       "      <td>df_r</td>\n",
       "      <td>151</td>\n",
       "      <td>THANGHAM</td>\n",
       "      <td>THANGAM</td>\n",
       "      <td>1</td>\n",
       "      <td>28.408382</td>\n",
       "      <td>DEBBONAIRE</td>\n",
       "      <td>DEBBONAIRE</td>\n",
       "      <td>1</td>\n",
       "      <td>498.089929</td>\n",
       "      <td>LABOUR</td>\n",
       "      <td>LABOUR</td>\n",
       "      <td>1</td>\n",
       "      <td>2.643597</td>\n",
       "      <td>BRISTOL WEST</td>\n",
       "      <td>BRISTOL WEST</td>\n",
       "    </tr>\n",
       "    <tr>\n",
       "      <th>64</th>\n",
       "      <td>-2.090691</td>\n",
       "      <td>0.190131</td>\n",
       "      <td>df_l</td>\n",
       "      <td>181</td>\n",
       "      <td>df_r</td>\n",
       "      <td>159</td>\n",
       "      <td>ANNALIESE</td>\n",
       "      <td>ANNELIESE</td>\n",
       "      <td>1</td>\n",
       "      <td>28.408382</td>\n",
       "      <td>DODDS</td>\n",
       "      <td>DODDS</td>\n",
       "      <td>1</td>\n",
       "      <td>498.089929</td>\n",
       "      <td>NAN</td>\n",
       "      <td>LABOUR/CO-OPERATIVE</td>\n",
       "      <td>0</td>\n",
       "      <td>0.165898</td>\n",
       "      <td>OXFORD EAST</td>\n",
       "      <td>OXFORD EAST</td>\n",
       "    </tr>\n",
       "  </tbody>\n",
       "</table>\n",
       "</div>"
      ],
      "text/plain": [
       "    match_weight  match_probability source_dataset_l  unique_id_l  \\\n",
       "42      1.903442           0.789076             df_l          108   \n",
       "59      1.903442           0.789076             df_l          382   \n",
       "64     -2.090691           0.190131             df_l          181   \n",
       "\n",
       "   source_dataset_r  unique_id_r Firstname_l Firstname_r  gamma_Firstname  \\\n",
       "42             df_r          107      FREYAL      FERYAL                1   \n",
       "59             df_r          151    THANGHAM     THANGAM                1   \n",
       "64             df_r          159   ANNALIESE   ANNELIESE                1   \n",
       "\n",
       "    bf_Firstname   Surname_l   Surname_r  gamma_Surname  bf_Surname Party_l  \\\n",
       "42     28.408382       CLARK       CLARK              1  498.089929  LABOUR   \n",
       "59     28.408382  DEBBONAIRE  DEBBONAIRE              1  498.089929  LABOUR   \n",
       "64     28.408382       DODDS       DODDS              1  498.089929     NAN   \n",
       "\n",
       "                Party_r  gamma_Party  bf_Party Constituency_l Constituency_r  \n",
       "42               LABOUR            1  2.643597  ENFIELD NORTH  ENFIELD NORTH  \n",
       "59               LABOUR            1  2.643597   BRISTOL WEST   BRISTOL WEST  \n",
       "64  LABOUR/CO-OPERATIVE            0  0.165898    OXFORD EAST    OXFORD EAST  "
      ]
     },
     "execution_count": 18,
     "metadata": {},
     "output_type": "execute_result"
    }
   ],
   "source": [
    "# Select not exact matches \n",
    "\n",
    "df_extra = df_splink[(df_splink['Firstname_l'] != df_splink['Firstname_r'])]\n",
    "df_extra"
   ]
  },
  {
   "cell_type": "code",
   "execution_count": 19,
   "id": "38cb5e8d",
   "metadata": {},
   "outputs": [
    {
     "data": {
      "text/html": [
       "\n",
       "<div id=\"altair-viz-c2725e521f824248834d8846809bdb95\"></div>\n",
       "<script type=\"text/javascript\">\n",
       "  var VEGA_DEBUG = (typeof VEGA_DEBUG == \"undefined\") ? {} : VEGA_DEBUG;\n",
       "  (function(spec, embedOpt){\n",
       "    let outputDiv = document.currentScript.previousElementSibling;\n",
       "    if (outputDiv.id !== \"altair-viz-c2725e521f824248834d8846809bdb95\") {\n",
       "      outputDiv = document.getElementById(\"altair-viz-c2725e521f824248834d8846809bdb95\");\n",
       "    }\n",
       "    const paths = {\n",
       "      \"vega\": \"https://cdn.jsdelivr.net/npm//vega@5?noext\",\n",
       "      \"vega-lib\": \"https://cdn.jsdelivr.net/npm//vega-lib?noext\",\n",
       "      \"vega-lite\": \"https://cdn.jsdelivr.net/npm//vega-lite@4.17.0?noext\",\n",
       "      \"vega-embed\": \"https://cdn.jsdelivr.net/npm//vega-embed@6?noext\",\n",
       "    };\n",
       "\n",
       "    function maybeLoadScript(lib, version) {\n",
       "      var key = `${lib.replace(\"-\", \"\")}_version`;\n",
       "      return (VEGA_DEBUG[key] == version) ?\n",
       "        Promise.resolve(paths[lib]) :\n",
       "        new Promise(function(resolve, reject) {\n",
       "          var s = document.createElement('script');\n",
       "          document.getElementsByTagName(\"head\")[0].appendChild(s);\n",
       "          s.async = true;\n",
       "          s.onload = () => {\n",
       "            VEGA_DEBUG[key] = version;\n",
       "            return resolve(paths[lib]);\n",
       "          };\n",
       "          s.onerror = () => reject(`Error loading script: ${paths[lib]}`);\n",
       "          s.src = paths[lib];\n",
       "        });\n",
       "    }\n",
       "\n",
       "    function showError(err) {\n",
       "      outputDiv.innerHTML = `<div class=\"error\" style=\"color:red;\">${err}</div>`;\n",
       "      throw err;\n",
       "    }\n",
       "\n",
       "    function displayChart(vegaEmbed) {\n",
       "      vegaEmbed(outputDiv, spec, embedOpt)\n",
       "        .catch(err => showError(`Javascript Error: ${err.message}<br>This usually means there's a typo in your chart specification. See the javascript console for the full traceback.`));\n",
       "    }\n",
       "\n",
       "    if(typeof define === \"function\" && define.amd) {\n",
       "      requirejs.config({paths});\n",
       "      require([\"vega-embed\"], displayChart, err => showError(`Error loading script: ${err.message}`));\n",
       "    } else {\n",
       "      maybeLoadScript(\"vega\", \"5\")\n",
       "        .then(() => maybeLoadScript(\"vega-lite\", \"4.17.0\"))\n",
       "        .then(() => maybeLoadScript(\"vega-embed\", \"6\"))\n",
       "        .catch(showError)\n",
       "        .then(() => displayChart(vegaEmbed));\n",
       "    }\n",
       "  })({\"$schema\": \"https://vega.github.io/schema/vega-lite/v5.2.0.json\", \"height\": 450, \"resolve\": {\"axis\": {\"y\": \"independent\"}}, \"width\": {\"step\": 75}, \"data\": {\"values\": [{\"column_name\": \"Prior\", \"label_for_charts\": \"Starting match weight (prior)\", \"sql_condition\": null, \"log2_bayes_factor\": -13.287568102831404, \"bayes_factor\": 0.00010001000100010001, \"comparison_vector_value\": null, \"m_probability\": null, \"u_probability\": null, \"bayes_factor_description\": null, \"value_l\": \"\", \"value_r\": \"\", \"term_frequency_adjustment\": null, \"bar_sort_order\": 0, \"record_number\": 0}, {\"column_name\": \"Firstname\", \"label_for_charts\": \"jaccard >= 0.9\", \"sql_condition\": \"jaccard(\\\"Firstname_l\\\", \\\"Firstname_r\\\") >= 0.9\", \"log2_bayes_factor\": 4.828244776107954, \"bayes_factor\": 28.40838231663338, \"comparison_vector_value\": 1, \"m_probability\": 0.008969351477697106, \"u_probability\": 0.0003157290470723307, \"bayes_factor_description\": \"If comparison level is `jaccard >= 0.9` then comparison is 28.41 times more likely to be a match\", \"value_l\": \"FREYAL\", \"value_r\": \"FERYAL\", \"term_frequency_adjustment\": false, \"bar_sort_order\": 1, \"record_number\": 0}, {\"column_name\": \"Surname\", \"label_for_charts\": \"Exact match\", \"sql_condition\": \"\\\"Surname_l\\\" = \\\"Surname_r\\\"\", \"log2_bayes_factor\": 8.960262431077147, \"bayes_factor\": 498.08992906726803, \"comparison_vector_value\": 1, \"m_probability\": 0.9864582406900544, \"u_probability\": 0.0019804822043628014, \"bayes_factor_description\": \"If comparison level is `exact match` then comparison is 498.09 times more likely to be a match\", \"value_l\": \"CLARK\", \"value_r\": \"CLARK\", \"term_frequency_adjustment\": false, \"bar_sort_order\": 2, \"record_number\": 0}, {\"column_name\": \"Party\", \"label_for_charts\": \"Exact match\", \"sql_condition\": \"\\\"Party_l\\\" = \\\"Party_r\\\"\", \"log2_bayes_factor\": 1.4025024275851978, \"bayes_factor\": 2.6435973003438353, \"comparison_vector_value\": 1, \"m_probability\": 0.8899503885371047, \"u_probability\": 0.3366437045541523, \"bayes_factor_description\": \"If comparison level is `exact match` then comparison is 2.64 times more likely to be a match\", \"value_l\": \"LABOUR\", \"value_r\": \"LABOUR\", \"term_frequency_adjustment\": false, \"bar_sort_order\": 3, \"record_number\": 0}, {\"column_name\": \"Final score\", \"label_for_charts\": \"Final score\", \"sql_condition\": null, \"log2_bayes_factor\": 1.9034415319388946, \"bayes_factor\": 3.7410455501626028, \"comparison_vector_value\": null, \"m_probability\": null, \"u_probability\": null, \"bayes_factor_description\": null, \"value_l\": \"\", \"value_r\": \"\", \"term_frequency_adjustment\": null, \"bar_sort_order\": 4, \"record_number\": 0}, {\"column_name\": \"Prior\", \"label_for_charts\": \"Starting match weight (prior)\", \"sql_condition\": null, \"log2_bayes_factor\": -13.287568102831404, \"bayes_factor\": 0.00010001000100010001, \"comparison_vector_value\": null, \"m_probability\": null, \"u_probability\": null, \"bayes_factor_description\": null, \"value_l\": \"\", \"value_r\": \"\", \"term_frequency_adjustment\": null, \"bar_sort_order\": 0, \"record_number\": 1}, {\"column_name\": \"Firstname\", \"label_for_charts\": \"jaccard >= 0.9\", \"sql_condition\": \"jaccard(\\\"Firstname_l\\\", \\\"Firstname_r\\\") >= 0.9\", \"log2_bayes_factor\": 4.828244776107954, \"bayes_factor\": 28.40838231663338, \"comparison_vector_value\": 1, \"m_probability\": 0.008969351477697106, \"u_probability\": 0.0003157290470723307, \"bayes_factor_description\": \"If comparison level is `jaccard >= 0.9` then comparison is 28.41 times more likely to be a match\", \"value_l\": \"THANGHAM\", \"value_r\": \"THANGAM\", \"term_frequency_adjustment\": false, \"bar_sort_order\": 1, \"record_number\": 1}, {\"column_name\": \"Surname\", \"label_for_charts\": \"Exact match\", \"sql_condition\": \"\\\"Surname_l\\\" = \\\"Surname_r\\\"\", \"log2_bayes_factor\": 8.960262431077147, \"bayes_factor\": 498.08992906726803, \"comparison_vector_value\": 1, \"m_probability\": 0.9864582406900544, \"u_probability\": 0.0019804822043628014, \"bayes_factor_description\": \"If comparison level is `exact match` then comparison is 498.09 times more likely to be a match\", \"value_l\": \"DEBBONAIRE\", \"value_r\": \"DEBBONAIRE\", \"term_frequency_adjustment\": false, \"bar_sort_order\": 2, \"record_number\": 1}, {\"column_name\": \"Party\", \"label_for_charts\": \"Exact match\", \"sql_condition\": \"\\\"Party_l\\\" = \\\"Party_r\\\"\", \"log2_bayes_factor\": 1.4025024275851978, \"bayes_factor\": 2.6435973003438353, \"comparison_vector_value\": 1, \"m_probability\": 0.8899503885371047, \"u_probability\": 0.3366437045541523, \"bayes_factor_description\": \"If comparison level is `exact match` then comparison is 2.64 times more likely to be a match\", \"value_l\": \"LABOUR\", \"value_r\": \"LABOUR\", \"term_frequency_adjustment\": false, \"bar_sort_order\": 3, \"record_number\": 1}, {\"column_name\": \"Final score\", \"label_for_charts\": \"Final score\", \"sql_condition\": null, \"log2_bayes_factor\": 1.9034415319388946, \"bayes_factor\": 3.7410455501626028, \"comparison_vector_value\": null, \"m_probability\": null, \"u_probability\": null, \"bayes_factor_description\": null, \"value_l\": \"\", \"value_r\": \"\", \"term_frequency_adjustment\": null, \"bar_sort_order\": 4, \"record_number\": 1}, {\"column_name\": \"Prior\", \"label_for_charts\": \"Starting match weight (prior)\", \"sql_condition\": null, \"log2_bayes_factor\": -13.287568102831404, \"bayes_factor\": 0.00010001000100010001, \"comparison_vector_value\": null, \"m_probability\": null, \"u_probability\": null, \"bayes_factor_description\": null, \"value_l\": \"\", \"value_r\": \"\", \"term_frequency_adjustment\": null, \"bar_sort_order\": 0, \"record_number\": 2}, {\"column_name\": \"Firstname\", \"label_for_charts\": \"jaccard >= 0.9\", \"sql_condition\": \"jaccard(\\\"Firstname_l\\\", \\\"Firstname_r\\\") >= 0.9\", \"log2_bayes_factor\": 4.828244776107954, \"bayes_factor\": 28.40838231663338, \"comparison_vector_value\": 1, \"m_probability\": 0.008969351477697106, \"u_probability\": 0.0003157290470723307, \"bayes_factor_description\": \"If comparison level is `jaccard >= 0.9` then comparison is 28.41 times more likely to be a match\", \"value_l\": \"ANNALIESE\", \"value_r\": \"ANNELIESE\", \"term_frequency_adjustment\": false, \"bar_sort_order\": 1, \"record_number\": 2}, {\"column_name\": \"Surname\", \"label_for_charts\": \"Exact match\", \"sql_condition\": \"\\\"Surname_l\\\" = \\\"Surname_r\\\"\", \"log2_bayes_factor\": 8.960262431077147, \"bayes_factor\": 498.08992906726803, \"comparison_vector_value\": 1, \"m_probability\": 0.9864582406900544, \"u_probability\": 0.0019804822043628014, \"bayes_factor_description\": \"If comparison level is `exact match` then comparison is 498.09 times more likely to be a match\", \"value_l\": \"DODDS\", \"value_r\": \"DODDS\", \"term_frequency_adjustment\": false, \"bar_sort_order\": 2, \"record_number\": 2}, {\"column_name\": \"Party\", \"label_for_charts\": \"All other comparisons\", \"sql_condition\": \"ELSE\", \"log2_bayes_factor\": -2.591629913050521, \"bayes_factor\": 0.1658981941053713, \"comparison_vector_value\": 0, \"m_probability\": 0.11004961146289528, \"u_probability\": 0.6633562954458477, \"bayes_factor_description\": \"If comparison level is `all other comparisons` then comparison is  6.03 times less likely to be a match\", \"value_l\": \"NAN\", \"value_r\": \"LABOUR/CO-OPERATIVE\", \"term_frequency_adjustment\": false, \"bar_sort_order\": 3, \"record_number\": 2}, {\"column_name\": \"Final score\", \"label_for_charts\": \"Final score\", \"sql_condition\": null, \"log2_bayes_factor\": -2.0906908086968246, \"bayes_factor\": 0.23476824581307804, \"comparison_vector_value\": null, \"m_probability\": null, \"u_probability\": null, \"bayes_factor_description\": null, \"value_l\": \"\", \"value_r\": \"\", \"term_frequency_adjustment\": null, \"bar_sort_order\": 4, \"record_number\": 2}]}, \"config\": {\"view\": {\"continuousWidth\": 400, \"continuousHeight\": 300}}, \"params\": [{\"name\": \"record_number\", \"value\": 0, \"bind\": {\"input\": \"range\", \"min\": 0, \"max\": 2, \"step\": 1}, \"description\": \"Filter by the interation number\"}], \"title\": {\"text\": \"Match weights waterfall chart\", \"subtitle\": \"How each comparison contributes to the final match score\"}, \"transform\": [{\"filter\": \"(datum.record_number == record_number)\"}, {\"filter\": \"(datum.bayes_factor !== 1.0)\"}, {\"window\": [{\"op\": \"sum\", \"field\": \"log2_bayes_factor\", \"as\": \"sum\"}, {\"op\": \"lead\", \"field\": \"column_name\", \"as\": \"lead\"}], \"frame\": [null, 0]}, {\"calculate\": \"datum.column_name === \\\"Final score\\\" ? datum.sum - datum.log2_bayes_factor : datum.sum\", \"as\": \"sum\"}, {\"calculate\": \"datum.lead === null ? datum.column_name : datum.lead\", \"as\": \"lead\"}, {\"calculate\": \"datum.column_name === \\\"Final score\\\" || datum.column_name === \\\"Prior match weight\\\" ? 0 : datum.sum - datum.log2_bayes_factor\", \"as\": \"previous_sum\"}, {\"calculate\": \"datum.sum > datum.previous_sum ? datum.column_name : \\\"\\\"\", \"as\": \"top_label\"}, {\"calculate\": \"datum.sum < datum.previous_sum ? datum.column_name : \\\"\\\"\", \"as\": \"bottom_label\"}, {\"calculate\": \"datum.sum > datum.previous_sum ? datum.sum : datum.previous_sum\", \"as\": \"sum_top\"}, {\"calculate\": \"datum.sum < datum.previous_sum ? datum.sum : datum.previous_sum\", \"as\": \"sum_bottom\"}, {\"calculate\": \"(datum.sum + datum.previous_sum) / 2\", \"as\": \"center\"}, {\"calculate\": \"(datum.log2_bayes_factor > 0 ? \\\"+\\\" : \\\"\\\") + datum.log2_bayes_factor\", \"as\": \"text_log2_bayes_factor\"}, {\"calculate\": \"datum.sum < datum.previous_sum ? 4 : -4\", \"as\": \"dy\"}, {\"calculate\": \"datum.sum < datum.previous_sum ? \\\"top\\\" : \\\"bottom\\\"\", \"as\": \"baseline\"}, {\"calculate\": \"1. / (1 + pow(2, -1.*datum.sum))\", \"as\": \"prob\"}, {\"calculate\": \"0*datum.sum\", \"as\": \"zero\"}], \"layer\": [{\"layer\": [{\"mark\": \"rule\", \"encoding\": {\"y\": {\"field\": \"zero\", \"type\": \"quantitative\"}, \"size\": {\"value\": 0.5}, \"color\": {\"value\": \"black\"}}}, {\"mark\": {\"type\": \"bar\", \"width\": 60}, \"encoding\": {\"color\": {\"condition\": {\"value\": \"red\", \"test\": \"(datum.log2_bayes_factor < 0)\"}, \"value\": \"green\"}, \"opacity\": {\"condition\": {\"value\": 1, \"test\": \"datum.column_name == 'Prior match weight' || datum.column_name == 'Final score'\"}, \"value\": 0.5}, \"tooltip\": [{\"type\": \"nominal\", \"field\": \"column_name\", \"title\": \"Comparison column\"}, {\"type\": \"nominal\", \"field\": \"value_l\", \"title\": \"Value (L)\"}, {\"type\": \"nominal\", \"field\": \"value_r\", \"title\": \"Value (R)\"}, {\"type\": \"ordinal\", \"field\": \"label_for_charts\", \"title\": \"Label\"}, {\"type\": \"nominal\", \"field\": \"sql_condition\", \"title\": \"SQL condition\"}, {\"type\": \"nominal\", \"field\": \"comparison_vector_value\", \"title\": \"Comparison vector value\"}, {\"type\": \"quantitative\", \"field\": \"bayes_factor\", \"title\": \"Bayes factor = m/u\", \"format\": \",.4f\"}, {\"type\": \"quantitative\", \"field\": \"log2_bayes_factor\", \"title\": \"Match weight = log2(m/u)\", \"format\": \",.4f\"}, {\"type\": \"quantitative\", \"field\": \"prob\", \"format\": \".4f\", \"title\": \"Adjusted match score\"}, {\"type\": \"nominal\", \"field\": \"bayes_factor_description\", \"title\": \"Match weight description\"}], \"x\": {\"type\": \"nominal\", \"axis\": {\"labelExpr\": \"datum.value == 'Prior' || datum.value == 'Final score' ? '' : datum.value\", \"labelAngle\": -20, \"labelAlign\": \"center\", \"labelPadding\": 10, \"title\": \"Column\", \"grid\": true, \"tickBand\": \"extent\"}, \"field\": \"column_name\", \"sort\": {\"field\": \"bar_sort_order\", \"order\": \"ascending\"}}, \"y\": {\"type\": \"quantitative\", \"axis\": {\"grid\": false, \"orient\": \"left\", \"title\": \"log2(Bayes factor)\"}, \"field\": \"previous_sum\"}, \"y2\": {\"field\": \"sum\"}}}, {\"mark\": {\"type\": \"text\", \"fontWeight\": \"bold\"}, \"encoding\": {\"color\": {\"value\": \"white\"}, \"text\": {\"condition\": {\"type\": \"nominal\", \"field\": \"log2_bayes_factor\", \"format\": \".2f\", \"test\": \"abs(datum.log2_bayes_factor) > 1\"}, \"value\": \"\"}, \"x\": {\"type\": \"nominal\", \"axis\": {\"labelAngle\": 0, \"title\": \"Column\"}, \"field\": \"column_name\", \"sort\": {\"field\": \"bar_sort_order\", \"order\": \"ascending\"}}, \"y\": {\"type\": \"quantitative\", \"axis\": {\"orient\": \"left\"}, \"field\": \"center\"}}}, {\"mark\": {\"type\": \"text\", \"baseline\": \"bottom\", \"dy\": -25, \"fontWeight\": \"bold\"}, \"encoding\": {\"color\": {\"value\": \"black\"}, \"text\": {\"type\": \"nominal\", \"field\": \"column_name\"}, \"x\": {\"type\": \"nominal\", \"axis\": {\"labelAngle\": 0, \"title\": \"Column\"}, \"field\": \"column_name\", \"sort\": {\"field\": \"bar_sort_order\", \"order\": \"ascending\"}}, \"y\": {\"type\": \"quantitative\", \"field\": \"sum_top\"}}}, {\"mark\": {\"type\": \"text\", \"baseline\": \"bottom\", \"fontSize\": 8, \"dy\": -13}, \"encoding\": {\"color\": {\"value\": \"grey\"}, \"text\": {\"type\": \"nominal\", \"field\": \"value_l\"}, \"x\": {\"type\": \"nominal\", \"axis\": {\"labelAngle\": 0, \"title\": \"Column\"}, \"field\": \"column_name\", \"sort\": {\"field\": \"bar_sort_order\", \"order\": \"ascending\"}}, \"y\": {\"type\": \"quantitative\", \"field\": \"sum_top\"}}}, {\"mark\": {\"type\": \"text\", \"baseline\": \"bottom\", \"fontSize\": 8, \"dy\": -5}, \"encoding\": {\"color\": {\"value\": \"grey\"}, \"text\": {\"type\": \"nominal\", \"field\": \"value_r\"}, \"x\": {\"type\": \"nominal\", \"axis\": {\"labelAngle\": 0, \"title\": \"Column\"}, \"field\": \"column_name\", \"sort\": {\"field\": \"bar_sort_order\", \"order\": \"ascending\"}}, \"y\": {\"type\": \"quantitative\", \"field\": \"sum_top\"}}}]}, {\"mark\": {\"type\": \"rule\", \"color\": \"black\", \"strokeWidth\": 2, \"x2Offset\": 30, \"xOffset\": -30}, \"encoding\": {\"x\": {\"type\": \"nominal\", \"axis\": {\"labelAngle\": 0, \"title\": \"Column\"}, \"field\": \"column_name\", \"sort\": {\"field\": \"bar_sort_order\", \"order\": \"ascending\"}}, \"x2\": {\"field\": \"lead\"}, \"y\": {\"type\": \"quantitative\", \"axis\": {\"labelExpr\": \"format(1 / (1 + pow(2, -1*datum.value)), '.2r')\", \"orient\": \"right\", \"title\": \"Probability\"}, \"field\": \"sum\", \"scale\": {\"zero\": false}}}}]}, {\"mode\": \"vega-lite\"});\n",
       "</script>"
      ],
      "text/plain": [
       "<splink.charts.VegaliteNoValidate at 0x166ff61af08>"
      ]
     },
     "execution_count": 19,
     "metadata": {},
     "output_type": "execute_result"
    }
   ],
   "source": [
    "# Show waterfall charts for not exact matches\n",
    "\n",
    "linker.waterfall_chart(df_extra.to_dict(orient=\"records\"))"
   ]
  },
  {
   "cell_type": "code",
   "execution_count": 20,
   "id": "44d0fcff",
   "metadata": {},
   "outputs": [
    {
     "data": {
      "text/plain": [
       "408"
      ]
     },
     "execution_count": 20,
     "metadata": {},
     "output_type": "execute_result"
    }
   ],
   "source": [
    "import recordlinkage\n",
    "\n",
    "# Number of potential links\n",
    "\n",
    "indexer = recordlinkage.Index()\n",
    "indexer.block(\"Constituency\")\n",
    "candidate_links = indexer.index(df, df_mp)\n",
    "len(candidate_links)"
   ]
  },
  {
   "cell_type": "code",
   "execution_count": 21,
   "id": "6a00295b",
   "metadata": {},
   "outputs": [
    {
     "data": {
      "text/plain": [
       "324"
      ]
     },
     "execution_count": 21,
     "metadata": {},
     "output_type": "execute_result"
    }
   ],
   "source": [
    "# Number of exact matches\n",
    "\n",
    "compare_cl = recordlinkage.Compare()\n",
    "compare_cl.string(\"Firstname\", \"Firstname\", method='jarowinkler',threshold=0.8, label=\"FirstnameJaro\")\n",
    "compare_cl.exact(\"Firstname\", \"Firstname\", label=\"FirstnameExact\")\n",
    "compare_cl.exact(\"Surname\", \"Surname\", label=\"Surname\")\n",
    "compare_cl.exact(\"Party\", \"Party\", label=\"Party\")\n",
    "features = compare_cl.compute(candidate_links, df, df_mp)\n",
    "len(features[(features['FirstnameExact']==1) & (features['Surname']==1)])"
   ]
  },
  {
   "cell_type": "code",
   "execution_count": 22,
   "id": "a80a366a",
   "metadata": {},
   "outputs": [
    {
     "data": {
      "text/plain": [
       "328"
      ]
     },
     "execution_count": 22,
     "metadata": {},
     "output_type": "execute_result"
    }
   ],
   "source": [
    "# Numbeer of jarowinkler matches\n",
    "\n",
    "len(features[(features['FirstnameJaro']==1) & (features['Surname']==1)])"
   ]
  },
  {
   "cell_type": "code",
   "execution_count": 23,
   "id": "ca9374ff",
   "metadata": {},
   "outputs": [
    {
     "data": {
      "text/html": [
       "<div>\n",
       "<style scoped>\n",
       "    .dataframe tbody tr th:only-of-type {\n",
       "        vertical-align: middle;\n",
       "    }\n",
       "\n",
       "    .dataframe tbody tr th {\n",
       "        vertical-align: top;\n",
       "    }\n",
       "\n",
       "    .dataframe thead th {\n",
       "        text-align: right;\n",
       "    }\n",
       "</style>\n",
       "<table border=\"1\" class=\"dataframe\">\n",
       "  <thead>\n",
       "    <tr style=\"text-align: right;\">\n",
       "      <th></th>\n",
       "      <th></th>\n",
       "      <th>FirstnameJaro</th>\n",
       "      <th>FirstnameExact</th>\n",
       "      <th>Surname</th>\n",
       "      <th>Party</th>\n",
       "    </tr>\n",
       "  </thead>\n",
       "  <tbody>\n",
       "    <tr>\n",
       "      <th>108</th>\n",
       "      <th>107</th>\n",
       "      <td>1.0</td>\n",
       "      <td>0</td>\n",
       "      <td>1</td>\n",
       "      <td>1</td>\n",
       "    </tr>\n",
       "    <tr>\n",
       "      <th>181</th>\n",
       "      <th>159</th>\n",
       "      <td>1.0</td>\n",
       "      <td>0</td>\n",
       "      <td>1</td>\n",
       "      <td>0</td>\n",
       "    </tr>\n",
       "    <tr>\n",
       "      <th>312</th>\n",
       "      <th>602</th>\n",
       "      <td>1.0</td>\n",
       "      <td>0</td>\n",
       "      <td>1</td>\n",
       "      <td>1</td>\n",
       "    </tr>\n",
       "    <tr>\n",
       "      <th>382</th>\n",
       "      <th>151</th>\n",
       "      <td>1.0</td>\n",
       "      <td>0</td>\n",
       "      <td>1</td>\n",
       "      <td>1</td>\n",
       "    </tr>\n",
       "  </tbody>\n",
       "</table>\n",
       "</div>"
      ],
      "text/plain": [
       "         FirstnameJaro  FirstnameExact  Surname  Party\n",
       "108 107            1.0               0        1      1\n",
       "181 159            1.0               0        1      0\n",
       "312 602            1.0               0        1      1\n",
       "382 151            1.0               0        1      1"
      ]
     },
     "execution_count": 23,
     "metadata": {},
     "output_type": "execute_result"
    }
   ],
   "source": [
    "# Features match table for non exact matches\n",
    "\n",
    "features[(features['FirstnameExact']!=1) & (features['FirstnameJaro']==1) & (features['Surname']==1)]"
   ]
  },
  {
   "cell_type": "code",
   "execution_count": 24,
   "id": "09dde285",
   "metadata": {},
   "outputs": [
    {
     "data": {
      "text/plain": [
       "Firstname                         TOM\n",
       "Surname                     TUGENDHAT\n",
       "Party                    CONSERVATIVE\n",
       "Constituency    TONBRIDGE AND MALLING\n",
       "unique_id                         312\n",
       "Name: 312, dtype: object"
      ]
     },
     "execution_count": 24,
     "metadata": {},
     "output_type": "execute_result"
    }
   ],
   "source": [
    "df.iloc[312]"
   ]
  },
  {
   "cell_type": "code",
   "execution_count": 25,
   "id": "22880ea1",
   "metadata": {},
   "outputs": [
    {
     "data": {
      "text/plain": [
       "Firstname                      THOMAS\n",
       "Surname                     TUGENDHAT\n",
       "Party                    CONSERVATIVE\n",
       "Constituency    TONBRIDGE AND MALLING\n",
       "unique_id                         602\n",
       "Name: 602, dtype: object"
      ]
     },
     "execution_count": 25,
     "metadata": {},
     "output_type": "execute_result"
    }
   ],
   "source": [
    "df_mp.iloc[602]"
   ]
  },
  {
   "cell_type": "code",
   "execution_count": null,
   "id": "ee9a273f",
   "metadata": {},
   "outputs": [],
   "source": []
  }
 ],
 "metadata": {
  "kernelspec": {
   "display_name": "Python 3 (ipykernel)",
   "language": "python",
   "name": "python3"
  },
  "language_info": {
   "codemirror_mode": {
    "name": "ipython",
    "version": 3
   },
   "file_extension": ".py",
   "mimetype": "text/x-python",
   "name": "python",
   "nbconvert_exporter": "python",
   "pygments_lexer": "ipython3",
   "version": "3.7.4"
  }
 },
 "nbformat": 4,
 "nbformat_minor": 5
}
