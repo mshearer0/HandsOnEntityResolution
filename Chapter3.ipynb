{
 "cells": [
  {
   "cell_type": "code",
<<<<<<< HEAD
   "execution_count": 1,
=======
   "execution_count": 2,
>>>>>>> main
   "id": "57030964",
   "metadata": {},
   "outputs": [],
   "source": [
    "#%pip install jellyfish\n",
    "import jellyfish as jf"
   ]
  },
  {
   "cell_type": "code",
   "execution_count": 2,
   "id": "97782486",
   "metadata": {},
   "outputs": [
    {
     "data": {
      "text/plain": [
       "2"
      ]
     },
     "execution_count": 2,
     "metadata": {},
     "output_type": "execute_result"
    }
   ],
   "source": [
    "jf.levenshtein_distance('Michael','Micheal')"
   ]
  },
  {
   "cell_type": "code",
   "execution_count": 3,
   "id": "294e778a",
   "metadata": {},
   "outputs": [
    {
     "data": {
      "text/plain": [
       "1"
      ]
     },
     "execution_count": 3,
     "metadata": {},
     "output_type": "execute_result"
    }
   ],
   "source": [
    "min(jf.levenshtein_distance('el','ael'), jf.levenshtein_distance('ael','al'), jf.levenshtein_distance('el','al'))"
   ]
  },
  {
   "cell_type": "code",
   "execution_count": 4,
   "id": "b5ab5b2c",
   "metadata": {
    "scrolled": true
   },
   "outputs": [
    {
     "data": {
      "text/plain": [
       "0.9523809523809524"
      ]
     },
     "execution_count": 4,
     "metadata": {},
     "output_type": "execute_result"
    }
   ],
   "source": [
    "jf.jaro_similarity('Michael','Micheal')"
   ]
  },
  {
   "cell_type": "code",
   "execution_count": 5,
   "id": "73b6035b",
   "metadata": {},
   "outputs": [
    {
     "data": {
      "text/plain": [
       "0.9714285714285714"
      ]
     },
     "execution_count": 5,
     "metadata": {},
     "output_type": "execute_result"
    }
   ],
   "source": [
    "jf.jaro_winkler_similarity('Michael','Micheal')"
   ]
  },
  {
   "cell_type": "code",
   "execution_count": 6,
   "id": "f78d57bb",
   "metadata": {},
   "outputs": [
    {
     "data": {
      "text/plain": [
       "0.0"
      ]
     },
     "execution_count": 6,
     "metadata": {},
     "output_type": "execute_result"
    }
   ],
   "source": [
    "jf.jaro_winkler_similarity('michael','MICHAEL')"
   ]
  },
  {
   "cell_type": "code",
   "execution_count": 7,
   "id": "34e1a7bc",
   "metadata": {},
   "outputs": [
    {
     "data": {
      "text/plain": [
       "1.0"
      ]
     },
     "execution_count": 7,
     "metadata": {},
     "output_type": "execute_result"
    }
   ],
   "source": [
    "jf.jaro_winkler_similarity('michael'.lower(),'MICHAEL'.lower())"
   ]
  },
  {
   "cell_type": "code",
<<<<<<< HEAD
   "execution_count": 8,
=======
   "execution_count": 16,
>>>>>>> main
   "id": "c509f40d",
   "metadata": {},
   "outputs": [
    {
     "data": {
      "text/plain": [
       "'MXL'"
      ]
     },
<<<<<<< HEAD
     "execution_count": 8,
=======
     "execution_count": 16,
>>>>>>> main
     "metadata": {},
     "output_type": "execute_result"
    }
   ],
   "source": [
    "jf.metaphone('michael')"
   ]
  },
  {
   "cell_type": "code",
<<<<<<< HEAD
   "execution_count": 9,
=======
   "execution_count": 17,
>>>>>>> main
   "id": "e8dc55e2",
   "metadata": {},
   "outputs": [
    {
     "data": {
      "text/plain": [
       "'MXL'"
      ]
     },
<<<<<<< HEAD
     "execution_count": 9,
=======
     "execution_count": 17,
>>>>>>> main
     "metadata": {},
     "output_type": "execute_result"
    }
   ],
   "source": [
    "jf.metaphone('micheal')"
   ]
  },
  {
   "cell_type": "code",
<<<<<<< HEAD
   "execution_count": 10,
=======
   "execution_count": 4,
>>>>>>> main
   "id": "0c882782",
   "metadata": {},
   "outputs": [],
   "source": [
    "import pandas as pd"
   ]
  },
  {
   "cell_type": "code",
<<<<<<< HEAD
   "execution_count": 11,
=======
   "execution_count": 12,
>>>>>>> main
   "id": "11c52432",
   "metadata": {},
   "outputs": [],
   "source": [
    "mylist = ['Michael','Micheal','Michel','Mike','Mick']"
   ]
  },
  {
   "cell_type": "code",
<<<<<<< HEAD
   "execution_count": 12,
=======
   "execution_count": 13,
>>>>>>> main
   "id": "ab2f2a53",
   "metadata": {},
   "outputs": [
    {
     "data": {
      "text/html": [
       "<div>\n",
       "<style scoped>\n",
       "    .dataframe tbody tr th:only-of-type {\n",
       "        vertical-align: middle;\n",
       "    }\n",
       "\n",
       "    .dataframe tbody tr th {\n",
       "        vertical-align: top;\n",
       "    }\n",
       "\n",
       "    .dataframe thead th {\n",
       "        text-align: right;\n",
       "    }\n",
       "</style>\n",
       "<table border=\"1\" class=\"dataframe\">\n",
       "  <thead>\n",
       "    <tr style=\"text-align: right;\">\n",
       "      <th></th>\n",
       "      <th>Name1</th>\n",
       "      <th>Name2</th>\n",
       "      <th>Jaro</th>\n",
       "      <th>JaroW</th>\n",
       "      <th>Levenshtein</th>\n",
       "      <th>MRA</th>\n",
       "      <th>Soundex</th>\n",
       "    </tr>\n",
       "  </thead>\n",
       "  <tbody>\n",
       "    <tr>\n",
       "      <th>0</th>\n",
       "      <td>Michael</td>\n",
       "      <td>Micheal</td>\n",
       "      <td>0.952381</td>\n",
       "      <td>0.971429</td>\n",
       "      <td>2</td>\n",
       "      <td>True</td>\n",
       "      <td>True</td>\n",
       "    </tr>\n",
       "    <tr>\n",
       "      <th>1</th>\n",
       "      <td>Michael</td>\n",
       "      <td>Michel</td>\n",
       "      <td>0.952381</td>\n",
       "      <td>0.971429</td>\n",
       "      <td>1</td>\n",
       "      <td>True</td>\n",
       "      <td>True</td>\n",
       "    </tr>\n",
       "    <tr>\n",
       "      <th>2</th>\n",
       "      <td>Michael</td>\n",
       "      <td>Mike</td>\n",
       "      <td>0.726190</td>\n",
       "      <td>0.780952</td>\n",
       "      <td>4</td>\n",
       "      <td>False</td>\n",
       "      <td>False</td>\n",
       "    </tr>\n",
       "    <tr>\n",
       "      <th>3</th>\n",
       "      <td>Michael</td>\n",
       "      <td>Mick</td>\n",
       "      <td>0.726190</td>\n",
       "      <td>0.808333</td>\n",
       "      <td>4</td>\n",
       "      <td>True</td>\n",
       "      <td>False</td>\n",
       "    </tr>\n",
       "    <tr>\n",
       "      <th>4</th>\n",
       "      <td>Micheal</td>\n",
       "      <td>Michel</td>\n",
       "      <td>0.952381</td>\n",
       "      <td>0.971429</td>\n",
       "      <td>1</td>\n",
       "      <td>True</td>\n",
       "      <td>True</td>\n",
       "    </tr>\n",
       "    <tr>\n",
       "      <th>5</th>\n",
       "      <td>Micheal</td>\n",
       "      <td>Mike</td>\n",
       "      <td>0.726190</td>\n",
       "      <td>0.780952</td>\n",
       "      <td>4</td>\n",
       "      <td>False</td>\n",
       "      <td>False</td>\n",
       "    </tr>\n",
       "    <tr>\n",
       "      <th>6</th>\n",
       "      <td>Micheal</td>\n",
       "      <td>Mick</td>\n",
       "      <td>0.726190</td>\n",
       "      <td>0.808333</td>\n",
       "      <td>4</td>\n",
       "      <td>True</td>\n",
       "      <td>False</td>\n",
       "    </tr>\n",
       "    <tr>\n",
       "      <th>7</th>\n",
       "      <td>Michel</td>\n",
       "      <td>Mike</td>\n",
       "      <td>0.750000</td>\n",
       "      <td>0.800000</td>\n",
       "      <td>3</td>\n",
       "      <td>False</td>\n",
       "      <td>False</td>\n",
       "    </tr>\n",
       "    <tr>\n",
       "      <th>8</th>\n",
       "      <td>Michel</td>\n",
       "      <td>Mick</td>\n",
       "      <td>0.750000</td>\n",
       "      <td>0.825000</td>\n",
       "      <td>3</td>\n",
       "      <td>True</td>\n",
       "      <td>False</td>\n",
       "    </tr>\n",
       "    <tr>\n",
       "      <th>9</th>\n",
       "      <td>Mike</td>\n",
       "      <td>Mick</td>\n",
       "      <td>0.833333</td>\n",
       "      <td>0.866667</td>\n",
       "      <td>2</td>\n",
       "      <td>True</td>\n",
       "      <td>True</td>\n",
       "    </tr>\n",
       "  </tbody>\n",
       "</table>\n",
       "</div>"
      ],
      "text/plain": [
       "     Name1    Name2      Jaro     JaroW  Levenshtein    MRA  Soundex\n",
       "0  Michael  Micheal  0.952381  0.971429            2   True     True\n",
       "1  Michael   Michel  0.952381  0.971429            1   True     True\n",
       "2  Michael     Mike  0.726190  0.780952            4  False    False\n",
       "3  Michael     Mick  0.726190  0.808333            4   True    False\n",
       "4  Micheal   Michel  0.952381  0.971429            1   True     True\n",
       "5  Micheal     Mike  0.726190  0.780952            4  False    False\n",
       "6  Micheal     Mick  0.726190  0.808333            4   True    False\n",
       "7   Michel     Mike  0.750000  0.800000            3  False    False\n",
       "8   Michel     Mick  0.750000  0.825000            3   True    False\n",
       "9     Mike     Mick  0.833333  0.866667            2   True     True"
      ]
     },
<<<<<<< HEAD
     "execution_count": 12,
=======
     "execution_count": 13,
>>>>>>> main
     "metadata": {},
     "output_type": "execute_result"
    }
   ],
   "source": [
    "combs = []\n",
    "import itertools\n",
    "for a, b in itertools.combinations(mylist, 2):\n",
    "    combs.append([a,b,jf.jaro_similarity(a,b),jf.jaro_winkler_similarity(a, b), jf.levenshtein_distance(a,b), jf.match_rating_comparison(a,b),(jf.soundex(a)==jf.soundex(b))])\n",
    "pd.DataFrame(combs, columns=['Name1','Name2','Jaro','JaroW','Levenshtein','MRA','Soundex'])"
   ]
  },
  {
   "cell_type": "code",
<<<<<<< HEAD
   "execution_count": 13,
=======
   "execution_count": 5,
>>>>>>> main
   "id": "c511d5e5",
   "metadata": {},
   "outputs": [
    {
     "data": {
      "text/html": [
       "<div>\n",
       "<style scoped>\n",
       "    .dataframe tbody tr th:only-of-type {\n",
       "        vertical-align: middle;\n",
       "    }\n",
       "\n",
       "    .dataframe tbody tr th {\n",
       "        vertical-align: top;\n",
       "    }\n",
       "\n",
       "    .dataframe thead th {\n",
       "        text-align: right;\n",
       "    }\n",
       "</style>\n",
       "<table border=\"1\" class=\"dataframe\">\n",
       "  <thead>\n",
       "    <tr style=\"text-align: right;\">\n",
       "      <th></th>\n",
       "      <th>Constituency</th>\n",
<<<<<<< HEAD
       "      <th>Fullname</th>\n",
       "      <th>Notes</th>\n",
       "      <th>Firstname_w</th>\n",
       "      <th>Lastname_w</th>\n",
       "      <th>Firstname_t</th>\n",
       "      <th>Lastname_t</th>\n",
       "      <th>Flink</th>\n",
=======
       "      <th>Firstname_x</th>\n",
       "      <th>Lastname_x</th>\n",
       "      <th>Firstname_y</th>\n",
       "      <th>Lastname_y</th>\n",
>>>>>>> main
       "    </tr>\n",
       "  </thead>\n",
       "  <tbody>\n",
       "    <tr>\n",
       "      <th>0</th>\n",
       "      <td>Burton</td>\n",
<<<<<<< HEAD
       "      <td>Kate Griffiths</td>\n",
       "      <td>Previous incumbent, Andrew Griffiths, did not ...</td>\n",
=======
>>>>>>> main
       "      <td>Kate</td>\n",
       "      <td>Griffiths</td>\n",
       "      <td>Kate</td>\n",
       "      <td>Kniveton</td>\n",
<<<<<<< HEAD
       "      <td>NaN</td>\n",
=======
>>>>>>> main
       "    </tr>\n",
       "    <tr>\n",
       "      <th>1</th>\n",
       "      <td>Central Suffolk and North Ipswich</td>\n",
<<<<<<< HEAD
       "      <td>Dan Poulter</td>\n",
       "      <td>Seat held\\n</td>\n",
=======
>>>>>>> main
       "      <td>Dan</td>\n",
       "      <td>Poulter</td>\n",
       "      <td>Daniel</td>\n",
       "      <td>Poulter</td>\n",
<<<<<<< HEAD
       "      <td>NaN</td>\n",
=======
>>>>>>> main
       "    </tr>\n",
       "    <tr>\n",
       "      <th>2</th>\n",
       "      <td>Newton Abbot</td>\n",
<<<<<<< HEAD
       "      <td>Anne Marie Morris</td>\n",
       "      <td>Seat held\\n</td>\n",
=======
>>>>>>> main
       "      <td>Anne</td>\n",
       "      <td>Marie Morris</td>\n",
       "      <td>Anne</td>\n",
       "      <td>Morris</td>\n",
<<<<<<< HEAD
       "      <td>https://facebook.com/annemarie.morris.NA</td>\n",
=======
>>>>>>> main
       "    </tr>\n",
       "    <tr>\n",
       "      <th>3</th>\n",
       "      <td>North Antrim</td>\n",
<<<<<<< HEAD
       "      <td>Ian Paisley</td>\n",
       "      <td>Seat held\\n</td>\n",
=======
>>>>>>> main
       "      <td>Ian</td>\n",
       "      <td>Paisley</td>\n",
       "      <td>Ian</td>\n",
       "      <td>Paisley Jnr</td>\n",
<<<<<<< HEAD
       "      <td>NaN</td>\n",
=======
>>>>>>> main
       "    </tr>\n",
       "    <tr>\n",
       "      <th>4</th>\n",
       "      <td>Slough</td>\n",
<<<<<<< HEAD
       "      <td>Tanmanjeet Dhesi</td>\n",
       "      <td>Seat held\\n</td>\n",
=======
>>>>>>> main
       "      <td>Tanmanjeet</td>\n",
       "      <td>Dhesi</td>\n",
       "      <td>Tan</td>\n",
       "      <td>Dhesi</td>\n",
<<<<<<< HEAD
       "      <td>https://facebook.com/tandhesi</td>\n",
=======
>>>>>>> main
       "    </tr>\n",
       "    <tr>\n",
       "      <th>5</th>\n",
       "      <td>South Down</td>\n",
<<<<<<< HEAD
       "      <td>Chris Hazzard</td>\n",
       "      <td>Seat held\\n</td>\n",
=======
>>>>>>> main
       "      <td>Chris</td>\n",
       "      <td>Hazzard</td>\n",
       "      <td>Christopher</td>\n",
       "      <td>Hazzard</td>\n",
<<<<<<< HEAD
       "      <td>https://facebook.com/chris.hazzard.77</td>\n",
=======
>>>>>>> main
       "    </tr>\n",
       "    <tr>\n",
       "      <th>6</th>\n",
       "      <td>South West Norfolk</td>\n",
<<<<<<< HEAD
       "      <td>Liz Truss</td>\n",
       "      <td>Seat held\\n</td>\n",
=======
>>>>>>> main
       "      <td>Liz</td>\n",
       "      <td>Truss</td>\n",
       "      <td>Elizabeth</td>\n",
       "      <td>Truss</td>\n",
<<<<<<< HEAD
       "      <td>https://facebook.com/ElizabethTrussSWNorfolk</td>\n",
=======
>>>>>>> main
       "    </tr>\n",
       "    <tr>\n",
       "      <th>7</th>\n",
       "      <td>Wealden</td>\n",
<<<<<<< HEAD
       "      <td>Nus Ghani</td>\n",
       "      <td>Seat held\\n</td>\n",
=======
>>>>>>> main
       "      <td>Nus</td>\n",
       "      <td>Ghani</td>\n",
       "      <td>Nusrat</td>\n",
       "      <td>Ghani</td>\n",
<<<<<<< HEAD
       "      <td>https://facebook.com/NusGhaniofficial</td>\n",
=======
>>>>>>> main
       "    </tr>\n",
       "    <tr>\n",
       "      <th>8</th>\n",
       "      <td>West Dunbartonshire</td>\n",
<<<<<<< HEAD
       "      <td>Martin Docherty-Hughes</td>\n",
       "      <td>Seat held\\n</td>\n",
=======
>>>>>>> main
       "      <td>Martin</td>\n",
       "      <td>Docherty-Hughes</td>\n",
       "      <td>Martin</td>\n",
       "      <td>Docherty</td>\n",
<<<<<<< HEAD
       "      <td>https://facebook.com/MartinDochertySNP</td>\n",
=======
>>>>>>> main
       "    </tr>\n",
       "  </tbody>\n",
       "</table>\n",
       "</div>"
      ],
      "text/plain": [
<<<<<<< HEAD
       "                        Constituency                Fullname  \\\n",
       "0                             Burton          Kate Griffiths   \n",
       "1  Central Suffolk and North Ipswich             Dan Poulter   \n",
       "2                       Newton Abbot       Anne Marie Morris   \n",
       "3                       North Antrim             Ian Paisley   \n",
       "4                             Slough        Tanmanjeet Dhesi   \n",
       "5                         South Down           Chris Hazzard   \n",
       "6                 South West Norfolk               Liz Truss   \n",
       "7                            Wealden               Nus Ghani   \n",
       "8                West Dunbartonshire  Martin Docherty-Hughes   \n",
       "\n",
       "                                               Notes Firstname_w  \\\n",
       "0  Previous incumbent, Andrew Griffiths, did not ...        Kate   \n",
       "1                                        Seat held\\n         Dan   \n",
       "2                                        Seat held\\n        Anne   \n",
       "3                                        Seat held\\n         Ian   \n",
       "4                                        Seat held\\n  Tanmanjeet   \n",
       "5                                        Seat held\\n       Chris   \n",
       "6                                        Seat held\\n         Liz   \n",
       "7                                        Seat held\\n         Nus   \n",
       "8                                        Seat held\\n      Martin   \n",
       "\n",
       "        Lastname_w  Firstname_t   Lastname_t  \\\n",
       "0        Griffiths         Kate     Kniveton   \n",
       "1          Poulter       Daniel      Poulter   \n",
       "2     Marie Morris         Anne       Morris   \n",
       "3          Paisley          Ian  Paisley Jnr   \n",
       "4            Dhesi          Tan        Dhesi   \n",
       "5          Hazzard  Christopher      Hazzard   \n",
       "6            Truss    Elizabeth        Truss   \n",
       "7            Ghani       Nusrat        Ghani   \n",
       "8  Docherty-Hughes       Martin     Docherty   \n",
       "\n",
       "                                          Flink  \n",
       "0                                           NaN  \n",
       "1                                           NaN  \n",
       "2      https://facebook.com/annemarie.morris.NA  \n",
       "3                                           NaN  \n",
       "4                 https://facebook.com/tandhesi  \n",
       "5         https://facebook.com/chris.hazzard.77  \n",
       "6  https://facebook.com/ElizabethTrussSWNorfolk  \n",
       "7         https://facebook.com/NusGhaniofficial  \n",
       "8        https://facebook.com/MartinDochertySNP  "
      ]
     },
     "execution_count": 13,
=======
       "                        Constituency Firstname_x       Lastname_x  \\\n",
       "0                             Burton        Kate        Griffiths   \n",
       "1  Central Suffolk and North Ipswich         Dan          Poulter   \n",
       "2                       Newton Abbot        Anne     Marie Morris   \n",
       "3                       North Antrim         Ian          Paisley   \n",
       "4                             Slough  Tanmanjeet            Dhesi   \n",
       "5                         South Down       Chris          Hazzard   \n",
       "6                 South West Norfolk         Liz            Truss   \n",
       "7                            Wealden         Nus            Ghani   \n",
       "8                West Dunbartonshire      Martin  Docherty-Hughes   \n",
       "\n",
       "   Firstname_y   Lastname_y  \n",
       "0         Kate     Kniveton  \n",
       "1       Daniel      Poulter  \n",
       "2         Anne       Morris  \n",
       "3          Ian  Paisley Jnr  \n",
       "4          Tan        Dhesi  \n",
       "5  Christopher      Hazzard  \n",
       "6    Elizabeth        Truss  \n",
       "7       Nusrat        Ghani  \n",
       "8       Martin     Docherty  "
      ]
     },
     "execution_count": 5,
>>>>>>> main
     "metadata": {},
     "output_type": "execute_result"
    }
   ],
   "source": [
<<<<<<< HEAD
    "df_w_un = pd.read_csv('mps_unmatched.csv')\n",
    "df_w_un"
=======
    "df_mp_un = pd.read_csv('mps_unmatched.csv')\n",
    "df_mp_un"
>>>>>>> main
   ]
  },
  {
   "cell_type": "code",
<<<<<<< HEAD
   "execution_count": 14,
=======
   "execution_count": 12,
>>>>>>> main
   "id": "c9b7cdf7",
   "metadata": {},
   "outputs": [],
   "source": [
<<<<<<< HEAD
    "df_w_un['Firstname_jaro'] = df_w_un.apply(lambda x: jf.jaro_winkler_similarity(x.Firstname_w, x.Firstname_t), axis=1)\n",
    "df_w_un['Lastname_jaro'] = df_w_un.apply(lambda x: jf.jaro_winkler_similarity(x.Lastname_w, x.Lastname_t), axis=1)"
=======
    "df_mp_un['Firstname_jaro'] = df_mp_un.apply(lambda x: jf.jaro_winkler_similarity(x.Firstname_x, x.Firstname_y), axis=1)\n",
    "df_mp_un['Lastname_jaro'] = df_mp_un.apply(lambda x: jf.jaro_winkler_similarity(x.Lastname_x, x.Lastname_y), axis=1)"
>>>>>>> main
   ]
  },
  {
   "cell_type": "code",
<<<<<<< HEAD
   "execution_count": 15,
   "id": "09ad6064",
   "metadata": {
    "scrolled": false
   },
=======
   "execution_count": 13,
   "id": "09ad6064",
   "metadata": {},
>>>>>>> main
   "outputs": [
    {
     "data": {
      "text/html": [
       "<div>\n",
       "<style scoped>\n",
       "    .dataframe tbody tr th:only-of-type {\n",
       "        vertical-align: middle;\n",
       "    }\n",
       "\n",
       "    .dataframe tbody tr th {\n",
       "        vertical-align: top;\n",
       "    }\n",
       "\n",
       "    .dataframe thead th {\n",
       "        text-align: right;\n",
       "    }\n",
       "</style>\n",
       "<table border=\"1\" class=\"dataframe\">\n",
       "  <thead>\n",
       "    <tr style=\"text-align: right;\">\n",
       "      <th></th>\n",
       "      <th>Constituency</th>\n",
<<<<<<< HEAD
       "      <th>Fullname</th>\n",
       "      <th>Notes</th>\n",
       "      <th>Firstname_w</th>\n",
       "      <th>Lastname_w</th>\n",
       "      <th>Firstname_t</th>\n",
       "      <th>Lastname_t</th>\n",
       "      <th>Flink</th>\n",
=======
       "      <th>Firstname_x</th>\n",
       "      <th>Lastname_x</th>\n",
       "      <th>Firstname_y</th>\n",
       "      <th>Lastname_y</th>\n",
>>>>>>> main
       "      <th>Firstname_jaro</th>\n",
       "      <th>Lastname_jaro</th>\n",
       "    </tr>\n",
       "  </thead>\n",
       "  <tbody>\n",
       "    <tr>\n",
       "      <th>1</th>\n",
       "      <td>Central Suffolk and North Ipswich</td>\n",
<<<<<<< HEAD
       "      <td>Dan Poulter</td>\n",
       "      <td>Seat held\\n</td>\n",
=======
>>>>>>> main
       "      <td>Dan</td>\n",
       "      <td>Poulter</td>\n",
       "      <td>Daniel</td>\n",
       "      <td>Poulter</td>\n",
<<<<<<< HEAD
       "      <td>NaN</td>\n",
=======
>>>>>>> main
       "      <td>0.883333</td>\n",
       "      <td>1.000000</td>\n",
       "    </tr>\n",
       "    <tr>\n",
       "      <th>3</th>\n",
       "      <td>North Antrim</td>\n",
<<<<<<< HEAD
       "      <td>Ian Paisley</td>\n",
       "      <td>Seat held\\n</td>\n",
=======
>>>>>>> main
       "      <td>Ian</td>\n",
       "      <td>Paisley</td>\n",
       "      <td>Ian</td>\n",
       "      <td>Paisley Jnr</td>\n",
<<<<<<< HEAD
       "      <td>NaN</td>\n",
=======
>>>>>>> main
       "      <td>1.000000</td>\n",
       "      <td>0.927273</td>\n",
       "    </tr>\n",
       "    <tr>\n",
       "      <th>4</th>\n",
       "      <td>Slough</td>\n",
<<<<<<< HEAD
       "      <td>Tanmanjeet Dhesi</td>\n",
       "      <td>Seat held\\n</td>\n",
=======
>>>>>>> main
       "      <td>Tanmanjeet</td>\n",
       "      <td>Dhesi</td>\n",
       "      <td>Tan</td>\n",
       "      <td>Dhesi</td>\n",
<<<<<<< HEAD
       "      <td>https://facebook.com/tandhesi</td>\n",
=======
>>>>>>> main
       "      <td>0.836667</td>\n",
       "      <td>1.000000</td>\n",
       "    </tr>\n",
       "    <tr>\n",
       "      <th>5</th>\n",
       "      <td>South Down</td>\n",
<<<<<<< HEAD
       "      <td>Chris Hazzard</td>\n",
       "      <td>Seat held\\n</td>\n",
=======
>>>>>>> main
       "      <td>Chris</td>\n",
       "      <td>Hazzard</td>\n",
       "      <td>Christopher</td>\n",
       "      <td>Hazzard</td>\n",
<<<<<<< HEAD
       "      <td>https://facebook.com/chris.hazzard.77</td>\n",
=======
>>>>>>> main
       "      <td>0.890909</td>\n",
       "      <td>1.000000</td>\n",
       "    </tr>\n",
       "    <tr>\n",
       "      <th>7</th>\n",
       "      <td>Wealden</td>\n",
<<<<<<< HEAD
       "      <td>Nus Ghani</td>\n",
       "      <td>Seat held\\n</td>\n",
=======
>>>>>>> main
       "      <td>Nus</td>\n",
       "      <td>Ghani</td>\n",
       "      <td>Nusrat</td>\n",
       "      <td>Ghani</td>\n",
<<<<<<< HEAD
       "      <td>https://facebook.com/NusGhaniofficial</td>\n",
=======
>>>>>>> main
       "      <td>0.883333</td>\n",
       "      <td>1.000000</td>\n",
       "    </tr>\n",
       "    <tr>\n",
       "      <th>8</th>\n",
       "      <td>West Dunbartonshire</td>\n",
<<<<<<< HEAD
       "      <td>Martin Docherty-Hughes</td>\n",
       "      <td>Seat held\\n</td>\n",
=======
>>>>>>> main
       "      <td>Martin</td>\n",
       "      <td>Docherty-Hughes</td>\n",
       "      <td>Martin</td>\n",
       "      <td>Docherty</td>\n",
<<<<<<< HEAD
       "      <td>https://facebook.com/MartinDochertySNP</td>\n",
=======
>>>>>>> main
       "      <td>1.000000</td>\n",
       "      <td>0.906667</td>\n",
       "    </tr>\n",
       "  </tbody>\n",
       "</table>\n",
       "</div>"
      ],
      "text/plain": [
<<<<<<< HEAD
       "                        Constituency                Fullname        Notes  \\\n",
       "1  Central Suffolk and North Ipswich             Dan Poulter  Seat held\\n   \n",
       "3                       North Antrim             Ian Paisley  Seat held\\n   \n",
       "4                             Slough        Tanmanjeet Dhesi  Seat held\\n   \n",
       "5                         South Down           Chris Hazzard  Seat held\\n   \n",
       "7                            Wealden               Nus Ghani  Seat held\\n   \n",
       "8                West Dunbartonshire  Martin Docherty-Hughes  Seat held\\n   \n",
       "\n",
       "  Firstname_w       Lastname_w  Firstname_t   Lastname_t  \\\n",
       "1         Dan          Poulter       Daniel      Poulter   \n",
       "3         Ian          Paisley          Ian  Paisley Jnr   \n",
       "4  Tanmanjeet            Dhesi          Tan        Dhesi   \n",
       "5       Chris          Hazzard  Christopher      Hazzard   \n",
       "7         Nus            Ghani       Nusrat        Ghani   \n",
       "8      Martin  Docherty-Hughes       Martin     Docherty   \n",
       "\n",
       "                                    Flink  Firstname_jaro  Lastname_jaro  \n",
       "1                                     NaN        0.883333       1.000000  \n",
       "3                                     NaN        1.000000       0.927273  \n",
       "4           https://facebook.com/tandhesi        0.836667       1.000000  \n",
       "5   https://facebook.com/chris.hazzard.77        0.890909       1.000000  \n",
       "7   https://facebook.com/NusGhaniofficial        0.883333       1.000000  \n",
       "8  https://facebook.com/MartinDochertySNP        1.000000       0.906667  "
      ]
     },
     "execution_count": 15,
=======
       "                        Constituency Firstname_x       Lastname_x  \\\n",
       "1  Central Suffolk and North Ipswich         Dan          Poulter   \n",
       "3                       North Antrim         Ian          Paisley   \n",
       "4                             Slough  Tanmanjeet            Dhesi   \n",
       "5                         South Down       Chris          Hazzard   \n",
       "7                            Wealden         Nus            Ghani   \n",
       "8                West Dunbartonshire      Martin  Docherty-Hughes   \n",
       "\n",
       "   Firstname_y   Lastname_y  Firstname_jaro  Lastname_jaro  \n",
       "1       Daniel      Poulter        0.883333       1.000000  \n",
       "3          Ian  Paisley Jnr        1.000000       0.927273  \n",
       "4          Tan        Dhesi        0.836667       1.000000  \n",
       "5  Christopher      Hazzard        0.890909       1.000000  \n",
       "7       Nusrat        Ghani        0.883333       1.000000  \n",
       "8       Martin     Docherty        1.000000       0.906667  "
      ]
     },
     "execution_count": 13,
>>>>>>> main
     "metadata": {},
     "output_type": "execute_result"
    }
   ],
   "source": [
<<<<<<< HEAD
    "df_w_un[(df_w_un['Firstname_jaro'] > 0.8) & (df_w_un['Lastname_jaro'] > 0.8)]"
=======
    "df_mp_un[(df_mp_un['Firstname_jaro'] > 0.8) & (df_mp_un['Lastname_jaro'] > 0.8)]"
>>>>>>> main
   ]
  },
  {
   "cell_type": "code",
<<<<<<< HEAD
   "execution_count": 16,
=======
   "execution_count": 14,
>>>>>>> main
   "id": "bc59c5dc",
   "metadata": {},
   "outputs": [],
   "source": [
    "import pandas as pd\n",
    "\n",
<<<<<<< HEAD
    "df_w = pd.read_csv('mps_wiki_clean.csv')\n",
    "df_t = pd.read_csv('mps_they_clean.csv')\n",
    "\n",
    "cross = df_w.merge(df_t, how='cross',suffixes=('_w', '_t'))"
=======
    "df = pd.read_csv('mps_wiki_clean.csv')\n",
    "df_mp = pd.read_csv('mps_they_clean.csv')\n",
    "\n",
    "cross = df.merge(df_mp, how='cross',suffixes=('_w', '_t'))"
>>>>>>> main
   ]
  },
  {
   "cell_type": "code",
<<<<<<< HEAD
   "execution_count": 17,
=======
   "execution_count": 15,
>>>>>>> main
   "id": "c982dc8c",
   "metadata": {},
   "outputs": [
    {
     "data": {
      "text/html": [
       "<div>\n",
       "<style scoped>\n",
       "    .dataframe tbody tr th:only-of-type {\n",
       "        vertical-align: middle;\n",
       "    }\n",
       "\n",
       "    .dataframe tbody tr th {\n",
       "        vertical-align: top;\n",
       "    }\n",
       "\n",
       "    .dataframe thead th {\n",
       "        text-align: right;\n",
       "    }\n",
       "</style>\n",
       "<table border=\"1\" class=\"dataframe\">\n",
       "  <thead>\n",
       "    <tr style=\"text-align: right;\">\n",
       "      <th></th>\n",
       "      <th>Constituency_w</th>\n",
<<<<<<< HEAD
       "      <th>Fullname</th>\n",
       "      <th>Notes</th>\n",
=======
>>>>>>> main
       "      <th>Firstname_w</th>\n",
       "      <th>Lastname_w</th>\n",
       "      <th>Constituency_t</th>\n",
       "      <th>Firstname_t</th>\n",
       "      <th>Lastname_t</th>\n",
<<<<<<< HEAD
       "      <th>Flink</th>\n",
=======
>>>>>>> main
       "    </tr>\n",
       "  </thead>\n",
       "  <tbody>\n",
       "    <tr>\n",
       "      <th>0</th>\n",
       "      <td>Aberavon</td>\n",
<<<<<<< HEAD
       "      <td>Stephen Kinnock</td>\n",
       "      <td>Seat held\\n</td>\n",
=======
>>>>>>> main
       "      <td>Stephen</td>\n",
       "      <td>Kinnock</td>\n",
       "      <td>Hackney North and Stoke Newington</td>\n",
       "      <td>Diane</td>\n",
       "      <td>Abbott</td>\n",
<<<<<<< HEAD
       "      <td>https://facebook.com/Dianeabbott</td>\n",
=======
>>>>>>> main
       "    </tr>\n",
       "    <tr>\n",
       "      <th>1</th>\n",
       "      <td>Aberavon</td>\n",
<<<<<<< HEAD
       "      <td>Stephen Kinnock</td>\n",
       "      <td>Seat held\\n</td>\n",
=======
>>>>>>> main
       "      <td>Stephen</td>\n",
       "      <td>Kinnock</td>\n",
       "      <td>Oldham East and Saddleworth</td>\n",
       "      <td>Debbie</td>\n",
       "      <td>Abrahams</td>\n",
<<<<<<< HEAD
       "      <td>NaN</td>\n",
=======
>>>>>>> main
       "    </tr>\n",
       "    <tr>\n",
       "      <th>2</th>\n",
       "      <td>Aberavon</td>\n",
<<<<<<< HEAD
       "      <td>Stephen Kinnock</td>\n",
       "      <td>Seat held\\n</td>\n",
=======
>>>>>>> main
       "      <td>Stephen</td>\n",
       "      <td>Kinnock</td>\n",
       "      <td>Selby and Ainsty</td>\n",
       "      <td>Nigel</td>\n",
       "      <td>Adams</td>\n",
<<<<<<< HEAD
       "      <td>https://facebook.com/nigel.adamsmp</td>\n",
=======
>>>>>>> main
       "    </tr>\n",
       "    <tr>\n",
       "      <th>3</th>\n",
       "      <td>Aberavon</td>\n",
<<<<<<< HEAD
       "      <td>Stephen Kinnock</td>\n",
       "      <td>Seat held\\n</td>\n",
=======
>>>>>>> main
       "      <td>Stephen</td>\n",
       "      <td>Kinnock</td>\n",
       "      <td>Hitchin and Harpenden</td>\n",
       "      <td>Bim</td>\n",
       "      <td>Afolami</td>\n",
<<<<<<< HEAD
       "      <td>NaN</td>\n",
=======
>>>>>>> main
       "    </tr>\n",
       "    <tr>\n",
       "      <th>4</th>\n",
       "      <td>Aberavon</td>\n",
<<<<<<< HEAD
       "      <td>Stephen Kinnock</td>\n",
       "      <td>Seat held\\n</td>\n",
=======
>>>>>>> main
       "      <td>Stephen</td>\n",
       "      <td>Kinnock</td>\n",
       "      <td>Windsor</td>\n",
       "      <td>Adam</td>\n",
       "      <td>Afriyie</td>\n",
<<<<<<< HEAD
       "      <td>https://facebook.com/adamafriyieofficial</td>\n",
=======
>>>>>>> main
       "    </tr>\n",
       "  </tbody>\n",
       "</table>\n",
       "</div>"
      ],
      "text/plain": [
<<<<<<< HEAD
       "  Constituency_w         Fullname        Notes Firstname_w Lastname_w  \\\n",
       "0       Aberavon  Stephen Kinnock  Seat held\\n     Stephen    Kinnock   \n",
       "1       Aberavon  Stephen Kinnock  Seat held\\n     Stephen    Kinnock   \n",
       "2       Aberavon  Stephen Kinnock  Seat held\\n     Stephen    Kinnock   \n",
       "3       Aberavon  Stephen Kinnock  Seat held\\n     Stephen    Kinnock   \n",
       "4       Aberavon  Stephen Kinnock  Seat held\\n     Stephen    Kinnock   \n",
       "\n",
       "                      Constituency_t Firstname_t Lastname_t  \\\n",
       "0  Hackney North and Stoke Newington       Diane     Abbott   \n",
       "1        Oldham East and Saddleworth      Debbie   Abrahams   \n",
       "2                   Selby and Ainsty       Nigel      Adams   \n",
       "3              Hitchin and Harpenden         Bim    Afolami   \n",
       "4                            Windsor        Adam    Afriyie   \n",
       "\n",
       "                                      Flink  \n",
       "0          https://facebook.com/Dianeabbott  \n",
       "1                                       NaN  \n",
       "2        https://facebook.com/nigel.adamsmp  \n",
       "3                                       NaN  \n",
       "4  https://facebook.com/adamafriyieofficial  "
      ]
     },
     "execution_count": 17,
=======
       "  Constituency_w Firstname_w Lastname_w                     Constituency_t  \\\n",
       "0       Aberavon     Stephen    Kinnock  Hackney North and Stoke Newington   \n",
       "1       Aberavon     Stephen    Kinnock        Oldham East and Saddleworth   \n",
       "2       Aberavon     Stephen    Kinnock                   Selby and Ainsty   \n",
       "3       Aberavon     Stephen    Kinnock              Hitchin and Harpenden   \n",
       "4       Aberavon     Stephen    Kinnock                            Windsor   \n",
       "\n",
       "  Firstname_t Lastname_t  \n",
       "0       Diane     Abbott  \n",
       "1      Debbie   Abrahams  \n",
       "2       Nigel      Adams  \n",
       "3         Bim    Afolami  \n",
       "4        Adam    Afriyie  "
      ]
     },
     "execution_count": 15,
>>>>>>> main
     "metadata": {},
     "output_type": "execute_result"
    }
   ],
   "source": [
    "cross.head(n=5)"
   ]
  },
  {
   "cell_type": "code",
<<<<<<< HEAD
   "execution_count": 18,
   "id": "2104a348",
   "metadata": {},
   "outputs": [],
=======
   "execution_count": 16,
   "id": "2104a348",
   "metadata": {},
   "outputs": [
    {
     "ename": "KeyboardInterrupt",
     "evalue": "",
     "output_type": "error",
     "traceback": [
      "\u001b[1;31m---------------------------------------------------------------------------\u001b[0m",
      "\u001b[1;31mKeyboardInterrupt\u001b[0m                         Traceback (most recent call last)",
      "\u001b[1;32m~\\AppData\\Local\\Temp\\ipykernel_15076\\12258097.py\u001b[0m in \u001b[0;36m<module>\u001b[1;34m\u001b[0m\n\u001b[0;32m      1\u001b[0m \u001b[0mcross\u001b[0m\u001b[1;33m[\u001b[0m\u001b[1;34m'Firstname_jaro'\u001b[0m\u001b[1;33m]\u001b[0m \u001b[1;33m=\u001b[0m \u001b[0mcross\u001b[0m\u001b[1;33m.\u001b[0m\u001b[0mapply\u001b[0m\u001b[1;33m(\u001b[0m\u001b[1;32mlambda\u001b[0m \u001b[0mx\u001b[0m\u001b[1;33m:\u001b[0m \u001b[1;32mTrue\u001b[0m \u001b[1;32mif\u001b[0m \u001b[0mjf\u001b[0m\u001b[1;33m.\u001b[0m\u001b[0mjaro_winkler_similarity\u001b[0m\u001b[1;33m(\u001b[0m\u001b[0mx\u001b[0m\u001b[1;33m.\u001b[0m\u001b[0mFirstname_w\u001b[0m\u001b[1;33m,\u001b[0m \u001b[0mx\u001b[0m\u001b[1;33m.\u001b[0m\u001b[0mFirstname_t\u001b[0m\u001b[1;33m)\u001b[0m\u001b[1;33m>\u001b[0m\u001b[1;36m0.8\u001b[0m \u001b[1;32melse\u001b[0m \u001b[1;32mFalse\u001b[0m\u001b[1;33m,\u001b[0m \u001b[0maxis\u001b[0m\u001b[1;33m=\u001b[0m\u001b[1;36m1\u001b[0m\u001b[1;33m)\u001b[0m\u001b[1;33m\u001b[0m\u001b[1;33m\u001b[0m\u001b[0m\n\u001b[1;32m----> 2\u001b[1;33m \u001b[0mcross\u001b[0m\u001b[1;33m[\u001b[0m\u001b[1;34m'Lastname_jaro'\u001b[0m\u001b[1;33m]\u001b[0m \u001b[1;33m=\u001b[0m \u001b[0mcross\u001b[0m\u001b[1;33m.\u001b[0m\u001b[0mapply\u001b[0m\u001b[1;33m(\u001b[0m\u001b[1;32mlambda\u001b[0m \u001b[0mx\u001b[0m\u001b[1;33m:\u001b[0m \u001b[1;32mTrue\u001b[0m \u001b[1;32mif\u001b[0m \u001b[0mjf\u001b[0m\u001b[1;33m.\u001b[0m\u001b[0mjaro_winkler_similarity\u001b[0m\u001b[1;33m(\u001b[0m\u001b[0mx\u001b[0m\u001b[1;33m.\u001b[0m\u001b[0mLastname_w\u001b[0m\u001b[1;33m,\u001b[0m \u001b[0mx\u001b[0m\u001b[1;33m.\u001b[0m\u001b[0mLastname_t\u001b[0m\u001b[1;33m)\u001b[0m\u001b[1;33m>\u001b[0m\u001b[1;36m0.8\u001b[0m \u001b[1;32melse\u001b[0m \u001b[1;32mFalse\u001b[0m\u001b[1;33m,\u001b[0m \u001b[0maxis\u001b[0m\u001b[1;33m=\u001b[0m\u001b[1;36m1\u001b[0m\u001b[1;33m)\u001b[0m\u001b[1;33m\u001b[0m\u001b[1;33m\u001b[0m\u001b[0m\n\u001b[0m",
      "\u001b[1;32m~\\splink\\lib\\site-packages\\pandas\\core\\frame.py\u001b[0m in \u001b[0;36mapply\u001b[1;34m(self, func, axis, raw, result_type, args, **kwargs)\u001b[0m\n\u001b[0;32m   8738\u001b[0m             \u001b[0mkwargs\u001b[0m\u001b[1;33m=\u001b[0m\u001b[0mkwargs\u001b[0m\u001b[1;33m,\u001b[0m\u001b[1;33m\u001b[0m\u001b[1;33m\u001b[0m\u001b[0m\n\u001b[0;32m   8739\u001b[0m         )\n\u001b[1;32m-> 8740\u001b[1;33m         \u001b[1;32mreturn\u001b[0m \u001b[0mop\u001b[0m\u001b[1;33m.\u001b[0m\u001b[0mapply\u001b[0m\u001b[1;33m(\u001b[0m\u001b[1;33m)\u001b[0m\u001b[1;33m\u001b[0m\u001b[1;33m\u001b[0m\u001b[0m\n\u001b[0m\u001b[0;32m   8741\u001b[0m \u001b[1;33m\u001b[0m\u001b[0m\n\u001b[0;32m   8742\u001b[0m     def applymap(\n",
      "\u001b[1;32m~\\splink\\lib\\site-packages\\pandas\\core\\apply.py\u001b[0m in \u001b[0;36mapply\u001b[1;34m(self)\u001b[0m\n\u001b[0;32m    686\u001b[0m             \u001b[1;32mreturn\u001b[0m \u001b[0mself\u001b[0m\u001b[1;33m.\u001b[0m\u001b[0mapply_raw\u001b[0m\u001b[1;33m(\u001b[0m\u001b[1;33m)\u001b[0m\u001b[1;33m\u001b[0m\u001b[1;33m\u001b[0m\u001b[0m\n\u001b[0;32m    687\u001b[0m \u001b[1;33m\u001b[0m\u001b[0m\n\u001b[1;32m--> 688\u001b[1;33m         \u001b[1;32mreturn\u001b[0m \u001b[0mself\u001b[0m\u001b[1;33m.\u001b[0m\u001b[0mapply_standard\u001b[0m\u001b[1;33m(\u001b[0m\u001b[1;33m)\u001b[0m\u001b[1;33m\u001b[0m\u001b[1;33m\u001b[0m\u001b[0m\n\u001b[0m\u001b[0;32m    689\u001b[0m \u001b[1;33m\u001b[0m\u001b[0m\n\u001b[0;32m    690\u001b[0m     \u001b[1;32mdef\u001b[0m \u001b[0magg\u001b[0m\u001b[1;33m(\u001b[0m\u001b[0mself\u001b[0m\u001b[1;33m)\u001b[0m\u001b[1;33m:\u001b[0m\u001b[1;33m\u001b[0m\u001b[1;33m\u001b[0m\u001b[0m\n",
      "\u001b[1;32m~\\splink\\lib\\site-packages\\pandas\\core\\apply.py\u001b[0m in \u001b[0;36mapply_standard\u001b[1;34m(self)\u001b[0m\n\u001b[0;32m    810\u001b[0m \u001b[1;33m\u001b[0m\u001b[0m\n\u001b[0;32m    811\u001b[0m     \u001b[1;32mdef\u001b[0m \u001b[0mapply_standard\u001b[0m\u001b[1;33m(\u001b[0m\u001b[0mself\u001b[0m\u001b[1;33m)\u001b[0m\u001b[1;33m:\u001b[0m\u001b[1;33m\u001b[0m\u001b[1;33m\u001b[0m\u001b[0m\n\u001b[1;32m--> 812\u001b[1;33m         \u001b[0mresults\u001b[0m\u001b[1;33m,\u001b[0m \u001b[0mres_index\u001b[0m \u001b[1;33m=\u001b[0m \u001b[0mself\u001b[0m\u001b[1;33m.\u001b[0m\u001b[0mapply_series_generator\u001b[0m\u001b[1;33m(\u001b[0m\u001b[1;33m)\u001b[0m\u001b[1;33m\u001b[0m\u001b[1;33m\u001b[0m\u001b[0m\n\u001b[0m\u001b[0;32m    813\u001b[0m \u001b[1;33m\u001b[0m\u001b[0m\n\u001b[0;32m    814\u001b[0m         \u001b[1;31m# wrap results\u001b[0m\u001b[1;33m\u001b[0m\u001b[1;33m\u001b[0m\u001b[1;33m\u001b[0m\u001b[0m\n",
      "\u001b[1;32m~\\splink\\lib\\site-packages\\pandas\\core\\apply.py\u001b[0m in \u001b[0;36mapply_series_generator\u001b[1;34m(self)\u001b[0m\n\u001b[0;32m    826\u001b[0m             \u001b[1;32mfor\u001b[0m \u001b[0mi\u001b[0m\u001b[1;33m,\u001b[0m \u001b[0mv\u001b[0m \u001b[1;32min\u001b[0m \u001b[0menumerate\u001b[0m\u001b[1;33m(\u001b[0m\u001b[0mseries_gen\u001b[0m\u001b[1;33m)\u001b[0m\u001b[1;33m:\u001b[0m\u001b[1;33m\u001b[0m\u001b[1;33m\u001b[0m\u001b[0m\n\u001b[0;32m    827\u001b[0m                 \u001b[1;31m# ignore SettingWithCopy here in case the user mutates\u001b[0m\u001b[1;33m\u001b[0m\u001b[1;33m\u001b[0m\u001b[1;33m\u001b[0m\u001b[0m\n\u001b[1;32m--> 828\u001b[1;33m                 \u001b[0mresults\u001b[0m\u001b[1;33m[\u001b[0m\u001b[0mi\u001b[0m\u001b[1;33m]\u001b[0m \u001b[1;33m=\u001b[0m \u001b[0mself\u001b[0m\u001b[1;33m.\u001b[0m\u001b[0mf\u001b[0m\u001b[1;33m(\u001b[0m\u001b[0mv\u001b[0m\u001b[1;33m)\u001b[0m\u001b[1;33m\u001b[0m\u001b[1;33m\u001b[0m\u001b[0m\n\u001b[0m\u001b[0;32m    829\u001b[0m                 \u001b[1;32mif\u001b[0m \u001b[0misinstance\u001b[0m\u001b[1;33m(\u001b[0m\u001b[0mresults\u001b[0m\u001b[1;33m[\u001b[0m\u001b[0mi\u001b[0m\u001b[1;33m]\u001b[0m\u001b[1;33m,\u001b[0m \u001b[0mABCSeries\u001b[0m\u001b[1;33m)\u001b[0m\u001b[1;33m:\u001b[0m\u001b[1;33m\u001b[0m\u001b[1;33m\u001b[0m\u001b[0m\n\u001b[0;32m    830\u001b[0m                     \u001b[1;31m# If we have a view on v, we need to make a copy because\u001b[0m\u001b[1;33m\u001b[0m\u001b[1;33m\u001b[0m\u001b[1;33m\u001b[0m\u001b[0m\n",
      "\u001b[1;32m~\\AppData\\Local\\Temp\\ipykernel_15076\\12258097.py\u001b[0m in \u001b[0;36m<lambda>\u001b[1;34m(x)\u001b[0m\n\u001b[0;32m      1\u001b[0m \u001b[0mcross\u001b[0m\u001b[1;33m[\u001b[0m\u001b[1;34m'Firstname_jaro'\u001b[0m\u001b[1;33m]\u001b[0m \u001b[1;33m=\u001b[0m \u001b[0mcross\u001b[0m\u001b[1;33m.\u001b[0m\u001b[0mapply\u001b[0m\u001b[1;33m(\u001b[0m\u001b[1;32mlambda\u001b[0m \u001b[0mx\u001b[0m\u001b[1;33m:\u001b[0m \u001b[1;32mTrue\u001b[0m \u001b[1;32mif\u001b[0m \u001b[0mjf\u001b[0m\u001b[1;33m.\u001b[0m\u001b[0mjaro_winkler_similarity\u001b[0m\u001b[1;33m(\u001b[0m\u001b[0mx\u001b[0m\u001b[1;33m.\u001b[0m\u001b[0mFirstname_w\u001b[0m\u001b[1;33m,\u001b[0m \u001b[0mx\u001b[0m\u001b[1;33m.\u001b[0m\u001b[0mFirstname_t\u001b[0m\u001b[1;33m)\u001b[0m\u001b[1;33m>\u001b[0m\u001b[1;36m0.8\u001b[0m \u001b[1;32melse\u001b[0m \u001b[1;32mFalse\u001b[0m\u001b[1;33m,\u001b[0m \u001b[0maxis\u001b[0m\u001b[1;33m=\u001b[0m\u001b[1;36m1\u001b[0m\u001b[1;33m)\u001b[0m\u001b[1;33m\u001b[0m\u001b[1;33m\u001b[0m\u001b[0m\n\u001b[1;32m----> 2\u001b[1;33m \u001b[0mcross\u001b[0m\u001b[1;33m[\u001b[0m\u001b[1;34m'Lastname_jaro'\u001b[0m\u001b[1;33m]\u001b[0m \u001b[1;33m=\u001b[0m \u001b[0mcross\u001b[0m\u001b[1;33m.\u001b[0m\u001b[0mapply\u001b[0m\u001b[1;33m(\u001b[0m\u001b[1;32mlambda\u001b[0m \u001b[0mx\u001b[0m\u001b[1;33m:\u001b[0m \u001b[1;32mTrue\u001b[0m \u001b[1;32mif\u001b[0m \u001b[0mjf\u001b[0m\u001b[1;33m.\u001b[0m\u001b[0mjaro_winkler_similarity\u001b[0m\u001b[1;33m(\u001b[0m\u001b[0mx\u001b[0m\u001b[1;33m.\u001b[0m\u001b[0mLastname_w\u001b[0m\u001b[1;33m,\u001b[0m \u001b[0mx\u001b[0m\u001b[1;33m.\u001b[0m\u001b[0mLastname_t\u001b[0m\u001b[1;33m)\u001b[0m\u001b[1;33m>\u001b[0m\u001b[1;36m0.8\u001b[0m \u001b[1;32melse\u001b[0m \u001b[1;32mFalse\u001b[0m\u001b[1;33m,\u001b[0m \u001b[0maxis\u001b[0m\u001b[1;33m=\u001b[0m\u001b[1;36m1\u001b[0m\u001b[1;33m)\u001b[0m\u001b[1;33m\u001b[0m\u001b[1;33m\u001b[0m\u001b[0m\n\u001b[0m",
      "\u001b[1;32m~\\splink\\lib\\site-packages\\pandas\\core\\generic.py\u001b[0m in \u001b[0;36m__getattr__\u001b[1;34m(self, name)\u001b[0m\n\u001b[0;32m   5484\u001b[0m             \u001b[1;32mand\u001b[0m \u001b[0mself\u001b[0m\u001b[1;33m.\u001b[0m\u001b[0m_info_axis\u001b[0m\u001b[1;33m.\u001b[0m\u001b[0m_can_hold_identifiers_and_holds_name\u001b[0m\u001b[1;33m(\u001b[0m\u001b[0mname\u001b[0m\u001b[1;33m)\u001b[0m\u001b[1;33m\u001b[0m\u001b[1;33m\u001b[0m\u001b[0m\n\u001b[0;32m   5485\u001b[0m         ):\n\u001b[1;32m-> 5486\u001b[1;33m             \u001b[1;32mreturn\u001b[0m \u001b[0mself\u001b[0m\u001b[1;33m[\u001b[0m\u001b[0mname\u001b[0m\u001b[1;33m]\u001b[0m\u001b[1;33m\u001b[0m\u001b[1;33m\u001b[0m\u001b[0m\n\u001b[0m\u001b[0;32m   5487\u001b[0m         \u001b[1;32mreturn\u001b[0m \u001b[0mobject\u001b[0m\u001b[1;33m.\u001b[0m\u001b[0m__getattribute__\u001b[0m\u001b[1;33m(\u001b[0m\u001b[0mself\u001b[0m\u001b[1;33m,\u001b[0m \u001b[0mname\u001b[0m\u001b[1;33m)\u001b[0m\u001b[1;33m\u001b[0m\u001b[1;33m\u001b[0m\u001b[0m\n\u001b[0;32m   5488\u001b[0m \u001b[1;33m\u001b[0m\u001b[0m\n",
      "\u001b[1;32m~\\splink\\lib\\site-packages\\pandas\\core\\series.py\u001b[0m in \u001b[0;36m__getitem__\u001b[1;34m(self, key)\u001b[0m\n\u001b[0;32m    940\u001b[0m \u001b[1;33m\u001b[0m\u001b[0m\n\u001b[0;32m    941\u001b[0m         \u001b[1;32melif\u001b[0m \u001b[0mkey_is_scalar\u001b[0m\u001b[1;33m:\u001b[0m\u001b[1;33m\u001b[0m\u001b[1;33m\u001b[0m\u001b[0m\n\u001b[1;32m--> 942\u001b[1;33m             \u001b[1;32mreturn\u001b[0m \u001b[0mself\u001b[0m\u001b[1;33m.\u001b[0m\u001b[0m_get_value\u001b[0m\u001b[1;33m(\u001b[0m\u001b[0mkey\u001b[0m\u001b[1;33m)\u001b[0m\u001b[1;33m\u001b[0m\u001b[1;33m\u001b[0m\u001b[0m\n\u001b[0m\u001b[0;32m    943\u001b[0m \u001b[1;33m\u001b[0m\u001b[0m\n\u001b[0;32m    944\u001b[0m         \u001b[1;32mif\u001b[0m \u001b[0mis_hashable\u001b[0m\u001b[1;33m(\u001b[0m\u001b[0mkey\u001b[0m\u001b[1;33m)\u001b[0m\u001b[1;33m:\u001b[0m\u001b[1;33m\u001b[0m\u001b[1;33m\u001b[0m\u001b[0m\n",
      "\u001b[1;32m~\\splink\\lib\\site-packages\\pandas\\core\\series.py\u001b[0m in \u001b[0;36m_get_value\u001b[1;34m(self, label, takeable)\u001b[0m\n\u001b[0;32m   1049\u001b[0m \u001b[1;33m\u001b[0m\u001b[0m\n\u001b[0;32m   1050\u001b[0m         \u001b[1;31m# Similar to Index.get_value, but we do not fall back to positional\u001b[0m\u001b[1;33m\u001b[0m\u001b[1;33m\u001b[0m\u001b[1;33m\u001b[0m\u001b[0m\n\u001b[1;32m-> 1051\u001b[1;33m         \u001b[0mloc\u001b[0m \u001b[1;33m=\u001b[0m \u001b[0mself\u001b[0m\u001b[1;33m.\u001b[0m\u001b[0mindex\u001b[0m\u001b[1;33m.\u001b[0m\u001b[0mget_loc\u001b[0m\u001b[1;33m(\u001b[0m\u001b[0mlabel\u001b[0m\u001b[1;33m)\u001b[0m\u001b[1;33m\u001b[0m\u001b[1;33m\u001b[0m\u001b[0m\n\u001b[0m\u001b[0;32m   1052\u001b[0m         \u001b[1;32mreturn\u001b[0m \u001b[0mself\u001b[0m\u001b[1;33m.\u001b[0m\u001b[0mindex\u001b[0m\u001b[1;33m.\u001b[0m\u001b[0m_get_values_for_loc\u001b[0m\u001b[1;33m(\u001b[0m\u001b[0mself\u001b[0m\u001b[1;33m,\u001b[0m \u001b[0mloc\u001b[0m\u001b[1;33m,\u001b[0m \u001b[0mlabel\u001b[0m\u001b[1;33m)\u001b[0m\u001b[1;33m\u001b[0m\u001b[1;33m\u001b[0m\u001b[0m\n\u001b[0;32m   1053\u001b[0m \u001b[1;33m\u001b[0m\u001b[0m\n",
      "\u001b[1;31mKeyboardInterrupt\u001b[0m: "
     ]
    }
   ],
>>>>>>> main
   "source": [
    "cross['Firstname_jaro'] = cross.apply(lambda x: True if jf.jaro_winkler_similarity(x.Firstname_w, x.Firstname_t)>0.8 else False, axis=1)\n",
    "cross['Lastname_jaro'] = cross.apply(lambda x: True if jf.jaro_winkler_similarity(x.Lastname_w, x.Lastname_t)>0.8 else False, axis=1)"
   ]
  },
  {
   "cell_type": "code",
<<<<<<< HEAD
   "execution_count": 19,
   "id": "91c1998b",
   "metadata": {},
   "outputs": [
    {
     "data": {
      "text/html": [
       "<div>\n",
       "<style scoped>\n",
       "    .dataframe tbody tr th:only-of-type {\n",
       "        vertical-align: middle;\n",
       "    }\n",
       "\n",
       "    .dataframe tbody tr th {\n",
       "        vertical-align: top;\n",
       "    }\n",
       "\n",
       "    .dataframe thead th {\n",
       "        text-align: right;\n",
       "    }\n",
       "</style>\n",
       "<table border=\"1\" class=\"dataframe\">\n",
       "  <thead>\n",
       "    <tr style=\"text-align: right;\">\n",
       "      <th></th>\n",
       "      <th>Constituency_w</th>\n",
       "      <th>Fullname</th>\n",
       "      <th>Notes</th>\n",
       "      <th>Firstname_w</th>\n",
       "      <th>Lastname_w</th>\n",
       "      <th>Constituency_t</th>\n",
       "      <th>Firstname_t</th>\n",
       "      <th>Lastname_t</th>\n",
       "      <th>Flink</th>\n",
       "      <th>Firstname_jaro</th>\n",
       "      <th>Lastname_jaro</th>\n",
       "    </tr>\n",
       "  </thead>\n",
       "  <tbody>\n",
       "    <tr>\n",
       "      <th>0</th>\n",
       "      <td>Aberavon</td>\n",
       "      <td>Stephen Kinnock</td>\n",
       "      <td>Seat held\\n</td>\n",
       "      <td>Stephen</td>\n",
       "      <td>Kinnock</td>\n",
       "      <td>Hackney North and Stoke Newington</td>\n",
       "      <td>Diane</td>\n",
       "      <td>Abbott</td>\n",
       "      <td>https://facebook.com/Dianeabbott</td>\n",
       "      <td>False</td>\n",
       "      <td>False</td>\n",
       "    </tr>\n",
       "    <tr>\n",
       "      <th>1</th>\n",
       "      <td>Aberavon</td>\n",
       "      <td>Stephen Kinnock</td>\n",
       "      <td>Seat held\\n</td>\n",
       "      <td>Stephen</td>\n",
       "      <td>Kinnock</td>\n",
       "      <td>Oldham East and Saddleworth</td>\n",
       "      <td>Debbie</td>\n",
       "      <td>Abrahams</td>\n",
       "      <td>NaN</td>\n",
       "      <td>False</td>\n",
       "      <td>False</td>\n",
       "    </tr>\n",
       "    <tr>\n",
       "      <th>2</th>\n",
       "      <td>Aberavon</td>\n",
       "      <td>Stephen Kinnock</td>\n",
       "      <td>Seat held\\n</td>\n",
       "      <td>Stephen</td>\n",
       "      <td>Kinnock</td>\n",
       "      <td>Selby and Ainsty</td>\n",
       "      <td>Nigel</td>\n",
       "      <td>Adams</td>\n",
       "      <td>https://facebook.com/nigel.adamsmp</td>\n",
       "      <td>False</td>\n",
       "      <td>False</td>\n",
       "    </tr>\n",
       "    <tr>\n",
       "      <th>3</th>\n",
       "      <td>Aberavon</td>\n",
       "      <td>Stephen Kinnock</td>\n",
       "      <td>Seat held\\n</td>\n",
       "      <td>Stephen</td>\n",
       "      <td>Kinnock</td>\n",
       "      <td>Hitchin and Harpenden</td>\n",
       "      <td>Bim</td>\n",
       "      <td>Afolami</td>\n",
       "      <td>NaN</td>\n",
       "      <td>False</td>\n",
       "      <td>False</td>\n",
       "    </tr>\n",
       "    <tr>\n",
       "      <th>4</th>\n",
       "      <td>Aberavon</td>\n",
       "      <td>Stephen Kinnock</td>\n",
       "      <td>Seat held\\n</td>\n",
       "      <td>Stephen</td>\n",
       "      <td>Kinnock</td>\n",
       "      <td>Windsor</td>\n",
       "      <td>Adam</td>\n",
       "      <td>Afriyie</td>\n",
       "      <td>https://facebook.com/adamafriyieofficial</td>\n",
       "      <td>False</td>\n",
       "      <td>False</td>\n",
       "    </tr>\n",
       "  </tbody>\n",
       "</table>\n",
       "</div>"
      ],
      "text/plain": [
       "  Constituency_w         Fullname        Notes Firstname_w Lastname_w  \\\n",
       "0       Aberavon  Stephen Kinnock  Seat held\\n     Stephen    Kinnock   \n",
       "1       Aberavon  Stephen Kinnock  Seat held\\n     Stephen    Kinnock   \n",
       "2       Aberavon  Stephen Kinnock  Seat held\\n     Stephen    Kinnock   \n",
       "3       Aberavon  Stephen Kinnock  Seat held\\n     Stephen    Kinnock   \n",
       "4       Aberavon  Stephen Kinnock  Seat held\\n     Stephen    Kinnock   \n",
       "\n",
       "                      Constituency_t Firstname_t Lastname_t  \\\n",
       "0  Hackney North and Stoke Newington       Diane     Abbott   \n",
       "1        Oldham East and Saddleworth      Debbie   Abrahams   \n",
       "2                   Selby and Ainsty       Nigel      Adams   \n",
       "3              Hitchin and Harpenden         Bim    Afolami   \n",
       "4                            Windsor        Adam    Afriyie   \n",
       "\n",
       "                                      Flink  Firstname_jaro  Lastname_jaro  \n",
       "0          https://facebook.com/Dianeabbott           False          False  \n",
       "1                                       NaN           False          False  \n",
       "2        https://facebook.com/nigel.adamsmp           False          False  \n",
       "3                                       NaN           False          False  \n",
       "4  https://facebook.com/adamafriyieofficial           False          False  "
      ]
     },
     "execution_count": 19,
     "metadata": {},
     "output_type": "execute_result"
    }
   ],
=======
   "execution_count": null,
   "id": "91c1998b",
   "metadata": {},
   "outputs": [],
>>>>>>> main
   "source": [
    "cross.head(n=5)"
   ]
  },
  {
   "cell_type": "code",
<<<<<<< HEAD
   "execution_count": 20,
   "id": "96ce884d",
   "metadata": {},
   "outputs": [
    {
     "data": {
      "text/plain": [
       "634"
      ]
     },
     "execution_count": 20,
     "metadata": {},
     "output_type": "execute_result"
    }
   ],
=======
   "execution_count": null,
   "id": "96ce884d",
   "metadata": {},
   "outputs": [],
>>>>>>> main
   "source": [
    "tp = cross[(cross['Firstname_jaro'] & cross['Lastname_jaro']) & (cross['Constituency_w']==cross['Constituency_t'])]\n",
    "len(tp)"
   ]
  },
  {
   "cell_type": "code",
<<<<<<< HEAD
   "execution_count": 21,
   "id": "93cb7a61",
   "metadata": {},
   "outputs": [
    {
     "data": {
      "text/plain": [
       "19"
      ]
     },
     "execution_count": 21,
     "metadata": {},
     "output_type": "execute_result"
    }
   ],
=======
   "execution_count": null,
   "id": "93cb7a61",
   "metadata": {},
   "outputs": [],
>>>>>>> main
   "source": [
    "fp = cross[(cross['Firstname_jaro'] & cross['Lastname_jaro']) & (cross['Constituency_w']!=cross['Constituency_t'])]\n",
    "len(fp)"
   ]
  },
  {
   "cell_type": "code",
<<<<<<< HEAD
   "execution_count": 23,
   "id": "e4c0783a",
   "metadata": {},
   "outputs": [
    {
     "data": {
      "text/html": [
       "<div>\n",
       "<style scoped>\n",
       "    .dataframe tbody tr th:only-of-type {\n",
       "        vertical-align: middle;\n",
       "    }\n",
       "\n",
       "    .dataframe tbody tr th {\n",
       "        vertical-align: top;\n",
       "    }\n",
       "\n",
       "    .dataframe thead th {\n",
       "        text-align: right;\n",
       "    }\n",
       "</style>\n",
       "<table border=\"1\" class=\"dataframe\">\n",
       "  <thead>\n",
       "    <tr style=\"text-align: right;\">\n",
       "      <th></th>\n",
       "      <th>Constituency_w</th>\n",
       "      <th>Fullname</th>\n",
       "      <th>Notes</th>\n",
       "      <th>Firstname_w</th>\n",
       "      <th>Lastname_w</th>\n",
       "      <th>Constituency_t</th>\n",
       "      <th>Firstname_t</th>\n",
       "      <th>Lastname_t</th>\n",
       "      <th>Flink</th>\n",
       "      <th>Firstname_jaro</th>\n",
       "      <th>Lastname_jaro</th>\n",
       "    </tr>\n",
       "  </thead>\n",
       "  <tbody>\n",
       "    <tr>\n",
       "      <th>40659</th>\n",
       "      <td>Blyth Valley</td>\n",
       "      <td>Ian Levy</td>\n",
       "      <td>Previous incumbent, Ronnie Campbell, did not s...</td>\n",
       "      <td>Ian</td>\n",
       "      <td>Levy</td>\n",
       "      <td>Wansbeck</td>\n",
       "      <td>Ian</td>\n",
       "      <td>Lavery</td>\n",
       "      <td>https://facebook.com/IanLaveryMP</td>\n",
       "      <td>True</td>\n",
       "      <td>True</td>\n",
       "    </tr>\n",
       "    <tr>\n",
       "      <th>72718</th>\n",
       "      <td>Cardiff Central</td>\n",
       "      <td>Jo Stevens</td>\n",
       "      <td>Seat held\\n</td>\n",
       "      <td>Jo</td>\n",
       "      <td>Stevens</td>\n",
       "      <td>Carlisle</td>\n",
       "      <td>John</td>\n",
       "      <td>Stevenson</td>\n",
       "      <td>https://facebook.com/JohnStevensonCarlisle</td>\n",
       "      <td>True</td>\n",
       "      <td>True</td>\n",
       "    </tr>\n",
       "    <tr>\n",
       "      <th>73245</th>\n",
       "      <td>Cardiff North</td>\n",
       "      <td>Anna McMorrin</td>\n",
       "      <td>Seat held\\n</td>\n",
       "      <td>Anna</td>\n",
       "      <td>McMorrin</td>\n",
       "      <td>Newton Abbot</td>\n",
       "      <td>Anne</td>\n",
       "      <td>Morris</td>\n",
       "      <td>https://facebook.com/annemarie.morris.NA</td>\n",
       "      <td>True</td>\n",
       "      <td>True</td>\n",
       "    </tr>\n",
       "    <tr>\n",
       "      <th>75316</th>\n",
       "      <td>Carlisle</td>\n",
       "      <td>John Stevenson</td>\n",
       "      <td>Seat held\\n</td>\n",
       "      <td>John</td>\n",
       "      <td>Stevenson</td>\n",
       "      <td>Cardiff Central</td>\n",
       "      <td>Jo</td>\n",
       "      <td>Stevens</td>\n",
       "      <td>https://facebook.com/JoStevensLabour</td>\n",
       "      <td>True</td>\n",
       "      <td>True</td>\n",
       "    </tr>\n",
       "    <tr>\n",
       "      <th>76340</th>\n",
       "      <td>Carmarthen West and South Pembrokeshire</td>\n",
       "      <td>Simon Hart</td>\n",
       "      <td>Seat held\\n</td>\n",
       "      <td>Simon</td>\n",
       "      <td>Hart</td>\n",
       "      <td>North Dorset</td>\n",
       "      <td>Simon</td>\n",
       "      <td>Hoare</td>\n",
       "      <td>https://facebook.com/simonhoarenorthdorset</td>\n",
       "      <td>True</td>\n",
       "      <td>True</td>\n",
       "    </tr>\n",
       "  </tbody>\n",
       "</table>\n",
       "</div>"
      ],
      "text/plain": [
       "                                Constituency_w        Fullname  \\\n",
       "40659                             Blyth Valley        Ian Levy   \n",
       "72718                          Cardiff Central      Jo Stevens   \n",
       "73245                            Cardiff North   Anna McMorrin   \n",
       "75316                                 Carlisle  John Stevenson   \n",
       "76340  Carmarthen West and South Pembrokeshire      Simon Hart   \n",
       "\n",
       "                                                   Notes Firstname_w  \\\n",
       "40659  Previous incumbent, Ronnie Campbell, did not s...         Ian   \n",
       "72718                                        Seat held\\n          Jo   \n",
       "73245                                        Seat held\\n        Anna   \n",
       "75316                                        Seat held\\n        John   \n",
       "76340                                        Seat held\\n       Simon   \n",
       "\n",
       "      Lastname_w   Constituency_t Firstname_t Lastname_t  \\\n",
       "40659       Levy         Wansbeck         Ian     Lavery   \n",
       "72718    Stevens         Carlisle        John  Stevenson   \n",
       "73245   McMorrin     Newton Abbot        Anne     Morris   \n",
       "75316  Stevenson  Cardiff Central          Jo    Stevens   \n",
       "76340       Hart     North Dorset       Simon      Hoare   \n",
       "\n",
       "                                            Flink  Firstname_jaro  \\\n",
       "40659            https://facebook.com/IanLaveryMP            True   \n",
       "72718  https://facebook.com/JohnStevensonCarlisle            True   \n",
       "73245    https://facebook.com/annemarie.morris.NA            True   \n",
       "75316        https://facebook.com/JoStevensLabour            True   \n",
       "76340  https://facebook.com/simonhoarenorthdorset            True   \n",
       "\n",
       "       Lastname_jaro  \n",
       "40659           True  \n",
       "72718           True  \n",
       "73245           True  \n",
       "75316           True  \n",
       "76340           True  "
      ]
     },
     "execution_count": 23,
     "metadata": {},
     "output_type": "execute_result"
    }
   ],
   "source": [
    "fp.head(n=5)"
   ]
  },
  {
   "cell_type": "code",
   "execution_count": 24,
   "id": "f6245c17",
   "metadata": {},
   "outputs": [
    {
     "data": {
      "text/plain": [
       "16"
      ]
     },
     "execution_count": 24,
     "metadata": {},
     "output_type": "execute_result"
    }
   ],
=======
   "execution_count": null,
   "id": "f6245c17",
   "metadata": {},
   "outputs": [],
>>>>>>> main
   "source": [
    "fntn = cross[(~cross['Firstname_jaro'] | ~cross['Lastname_jaro']) & (cross['Constituency_w']==cross['Constituency_t'])]\n",
    "len(fntn)"
   ]
  },
  {
   "cell_type": "code",
<<<<<<< HEAD
   "execution_count": 25,
   "id": "5f37fc70",
   "metadata": {},
   "outputs": [
    {
     "data": {
      "text/html": [
       "<div>\n",
       "<style scoped>\n",
       "    .dataframe tbody tr th:only-of-type {\n",
       "        vertical-align: middle;\n",
       "    }\n",
       "\n",
       "    .dataframe tbody tr th {\n",
       "        vertical-align: top;\n",
       "    }\n",
       "\n",
       "    .dataframe thead th {\n",
       "        text-align: right;\n",
       "    }\n",
       "</style>\n",
       "<table border=\"1\" class=\"dataframe\">\n",
       "  <thead>\n",
       "    <tr style=\"text-align: right;\">\n",
       "      <th></th>\n",
       "      <th>Constituency_w</th>\n",
       "      <th>Fullname</th>\n",
       "      <th>Notes</th>\n",
       "      <th>Firstname_w</th>\n",
       "      <th>Lastname_w</th>\n",
       "      <th>Constituency_t</th>\n",
       "      <th>Firstname_t</th>\n",
       "      <th>Lastname_t</th>\n",
       "      <th>Flink</th>\n",
       "      <th>Firstname_jaro</th>\n",
       "      <th>Lastname_jaro</th>\n",
       "    </tr>\n",
       "  </thead>\n",
       "  <tbody>\n",
       "    <tr>\n",
       "      <th>3100</th>\n",
       "      <td>Airdrie and Shotts</td>\n",
       "      <td>Neil Gray</td>\n",
       "      <td>Seat held\\n</td>\n",
       "      <td>Neil</td>\n",
       "      <td>Gray</td>\n",
       "      <td>Airdrie and Shotts</td>\n",
       "      <td>Anum</td>\n",
       "      <td>Qaisar</td>\n",
       "      <td>NaN</td>\n",
       "      <td>False</td>\n",
       "      <td>False</td>\n",
       "    </tr>\n",
       "    <tr>\n",
       "      <th>19211</th>\n",
       "      <td>Batley and Spen</td>\n",
       "      <td>Tracy Brabin</td>\n",
       "      <td>Seat held\\n</td>\n",
       "      <td>Tracy</td>\n",
       "      <td>Brabin</td>\n",
       "      <td>Batley and Spen</td>\n",
       "      <td>Kim</td>\n",
       "      <td>Leadbeater</td>\n",
       "      <td>NaN</td>\n",
       "      <td>False</td>\n",
       "      <td>False</td>\n",
       "    </tr>\n",
       "    <tr>\n",
       "      <th>30812</th>\n",
       "      <td>Birmingham Erdington</td>\n",
       "      <td>Jack Dromey</td>\n",
       "      <td>Seat held\\n</td>\n",
       "      <td>Jack</td>\n",
       "      <td>Dromey</td>\n",
       "      <td>Birmingham Erdington</td>\n",
       "      <td>Paulette</td>\n",
       "      <td>Hamilton</td>\n",
       "      <td>NaN</td>\n",
       "      <td>False</td>\n",
       "      <td>False</td>\n",
       "    </tr>\n",
       "    <tr>\n",
       "      <th>64699</th>\n",
       "      <td>Burton</td>\n",
       "      <td>Kate Griffiths</td>\n",
       "      <td>Previous incumbent, Andrew Griffiths, did not ...</td>\n",
       "      <td>Kate</td>\n",
       "      <td>Griffiths</td>\n",
       "      <td>Burton</td>\n",
       "      <td>Kate</td>\n",
       "      <td>Kniveton</td>\n",
       "      <td>NaN</td>\n",
       "      <td>True</td>\n",
       "      <td>False</td>\n",
       "    </tr>\n",
       "    <tr>\n",
       "      <th>84750</th>\n",
       "      <td>Chesham and Amersham</td>\n",
       "      <td>Cheryl Gillan</td>\n",
       "      <td>Seat held\\n</td>\n",
       "      <td>Cheryl</td>\n",
       "      <td>Gillan</td>\n",
       "      <td>Chesham and Amersham</td>\n",
       "      <td>Sarah</td>\n",
       "      <td>Green</td>\n",
       "      <td>NaN</td>\n",
       "      <td>False</td>\n",
       "      <td>False</td>\n",
       "    </tr>\n",
       "    <tr>\n",
       "      <th>90506</th>\n",
       "      <td>City of Chester</td>\n",
       "      <td>Chris Matheson</td>\n",
       "      <td>Seat held\\n</td>\n",
       "      <td>Chris</td>\n",
       "      <td>Matheson</td>\n",
       "      <td>City of Chester</td>\n",
       "      <td>Samantha</td>\n",
       "      <td>Dixon</td>\n",
       "      <td>NaN</td>\n",
       "      <td>False</td>\n",
       "      <td>False</td>\n",
       "    </tr>\n",
       "    <tr>\n",
       "      <th>174650</th>\n",
       "      <td>Hartlepool</td>\n",
       "      <td>Mike Hill</td>\n",
       "      <td>Seat held\\n</td>\n",
       "      <td>Mike</td>\n",
       "      <td>Hill</td>\n",
       "      <td>Hartlepool</td>\n",
       "      <td>Jill</td>\n",
       "      <td>Mortimer</td>\n",
       "      <td>NaN</td>\n",
       "      <td>False</td>\n",
       "      <td>False</td>\n",
       "    </tr>\n",
       "    <tr>\n",
       "      <th>255245</th>\n",
       "      <td>Newton Abbot</td>\n",
       "      <td>Anne Marie Morris</td>\n",
       "      <td>Seat held\\n</td>\n",
       "      <td>Anne</td>\n",
       "      <td>Marie Morris</td>\n",
       "      <td>Newton Abbot</td>\n",
       "      <td>Anne</td>\n",
       "      <td>Morris</td>\n",
       "      <td>https://facebook.com/annemarie.morris.NA</td>\n",
       "      <td>True</td>\n",
       "      <td>False</td>\n",
       "    </tr>\n",
       "    <tr>\n",
       "      <th>266943</th>\n",
       "      <td>North Shropshire</td>\n",
       "      <td>Owen Paterson</td>\n",
       "      <td>Seat held\\n</td>\n",
       "      <td>Owen</td>\n",
       "      <td>Paterson</td>\n",
       "      <td>North Shropshire</td>\n",
       "      <td>Helen</td>\n",
       "      <td>Morgan</td>\n",
       "      <td>NaN</td>\n",
       "      <td>False</td>\n",
       "      <td>False</td>\n",
       "    </tr>\n",
       "    <tr>\n",
       "      <th>281023</th>\n",
       "      <td>Old Bexley and Sidcup</td>\n",
       "      <td>James Brokenshire</td>\n",
       "      <td>Seat held\\n</td>\n",
       "      <td>James</td>\n",
       "      <td>Brokenshire</td>\n",
       "      <td>Old Bexley and Sidcup</td>\n",
       "      <td>Louie</td>\n",
       "      <td>French</td>\n",
       "      <td>NaN</td>\n",
       "      <td>False</td>\n",
       "      <td>False</td>\n",
       "    </tr>\n",
       "    <tr>\n",
       "      <th>342502</th>\n",
       "      <td>South West Norfolk</td>\n",
       "      <td>Liz Truss</td>\n",
       "      <td>Seat held\\n</td>\n",
       "      <td>Liz</td>\n",
       "      <td>Truss</td>\n",
       "      <td>South West Norfolk</td>\n",
       "      <td>Elizabeth</td>\n",
       "      <td>Truss</td>\n",
       "      <td>https://facebook.com/ElizabethTrussSWNorfolk</td>\n",
       "      <td>False</td>\n",
       "      <td>True</td>\n",
       "    </tr>\n",
       "    <tr>\n",
       "      <th>345356</th>\n",
       "      <td>Southend West</td>\n",
       "      <td>David Amess</td>\n",
       "      <td>Seat held\\n</td>\n",
       "      <td>David</td>\n",
       "      <td>Amess</td>\n",
       "      <td>Southend West</td>\n",
       "      <td>Anna</td>\n",
       "      <td>Firth</td>\n",
       "      <td>NaN</td>\n",
       "      <td>False</td>\n",
       "      <td>False</td>\n",
       "    </tr>\n",
       "    <tr>\n",
       "      <th>361373</th>\n",
       "      <td>Stretford and Urmston</td>\n",
       "      <td>Kate Green</td>\n",
       "      <td>Seat held\\n</td>\n",
       "      <td>Kate</td>\n",
       "      <td>Green</td>\n",
       "      <td>Stretford and Urmston</td>\n",
       "      <td>Andrew</td>\n",
       "      <td>Western</td>\n",
       "      <td>NaN</td>\n",
       "      <td>False</td>\n",
       "      <td>False</td>\n",
       "    </tr>\n",
       "    <tr>\n",
       "      <th>373312</th>\n",
       "      <td>Tiverton and Honiton</td>\n",
       "      <td>Neil Parish</td>\n",
       "      <td>Seat held\\n</td>\n",
       "      <td>Neil</td>\n",
       "      <td>Parish</td>\n",
       "      <td>Tiverton and Honiton</td>\n",
       "      <td>Richard</td>\n",
       "      <td>Foord</td>\n",
       "      <td>NaN</td>\n",
       "      <td>False</td>\n",
       "      <td>False</td>\n",
       "    </tr>\n",
       "    <tr>\n",
       "      <th>384521</th>\n",
       "      <td>Wakefield</td>\n",
       "      <td>Imran Ahmad Khan</td>\n",
       "      <td>Defeated incumbent, Mary Creagh\\n</td>\n",
       "      <td>Imran</td>\n",
       "      <td>Ahmad Khan</td>\n",
       "      <td>Wakefield</td>\n",
       "      <td>Simon</td>\n",
       "      <td>Lightwood</td>\n",
       "      <td>NaN</td>\n",
       "      <td>False</td>\n",
       "      <td>False</td>\n",
       "    </tr>\n",
       "    <tr>\n",
       "      <th>401187</th>\n",
       "      <td>West Lancashire</td>\n",
       "      <td>Rosie Cooper</td>\n",
       "      <td>Seat held\\n</td>\n",
       "      <td>Rosie</td>\n",
       "      <td>Cooper</td>\n",
       "      <td>West Lancashire</td>\n",
       "      <td>Ashley</td>\n",
       "      <td>Dalton</td>\n",
       "      <td>NaN</td>\n",
       "      <td>False</td>\n",
       "      <td>False</td>\n",
       "    </tr>\n",
       "  </tbody>\n",
       "</table>\n",
       "</div>"
      ],
      "text/plain": [
       "               Constituency_w           Fullname  \\\n",
       "3100       Airdrie and Shotts          Neil Gray   \n",
       "19211         Batley and Spen       Tracy Brabin   \n",
       "30812    Birmingham Erdington        Jack Dromey   \n",
       "64699                  Burton     Kate Griffiths   \n",
       "84750    Chesham and Amersham      Cheryl Gillan   \n",
       "90506         City of Chester     Chris Matheson   \n",
       "174650             Hartlepool          Mike Hill   \n",
       "255245           Newton Abbot  Anne Marie Morris   \n",
       "266943       North Shropshire      Owen Paterson   \n",
       "281023  Old Bexley and Sidcup  James Brokenshire   \n",
       "342502     South West Norfolk          Liz Truss   \n",
       "345356          Southend West        David Amess   \n",
       "361373  Stretford and Urmston         Kate Green   \n",
       "373312   Tiverton and Honiton        Neil Parish   \n",
       "384521              Wakefield   Imran Ahmad Khan   \n",
       "401187        West Lancashire       Rosie Cooper   \n",
       "\n",
       "                                                    Notes Firstname_w  \\\n",
       "3100                                          Seat held\\n        Neil   \n",
       "19211                                         Seat held\\n       Tracy   \n",
       "30812                                         Seat held\\n        Jack   \n",
       "64699   Previous incumbent, Andrew Griffiths, did not ...        Kate   \n",
       "84750                                         Seat held\\n      Cheryl   \n",
       "90506                                         Seat held\\n       Chris   \n",
       "174650                                        Seat held\\n        Mike   \n",
       "255245                                        Seat held\\n        Anne   \n",
       "266943                                        Seat held\\n        Owen   \n",
       "281023                                        Seat held\\n       James   \n",
       "342502                                        Seat held\\n         Liz   \n",
       "345356                                        Seat held\\n       David   \n",
       "361373                                        Seat held\\n        Kate   \n",
       "373312                                        Seat held\\n        Neil   \n",
       "384521                  Defeated incumbent, Mary Creagh\\n       Imran   \n",
       "401187                                        Seat held\\n       Rosie   \n",
       "\n",
       "          Lastname_w         Constituency_t Firstname_t  Lastname_t  \\\n",
       "3100            Gray     Airdrie and Shotts        Anum      Qaisar   \n",
       "19211         Brabin        Batley and Spen         Kim  Leadbeater   \n",
       "30812         Dromey   Birmingham Erdington    Paulette    Hamilton   \n",
       "64699      Griffiths                 Burton        Kate    Kniveton   \n",
       "84750         Gillan   Chesham and Amersham       Sarah       Green   \n",
       "90506       Matheson        City of Chester    Samantha       Dixon   \n",
       "174650          Hill             Hartlepool        Jill    Mortimer   \n",
       "255245  Marie Morris           Newton Abbot        Anne      Morris   \n",
       "266943      Paterson       North Shropshire       Helen      Morgan   \n",
       "281023   Brokenshire  Old Bexley and Sidcup       Louie      French   \n",
       "342502         Truss     South West Norfolk   Elizabeth       Truss   \n",
       "345356         Amess          Southend West        Anna       Firth   \n",
       "361373         Green  Stretford and Urmston      Andrew     Western   \n",
       "373312        Parish   Tiverton and Honiton     Richard       Foord   \n",
       "384521    Ahmad Khan              Wakefield       Simon   Lightwood   \n",
       "401187        Cooper        West Lancashire      Ashley      Dalton   \n",
       "\n",
       "                                               Flink  Firstname_jaro  \\\n",
       "3100                                             NaN           False   \n",
       "19211                                            NaN           False   \n",
       "30812                                            NaN           False   \n",
       "64699                                            NaN            True   \n",
       "84750                                            NaN           False   \n",
       "90506                                            NaN           False   \n",
       "174650                                           NaN           False   \n",
       "255245      https://facebook.com/annemarie.morris.NA            True   \n",
       "266943                                           NaN           False   \n",
       "281023                                           NaN           False   \n",
       "342502  https://facebook.com/ElizabethTrussSWNorfolk           False   \n",
       "345356                                           NaN           False   \n",
       "361373                                           NaN           False   \n",
       "373312                                           NaN           False   \n",
       "384521                                           NaN           False   \n",
       "401187                                           NaN           False   \n",
       "\n",
       "        Lastname_jaro  \n",
       "3100            False  \n",
       "19211           False  \n",
       "30812           False  \n",
       "64699           False  \n",
       "84750           False  \n",
       "90506           False  \n",
       "174650          False  \n",
       "255245          False  \n",
       "266943          False  \n",
       "281023          False  \n",
       "342502           True  \n",
       "345356          False  \n",
       "361373          False  \n",
       "373312          False  \n",
       "384521          False  \n",
       "401187          False  "
      ]
     },
     "execution_count": 25,
     "metadata": {},
     "output_type": "execute_result"
    }
   ],
=======
   "execution_count": null,
   "id": "5f37fc70",
   "metadata": {},
   "outputs": [],
>>>>>>> main
   "source": [
    "fntn"
   ]
  },
  {
   "cell_type": "code",
<<<<<<< HEAD
   "execution_count": 24,
=======
   "execution_count": 1,
>>>>>>> main
   "id": "64ee802b",
   "metadata": {},
   "outputs": [
    {
<<<<<<< HEAD
     "data": {
      "text/plain": [
       "1.8950437317784257"
      ]
     },
     "execution_count": 24,
     "metadata": {},
     "output_type": "execute_result"
    }
   ],
   "source": [
    "df_w['Firstname'].value_counts().mean()"
=======
     "ename": "NameError",
     "evalue": "name 'df' is not defined",
     "output_type": "error",
     "traceback": [
      "\u001b[1;31m---------------------------------------------------------------------------\u001b[0m",
      "\u001b[1;31mNameError\u001b[0m                                 Traceback (most recent call last)",
      "\u001b[1;32m~\\AppData\\Local\\Temp\\ipykernel_27472\\1961456330.py\u001b[0m in \u001b[0;36m<module>\u001b[1;34m\u001b[0m\n\u001b[1;32m----> 1\u001b[1;33m \u001b[0mdf\u001b[0m\u001b[1;33m[\u001b[0m\u001b[1;34m'Firstname'\u001b[0m\u001b[1;33m]\u001b[0m\u001b[1;33m.\u001b[0m\u001b[0mvalue_counts\u001b[0m\u001b[1;33m(\u001b[0m\u001b[1;33m)\u001b[0m\u001b[1;33m.\u001b[0m\u001b[0mmean\u001b[0m\u001b[1;33m(\u001b[0m\u001b[1;33m)\u001b[0m\u001b[1;33m\u001b[0m\u001b[1;33m\u001b[0m\u001b[0m\n\u001b[0m",
      "\u001b[1;31mNameError\u001b[0m: name 'df' is not defined"
     ]
    }
   ],
   "source": [
    "df['Firstname'].value_counts().mean()"
>>>>>>> main
   ]
  },
  {
   "cell_type": "code",
<<<<<<< HEAD
   "execution_count": 25,
=======
   "execution_count": 38,
>>>>>>> main
   "id": "6a4ea4fa",
   "metadata": {},
   "outputs": [
    {
     "data": {
      "text/plain": [
       "1.1545293072824157"
      ]
     },
<<<<<<< HEAD
     "execution_count": 25,
=======
     "execution_count": 38,
>>>>>>> main
     "metadata": {},
     "output_type": "execute_result"
    }
   ],
   "source": [
<<<<<<< HEAD
    "df_w['Lastname'].value_counts().mean()"
=======
    "df['Lastname'].value_counts().mean()"
>>>>>>> main
   ]
  },
  {
   "cell_type": "code",
<<<<<<< HEAD
   "execution_count": 26,
=======
   "execution_count": 39,
>>>>>>> main
   "id": "88395666",
   "metadata": {},
   "outputs": [
    {
     "data": {
      "text/plain": [
       "1.0"
      ]
     },
<<<<<<< HEAD
     "execution_count": 26,
=======
     "execution_count": 39,
>>>>>>> main
     "metadata": {},
     "output_type": "execute_result"
    }
   ],
   "source": [
<<<<<<< HEAD
    "df_w['Constituency'].value_counts().mean()"
=======
    "df['Constituency'].value_counts().mean()"
>>>>>>> main
   ]
  },
  {
   "cell_type": "code",
<<<<<<< HEAD
   "execution_count": 27,
=======
   "execution_count": 6,
>>>>>>> main
   "id": "9938f2c9",
   "metadata": {},
   "outputs": [],
   "source": [
<<<<<<< HEAD
    "df_w_un['Firstname_w_meta'] = df_w_un.apply(lambda x: jf.metaphone(x.Firstname_w), axis=1)"
=======
    "df_mp_un['Firstname_x_meta'] = df_mp_un.apply(lambda x: jf.metaphone(x.Firstname_x), axis=1)"
>>>>>>> main
   ]
  },
  {
   "cell_type": "code",
<<<<<<< HEAD
   "execution_count": 28,
=======
   "execution_count": 7,
>>>>>>> main
   "id": "b98ff150",
   "metadata": {},
   "outputs": [
    {
     "data": {
      "text/html": [
       "<div>\n",
       "<style scoped>\n",
       "    .dataframe tbody tr th:only-of-type {\n",
       "        vertical-align: middle;\n",
       "    }\n",
       "\n",
       "    .dataframe tbody tr th {\n",
       "        vertical-align: top;\n",
       "    }\n",
       "\n",
       "    .dataframe thead th {\n",
       "        text-align: right;\n",
       "    }\n",
       "</style>\n",
       "<table border=\"1\" class=\"dataframe\">\n",
       "  <thead>\n",
       "    <tr style=\"text-align: right;\">\n",
       "      <th></th>\n",
       "      <th>Constituency</th>\n",
<<<<<<< HEAD
       "      <th>Fullname</th>\n",
       "      <th>Notes</th>\n",
       "      <th>Firstname_w</th>\n",
       "      <th>Lastname_w</th>\n",
       "      <th>Firstname_t</th>\n",
       "      <th>Lastname_t</th>\n",
       "      <th>Flink</th>\n",
       "      <th>Firstname_jaro</th>\n",
       "      <th>Lastname_jaro</th>\n",
       "      <th>Firstname_w_meta</th>\n",
=======
       "      <th>Firstname_x</th>\n",
       "      <th>Lastname_x</th>\n",
       "      <th>Firstname_y</th>\n",
       "      <th>Lastname_y</th>\n",
       "      <th>Firstname_x_meta</th>\n",
>>>>>>> main
       "    </tr>\n",
       "  </thead>\n",
       "  <tbody>\n",
       "    <tr>\n",
       "      <th>0</th>\n",
       "      <td>Burton</td>\n",
<<<<<<< HEAD
       "      <td>Kate Griffiths</td>\n",
       "      <td>Previous incumbent, Andrew Griffiths, did not ...</td>\n",
=======
>>>>>>> main
       "      <td>Kate</td>\n",
       "      <td>Griffiths</td>\n",
       "      <td>Kate</td>\n",
       "      <td>Kniveton</td>\n",
<<<<<<< HEAD
       "      <td>NaN</td>\n",
       "      <td>1.000000</td>\n",
       "      <td>0.490741</td>\n",
=======
>>>>>>> main
       "      <td>KT</td>\n",
       "    </tr>\n",
       "    <tr>\n",
       "      <th>1</th>\n",
       "      <td>Central Suffolk and North Ipswich</td>\n",
<<<<<<< HEAD
       "      <td>Dan Poulter</td>\n",
       "      <td>Seat held\\n</td>\n",
=======
>>>>>>> main
       "      <td>Dan</td>\n",
       "      <td>Poulter</td>\n",
       "      <td>Daniel</td>\n",
       "      <td>Poulter</td>\n",
<<<<<<< HEAD
       "      <td>NaN</td>\n",
       "      <td>0.883333</td>\n",
       "      <td>1.000000</td>\n",
=======
>>>>>>> main
       "      <td>TN</td>\n",
       "    </tr>\n",
       "    <tr>\n",
       "      <th>2</th>\n",
       "      <td>Newton Abbot</td>\n",
<<<<<<< HEAD
       "      <td>Anne Marie Morris</td>\n",
       "      <td>Seat held\\n</td>\n",
=======
>>>>>>> main
       "      <td>Anne</td>\n",
       "      <td>Marie Morris</td>\n",
       "      <td>Anne</td>\n",
       "      <td>Morris</td>\n",
<<<<<<< HEAD
       "      <td>https://facebook.com/annemarie.morris.NA</td>\n",
       "      <td>1.000000</td>\n",
       "      <td>0.583333</td>\n",
=======
>>>>>>> main
       "      <td>AN</td>\n",
       "    </tr>\n",
       "    <tr>\n",
       "      <th>3</th>\n",
       "      <td>North Antrim</td>\n",
<<<<<<< HEAD
       "      <td>Ian Paisley</td>\n",
       "      <td>Seat held\\n</td>\n",
=======
>>>>>>> main
       "      <td>Ian</td>\n",
       "      <td>Paisley</td>\n",
       "      <td>Ian</td>\n",
       "      <td>Paisley Jnr</td>\n",
<<<<<<< HEAD
       "      <td>NaN</td>\n",
       "      <td>1.000000</td>\n",
       "      <td>0.927273</td>\n",
=======
>>>>>>> main
       "      <td>IN</td>\n",
       "    </tr>\n",
       "    <tr>\n",
       "      <th>4</th>\n",
       "      <td>Slough</td>\n",
<<<<<<< HEAD
       "      <td>Tanmanjeet Dhesi</td>\n",
       "      <td>Seat held\\n</td>\n",
=======
>>>>>>> main
       "      <td>Tanmanjeet</td>\n",
       "      <td>Dhesi</td>\n",
       "      <td>Tan</td>\n",
       "      <td>Dhesi</td>\n",
<<<<<<< HEAD
       "      <td>https://facebook.com/tandhesi</td>\n",
       "      <td>0.836667</td>\n",
       "      <td>1.000000</td>\n",
=======
>>>>>>> main
       "      <td>TNMNJT</td>\n",
       "    </tr>\n",
       "    <tr>\n",
       "      <th>5</th>\n",
       "      <td>South Down</td>\n",
<<<<<<< HEAD
       "      <td>Chris Hazzard</td>\n",
       "      <td>Seat held\\n</td>\n",
=======
>>>>>>> main
       "      <td>Chris</td>\n",
       "      <td>Hazzard</td>\n",
       "      <td>Christopher</td>\n",
       "      <td>Hazzard</td>\n",
<<<<<<< HEAD
       "      <td>https://facebook.com/chris.hazzard.77</td>\n",
       "      <td>0.890909</td>\n",
       "      <td>1.000000</td>\n",
=======
>>>>>>> main
       "      <td>XRS</td>\n",
       "    </tr>\n",
       "    <tr>\n",
       "      <th>6</th>\n",
       "      <td>South West Norfolk</td>\n",
<<<<<<< HEAD
       "      <td>Liz Truss</td>\n",
       "      <td>Seat held\\n</td>\n",
=======
>>>>>>> main
       "      <td>Liz</td>\n",
       "      <td>Truss</td>\n",
       "      <td>Elizabeth</td>\n",
       "      <td>Truss</td>\n",
<<<<<<< HEAD
       "      <td>https://facebook.com/ElizabethTrussSWNorfolk</td>\n",
       "      <td>0.629630</td>\n",
       "      <td>1.000000</td>\n",
=======
>>>>>>> main
       "      <td>LS</td>\n",
       "    </tr>\n",
       "    <tr>\n",
       "      <th>7</th>\n",
       "      <td>Wealden</td>\n",
<<<<<<< HEAD
       "      <td>Nus Ghani</td>\n",
       "      <td>Seat held\\n</td>\n",
=======
>>>>>>> main
       "      <td>Nus</td>\n",
       "      <td>Ghani</td>\n",
       "      <td>Nusrat</td>\n",
       "      <td>Ghani</td>\n",
<<<<<<< HEAD
       "      <td>https://facebook.com/NusGhaniofficial</td>\n",
       "      <td>0.883333</td>\n",
       "      <td>1.000000</td>\n",
=======
>>>>>>> main
       "      <td>NS</td>\n",
       "    </tr>\n",
       "    <tr>\n",
       "      <th>8</th>\n",
       "      <td>West Dunbartonshire</td>\n",
<<<<<<< HEAD
       "      <td>Martin Docherty-Hughes</td>\n",
       "      <td>Seat held\\n</td>\n",
=======
>>>>>>> main
       "      <td>Martin</td>\n",
       "      <td>Docherty-Hughes</td>\n",
       "      <td>Martin</td>\n",
       "      <td>Docherty</td>\n",
<<<<<<< HEAD
       "      <td>https://facebook.com/MartinDochertySNP</td>\n",
       "      <td>1.000000</td>\n",
       "      <td>0.906667</td>\n",
=======
>>>>>>> main
       "      <td>MRTN</td>\n",
       "    </tr>\n",
       "  </tbody>\n",
       "</table>\n",
       "</div>"
      ],
      "text/plain": [
<<<<<<< HEAD
       "                        Constituency                Fullname  \\\n",
       "0                             Burton          Kate Griffiths   \n",
       "1  Central Suffolk and North Ipswich             Dan Poulter   \n",
       "2                       Newton Abbot       Anne Marie Morris   \n",
       "3                       North Antrim             Ian Paisley   \n",
       "4                             Slough        Tanmanjeet Dhesi   \n",
       "5                         South Down           Chris Hazzard   \n",
       "6                 South West Norfolk               Liz Truss   \n",
       "7                            Wealden               Nus Ghani   \n",
       "8                West Dunbartonshire  Martin Docherty-Hughes   \n",
       "\n",
       "                                               Notes Firstname_w  \\\n",
       "0  Previous incumbent, Andrew Griffiths, did not ...        Kate   \n",
       "1                                        Seat held\\n         Dan   \n",
       "2                                        Seat held\\n        Anne   \n",
       "3                                        Seat held\\n         Ian   \n",
       "4                                        Seat held\\n  Tanmanjeet   \n",
       "5                                        Seat held\\n       Chris   \n",
       "6                                        Seat held\\n         Liz   \n",
       "7                                        Seat held\\n         Nus   \n",
       "8                                        Seat held\\n      Martin   \n",
       "\n",
       "        Lastname_w  Firstname_t   Lastname_t  \\\n",
       "0        Griffiths         Kate     Kniveton   \n",
       "1          Poulter       Daniel      Poulter   \n",
       "2     Marie Morris         Anne       Morris   \n",
       "3          Paisley          Ian  Paisley Jnr   \n",
       "4            Dhesi          Tan        Dhesi   \n",
       "5          Hazzard  Christopher      Hazzard   \n",
       "6            Truss    Elizabeth        Truss   \n",
       "7            Ghani       Nusrat        Ghani   \n",
       "8  Docherty-Hughes       Martin     Docherty   \n",
       "\n",
       "                                          Flink  Firstname_jaro  \\\n",
       "0                                           NaN        1.000000   \n",
       "1                                           NaN        0.883333   \n",
       "2      https://facebook.com/annemarie.morris.NA        1.000000   \n",
       "3                                           NaN        1.000000   \n",
       "4                 https://facebook.com/tandhesi        0.836667   \n",
       "5         https://facebook.com/chris.hazzard.77        0.890909   \n",
       "6  https://facebook.com/ElizabethTrussSWNorfolk        0.629630   \n",
       "7         https://facebook.com/NusGhaniofficial        0.883333   \n",
       "8        https://facebook.com/MartinDochertySNP        1.000000   \n",
       "\n",
       "   Lastname_jaro Firstname_w_meta  \n",
       "0       0.490741               KT  \n",
       "1       1.000000               TN  \n",
       "2       0.583333               AN  \n",
       "3       0.927273               IN  \n",
       "4       1.000000           TNMNJT  \n",
       "5       1.000000              XRS  \n",
       "6       1.000000               LS  \n",
       "7       1.000000               NS  \n",
       "8       0.906667             MRTN  "
      ]
     },
     "execution_count": 28,
=======
       "                        Constituency Firstname_x       Lastname_x  \\\n",
       "0                             Burton        Kate        Griffiths   \n",
       "1  Central Suffolk and North Ipswich         Dan          Poulter   \n",
       "2                       Newton Abbot        Anne     Marie Morris   \n",
       "3                       North Antrim         Ian          Paisley   \n",
       "4                             Slough  Tanmanjeet            Dhesi   \n",
       "5                         South Down       Chris          Hazzard   \n",
       "6                 South West Norfolk         Liz            Truss   \n",
       "7                            Wealden         Nus            Ghani   \n",
       "8                West Dunbartonshire      Martin  Docherty-Hughes   \n",
       "\n",
       "   Firstname_y   Lastname_y Firstname_x_meta  \n",
       "0         Kate     Kniveton               KT  \n",
       "1       Daniel      Poulter               TN  \n",
       "2         Anne       Morris               AN  \n",
       "3          Ian  Paisley Jnr               IN  \n",
       "4          Tan        Dhesi           TNMNJT  \n",
       "5  Christopher      Hazzard              XRS  \n",
       "6    Elizabeth        Truss               LS  \n",
       "7       Nusrat        Ghani               NS  \n",
       "8       Martin     Docherty             MRTN  "
      ]
     },
     "execution_count": 7,
>>>>>>> main
     "metadata": {},
     "output_type": "execute_result"
    }
   ],
   "source": [
<<<<<<< HEAD
    "df_w_un"
=======
    "df_mp_un"
>>>>>>> main
   ]
  },
  {
   "cell_type": "code",
<<<<<<< HEAD
   "execution_count": 29,
=======
   "execution_count": 8,
>>>>>>> main
   "id": "94972568",
   "metadata": {},
   "outputs": [],
   "source": [
<<<<<<< HEAD
    "df_w_un['Firstname_t_meta'] = df_w_un.apply(lambda x: jf.metaphone(x.Firstname_t), axis=1)"
=======
    "df_mp_un['Firstname_y_meta'] = df_mp_un.apply(lambda x: jf.metaphone(x.Firstname_y), axis=1)"
>>>>>>> main
   ]
  },
  {
   "cell_type": "code",
<<<<<<< HEAD
   "execution_count": 30,
=======
   "execution_count": 9,
>>>>>>> main
   "id": "ebcc2165",
   "metadata": {},
   "outputs": [
    {
     "data": {
      "text/html": [
       "<div>\n",
       "<style scoped>\n",
       "    .dataframe tbody tr th:only-of-type {\n",
       "        vertical-align: middle;\n",
       "    }\n",
       "\n",
       "    .dataframe tbody tr th {\n",
       "        vertical-align: top;\n",
       "    }\n",
       "\n",
       "    .dataframe thead th {\n",
       "        text-align: right;\n",
       "    }\n",
       "</style>\n",
       "<table border=\"1\" class=\"dataframe\">\n",
       "  <thead>\n",
       "    <tr style=\"text-align: right;\">\n",
       "      <th></th>\n",
       "      <th>Constituency</th>\n",
<<<<<<< HEAD
       "      <th>Fullname</th>\n",
       "      <th>Notes</th>\n",
       "      <th>Firstname_w</th>\n",
       "      <th>Lastname_w</th>\n",
       "      <th>Firstname_t</th>\n",
       "      <th>Lastname_t</th>\n",
       "      <th>Flink</th>\n",
       "      <th>Firstname_jaro</th>\n",
       "      <th>Lastname_jaro</th>\n",
       "      <th>Firstname_w_meta</th>\n",
       "      <th>Firstname_t_meta</th>\n",
=======
       "      <th>Firstname_x</th>\n",
       "      <th>Lastname_x</th>\n",
       "      <th>Firstname_y</th>\n",
       "      <th>Lastname_y</th>\n",
       "      <th>Firstname_x_meta</th>\n",
       "      <th>Firstname_y_meta</th>\n",
>>>>>>> main
       "    </tr>\n",
       "  </thead>\n",
       "  <tbody>\n",
       "    <tr>\n",
       "      <th>0</th>\n",
       "      <td>Burton</td>\n",
<<<<<<< HEAD
       "      <td>Kate Griffiths</td>\n",
       "      <td>Previous incumbent, Andrew Griffiths, did not ...</td>\n",
=======
>>>>>>> main
       "      <td>Kate</td>\n",
       "      <td>Griffiths</td>\n",
       "      <td>Kate</td>\n",
       "      <td>Kniveton</td>\n",
<<<<<<< HEAD
       "      <td>NaN</td>\n",
       "      <td>1.000000</td>\n",
       "      <td>0.490741</td>\n",
=======
>>>>>>> main
       "      <td>KT</td>\n",
       "      <td>KT</td>\n",
       "    </tr>\n",
       "    <tr>\n",
       "      <th>1</th>\n",
       "      <td>Central Suffolk and North Ipswich</td>\n",
<<<<<<< HEAD
       "      <td>Dan Poulter</td>\n",
       "      <td>Seat held\\n</td>\n",
=======
>>>>>>> main
       "      <td>Dan</td>\n",
       "      <td>Poulter</td>\n",
       "      <td>Daniel</td>\n",
       "      <td>Poulter</td>\n",
<<<<<<< HEAD
       "      <td>NaN</td>\n",
       "      <td>0.883333</td>\n",
       "      <td>1.000000</td>\n",
=======
>>>>>>> main
       "      <td>TN</td>\n",
       "      <td>TNL</td>\n",
       "    </tr>\n",
       "    <tr>\n",
       "      <th>2</th>\n",
       "      <td>Newton Abbot</td>\n",
<<<<<<< HEAD
       "      <td>Anne Marie Morris</td>\n",
       "      <td>Seat held\\n</td>\n",
=======
>>>>>>> main
       "      <td>Anne</td>\n",
       "      <td>Marie Morris</td>\n",
       "      <td>Anne</td>\n",
       "      <td>Morris</td>\n",
<<<<<<< HEAD
       "      <td>https://facebook.com/annemarie.morris.NA</td>\n",
       "      <td>1.000000</td>\n",
       "      <td>0.583333</td>\n",
=======
>>>>>>> main
       "      <td>AN</td>\n",
       "      <td>AN</td>\n",
       "    </tr>\n",
       "    <tr>\n",
       "      <th>3</th>\n",
       "      <td>North Antrim</td>\n",
<<<<<<< HEAD
       "      <td>Ian Paisley</td>\n",
       "      <td>Seat held\\n</td>\n",
=======
>>>>>>> main
       "      <td>Ian</td>\n",
       "      <td>Paisley</td>\n",
       "      <td>Ian</td>\n",
       "      <td>Paisley Jnr</td>\n",
<<<<<<< HEAD
       "      <td>NaN</td>\n",
       "      <td>1.000000</td>\n",
       "      <td>0.927273</td>\n",
=======
>>>>>>> main
       "      <td>IN</td>\n",
       "      <td>IN</td>\n",
       "    </tr>\n",
       "    <tr>\n",
       "      <th>4</th>\n",
       "      <td>Slough</td>\n",
<<<<<<< HEAD
       "      <td>Tanmanjeet Dhesi</td>\n",
       "      <td>Seat held\\n</td>\n",
=======
>>>>>>> main
       "      <td>Tanmanjeet</td>\n",
       "      <td>Dhesi</td>\n",
       "      <td>Tan</td>\n",
       "      <td>Dhesi</td>\n",
<<<<<<< HEAD
       "      <td>https://facebook.com/tandhesi</td>\n",
       "      <td>0.836667</td>\n",
       "      <td>1.000000</td>\n",
=======
>>>>>>> main
       "      <td>TNMNJT</td>\n",
       "      <td>TN</td>\n",
       "    </tr>\n",
       "    <tr>\n",
       "      <th>5</th>\n",
       "      <td>South Down</td>\n",
<<<<<<< HEAD
       "      <td>Chris Hazzard</td>\n",
       "      <td>Seat held\\n</td>\n",
=======
>>>>>>> main
       "      <td>Chris</td>\n",
       "      <td>Hazzard</td>\n",
       "      <td>Christopher</td>\n",
       "      <td>Hazzard</td>\n",
<<<<<<< HEAD
       "      <td>https://facebook.com/chris.hazzard.77</td>\n",
       "      <td>0.890909</td>\n",
       "      <td>1.000000</td>\n",
=======
>>>>>>> main
       "      <td>XRS</td>\n",
       "      <td>XRSTFR</td>\n",
       "    </tr>\n",
       "    <tr>\n",
       "      <th>6</th>\n",
       "      <td>South West Norfolk</td>\n",
<<<<<<< HEAD
       "      <td>Liz Truss</td>\n",
       "      <td>Seat held\\n</td>\n",
=======
>>>>>>> main
       "      <td>Liz</td>\n",
       "      <td>Truss</td>\n",
       "      <td>Elizabeth</td>\n",
       "      <td>Truss</td>\n",
<<<<<<< HEAD
       "      <td>https://facebook.com/ElizabethTrussSWNorfolk</td>\n",
       "      <td>0.629630</td>\n",
       "      <td>1.000000</td>\n",
=======
>>>>>>> main
       "      <td>LS</td>\n",
       "      <td>ELSB0</td>\n",
       "    </tr>\n",
       "    <tr>\n",
       "      <th>7</th>\n",
       "      <td>Wealden</td>\n",
<<<<<<< HEAD
       "      <td>Nus Ghani</td>\n",
       "      <td>Seat held\\n</td>\n",
=======
>>>>>>> main
       "      <td>Nus</td>\n",
       "      <td>Ghani</td>\n",
       "      <td>Nusrat</td>\n",
       "      <td>Ghani</td>\n",
<<<<<<< HEAD
       "      <td>https://facebook.com/NusGhaniofficial</td>\n",
       "      <td>0.883333</td>\n",
       "      <td>1.000000</td>\n",
=======
>>>>>>> main
       "      <td>NS</td>\n",
       "      <td>NSRT</td>\n",
       "    </tr>\n",
       "    <tr>\n",
       "      <th>8</th>\n",
       "      <td>West Dunbartonshire</td>\n",
<<<<<<< HEAD
       "      <td>Martin Docherty-Hughes</td>\n",
       "      <td>Seat held\\n</td>\n",
=======
>>>>>>> main
       "      <td>Martin</td>\n",
       "      <td>Docherty-Hughes</td>\n",
       "      <td>Martin</td>\n",
       "      <td>Docherty</td>\n",
<<<<<<< HEAD
       "      <td>https://facebook.com/MartinDochertySNP</td>\n",
       "      <td>1.000000</td>\n",
       "      <td>0.906667</td>\n",
=======
>>>>>>> main
       "      <td>MRTN</td>\n",
       "      <td>MRTN</td>\n",
       "    </tr>\n",
       "  </tbody>\n",
       "</table>\n",
       "</div>"
      ],
      "text/plain": [
<<<<<<< HEAD
       "                        Constituency                Fullname  \\\n",
       "0                             Burton          Kate Griffiths   \n",
       "1  Central Suffolk and North Ipswich             Dan Poulter   \n",
       "2                       Newton Abbot       Anne Marie Morris   \n",
       "3                       North Antrim             Ian Paisley   \n",
       "4                             Slough        Tanmanjeet Dhesi   \n",
       "5                         South Down           Chris Hazzard   \n",
       "6                 South West Norfolk               Liz Truss   \n",
       "7                            Wealden               Nus Ghani   \n",
       "8                West Dunbartonshire  Martin Docherty-Hughes   \n",
       "\n",
       "                                               Notes Firstname_w  \\\n",
       "0  Previous incumbent, Andrew Griffiths, did not ...        Kate   \n",
       "1                                        Seat held\\n         Dan   \n",
       "2                                        Seat held\\n        Anne   \n",
       "3                                        Seat held\\n         Ian   \n",
       "4                                        Seat held\\n  Tanmanjeet   \n",
       "5                                        Seat held\\n       Chris   \n",
       "6                                        Seat held\\n         Liz   \n",
       "7                                        Seat held\\n         Nus   \n",
       "8                                        Seat held\\n      Martin   \n",
       "\n",
       "        Lastname_w  Firstname_t   Lastname_t  \\\n",
       "0        Griffiths         Kate     Kniveton   \n",
       "1          Poulter       Daniel      Poulter   \n",
       "2     Marie Morris         Anne       Morris   \n",
       "3          Paisley          Ian  Paisley Jnr   \n",
       "4            Dhesi          Tan        Dhesi   \n",
       "5          Hazzard  Christopher      Hazzard   \n",
       "6            Truss    Elizabeth        Truss   \n",
       "7            Ghani       Nusrat        Ghani   \n",
       "8  Docherty-Hughes       Martin     Docherty   \n",
       "\n",
       "                                          Flink  Firstname_jaro  \\\n",
       "0                                           NaN        1.000000   \n",
       "1                                           NaN        0.883333   \n",
       "2      https://facebook.com/annemarie.morris.NA        1.000000   \n",
       "3                                           NaN        1.000000   \n",
       "4                 https://facebook.com/tandhesi        0.836667   \n",
       "5         https://facebook.com/chris.hazzard.77        0.890909   \n",
       "6  https://facebook.com/ElizabethTrussSWNorfolk        0.629630   \n",
       "7         https://facebook.com/NusGhaniofficial        0.883333   \n",
       "8        https://facebook.com/MartinDochertySNP        1.000000   \n",
       "\n",
       "   Lastname_jaro Firstname_w_meta Firstname_t_meta  \n",
       "0       0.490741               KT               KT  \n",
       "1       1.000000               TN              TNL  \n",
       "2       0.583333               AN               AN  \n",
       "3       0.927273               IN               IN  \n",
       "4       1.000000           TNMNJT               TN  \n",
       "5       1.000000              XRS           XRSTFR  \n",
       "6       1.000000               LS            ELSB0  \n",
       "7       1.000000               NS             NSRT  \n",
       "8       0.906667             MRTN             MRTN  "
      ]
     },
     "execution_count": 30,
=======
       "                        Constituency Firstname_x       Lastname_x  \\\n",
       "0                             Burton        Kate        Griffiths   \n",
       "1  Central Suffolk and North Ipswich         Dan          Poulter   \n",
       "2                       Newton Abbot        Anne     Marie Morris   \n",
       "3                       North Antrim         Ian          Paisley   \n",
       "4                             Slough  Tanmanjeet            Dhesi   \n",
       "5                         South Down       Chris          Hazzard   \n",
       "6                 South West Norfolk         Liz            Truss   \n",
       "7                            Wealden         Nus            Ghani   \n",
       "8                West Dunbartonshire      Martin  Docherty-Hughes   \n",
       "\n",
       "   Firstname_y   Lastname_y Firstname_x_meta Firstname_y_meta  \n",
       "0         Kate     Kniveton               KT               KT  \n",
       "1       Daniel      Poulter               TN              TNL  \n",
       "2         Anne       Morris               AN               AN  \n",
       "3          Ian  Paisley Jnr               IN               IN  \n",
       "4          Tan        Dhesi           TNMNJT               TN  \n",
       "5  Christopher      Hazzard              XRS           XRSTFR  \n",
       "6    Elizabeth        Truss               LS            ELSB0  \n",
       "7       Nusrat        Ghani               NS             NSRT  \n",
       "8       Martin     Docherty             MRTN             MRTN  "
      ]
     },
     "execution_count": 9,
>>>>>>> main
     "metadata": {},
     "output_type": "execute_result"
    }
   ],
   "source": [
<<<<<<< HEAD
    "df_w_un"
=======
    "df_mp_un"
>>>>>>> main
   ]
  },
  {
   "cell_type": "code",
<<<<<<< HEAD
   "execution_count": 31,
=======
   "execution_count": 10,
>>>>>>> main
   "id": "fe6ab53f",
   "metadata": {},
   "outputs": [],
   "source": [
<<<<<<< HEAD
    "df_w_un['Lastname_w_meta'] = df_w_un.apply(lambda x: jf.metaphone(x.Lastname_w), axis=1)\n",
    "df_w_un['Lastname_t_meta'] = df_w_un.apply(lambda x: jf.metaphone(x.Lastname_t), axis=1)"
=======
    "df_mp_un['Lastname_x_meta'] = df_mp_un.apply(lambda x: jf.metaphone(x.Lastname_x), axis=1)\n",
    "df_mp_un['Lastname_y_meta'] = df_mp_un.apply(lambda x: jf.metaphone(x.Lastname_y), axis=1)"
>>>>>>> main
   ]
  },
  {
   "cell_type": "code",
<<<<<<< HEAD
   "execution_count": 32,
=======
   "execution_count": 11,
>>>>>>> main
   "id": "54e2cba6",
   "metadata": {},
   "outputs": [
    {
     "data": {
      "text/html": [
       "<div>\n",
       "<style scoped>\n",
       "    .dataframe tbody tr th:only-of-type {\n",
       "        vertical-align: middle;\n",
       "    }\n",
       "\n",
       "    .dataframe tbody tr th {\n",
       "        vertical-align: top;\n",
       "    }\n",
       "\n",
       "    .dataframe thead th {\n",
       "        text-align: right;\n",
       "    }\n",
       "</style>\n",
       "<table border=\"1\" class=\"dataframe\">\n",
       "  <thead>\n",
       "    <tr style=\"text-align: right;\">\n",
       "      <th></th>\n",
       "      <th>Constituency</th>\n",
<<<<<<< HEAD
       "      <th>Fullname</th>\n",
       "      <th>Notes</th>\n",
       "      <th>Firstname_w</th>\n",
       "      <th>Lastname_w</th>\n",
       "      <th>Firstname_t</th>\n",
       "      <th>Lastname_t</th>\n",
       "      <th>Flink</th>\n",
       "      <th>Firstname_jaro</th>\n",
       "      <th>Lastname_jaro</th>\n",
       "      <th>Firstname_w_meta</th>\n",
       "      <th>Firstname_t_meta</th>\n",
       "      <th>Lastname_w_meta</th>\n",
       "      <th>Lastname_t_meta</th>\n",
=======
       "      <th>Firstname_x</th>\n",
       "      <th>Lastname_x</th>\n",
       "      <th>Firstname_y</th>\n",
       "      <th>Lastname_y</th>\n",
       "      <th>Firstname_x_meta</th>\n",
       "      <th>Firstname_y_meta</th>\n",
       "      <th>Lastname_x_meta</th>\n",
       "      <th>Lastname_y_meta</th>\n",
>>>>>>> main
       "    </tr>\n",
       "  </thead>\n",
       "  <tbody>\n",
       "    <tr>\n",
       "      <th>0</th>\n",
       "      <td>Burton</td>\n",
<<<<<<< HEAD
       "      <td>Kate Griffiths</td>\n",
       "      <td>Previous incumbent, Andrew Griffiths, did not ...</td>\n",
=======
>>>>>>> main
       "      <td>Kate</td>\n",
       "      <td>Griffiths</td>\n",
       "      <td>Kate</td>\n",
       "      <td>Kniveton</td>\n",
<<<<<<< HEAD
       "      <td>NaN</td>\n",
       "      <td>1.000000</td>\n",
       "      <td>0.490741</td>\n",
=======
>>>>>>> main
       "      <td>KT</td>\n",
       "      <td>KT</td>\n",
       "      <td>KRF0S</td>\n",
       "      <td>NFTN</td>\n",
       "    </tr>\n",
       "    <tr>\n",
       "      <th>1</th>\n",
       "      <td>Central Suffolk and North Ipswich</td>\n",
<<<<<<< HEAD
       "      <td>Dan Poulter</td>\n",
       "      <td>Seat held\\n</td>\n",
=======
>>>>>>> main
       "      <td>Dan</td>\n",
       "      <td>Poulter</td>\n",
       "      <td>Daniel</td>\n",
       "      <td>Poulter</td>\n",
<<<<<<< HEAD
       "      <td>NaN</td>\n",
       "      <td>0.883333</td>\n",
       "      <td>1.000000</td>\n",
=======
>>>>>>> main
       "      <td>TN</td>\n",
       "      <td>TNL</td>\n",
       "      <td>PLTR</td>\n",
       "      <td>PLTR</td>\n",
       "    </tr>\n",
       "    <tr>\n",
       "      <th>2</th>\n",
       "      <td>Newton Abbot</td>\n",
<<<<<<< HEAD
       "      <td>Anne Marie Morris</td>\n",
       "      <td>Seat held\\n</td>\n",
=======
>>>>>>> main
       "      <td>Anne</td>\n",
       "      <td>Marie Morris</td>\n",
       "      <td>Anne</td>\n",
       "      <td>Morris</td>\n",
<<<<<<< HEAD
       "      <td>https://facebook.com/annemarie.morris.NA</td>\n",
       "      <td>1.000000</td>\n",
       "      <td>0.583333</td>\n",
=======
>>>>>>> main
       "      <td>AN</td>\n",
       "      <td>AN</td>\n",
       "      <td>MR MRS</td>\n",
       "      <td>MRS</td>\n",
       "    </tr>\n",
       "    <tr>\n",
       "      <th>3</th>\n",
       "      <td>North Antrim</td>\n",
<<<<<<< HEAD
       "      <td>Ian Paisley</td>\n",
       "      <td>Seat held\\n</td>\n",
=======
>>>>>>> main
       "      <td>Ian</td>\n",
       "      <td>Paisley</td>\n",
       "      <td>Ian</td>\n",
       "      <td>Paisley Jnr</td>\n",
<<<<<<< HEAD
       "      <td>NaN</td>\n",
       "      <td>1.000000</td>\n",
       "      <td>0.927273</td>\n",
=======
>>>>>>> main
       "      <td>IN</td>\n",
       "      <td>IN</td>\n",
       "      <td>PSL</td>\n",
       "      <td>PSL JNR</td>\n",
       "    </tr>\n",
       "    <tr>\n",
       "      <th>4</th>\n",
       "      <td>Slough</td>\n",
<<<<<<< HEAD
       "      <td>Tanmanjeet Dhesi</td>\n",
       "      <td>Seat held\\n</td>\n",
=======
>>>>>>> main
       "      <td>Tanmanjeet</td>\n",
       "      <td>Dhesi</td>\n",
       "      <td>Tan</td>\n",
       "      <td>Dhesi</td>\n",
<<<<<<< HEAD
       "      <td>https://facebook.com/tandhesi</td>\n",
       "      <td>0.836667</td>\n",
       "      <td>1.000000</td>\n",
=======
>>>>>>> main
       "      <td>TNMNJT</td>\n",
       "      <td>TN</td>\n",
       "      <td>THS</td>\n",
       "      <td>THS</td>\n",
       "    </tr>\n",
       "    <tr>\n",
       "      <th>5</th>\n",
       "      <td>South Down</td>\n",
<<<<<<< HEAD
       "      <td>Chris Hazzard</td>\n",
       "      <td>Seat held\\n</td>\n",
=======
>>>>>>> main
       "      <td>Chris</td>\n",
       "      <td>Hazzard</td>\n",
       "      <td>Christopher</td>\n",
       "      <td>Hazzard</td>\n",
<<<<<<< HEAD
       "      <td>https://facebook.com/chris.hazzard.77</td>\n",
       "      <td>0.890909</td>\n",
       "      <td>1.000000</td>\n",
=======
>>>>>>> main
       "      <td>XRS</td>\n",
       "      <td>XRSTFR</td>\n",
       "      <td>HSRT</td>\n",
       "      <td>HSRT</td>\n",
       "    </tr>\n",
       "    <tr>\n",
       "      <th>6</th>\n",
       "      <td>South West Norfolk</td>\n",
<<<<<<< HEAD
       "      <td>Liz Truss</td>\n",
       "      <td>Seat held\\n</td>\n",
=======
>>>>>>> main
       "      <td>Liz</td>\n",
       "      <td>Truss</td>\n",
       "      <td>Elizabeth</td>\n",
       "      <td>Truss</td>\n",
<<<<<<< HEAD
       "      <td>https://facebook.com/ElizabethTrussSWNorfolk</td>\n",
       "      <td>0.629630</td>\n",
       "      <td>1.000000</td>\n",
=======
>>>>>>> main
       "      <td>LS</td>\n",
       "      <td>ELSB0</td>\n",
       "      <td>TRS</td>\n",
       "      <td>TRS</td>\n",
       "    </tr>\n",
       "    <tr>\n",
       "      <th>7</th>\n",
       "      <td>Wealden</td>\n",
<<<<<<< HEAD
       "      <td>Nus Ghani</td>\n",
       "      <td>Seat held\\n</td>\n",
=======
>>>>>>> main
       "      <td>Nus</td>\n",
       "      <td>Ghani</td>\n",
       "      <td>Nusrat</td>\n",
       "      <td>Ghani</td>\n",
<<<<<<< HEAD
       "      <td>https://facebook.com/NusGhaniofficial</td>\n",
       "      <td>0.883333</td>\n",
       "      <td>1.000000</td>\n",
=======
>>>>>>> main
       "      <td>NS</td>\n",
       "      <td>NSRT</td>\n",
       "      <td>KHN</td>\n",
       "      <td>KHN</td>\n",
       "    </tr>\n",
       "    <tr>\n",
       "      <th>8</th>\n",
       "      <td>West Dunbartonshire</td>\n",
<<<<<<< HEAD
       "      <td>Martin Docherty-Hughes</td>\n",
       "      <td>Seat held\\n</td>\n",
=======
>>>>>>> main
       "      <td>Martin</td>\n",
       "      <td>Docherty-Hughes</td>\n",
       "      <td>Martin</td>\n",
       "      <td>Docherty</td>\n",
<<<<<<< HEAD
       "      <td>https://facebook.com/MartinDochertySNP</td>\n",
       "      <td>1.000000</td>\n",
       "      <td>0.906667</td>\n",
=======
>>>>>>> main
       "      <td>MRTN</td>\n",
       "      <td>MRTN</td>\n",
       "      <td>TXRTHKHS</td>\n",
       "      <td>TXRT</td>\n",
       "    </tr>\n",
       "  </tbody>\n",
       "</table>\n",
       "</div>"
      ],
      "text/plain": [
<<<<<<< HEAD
       "                        Constituency                Fullname  \\\n",
       "0                             Burton          Kate Griffiths   \n",
       "1  Central Suffolk and North Ipswich             Dan Poulter   \n",
       "2                       Newton Abbot       Anne Marie Morris   \n",
       "3                       North Antrim             Ian Paisley   \n",
       "4                             Slough        Tanmanjeet Dhesi   \n",
       "5                         South Down           Chris Hazzard   \n",
       "6                 South West Norfolk               Liz Truss   \n",
       "7                            Wealden               Nus Ghani   \n",
       "8                West Dunbartonshire  Martin Docherty-Hughes   \n",
       "\n",
       "                                               Notes Firstname_w  \\\n",
       "0  Previous incumbent, Andrew Griffiths, did not ...        Kate   \n",
       "1                                        Seat held\\n         Dan   \n",
       "2                                        Seat held\\n        Anne   \n",
       "3                                        Seat held\\n         Ian   \n",
       "4                                        Seat held\\n  Tanmanjeet   \n",
       "5                                        Seat held\\n       Chris   \n",
       "6                                        Seat held\\n         Liz   \n",
       "7                                        Seat held\\n         Nus   \n",
       "8                                        Seat held\\n      Martin   \n",
       "\n",
       "        Lastname_w  Firstname_t   Lastname_t  \\\n",
       "0        Griffiths         Kate     Kniveton   \n",
       "1          Poulter       Daniel      Poulter   \n",
       "2     Marie Morris         Anne       Morris   \n",
       "3          Paisley          Ian  Paisley Jnr   \n",
       "4            Dhesi          Tan        Dhesi   \n",
       "5          Hazzard  Christopher      Hazzard   \n",
       "6            Truss    Elizabeth        Truss   \n",
       "7            Ghani       Nusrat        Ghani   \n",
       "8  Docherty-Hughes       Martin     Docherty   \n",
       "\n",
       "                                          Flink  Firstname_jaro  \\\n",
       "0                                           NaN        1.000000   \n",
       "1                                           NaN        0.883333   \n",
       "2      https://facebook.com/annemarie.morris.NA        1.000000   \n",
       "3                                           NaN        1.000000   \n",
       "4                 https://facebook.com/tandhesi        0.836667   \n",
       "5         https://facebook.com/chris.hazzard.77        0.890909   \n",
       "6  https://facebook.com/ElizabethTrussSWNorfolk        0.629630   \n",
       "7         https://facebook.com/NusGhaniofficial        0.883333   \n",
       "8        https://facebook.com/MartinDochertySNP        1.000000   \n",
       "\n",
       "   Lastname_jaro Firstname_w_meta Firstname_t_meta Lastname_w_meta  \\\n",
       "0       0.490741               KT               KT           KRF0S   \n",
       "1       1.000000               TN              TNL            PLTR   \n",
       "2       0.583333               AN               AN          MR MRS   \n",
       "3       0.927273               IN               IN             PSL   \n",
       "4       1.000000           TNMNJT               TN             THS   \n",
       "5       1.000000              XRS           XRSTFR            HSRT   \n",
       "6       1.000000               LS            ELSB0             TRS   \n",
       "7       1.000000               NS             NSRT             KHN   \n",
       "8       0.906667             MRTN             MRTN        TXRTHKHS   \n",
       "\n",
       "  Lastname_t_meta  \n",
=======
       "                        Constituency Firstname_x       Lastname_x  \\\n",
       "0                             Burton        Kate        Griffiths   \n",
       "1  Central Suffolk and North Ipswich         Dan          Poulter   \n",
       "2                       Newton Abbot        Anne     Marie Morris   \n",
       "3                       North Antrim         Ian          Paisley   \n",
       "4                             Slough  Tanmanjeet            Dhesi   \n",
       "5                         South Down       Chris          Hazzard   \n",
       "6                 South West Norfolk         Liz            Truss   \n",
       "7                            Wealden         Nus            Ghani   \n",
       "8                West Dunbartonshire      Martin  Docherty-Hughes   \n",
       "\n",
       "   Firstname_y   Lastname_y Firstname_x_meta Firstname_y_meta Lastname_x_meta  \\\n",
       "0         Kate     Kniveton               KT               KT           KRF0S   \n",
       "1       Daniel      Poulter               TN              TNL            PLTR   \n",
       "2         Anne       Morris               AN               AN          MR MRS   \n",
       "3          Ian  Paisley Jnr               IN               IN             PSL   \n",
       "4          Tan        Dhesi           TNMNJT               TN             THS   \n",
       "5  Christopher      Hazzard              XRS           XRSTFR            HSRT   \n",
       "6    Elizabeth        Truss               LS            ELSB0             TRS   \n",
       "7       Nusrat        Ghani               NS             NSRT             KHN   \n",
       "8       Martin     Docherty             MRTN             MRTN        TXRTHKHS   \n",
       "\n",
       "  Lastname_y_meta  \n",
>>>>>>> main
       "0            NFTN  \n",
       "1            PLTR  \n",
       "2             MRS  \n",
       "3         PSL JNR  \n",
       "4             THS  \n",
       "5            HSRT  \n",
       "6             TRS  \n",
       "7             KHN  \n",
       "8            TXRT  "
      ]
     },
<<<<<<< HEAD
     "execution_count": 32,
=======
     "execution_count": 11,
>>>>>>> main
     "metadata": {},
     "output_type": "execute_result"
    }
   ],
   "source": [
<<<<<<< HEAD
    "df_w_un"
=======
    "df_mp_un"
>>>>>>> main
   ]
  },
  {
   "cell_type": "code",
<<<<<<< HEAD
   "execution_count": 33,
=======
   "execution_count": 15,
>>>>>>> main
   "id": "f3a8cf86",
   "metadata": {},
   "outputs": [
    {
     "data": {
      "text/html": [
       "<div>\n",
       "<style scoped>\n",
       "    .dataframe tbody tr th:only-of-type {\n",
       "        vertical-align: middle;\n",
       "    }\n",
       "\n",
       "    .dataframe tbody tr th {\n",
       "        vertical-align: top;\n",
       "    }\n",
       "\n",
       "    .dataframe thead th {\n",
       "        text-align: right;\n",
       "    }\n",
       "</style>\n",
       "<table border=\"1\" class=\"dataframe\">\n",
       "  <thead>\n",
       "    <tr style=\"text-align: right;\">\n",
       "      <th></th>\n",
       "      <th>Name1</th>\n",
       "      <th>Name2</th>\n",
       "      <th>Jaro</th>\n",
       "      <th>JaroW</th>\n",
       "      <th>Levenshtein</th>\n",
       "      <th>MRA</th>\n",
       "      <th>Soundex</th>\n",
       "      <th>Name1Meta</th>\n",
       "      <th>Name2Meta</th>\n",
       "    </tr>\n",
       "  </thead>\n",
       "  <tbody>\n",
       "    <tr>\n",
       "      <th>0</th>\n",
       "      <td>Michael</td>\n",
       "      <td>Micheal</td>\n",
       "      <td>0.952381</td>\n",
       "      <td>0.971429</td>\n",
       "      <td>2</td>\n",
       "      <td>True</td>\n",
       "      <td>True</td>\n",
       "      <td>MXL</td>\n",
       "      <td>MXL</td>\n",
       "    </tr>\n",
       "    <tr>\n",
       "      <th>1</th>\n",
       "      <td>Michael</td>\n",
       "      <td>Michel</td>\n",
       "      <td>0.952381</td>\n",
       "      <td>0.971429</td>\n",
       "      <td>1</td>\n",
       "      <td>True</td>\n",
       "      <td>True</td>\n",
       "      <td>MXL</td>\n",
       "      <td>MXL</td>\n",
       "    </tr>\n",
       "    <tr>\n",
       "      <th>2</th>\n",
       "      <td>Michael</td>\n",
       "      <td>Mike</td>\n",
       "      <td>0.726190</td>\n",
       "      <td>0.780952</td>\n",
       "      <td>4</td>\n",
       "      <td>False</td>\n",
       "      <td>False</td>\n",
       "      <td>MXL</td>\n",
       "      <td>MK</td>\n",
       "    </tr>\n",
       "    <tr>\n",
       "      <th>3</th>\n",
       "      <td>Michael</td>\n",
       "      <td>Mick</td>\n",
       "      <td>0.726190</td>\n",
       "      <td>0.808333</td>\n",
       "      <td>4</td>\n",
       "      <td>True</td>\n",
       "      <td>False</td>\n",
       "      <td>MXL</td>\n",
       "      <td>MK</td>\n",
       "    </tr>\n",
       "    <tr>\n",
       "      <th>4</th>\n",
       "      <td>Micheal</td>\n",
       "      <td>Michel</td>\n",
       "      <td>0.952381</td>\n",
       "      <td>0.971429</td>\n",
       "      <td>1</td>\n",
       "      <td>True</td>\n",
       "      <td>True</td>\n",
       "      <td>MXL</td>\n",
       "      <td>MXL</td>\n",
       "    </tr>\n",
       "    <tr>\n",
       "      <th>5</th>\n",
       "      <td>Micheal</td>\n",
       "      <td>Mike</td>\n",
       "      <td>0.726190</td>\n",
       "      <td>0.780952</td>\n",
       "      <td>4</td>\n",
       "      <td>False</td>\n",
       "      <td>False</td>\n",
       "      <td>MXL</td>\n",
       "      <td>MK</td>\n",
       "    </tr>\n",
       "    <tr>\n",
       "      <th>6</th>\n",
       "      <td>Micheal</td>\n",
       "      <td>Mick</td>\n",
       "      <td>0.726190</td>\n",
       "      <td>0.808333</td>\n",
       "      <td>4</td>\n",
       "      <td>True</td>\n",
       "      <td>False</td>\n",
       "      <td>MXL</td>\n",
       "      <td>MK</td>\n",
       "    </tr>\n",
       "    <tr>\n",
       "      <th>7</th>\n",
       "      <td>Michel</td>\n",
       "      <td>Mike</td>\n",
       "      <td>0.750000</td>\n",
       "      <td>0.800000</td>\n",
       "      <td>3</td>\n",
       "      <td>False</td>\n",
       "      <td>False</td>\n",
       "      <td>MXL</td>\n",
       "      <td>MK</td>\n",
       "    </tr>\n",
       "    <tr>\n",
       "      <th>8</th>\n",
       "      <td>Michel</td>\n",
       "      <td>Mick</td>\n",
       "      <td>0.750000</td>\n",
       "      <td>0.825000</td>\n",
       "      <td>3</td>\n",
       "      <td>True</td>\n",
       "      <td>False</td>\n",
       "      <td>MXL</td>\n",
       "      <td>MK</td>\n",
       "    </tr>\n",
       "    <tr>\n",
       "      <th>9</th>\n",
       "      <td>Mike</td>\n",
       "      <td>Mick</td>\n",
       "      <td>0.833333</td>\n",
       "      <td>0.866667</td>\n",
       "      <td>2</td>\n",
       "      <td>True</td>\n",
       "      <td>True</td>\n",
       "      <td>MK</td>\n",
       "      <td>MK</td>\n",
       "    </tr>\n",
       "  </tbody>\n",
       "</table>\n",
       "</div>"
      ],
      "text/plain": [
       "     Name1    Name2      Jaro     JaroW  Levenshtein    MRA  Soundex  \\\n",
       "0  Michael  Micheal  0.952381  0.971429            2   True     True   \n",
       "1  Michael   Michel  0.952381  0.971429            1   True     True   \n",
       "2  Michael     Mike  0.726190  0.780952            4  False    False   \n",
       "3  Michael     Mick  0.726190  0.808333            4   True    False   \n",
       "4  Micheal   Michel  0.952381  0.971429            1   True     True   \n",
       "5  Micheal     Mike  0.726190  0.780952            4  False    False   \n",
       "6  Micheal     Mick  0.726190  0.808333            4   True    False   \n",
       "7   Michel     Mike  0.750000  0.800000            3  False    False   \n",
       "8   Michel     Mick  0.750000  0.825000            3   True    False   \n",
       "9     Mike     Mick  0.833333  0.866667            2   True     True   \n",
       "\n",
       "  Name1Meta Name2Meta  \n",
       "0       MXL       MXL  \n",
       "1       MXL       MXL  \n",
       "2       MXL        MK  \n",
       "3       MXL        MK  \n",
       "4       MXL       MXL  \n",
       "5       MXL        MK  \n",
       "6       MXL        MK  \n",
       "7       MXL        MK  \n",
       "8       MXL        MK  \n",
       "9        MK        MK  "
      ]
     },
<<<<<<< HEAD
     "execution_count": 33,
=======
     "execution_count": 15,
>>>>>>> main
     "metadata": {},
     "output_type": "execute_result"
    }
   ],
   "source": [
    "combs = []\n",
    "import itertools\n",
    "for a, b in itertools.combinations(mylist, 2):\n",
    "    combs.append([a,b,jf.jaro_similarity(a,b),jf.jaro_winkler_similarity(a, b), jf.levenshtein_distance(a,b), jf.match_rating_comparison(a,b),(jf.soundex(a)==jf.soundex(b)), jf.metaphone(a), jf.metaphone(b)])\n",
    "pd.DataFrame(combs, columns=['Name1','Name2','Jaro','JaroW','Levenshtein','MRA','Soundex','Name1Meta','Name2Meta'])"
   ]
  },
  {
   "cell_type": "code",
   "execution_count": null,
   "id": "d6921a89",
   "metadata": {},
   "outputs": [],
   "source": []
<<<<<<< HEAD
  },
  {
   "cell_type": "code",
   "execution_count": null,
   "id": "3727f3ad",
   "metadata": {},
   "outputs": [],
   "source": []
=======
>>>>>>> main
  }
 ],
 "metadata": {
  "kernelspec": {
   "display_name": "Python 3 (ipykernel)",
   "language": "python",
   "name": "python3"
  },
  "language_info": {
   "codemirror_mode": {
    "name": "ipython",
    "version": 3
   },
   "file_extension": ".py",
   "mimetype": "text/x-python",
   "name": "python",
   "nbconvert_exporter": "python",
   "pygments_lexer": "ipython3",
<<<<<<< HEAD
   "version": "3.9.12"
=======
   "version": "3.7.4"
>>>>>>> main
  }
 },
 "nbformat": 4,
 "nbformat_minor": 5
}
